{
 "cells": [
  {
   "cell_type": "markdown",
   "source": [
    "## Events\n",
    "\n",
    "An event is something that happened during the execution of a program which you want to inform others about (i.e. some other piece of code). An event can be a variety of things, such as a new user was created, a product was added to a cart, some user changed something, etc.\n",
    "\n",
    "Events in .NET are based on the delegate model, it follows the observer [design pattern](https://refactoring.guru/design-patterns/observer). With this pattern you enable subscriber to register with and receive notifications from a provider. The event sender (= provider) pushes a notification after an event occured, the event receiver (= subscriber) receives it and does something with it.\n",
    "\n",
    "Events are a type of message sent by an object to signal the occurence of an action. This action can be caused by anything, ranging from a user interaction to the result of some programming logic. The event sender doesn't know which object or method will receive (or handle) his events. The event is typically a member of the event sender.\n",
    "\n",
    "To define an event, you simple add the `event` keyword before the declaration of an `EventHandler`. The following examples will use classes, which will be discussed in more detail in the next chapter.\n",
    "\n",
    "On line 2 an event named `ThresholdReached` is defined which you see by the `event` keyword and `EventHandler` type of this variable. To raise an event you define a `protected` and `virtual` method following the name convention On*EventName*, this method always has one parameter of type `EventArgs` which contain the event data, if present."
   ],
   "metadata": {}
  },
  {
   "cell_type": "code",
   "execution_count": null,
   "source": [
    "class Counter {\n",
    "  event EventHandler ThresholdReached;\n",
    "\n",
    "  protected virtual void OnThresholdReached(EventArgs e) {\n",
    "    ThresholdReached?.Invoke(this, e);\n",
    "  }\n",
    "}"
   ],
   "outputs": [],
   "metadata": {
    "dotnet_interactive": {
     "language": "csharp"
    }
   }
  },
  {
   "cell_type": "markdown",
   "source": [
    "## Delegates\n",
    "\n",
    "A delegate is a type that holds a reference to a method. A delegate is declared with a signature that shows the return type and parameters for the methods it references, and it can hold references only to methods that match its signature. A delegate is thus equivalent to a type-safe function pointer (in C++ for example) or a callback.\n",
    "\n",
    "Delegates have many uses in .NET but in the context of events, a delegate is an intermediary between the event source and the code that handles the event. Delegates are multicast which means that they can hold references to more than one event-handling method.\n",
    "\n",
    "This is an example of a delegate:"
   ],
   "metadata": {}
  },
  {
   "cell_type": "code",
   "execution_count": null,
   "source": [
    "public delegate void ThresholdReachedEventHandler(object sender, EventArgs e);"
   ],
   "outputs": [],
   "metadata": {
    "dotnet_interactive": {
     "language": "csharp"
    }
   }
  },
  {
   "cell_type": "markdown",
   "source": [
    "A delegate is used in the On*EventName* method to define the signature of the event handlers, an example will be shown later on."
   ],
   "metadata": {}
  }
 ],
 "metadata": {
  "kernelspec": {
   "display_name": ".NET (C#)",
   "language": "C#",
   "name": ".net-csharp"
  },
  "language_info": {
   "file_extension": ".cs",
   "mimetype": "text/x-csharp",
   "name": "C#",
   "pygments_lexer": "csharp",
   "version": "9.0"
  },
  "orig_nbformat": 2
 },
 "nbformat": 4,
 "nbformat_minor": 2
}