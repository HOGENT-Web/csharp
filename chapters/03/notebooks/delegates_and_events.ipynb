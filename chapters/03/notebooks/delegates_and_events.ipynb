{
 "cells": [
  {
   "cell_type": "code",
   "execution_count": null,
   "metadata": {
    "dotnet_interactive": {
     "language": "csharp"
    },
    "vscode": {
     "languageId": "dotnet-interactive.csharp"
    }
   },
   "outputs": [],
   "source": [
    "public class Button\n",
    "{\n",
    "    public string Text { get; set; }\n",
    "    public Action OnClicked { get; set; }\n",
    "\n",
    "    public Button(string text, Action onClicked)\n",
    "    {\n",
    "        Text = text;\n",
    "        OnClicked = onClicked;\n",
    "    }\n",
    "\n",
    "    public void Click()\n",
    "    {\n",
    "        Console.WriteLine(\"Button clicked\");\n",
    "        OnClicked?.Invoke(); // Watch out for null\n",
    "    }\n",
    "}\n"
   ]
  },
  {
   "cell_type": "code",
   "execution_count": null,
   "metadata": {
    "dotnet_interactive": {
     "language": "csharp"
    },
    "vscode": {
     "languageId": "dotnet-interactive.csharp"
    }
   },
   "outputs": [
    {
     "name": "stdout",
     "output_type": "stream",
     "text": [
      "Button clicked\n",
      "Logging something after the button click, coming from button with text\n"
     ]
    }
   ],
   "source": [
    "var button = new Button(\"Click me!\",LogSomething);\n",
    "\n",
    "void LogSomething()\n",
    "{\n",
    "    Console.WriteLine(\"Logging something after the button click, coming from button with text\");\n",
    "}\n",
    "\n",
    "button.Click();"
   ]
  },
  {
   "cell_type": "code",
   "execution_count": null,
   "metadata": {
    "dotnet_interactive": {
     "language": "csharp"
    },
    "vscode": {
     "languageId": "dotnet-interactive.csharp"
    }
   },
   "outputs": [
    {
     "name": "stdout",
     "output_type": "stream",
     "text": [
      "Item added, refreshing the list component.\n",
      "Closing the add component\n"
     ]
    }
   ],
   "source": [
    "public static class State\n",
    "{\n",
    "    public static event Action OnItemAdded;\n",
    "    private static List<string> _items = new();\n",
    "\n",
    "    public static void AddItem(string item)\n",
    "    {\n",
    "        _items.Add(item);\n",
    "        OnItemAdded?.Invoke();\n",
    "    }\n",
    "}\n",
    "public class AddComponent : IDisposable\n",
    "{\n",
    "    public AddComponent()\n",
    "    {\n",
    "        State.OnItemAdded += CloseComponent;\n",
    "    }\n",
    "    public void Add(string item)\n",
    "    {\n",
    "        State.AddItem(item);\n",
    "    }\n",
    "    public void CloseComponent()\n",
    "    {\n",
    "        Console.WriteLine(\"Closing the add component\");\n",
    "    }\n",
    "    public void Dispose()\n",
    "    {\n",
    "        State.OnItemAdded -= CloseComponent;\n",
    "    }\n",
    "}\n",
    "\n",
    "public class ListComponent : IDisposable\n",
    "{\n",
    "    public ListComponent()\n",
    "    {\n",
    "        State.OnItemAdded += OnItemAddedHandler;\n",
    "    }\n",
    "\n",
    "    private void OnItemAddedHandler()\n",
    "    {\n",
    "        Console.WriteLine($\"Item added, refreshing the list component.\");\n",
    "    }\n",
    "    public void Dispose()\n",
    "    {\n",
    "        State.OnItemAdded -= OnItemAddedHandler;\n",
    "    }\n",
    "}\n",
    "\n",
    "var listComponent = new ListComponent();\n",
    "var addComponent = new AddComponent();\n",
    "addComponent.Add(\"New Item\");"
   ]
  }
 ],
 "metadata": {
  "kernelspec": {
   "display_name": ".NET (C#)",
   "language": "C#",
   "name": ".net-csharp"
  },
  "language_info": {
   "name": "C#"
  }
 },
 "nbformat": 4,
 "nbformat_minor": 2
}
