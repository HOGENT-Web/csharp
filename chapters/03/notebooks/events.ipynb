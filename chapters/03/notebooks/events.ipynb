{
 "cells": [
  {
   "cell_type": "code",
   "execution_count": null,
   "metadata": {
    "dotnet_interactive": {
     "language": "csharp"
    },
    "vscode": {
     "languageId": "dotnet-interactive.csharp"
    }
   },
   "outputs": [
    {
     "name": "stdout",
     "output_type": "stream",
     "text": [
      "Item added, refreshing the list component.\n",
      "Item added, showing a notification.\n"
     ]
    }
   ],
   "source": [
    "public static class State\n",
    "{\n",
    "    public static event Action OnItemAdded;\n",
    "    private static List<string> _items = new();\n",
    "\n",
    "    public static void AddItem(string item)\n",
    "    {\n",
    "        _items.Add(item);\n",
    "        OnItemAdded?.Invoke();\n",
    "    }\n",
    "}\n",
    "public class AddComponent\n",
    "{\n",
    "    public void Add(string item)\n",
    "    {\n",
    "        State.AddItem(item);\n",
    "    }\n",
    "}\n",
    "\n",
    "public class ListComponent : IDisposable\n",
    "{\n",
    "    public ListComponent()\n",
    "    {\n",
    "        State.OnItemAdded += OnItemAddedHandler;\n",
    "    }\n",
    "\n",
    "    private void OnItemAddedHandler()\n",
    "    {\n",
    "        Console.WriteLine($\"Item added, refreshing the list component.\");\n",
    "    }\n",
    "    public void Dispose()\n",
    "    {\n",
    "        State.OnItemAdded -= OnItemAddedHandler;\n",
    "    }\n",
    "}\n",
    "\n",
    "public class NotifierComponent : IDisposable\n",
    "{\n",
    "    public NotifierComponent()\n",
    "    {\n",
    "        State.OnItemAdded += NotifyItemAdded;\n",
    "    }\n",
    "\n",
    "    private void NotifyItemAdded()\n",
    "    {\n",
    "        Console.WriteLine($\"Item added, showing a notification.\");\n",
    "    }\n",
    "    public void Dispose()\n",
    "    {\n",
    "        State.OnItemAdded -= NotifyItemAdded;\n",
    "    }\n",
    "}\n",
    "\n",
    "var listComponent = new ListComponent();\n",
    "var addComponent = new AddComponent();\n",
    "var notifierComponent = new NotifierComponent();\n",
    "\n",
    "addComponent.Add(\"New Item\");"
   ]
  }
 ],
 "metadata": {
  "kernelspec": {
   "display_name": ".NET (C#)",
   "language": "C#",
   "name": ".net-csharp"
  },
  "language_info": {
   "file_extension": ".cs",
   "mimetype": "text/x-csharp",
   "name": "C#",
   "pygments_lexer": "csharp",
   "version": "9.0"
  },
  "vscode": {
   "interpreter": {
    "hash": "31f2aee4e71d21fbe5cf8b01ff0e069b9275f58929596ceb00d14d90e3e16cd6"
   }
  }
 },
 "nbformat": 4,
 "nbformat_minor": 2
}
