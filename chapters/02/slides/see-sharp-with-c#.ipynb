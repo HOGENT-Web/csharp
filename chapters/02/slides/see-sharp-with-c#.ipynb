{
 "cells": [
  {
   "cell_type": "markdown",
   "source": [
    "> Enterprise Web C#\r\n",
    "# Chapter 2 - See sharp with C#\r\n",
    "\r\n",
    "## Getting started\r\n",
    "\r\n",
    "This file is a **.NET Interactive Notebook** which allows us to show short examples without the well-known, boilerplate `class` and `main` method. It can be opened using Visual Studio Code but you won't see anything useful unless you have the [.NET Interactive Notebooks plugin](https://marketplace.visualstudio.com/items?itemName=ms-dotnettools.dotnet-interactive-vscode) installed. \r\n",
    "\r\n",
    "Once you have the plugin (and restarted Visual Studio Code), it will automatically recognized this file type. You'll see some Markdown content but also some code like in the example below. Click the play icon on the left of the code block to run it. You'll see any output below. If all goes well you should see `Hello world!` being printed below the code block."
   ],
   "metadata": {}
  },
  {
   "cell_type": "code",
   "execution_count": null,
   "source": [
    "Console.WriteLine(\"Hello world!\");"
   ],
   "outputs": [],
   "metadata": {
    "dotnet_interactive": {
     "language": "csharp"
    }
   }
  },
  {
   "cell_type": "markdown",
   "source": [
    "## Introduction\r\n",
    "\r\n",
    "<img src=\"images/csharp-logo.png\" width=\"150\" style=\"display:block;margin:0 auto;\" />\r\n",
    "\r\n",
    "C# is being developed by Microsoft as part of the .NET initiative. It is an object oriented language but has also possibilities for scripting and other styles of programming. C# looks a lot like Java but has more neat features which include operator overloading, multiple inheritance, delegates and so on. Programmers who are familiar with C++ will recognize some of its features in C#.\r\n",
    "\r\n",
    "The latest version of C# is 9, which was released in 2020 and will be used throughout the entire course.\r\n",
    "\r\n",
    "C# consists of names, keywords, numbers, characters, strings, operators, comments, ... It has a lot of keywords like: `abstract`, `const`, `static`, `var`, `void`, ... All keywords can be found on https://docs.microsoft.com/en-us/dotnet/csharp/language-reference/keywords/.\r\n",
    "\r\n",
    "Variables can contain anything you want as long as you follow these rules:\r\n",
    "* it can only contain letters, numbers and underscores (_)\r\n",
    "* it can only start with a letter or an underscore, no numbers\r\n",
    "* C# is case-sensitive\r\n",
    "\r\n"
   ],
   "metadata": {}
  },
  {
   "cell_type": "markdown",
   "source": [
    "\r\n",
    "### Comments\r\n",
    "\r\n",
    "> Code never lies, comments sometimes do.\r\n",
    "\r\n",
    "There are two types of comments in C#: single and multi line comments.\r\n",
    "\r\n",
    "**Single line comments** can only consist of one line, like the name suggests. To make such a comment, prefix the (part of the) line with two forward slashes (`//`)."
   ],
   "metadata": {}
  },
  {
   "cell_type": "code",
   "execution_count": null,
   "source": [
    "// This is a single line comment\r\n",
    "// And this is another one"
   ],
   "outputs": [],
   "metadata": {
    "dotnet_interactive": {
     "language": "csharp"
    }
   }
  },
  {
   "cell_type": "markdown",
   "source": [
    "**Multi line comments** can consist of multiple lines. You just add the prefix `/*` where the comment starts and the suffix `*/` where the comment ends."
   ],
   "metadata": {}
  },
  {
   "cell_type": "code",
   "execution_count": null,
   "source": [
    "/*\r\n",
    "This is a comment which\r\n",
    "can\r\n",
    "go\r\n",
    "over\r\n",
    "multiple\r\n",
    "lines\r\n",
    "!!!!!\r\n",
    "*/"
   ],
   "outputs": [],
   "metadata": {
    "dotnet_interactive": {
     "language": "csharp"
    }
   }
  },
  {
   "cell_type": "markdown",
   "source": [
    "## Data types\r\n",
    "\r\n",
    "C# os strongly typed which means that each variable or object should have a clear type at declaration. You can omit the type if it's obvious for the compiler which type a variable is. This will become clear later on.\r\n",
    "\r\n",
    "A data type could be one of:\r\n",
    "* builtin data types such as `int` or `char`\r\n",
    "* user-defined data type such as a `class`, `interface` or `delegate`\r\n",
    "\r\n",
    "Data types can either be a **value type** of a **reference type**.\r\n",
    "\r\n",
    "### Common Type System (CTS)\r\n",
    "\r\n",
    "The Common Type System is a standard in the .NET framework which specifies how type definitions and specific values of types are represented in computer memory. It contains the built-in data types with according methods which can be used in all .NET programming languages. All but the primitive types can be defined by developers. \r\n",
    "\r\n",
    "<img src=\"./images/cts.svg\" style=\"display:block;margin:0 auto;\" />\r\n",
    "\r\n",
    "The most important built-in data types are\r\n",
    "\r\n",
    "| Category       | System Type | Description                                                                        | C# data type (shorthand notation) |\r\n",
    "| -------------- | ----------- | ---------------------------------------------------------------------------------- | --------------------------------- |\r\n",
    "| Integer        | Byte        | An 8-bit unsigned integer                                                          | `byte`                              |\r\n",
    "|                | Int16       | A 16-bit signed integer                                                            | `short`                             |\r\n",
    "|                | Int32       | A 32-bit signed integer                                                            | `int`                               |\r\n",
    "|                | Int64       | A 64-bit signed integer                                                            | `long`                              |\r\n",
    "| Floating point | Single      | A single-precision: 32-bit floating point number (7 digits)                        | `float`                             |\r\n",
    "|                | Double      | A double-precision: 64-bit floating point number (15 digits)                       | `double`                            |\r\n",
    "| Logical        | Boolean     | A boolean value (`true` or `false`)                                                | `bool`                              |\r\n",
    "| Other          | Char        | A unicode (16-bit) character                                                       | `char`                              |\r\n",
    "|                | Decimal     | A decimal value: 128-bit signed number (29 digits)                                 | `decimal`                           |\r\n",
    "| Class objects  | Object      | The root of the object hierarchy                                                   | `object`                            |\r\n",
    "|                | String      | An immutable, fixed-length string of unicode characters. Limited by system memory. | `string`                            |\r\n",
    "\r\n",
    "\r\n",
    "More information can be found in the documentation: [https://docs.microsoft.com/en-us/dotnet/csharp/language-reference/builtin-types/built-in-types](https://docs.microsoft.com/en-us/dotnet/csharp/language-reference/builtin-types/built-in-types).\r\n",
    "\r\n",
    "\r\n",
    "### Value types\r\n",
    "\r\n",
    "Value types contain the actual data. Assigning to a value type will copy the value. All value types inherit from `System.ValueType` which in turn inherits from `Object`. Any type that derives from `System.ValueType` is a structure or enum, not a class.\r\n",
    "\r\n",
    "Variables of this type can't contain `null` unless you make the type *nullable* by adding a `?` after the type.\r\n",
    "\r\n",
    "It's also worth noting that value types are **immutable**, their value can't be changed without creating a new value.\r\n",
    "\r\n",
    "Declaring a variable with a value type: `datatype name = initial value;`. You can leave out the initial value but every variable must be initialised before it can be used."
   ],
   "metadata": {}
  },
  {
   "cell_type": "code",
   "execution_count": null,
   "source": [
    "int i, d;\r\n",
    "int k = 3;\r\n",
    "d = 0;\r\n",
    "d += i + k; // will generate compilation error: \"use of unassigned local variable i\""
   ],
   "outputs": [],
   "metadata": {
    "dotnet_interactive": {
     "language": "csharp"
    }
   }
  },
  {
   "cell_type": "markdown",
   "source": [
    "If no value is assigned, some types will get assigned a default value:\r\n",
    "\r\n",
    "* `bool`: `false`\r\n",
    "* `char`: `\\0` (an empty character, the NULL character)\r\n",
    "* `int`: `0`\r\n",
    "* `decimal`: `0.0M`\r\n",
    "* `double`: `0.0` or `0.0D`\r\n",
    "* `float`: `0.0F`\r\n",
    "* `long`: `0L`\r\n",
    "* `DateTime`: `01/01/0001 12:00:00 AM`\r\n",
    "\r\n",
    "> Note: the suffix of floating point numbers defines the type used. If no suffix is given, double is assumed."
   ],
   "metadata": {}
  },
  {
   "cell_type": "code",
   "execution_count": null,
   "source": [
    "bool myBool;\r\n",
    "char myChar;\r\n",
    "int myInt;\r\n",
    "decimal myDecimal;\r\n",
    "double myDouble;\r\n",
    "float myFloat;\r\n",
    "long myLong;\r\n",
    "DateTime myDateTime;\r\n",
    "\r\n",
    "Console.WriteLine($\"bool: {myBool}\");\r\n",
    "Console.WriteLine($\"char: {myChar} (you won't see anything)\");\r\n",
    "Console.WriteLine($\"int: {myInt}\");\r\n",
    "Console.WriteLine($\"decimal: {myDecimal}\");\r\n",
    "Console.WriteLine($\"double: {myDouble}\");\r\n",
    "Console.WriteLine($\"float: {myFloat}\");\r\n",
    "Console.WriteLine($\"long: {myLong}\");\r\n",
    "Console.WriteLine($\"DateTime: {myDateTime}\");"
   ],
   "outputs": [],
   "metadata": {
    "dotnet_interactive": {
     "language": "csharp"
    }
   }
  },
  {
   "cell_type": "markdown",
   "source": [
    "### Structs\r\n",
    "\r\n",
    "Structs can be used to create a value type consisting of one value. You can compare it to a class but it is a value type and no reference type. A struct can contain fields, methods and constructors but is managed by the stack and thus passed by value. Within .NET structs are used all over the place, e.g. `int`, `float` and `long`. These are just shortcuts for their respective structs: `System.Int32`, `System.Single` and `System.Int64`. These structs have constructors `int i = new int();` and methods like `ToString()`.\r\n",
    "\r\n",
    "Structs are commonly used for entities where the value is very important, like for example a number or a date. We won't define structs but we'll definitely use them a lot."
   ],
   "metadata": {}
  },
  {
   "cell_type": "markdown",
   "source": [
    "### Enums\r\n",
    "\r\n",
    "An enum type is another value type. It can be seen as a list of constant names with the integer representation (`System.Int32` by default). Numerical values will be put on the stack.\r\n",
    "\r\n",
    "The `Enum` class contains some useful methods for enums, have a look at it: [https://docs.microsoft.com/en-us/dotnet/api/system.enum?view=net-5.0](https://docs.microsoft.com/en-us/dotnet/api/system.enum?view=net-5.0)."
   ],
   "metadata": {}
  },
  {
   "cell_type": "code",
   "execution_count": null,
   "source": [
    "// Define an enum\r\n",
    "public enum ColorType {\r\n",
    "    Red = 0,\r\n",
    "    Blue = 16,\r\n",
    "    Green = 256\r\n",
    "}"
   ],
   "outputs": [],
   "metadata": {
    "dotnet_interactive": {
     "language": "csharp"
    }
   }
  },
  {
   "cell_type": "code",
   "execution_count": null,
   "source": [
    "// Use the enum\r\n",
    "ColorType c = ColorType.Blue;\r\n",
    "Console.WriteLine(c); // prints the name\r\n",
    "Console.WriteLine((int)c); // print the integer value\r\n",
    "\r\n",
    "// Iterate through all enum values\r\n",
    "foreach (string s in Enum.GetNames(typeof(ColorType)))\r\n",
    "    Console.WriteLine(s);\r\n",
    "\r\n",
    "// Parse a string into an enum value\r\n",
    "c = (ColorType) Enum.Parse(typeof(ColorType), \"Green\");\r\n",
    "\r\n",
    "Console.WriteLine(c); // prints Green"
   ],
   "outputs": [],
   "metadata": {
    "dotnet_interactive": {
     "language": "csharp"
    }
   }
  },
  {
   "cell_type": "markdown",
   "source": [
    "### Reference types\r\n",
    "\r\n",
    "Variables of a reference type contain a reference (pointer) to the actual data. The built-in reference types are `Object` and `String`. You can define your own reference types using a `class`, `interface` or `delegate`.\r\n",
    "\r\n",
    "Every value or reference type is a `System.Object` and thus you can use all of its methods: [https://docs.microsoft.com/en-us/dotnet/api/system.object?redirectedfrom=MSDN&view=net-5.0](https://docs.microsoft.com/en-us/dotnet/api/system.object?redirectedfrom=MSDN&view=net-5.0#methods)."
   ],
   "metadata": {}
  },
  {
   "cell_type": "markdown",
   "source": [
    "### Strings\r\n",
    "\r\n",
    "Strings are in fact an array of characters but can't completely be used as an array. It is an immutable type which means you can only assign a value once and can't change it. In C# strings can be compared using the `==` operator, it will compare the contents of the string. **Caution:** This operator cannot be used for objects, it will compare the reference! As an alternative one can also use the `Equals` method, which is the goto for any object comparison."
   ],
   "metadata": {}
  },
  {
   "cell_type": "code",
   "execution_count": null,
   "source": [
    "string s1 = \"abc\";\r\n",
    "string s2 = \"abc\";\r\n",
    "Console.WriteLine($\"With ==: {s1 == s2}\");\r\n",
    "Console.WriteLine($\"With Equals(): {s1.Equals(s2)}\");"
   ],
   "outputs": [],
   "metadata": {
    "dotnet_interactive": {
     "language": "csharp"
    }
   }
  },
  {
   "cell_type": "markdown",
   "source": [
    "In the next sections some useful `String` methods will be discussed and shown. All other methods can be found on [https://docs.microsoft.com/en-us/dotnet/api/system.string?view=net-5.0](https://docs.microsoft.com/en-us/dotnet/api/system.string?view=net-5.0#methods)."
   ],
   "metadata": {}
  },
  {
   "cell_type": "markdown",
   "source": [
    "#### Trimming\r\n",
    "\r\n",
    "The `Trim` method will remove any whitespace at the front and back of a given string. `TrimStart` and `TrimEnd` will do this at the front and back respectively."
   ],
   "metadata": {}
  },
  {
   "cell_type": "code",
   "execution_count": null,
   "source": [
    "string input = \"    Thomas   \\n   \"; // There are some spaces and enters around the string \"Thomas\"\r\n",
    "string cleanFront = input.TrimStart(); // Will only remove whitespace at the front\r\n",
    "string cleanBack = input.TrimEnd(); // Same for the back\r\n",
    "string allClean = input.Trim(); // All whitespaces removed\r\n",
    "\r\n",
    "Console.WriteLine($\"cleanFront: {cleanFront}\");\r\n",
    "Console.WriteLine($\"cleanBack: {cleanBack}\");\r\n",
    "Console.WriteLine($\"allClean: {allClean}\");"
   ],
   "outputs": [],
   "metadata": {
    "dotnet_interactive": {
     "language": "csharp"
    }
   }
  },
  {
   "cell_type": "markdown",
   "source": [
    "#### Substring\r\n",
    "\r\n",
    "You can take parts out of a string using the method `Substring`. The two parameters give the indices of the part to take (second index exclusive). Leaving out the second parameter will take all characters starting from the index given by the first parameter."
   ],
   "metadata": {}
  },
  {
   "cell_type": "code",
   "execution_count": null,
   "source": [
    "string input = \"Make it work, make it right, make it fast.\";\r\n",
    "\r\n",
    "Console.WriteLine(input.Substring(0, 5)); // Make\r\n",
    "Console.WriteLine(input.Substring(29)); // make it fast."
   ],
   "outputs": [],
   "metadata": {
    "dotnet_interactive": {
     "language": "csharp"
    }
   }
  },
  {
   "cell_type": "markdown",
   "source": [
    "#### Formatting\r\n",
    "\r\n",
    "Converting all characters in a string to upper case is done with `ToUpper`, converting to lower case is analog with `ToLower`."
   ],
   "metadata": {}
  },
  {
   "cell_type": "code",
   "execution_count": null,
   "source": [
    "string input = \"make me upper\";\r\n",
    "Console.WriteLine(input.ToUpper());\r\n",
    "\r\n",
    "input = \"MaKe ME LoWeR\";\r\n",
    "Console.WriteLine(input.ToLower());"
   ],
   "outputs": [],
   "metadata": {
    "dotnet_interactive": {
     "language": "csharp"
    }
   }
  },
  {
   "cell_type": "markdown",
   "source": [
    "#### Immutability\r\n",
    "\r\n",
    "As said before strings are immutable. That's why the next example won't give the correct output."
   ],
   "metadata": {
    "dotnet_interactive": {
     "language": "csharp"
    }
   }
  },
  {
   "cell_type": "code",
   "execution_count": null,
   "source": [
    "string input = \"         Hello World!\";\r\n",
    "input.Trim();\r\n",
    "Console.WriteLine(input); //          Hello World!"
   ],
   "outputs": [],
   "metadata": {
    "dotnet_interactive": {
     "language": "csharp"
    }
   }
  },
  {
   "cell_type": "markdown",
   "source": [
    "Because strings are immutable, we need to reassign the variable with the new and trimmed value."
   ],
   "metadata": {}
  },
  {
   "cell_type": "code",
   "execution_count": null,
   "source": [
    "string input = \"         Hello World!\";\r\n",
    "input = input.Trim();\r\n",
    "Console.WriteLine(input); // Hello World!"
   ],
   "outputs": [],
   "metadata": {
    "dotnet_interactive": {
     "language": "csharp"
    }
   }
  },
  {
   "cell_type": "markdown",
   "source": [
    "#### Concatenation\r\n",
    "\r\n",
    "Combining multiple strings into one can using the `+` operator."
   ],
   "metadata": {}
  },
  {
   "cell_type": "code",
   "execution_count": null,
   "source": [
    "string name = \"Thomas\";\r\n",
    "string greet = \"Hello \" + name + \"!\";\r\n",
    "Console.WriteLine(greet);"
   ],
   "outputs": [],
   "metadata": {
    "dotnet_interactive": {
     "language": "csharp"
    }
   }
  },
  {
   "cell_type": "markdown",
   "source": [
    "But there is a more convenient way to do such concatenations: **string interpolation**. Therefor add a `$` before the string and escape every variable to embed inside brackets. There are also possibilities to format numbers, take a look at the documentation of [number format strings](https://docs.microsoft.com/en-us/dotnet/standard/base-types/standard-numeric-format-strings)."
   ],
   "metadata": {}
  },
  {
   "cell_type": "code",
   "execution_count": null,
   "source": [
    "string name = \"Steve\";\r\n",
    "decimal totalPrice = 10M;\r\n",
    "string greet = $\"Hello {name}, the total price is {totalPrice:C2}!\"; // Hello Steve, the total price is € 10,00!\r\n",
    "Console.WriteLine(greet);"
   ],
   "outputs": [],
   "metadata": {
    "dotnet_interactive": {
     "language": "csharp"
    }
   }
  },
  {
   "cell_type": "markdown",
   "source": [
    "A less convenient but similar technique is using the `String.Format` method. The first argument of this method is called the format string and contains references to the n<sup>th</sup> variable passed after the format string (starting from 0)."
   ],
   "metadata": {}
  },
  {
   "cell_type": "code",
   "execution_count": null,
   "source": [
    "string name = \"Thomas\";\r\n",
    "string greet = String.Format(\"Hello {0}!\", name);\r\n",
    "Console.WriteLine(greet);"
   ],
   "outputs": [],
   "metadata": {
    "dotnet_interactive": {
     "language": "csharp"
    }
   }
  },
  {
   "cell_type": "markdown",
   "source": [
    "Some characters can't be used in strings unless they are escaped with a backslash (`\\`). If you type a `\\` in a string, C# will think the next character has a special meaning. These special characters are:\r\n",
    "\r\n",
    "| Character | Meaning                                                                                     |\r\n",
    "| --------- | ------------------------------------------------------------------------------------------- |\r\n",
    "| `\\'`      | Inserts a single quote into a string literal                                                |\r\n",
    "| `\\\"`      | Inserts a double quote into a string literal                                                |\r\n",
    "| `\\\\`      | Inserts a backslash into a string literal                                                   |\r\n",
    "| `\\a`      | Triggers a system alert (beep). For console programs, this can be an audio clue to the user |\r\n",
    "| `\\n`      | Inserts a new line (on Win32 platforms)                                                     |\r\n",
    "| `\\r`      | Inserts a carriage return (return to the start of the line without going to the next one)   |\r\n",
    "| `\\t`      | Inserts a horizontal tab                                                                    |\r\n",
    "\r\n",
    "If you are not willing to escape these special characters, you can put a `@` in front of the string."
   ],
   "metadata": {}
  },
  {
   "cell_type": "code",
   "execution_count": null,
   "source": [
    "string escapedPath = \"C:\\\\Docs\\\\Source\\\\a.txt\";\r\n",
    "string notEscapedPath = @\"C:\\Docs\\Source\\a.txt\";\r\n",
    "\r\n",
    "Console.WriteLine(escapedPath);\r\n",
    "Console.WriteLine(notEscapedPath);"
   ],
   "outputs": [],
   "metadata": {
    "dotnet_interactive": {
     "language": "csharp"
    }
   }
  },
  {
   "cell_type": "markdown",
   "source": [
    "### Nullable types\r\n",
    "\r\n",
    "Nullable types is a value type which can contain a value of the specified type or `null`. A nullable type has a property `HasValue` which tells us if the variable has a value or contains `null`. The property `Value` will provide the value is one exists. Accessing `Value` on a `null` will cause an `System.InvalidOperationException: Nullable object must have a value`."
   ],
   "metadata": {}
  },
  {
   "cell_type": "code",
   "execution_count": null,
   "source": [
    "int? x = 10; // this is a nullable type\r\n",
    "int y = 20;\r\n",
    "\r\n",
    "Console.WriteLine($\"x = {x}, y = {y}\"); // x = 10, y = 20\r\n",
    "\r\n",
    "if (x.HasValue)\r\n",
    "    y = x.Value;\r\n",
    "\r\n",
    "Console.WriteLine($\"x = {x}, y = {y}\"); //x = 10, y = 10\r\n",
    "\r\n",
    "x = null;\r\n",
    "\r\n",
    "if (x.HasValue)\r\n",
    "    y = x.Value;\r\n",
    "\r\n",
    "Console.WriteLine($\"x = {x}, y = {y}\"); //x = , y = 10"
   ],
   "outputs": [],
   "metadata": {
    "dotnet_interactive": {
     "language": "csharp"
    }
   }
  },
  {
   "cell_type": "markdown",
   "source": [
    "### Constants\r\n",
    "\r\n",
    "Constant values should be initialized at declaration and cannot change. They are always implicit static but you can't put the keyword `static` on the declaration."
   ],
   "metadata": {}
  },
  {
   "cell_type": "code",
   "execution_count": null,
   "source": [
    "const long size = ((long)int.MaxValue + 1)/4;\r\n",
    "Console.WriteLine(size);\r\n",
    "\r\n",
    "// size = 2; // Error: The left-hand side of an assignment must be a variable, property or indexer"
   ],
   "outputs": [],
   "metadata": {
    "dotnet_interactive": {
     "language": "csharp"
    }
   }
  },
  {
   "cell_type": "markdown",
   "source": [
    "### Casting\r\n",
    "\r\n",
    "Sometimes you need to change the type of a value to another type, which is called casting. There are two types of casting: implicit and explicit. \r\n",
    "\r\n",
    "**Implicit casting** is only possible when the value is not affected by the cast. For numbers this means you can implicitly cast to another number type with more bits. If you would convert to a lower bit number, you would loose information. The order of casting is: `byte`, `short`, `int`, `long`, `float`, `double`, `decimal`.\r\n",
    "\r\n",
    "**Explicit casting** may cause information loss because you're throwing away some bits. A checked cast checks if the cast is safe and if not will throw a `System.OverflowException`."
   ],
   "metadata": {}
  },
  {
   "cell_type": "code",
   "execution_count": null,
   "source": [
    "int a = 2;\r\n",
    "long b = a; // implicit\r\n",
    "\r\n",
    "Console.WriteLine($\"a = {a}, b = {b}\"); // a = 2, b = 2\r\n",
    "\r\n",
    "long c = 30000;\r\n",
    "int d = (int) c; // explicit and not checked, may cause information loss\r\n",
    "int e = checked ((int) c); // explicit and checked\r\n",
    "\r\n",
    "Console.WriteLine($\"c = {c}, d = {d}, e = {e}\"); // c = 30000, d = 30000, e = 30000\r\n",
    "\r\n",
    "c = ((long)int.MaxValue + 1);\r\n",
    "d = (int) c; // explicit and not checked, will cause information loss\r\n",
    "// e = checked ((int) c); // explicit and checked -> System.OverflowException\r\n",
    "\r\n",
    "// comment the previous line to see the result\r\n",
    "Console.WriteLine($\"c = {c}, d = {d}, e = {e}\"); // c = 2147483648, d = -2147483648, e = 30000"
   ],
   "outputs": [],
   "metadata": {
    "dotnet_interactive": {
     "language": "csharp"
    }
   }
  },
  {
   "cell_type": "markdown",
   "source": [
    "Converting a number into a string and vice versa can be achieved with the `Parse`, `Convert` and `ToString` methods. The difference between `Parse` and `Convert.ToInt32` is that the latter one can handle `null` values, the first one will throw a `System.ArgumentNullException`."
   ],
   "metadata": {}
  },
  {
   "cell_type": "code",
   "execution_count": null,
   "source": [
    "string s = \"100\";\r\n",
    "int i = int.Parse(s);\r\n",
    "\r\n",
    "Console.WriteLine($\"s = {s}, i = {i}\");\r\n",
    "\r\n",
    "i = 10;\r\n",
    "s = i.ToString();\r\n",
    "\r\n",
    "Console.WriteLine($\"s = {s}, i = {i}\");\r\n",
    "\r\n",
    "s = null;\r\n",
    "i = Convert.ToInt32(s);\r\n",
    "\r\n",
    "Console.WriteLine($\"s = {s}, i = {i}\");\r\n",
    "\r\n",
    "i = int.Parse(s); // System.ArgumentNullException"
   ],
   "outputs": [],
   "metadata": {
    "dotnet_interactive": {
     "language": "csharp"
    }
   }
  },
  {
   "cell_type": "markdown",
   "source": [
    "#### Boxing and unboxing\r\n",
    "\r\n",
    "**Boxing** is storing a value type on the garbage collected heap, it's the procedure of allocating an object instance and copying the value into that new object. **Unboxing** is the opposite.\r\n",
    "\r\n",
    "<img src=\"./images/unboxing-conversion-operation.gif\" style=\"display:block;margin:0 auto;\" />"
   ],
   "metadata": {}
  },
  {
   "cell_type": "code",
   "execution_count": null,
   "source": [
    "int i = 123;\r\n",
    "Object o = i; // implicit boxing\r\n",
    "o = (Object) i; // explicit boxing\r\n",
    "int j = (int) o; // unboxing"
   ],
   "outputs": [],
   "metadata": {
    "dotnet_interactive": {
     "language": "csharp"
    }
   }
  },
  {
   "cell_type": "markdown",
   "source": [
    "### Date and Time\r\n",
    "\r\n",
    "`System.DateTime` and `System.TimeSpan` are both structs. A `DateTime` represents a date and a time (= an instant in time) as the name suggests, a `TimeSpan` represents the difference between two dates.\r\n",
    "\r\n",
    "A `DateTime` has some properties like `Month`, `Year`, `Day`, and so on. All properties can be found in the documentation: [https://docs.microsoft.com/en-us/dotnet/api/system.datetime?view=net-5.0#properties](https://docs.microsoft.com/en-us/dotnet/api/system.datetime?view=net-5.0#properties).\r\n",
    "\r\n",
    "A `TimeSpan` has some properties like `Hours`, `Minutes`, `Seconds`, and so on. All properties can be found in the documentation: [https://docs.microsoft.com/en-us/dotnet/api/system.timespan?view=net-5.0#properties](https://docs.microsoft.com/en-us/dotnet/api/system.timespan?view=net-5.0#properties).\r\n",
    "\r\n",
    "The default date is 01/01/0001 12:00 AM:"
   ],
   "metadata": {}
  },
  {
   "cell_type": "code",
   "execution_count": null,
   "source": [
    "DateTime dt = new DateTime();\r\n",
    "Console.WriteLine(dt); // 1/01/0001 0:00:00"
   ],
   "outputs": [],
   "metadata": {
    "dotnet_interactive": {
     "language": "csharp"
    }
   }
  },
  {
   "cell_type": "markdown",
   "source": [
    "You can pass arguments to the constructor to construct a certain date:"
   ],
   "metadata": {}
  },
  {
   "cell_type": "code",
   "execution_count": null,
   "source": [
    "DateTime dt = new DateTime(2021, 8, 23);\r\n",
    "Console.WriteLine(dt); // 23/08/2021 0:00:00"
   ],
   "outputs": [],
   "metadata": {
    "dotnet_interactive": {
     "language": "csharp"
    }
   }
  },
  {
   "cell_type": "markdown",
   "source": [
    "It's also possible to get today's date or the current date and time:"
   ],
   "metadata": {}
  },
  {
   "cell_type": "code",
   "execution_count": null,
   "source": [
    "Console.WriteLine(DateTime.Today); // 23/08/2021 0:00:00 (only the date)\r\n",
    "Console.WriteLine(DateTime.Now); // 23/08/2021 11:58:36 (includes time)"
   ],
   "outputs": [],
   "metadata": {
    "dotnet_interactive": {
     "language": "csharp"
    }
   }
  },
  {
   "cell_type": "markdown",
   "source": [
    "You can easily fetch the day of the week:"
   ],
   "metadata": {}
  },
  {
   "cell_type": "code",
   "execution_count": null,
   "source": [
    "DateTime dt = DateTime.Now;\r\n",
    "Console.WriteLine($\"The day of {dt.Date} is {dt.DayOfWeek}\");"
   ],
   "outputs": [],
   "metadata": {
    "dotnet_interactive": {
     "language": "csharp"
    }
   }
  },
  {
   "cell_type": "markdown",
   "source": [
    "You can also create a `TimeSpan` with some arguments:"
   ],
   "metadata": {}
  },
  {
   "cell_type": "code",
   "execution_count": null,
   "source": [
    "TimeSpan ts = new TimeSpan(4, 30, 0); // hours, minutes, seconds\r\n",
    "Console.WriteLine(ts); // 04:30:00"
   ],
   "outputs": [],
   "metadata": {
    "dotnet_interactive": {
     "language": "csharp"
    }
   }
  },
  {
   "cell_type": "markdown",
   "source": [
    "The `DateTime` struct implements some of the operators, like + and -, but not everything is allowed. It's e.g. not allowed to add two dates together, how would you do this anyway? But it's possible to add a `TimeSpan` to a `DateTime` or to get the difference between two `DateTime`s, which is obviously a `TimeSpan`."
   ],
   "metadata": {}
  },
  {
   "cell_type": "code",
   "execution_count": null,
   "source": [
    "DateTime dt = DateTime.Now + new TimeSpan(5, 0, 0); // Now + 5 hours\r\n",
    "Console.WriteLine(dt); // 23/08/2021 17:06:12"
   ],
   "outputs": [],
   "metadata": {
    "dotnet_interactive": {
     "language": "csharp"
    }
   }
  },
  {
   "cell_type": "markdown",
   "source": [
    "There are also some methods provided to accomplish the same goal. Be aware that a `DateTime` is never changed, these methods always return a new instance."
   ],
   "metadata": {}
  },
  {
   "cell_type": "code",
   "execution_count": null,
   "source": [
    "DateTime dt = DateTime.Now;\r\n",
    "dt = dt.AddHours(5); // Note the assignment\r\n",
    "Console.WriteLine(dt); // 23/08/2021 17:07:19"
   ],
   "outputs": [],
   "metadata": {
    "dotnet_interactive": {
     "language": "csharp"
    }
   }
  },
  {
   "cell_type": "markdown",
   "source": [
    "### Formatting a DateTime\r\n",
    "\r\n",
    "A `DateTime` also has a pretty neat `ToString` which allows the developer to easily format a date into whatever format desired. You simply pass a format string as an argument. This string contains some placeholders, which can be found in the documentation: [https://docs.microsoft.com/en-us/dotnet/standard/base-types/custom-date-and-time-format-strings](https://docs.microsoft.com/en-us/dotnet/standard/base-types/custom-date-and-time-format-strings).\r\n",
    "\r\n",
    "There are also several predefined `ToString` methods available, like `ToLongDateString` or `ToShortDateString`.\r\n",
    "\r\n",
    "Be aware that these methods' return value depends on your System's locale."
   ],
   "metadata": {}
  },
  {
   "cell_type": "code",
   "execution_count": null,
   "source": [
    "DateTime dt = new DateTime(2021, 9, 20, 8, 15, 0);\r\n",
    "\r\n",
    "// Predefined\r\n",
    "Console.WriteLine(dt.ToLongDateString()); // Monday, September 20, 2021\r\n",
    "Console.WriteLine(dt.ToShortDateString()); // 09/20/2021\r\n",
    "Console.WriteLine(dt.ToShortTimeString()); // 8:15 AM\r\n",
    "\r\n",
    "// DIY\r\n",
    "Console.WriteLine(dt.ToString(\"dd/MM/yy\")); // 20/09/21\r\n",
    "Console.WriteLine(dt.ToString(\"MM - dd - yyyy\")); // 09 - 20 - 2021\r\n",
    "Console.WriteLine(dt.ToString(\"ddd dd MMM yyyy\")); // Mon 20 Sep 2021\r\n",
    "Console.WriteLine(dt.ToString(\"dddd dd MMMM yyyy\")); // Monday 20 September 2021"
   ],
   "outputs": [],
   "metadata": {
    "dotnet_interactive": {
     "language": "csharp"
    }
   }
  }
 ],
 "metadata": {
  "kernelspec": {
   "display_name": ".NET (C#)",
   "language": "C#",
   "name": ".net-csharp"
  },
  "language_info": {
   "file_extension": ".cs",
   "mimetype": "text/x-csharp",
   "name": "C#",
   "pygments_lexer": "csharp",
   "version": "9.0"
  },
  "orig_nbformat": 2
 },
 "nbformat": 4,
 "nbformat_minor": 2
}