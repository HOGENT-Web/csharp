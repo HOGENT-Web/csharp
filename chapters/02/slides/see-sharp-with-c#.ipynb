{
 "cells": [
  {
   "cell_type": "markdown",
   "source": [
    "> Enterprise Web C#\n",
    "# Chapter 2 - See sharp with C#\n",
    "\n",
    "## Getting started\n",
    "\n",
    "This file is a **.NET Interactive Notebook** which allows us to show short examples without the well-known, boilerplate `class` and `main` method. It can be opened using Visual Studio Code but you won't see anything useful unless you have the [.NET Interactive Notebooks plugin](https://marketplace.visualstudio.com/items?itemName=ms-dotnettools.dotnet-interactive-vscode) installed. \n",
    "\n",
    "Once you have the plugin (and restarted Visual Studio Code), it will automatically recognized this file type. You'll see some Markdown content but also some code like in the example below. Click the play icon on the left of the code block to run it. You'll see any output below. If all goes well you should see `Hello world!` being printed below the code block."
   ],
   "metadata": {}
  },
  {
   "cell_type": "code",
   "execution_count": null,
   "source": [
    "Console.WriteLine(\"Hello world!\");"
   ],
   "outputs": [
    {
     "output_type": "stream",
     "name": "stdout",
     "text": [
      "Hello world!\r\n"
     ]
    }
   ],
   "metadata": {
    "dotnet_interactive": {
     "language": "csharp"
    }
   }
  },
  {
   "cell_type": "markdown",
   "source": [
    "## Introduction\r\n",
    "\r\n",
    "<img src=\"images/csharp-logo.png\" width=\"150\" style=\"display:block;margin:0 auto;\" />\r\n",
    "\r\n",
    "C# is being developed by Microsoft as part of the .NET initiative. It is an object oriented language but has also possibilities for scripting and other styles of programming. C# looks a lot like Java but has more neat features which include operator overloading, multiple inheritance, delegates and so on. Programmers who are familiar with C++ will recognize some of its features in C#.\r\n",
    "\r\n",
    "The latest version of C# is 9, which was released in 2020 and will be used throughout the entire course.\r\n",
    "\r\n",
    "C# consists of names, keywords, numbers, characters, strings, operators, comments, ... It has a lot of keywords like: `abstract`, `const`, `static`, `var`, `void`, ... All keywords can be found on [here](https://docs.microsoft.com/en-us/dotnet/csharp/language-reference/keywords).\r\n",
    "\r\n",
    "Variables can contain anything you want as long as you follow these rules:\r\n",
    "* it can only contain letters, numbers and underscores (_)\r\n",
    "* it can only start with a letter or an underscore, no numbers\r\n",
    "* C# is case-sensitive\r\n",
    "\r\n"
   ],
   "metadata": {}
  },
  {
   "cell_type": "markdown",
   "source": [
    "\r\n",
    "### Comments\r\n",
    "\r\n",
    "> Code never lies, comments sometimes do.\r\n",
    "\r\n",
    "There are two types of comments in C#: single and multi line comments.\r\n",
    "\r\n",
    "**Single line comments** can only consist of one line, like the name suggests. To make such a comment, prefix the (part of the) line with two forward slashes (`//`)."
   ],
   "metadata": {}
  },
  {
   "cell_type": "code",
   "execution_count": null,
   "source": [
    "// This is a single line comment\r\n",
    "// And this is another one"
   ],
   "outputs": [],
   "metadata": {
    "dotnet_interactive": {
     "language": "csharp"
    }
   }
  },
  {
   "cell_type": "markdown",
   "source": [
    "**Multi line comments** can consist of multiple lines. You just add the prefix `/*` where the comment starts and the suffix `*/` where the comment ends."
   ],
   "metadata": {}
  },
  {
   "cell_type": "code",
   "execution_count": null,
   "source": [
    "/*\r\n",
    "This is a comment which\r\n",
    "can\r\n",
    "go\r\n",
    "over\r\n",
    "multiple\r\n",
    "lines\r\n",
    "!!!!!\r\n",
    "*/"
   ],
   "outputs": [],
   "metadata": {
    "dotnet_interactive": {
     "language": "csharp"
    }
   }
  },
  {
   "cell_type": "markdown",
   "source": [
    "## Data types\r\n",
    "\r\n",
    "C# is strongly typed which means that each variable or object should have a clear type at declaration. You can omit the type if it's obvious for the compiler which type a variable is. This will become clear later on.\r\n",
    "\r\n",
    "A data type could be one of:\r\n",
    "* builtin data types such as `int` or `char`\r\n",
    "* user-defined data type such as a `class`, `interface` or `delegate`\r\n",
    "\r\n",
    "Data types can either be a **value type** of a **reference type**.\r\n",
    "\r\n",
    "### Common Type System (CTS)\r\n",
    "\r\n",
    "The Common Type System is a standard in the .NET framework which specifies how type definitions and specific values of types are represented in computer memory. It contains the built-in data types with according methods which can be used in all .NET programming languages. All but the primitive types can be defined by developers. \r\n",
    "\r\n",
    "<img src=\"./images/cts.svg\" style=\"display:block;margin:0 auto;\" />\r\n",
    "\r\n",
    "The most important built-in data types are\r\n",
    "\r\n",
    "| Category       | System Type | Description                                                                        | C# data type (shorthand notation) |\r\n",
    "| -------------- | ----------- | ---------------------------------------------------------------------------------- | --------------------------------- |\r\n",
    "| Integer        | Byte        | An 8-bit unsigned integer                                                          | `byte`                              |\r\n",
    "|                | Int16       | A 16-bit signed integer                                                            | `short`                             |\r\n",
    "|                | Int32       | A 32-bit signed integer                                                            | `int`                               |\r\n",
    "|                | Int64       | A 64-bit signed integer                                                            | `long`                              |\r\n",
    "| Floating point | Single      | A single-precision: 32-bit floating point number (7 digits)                        | `float`                             |\r\n",
    "|                | Double      | A double-precision: 64-bit floating point number (15 digits)                       | `double`                            |\r\n",
    "| Logical        | Boolean     | A boolean value (`true` or `false`)                                                | `bool`                              |\r\n",
    "| Other          | Char        | A unicode (16-bit) character                                                       | `char`                              |\r\n",
    "|                | Decimal     | A decimal value: 128-bit signed number (29 digits)                                 | `decimal`                           |\r\n",
    "| Class objects  | Object      | The root of the object hierarchy                                                   | `object`                            |\r\n",
    "|                | String      | An immutable, fixed-length string of unicode characters. Limited by system memory. | `string`                            |\r\n",
    "\r\n",
    "\r\n",
    "More information can be found in the [documentation](https://docs.microsoft.com/en-us/dotnet/csharp/language-reference/builtin-types/built-in-types).\r\n",
    "\r\n",
    "\r\n",
    "### Value types\r\n",
    "\r\n",
    "Value types contain the actual data. Assigning to a value type will copy the value. All value types inherit from `System.ValueType` which in turn inherits from `Object`. Any type that derives from `System.ValueType` is a structure or enum, not a class.\r\n",
    "\r\n",
    "Variables of this type can't contain `null` unless you make the type *nullable* by adding a `?` after the type.\r\n",
    "\r\n",
    "It's also worth noting that value types are **immutable**, their value can't be changed without creating a new value.\r\n",
    "\r\n",
    "Declaring a variable with a value type: `datatype name = initial value;`. You can leave out the initial value but every variable must be initialised before it can be used."
   ],
   "metadata": {}
  },
  {
   "cell_type": "code",
   "execution_count": null,
   "source": [
    "int i, d;\r\n",
    "int k = 3;\r\n",
    "d = 0;\r\n",
    "d += i + k; // will generate compilation error: \"use of unassigned local variable i\""
   ],
   "outputs": [],
   "metadata": {
    "dotnet_interactive": {
     "language": "csharp"
    }
   }
  },
  {
   "cell_type": "markdown",
   "source": [
    "If no value is assigned, some types will get assigned a default value:\r\n",
    "\r\n",
    "* `bool`: `false`\r\n",
    "* `char`: `\\0` (an empty character, the NULL character)\r\n",
    "* `int`: `0`\r\n",
    "* `decimal`: `0.0M`\r\n",
    "* `double`: `0.0` or `0.0D`\r\n",
    "* `float`: `0.0F`\r\n",
    "* `long`: `0L`\r\n",
    "* `DateTime`: `01/01/0001 12:00:00 AM`\r\n",
    "\r\n",
    "> Note: the suffix of floating point numbers defines the type used. If no suffix is given, double is assumed."
   ],
   "metadata": {}
  },
  {
   "cell_type": "code",
   "execution_count": null,
   "source": [
    "bool myBool;\r\n",
    "char myChar;\r\n",
    "int myInt;\r\n",
    "decimal myDecimal;\r\n",
    "double myDouble;\r\n",
    "float myFloat;\r\n",
    "long myLong;\r\n",
    "DateTime myDateTime;\r\n",
    "\r\n",
    "Console.WriteLine($\"bool: {myBool}\");\r\n",
    "Console.WriteLine($\"char: {myChar} (you won't see anything)\");\r\n",
    "Console.WriteLine($\"int: {myInt}\");\r\n",
    "Console.WriteLine($\"decimal: {myDecimal}\");\r\n",
    "Console.WriteLine($\"double: {myDouble}\");\r\n",
    "Console.WriteLine($\"float: {myFloat}\");\r\n",
    "Console.WriteLine($\"long: {myLong}\");\r\n",
    "Console.WriteLine($\"DateTime: {myDateTime}\");"
   ],
   "outputs": [
    {
     "output_type": "stream",
     "name": "stdout",
     "text": [
      "bool: False\r\n",
      "char: \u0000 (you won't see anything)\r\n",
      "int: 0\r\n",
      "decimal: 0\r\n",
      "double: 0\r\n",
      "float: 0\r\n",
      "long: 0\r\n",
      "DateTime: 1/01/0001 0:00:00\r\n"
     ]
    }
   ],
   "metadata": {
    "dotnet_interactive": {
     "language": "csharp"
    }
   }
  },
  {
   "cell_type": "markdown",
   "source": [
    "### Structs\r\n",
    "\r\n",
    "Structs can be used to create a value type consisting of one value. You can compare it to a class but it is a value type and no reference type. A struct can contain fields, methods and constructors but is managed by the stack and thus passed by value. Within .NET structs are used all over the place, e.g. `int`, `float` and `long`. These are just shortcuts for their respective structs: `System.Int32`, `System.Single` and `System.Int64`. These structs have constructors `int i = new int();` and methods like `ToString()`.\r\n",
    "\r\n",
    "Structs are commonly used for entities where the value is very important, like for example a number or a date. We won't define structs but we'll definitely use them a lot."
   ],
   "metadata": {}
  },
  {
   "cell_type": "markdown",
   "source": [
    "### Enums\r\n",
    "\r\n",
    "An enum type is another value type. It can be seen as a list of constant names with the integer representation (`System.Int32` by default). Numerical values will be put on the stack.\r\n",
    "\r\n",
    "The `Enum` class contains some useful methods for enums, have a look at it: [https://docs.microsoft.com/en-us/dotnet/api/system.enum?view=net-5.0](https://docs.microsoft.com/en-us/dotnet/api/system.enum?view=net-5.0)."
   ],
   "metadata": {}
  },
  {
   "cell_type": "code",
   "execution_count": null,
   "source": [
    "// Define an enum\r\n",
    "public enum ColorType {\r\n",
    "    Red = 0,\r\n",
    "    Blue = 16,\r\n",
    "    Green = 256\r\n",
    "}"
   ],
   "outputs": [],
   "metadata": {
    "dotnet_interactive": {
     "language": "csharp"
    }
   }
  },
  {
   "cell_type": "code",
   "execution_count": null,
   "source": [
    "// Use the enum\r\n",
    "ColorType c = ColorType.Blue;\r\n",
    "Console.WriteLine(c); // prints the name\r\n",
    "Console.WriteLine((int)c); // print the integer value\r\n",
    "\r\n",
    "// Iterate through all enum values\r\n",
    "foreach (string s in Enum.GetNames(typeof(ColorType)))\r\n",
    "    Console.WriteLine(s);\r\n",
    "\r\n",
    "// Parse a string into an enum value\r\n",
    "c = (ColorType) Enum.Parse(typeof(ColorType), \"Green\");\r\n",
    "\r\n",
    "Console.WriteLine(c); // prints Green"
   ],
   "outputs": [
    {
     "output_type": "stream",
     "name": "stdout",
     "text": [
      "Blue\r\n",
      "16\r\n",
      "Red\r\n",
      "Blue\r\n",
      "Green\r\n",
      "Green\r\n"
     ]
    }
   ],
   "metadata": {
    "dotnet_interactive": {
     "language": "csharp"
    }
   }
  },
  {
   "cell_type": "markdown",
   "source": [
    "### Reference types\r\n",
    "\r\n",
    "Variables of a reference type contain a reference (pointer) to the actual data. The built-in reference types are `Object` and `String`. You can define your own reference types using a `class`, `interface` or `delegate`.\r\n",
    "\r\n",
    "Every value or reference type is a `System.Object` and thus you can use all of its methods: [https://docs.microsoft.com/en-us/dotnet/api/system.object?redirectedfrom=MSDN&view=net-5.0](https://docs.microsoft.com/en-us/dotnet/api/system.object?redirectedfrom=MSDN&view=net-5.0#methods)."
   ],
   "metadata": {}
  },
  {
   "cell_type": "markdown",
   "source": [
    "### Strings\r\n",
    "\r\n",
    "Strings are in fact an array of characters but can't completely be used as an array. It is an immutable type which means you can only assign a value once and can't change it. In C# strings can be compared using the `==` operator, it will compare the contents of the string. **Caution:** This operator cannot be used for objects, it will compare the reference! As an alternative one can also use the `Equals` method, which is the goto for any object comparison."
   ],
   "metadata": {}
  },
  {
   "cell_type": "code",
   "execution_count": null,
   "source": [
    "string s1 = \"abc\";\r\n",
    "string s2 = \"abc\";\r\n",
    "Console.WriteLine($\"With ==: {s1 == s2}\");\r\n",
    "Console.WriteLine($\"With Equals(): {s1.Equals(s2)}\");"
   ],
   "outputs": [
    {
     "output_type": "stream",
     "name": "stdout",
     "text": [
      "With ==: True\r\n",
      "With Equals(): True\r\n"
     ]
    }
   ],
   "metadata": {
    "dotnet_interactive": {
     "language": "csharp"
    }
   }
  },
  {
   "cell_type": "markdown",
   "source": [
    "In the next sections some useful `String` methods will be discussed and shown. All other methods can be found on [https://docs.microsoft.com/en-us/dotnet/api/system.string?view=net-5.0](https://docs.microsoft.com/en-us/dotnet/api/system.string?view=net-5.0#methods)."
   ],
   "metadata": {}
  },
  {
   "cell_type": "markdown",
   "source": [
    "#### Trimming\r\n",
    "\r\n",
    "The `Trim` method will remove any whitespace at the front and back of a given string. `TrimStart` and `TrimEnd` will do this at the front and back respectively."
   ],
   "metadata": {}
  },
  {
   "cell_type": "code",
   "execution_count": null,
   "source": [
    "string input = \"    Thomas   \\n   \"; // There are some spaces and enters around the string \"Thomas\"\r\n",
    "string cleanFront = input.TrimStart(); // Will only remove whitespace at the front\r\n",
    "string cleanBack = input.TrimEnd(); // Same for the back\r\n",
    "string allClean = input.Trim(); // All whitespaces removed\r\n",
    "\r\n",
    "Console.WriteLine($\"cleanFront: {cleanFront}\");\r\n",
    "Console.WriteLine($\"cleanBack: {cleanBack}\");\r\n",
    "Console.WriteLine($\"allClean: {allClean}\");"
   ],
   "outputs": [
    {
     "output_type": "stream",
     "name": "stdout",
     "text": [
      "cleanFront: Thomas   \n",
      "   \r\n",
      "cleanBack:     Thomas\r\n",
      "allClean: Thomas\r\n"
     ]
    }
   ],
   "metadata": {
    "dotnet_interactive": {
     "language": "csharp"
    }
   }
  },
  {
   "cell_type": "markdown",
   "source": [
    "#### Substring\r\n",
    "\r\n",
    "You can take parts out of a string using the method `Substring`. The two parameters give the indices of the part to take (second index exclusive). Leaving out the second parameter will take all characters starting from the index given by the first parameter."
   ],
   "metadata": {}
  },
  {
   "cell_type": "code",
   "execution_count": null,
   "source": [
    "string input = \"Make it work, make it right, make it fast.\";\r\n",
    "\r\n",
    "Console.WriteLine(input.Substring(0, 5)); // Make\r\n",
    "Console.WriteLine(input.Substring(29)); // make it fast."
   ],
   "outputs": [
    {
     "output_type": "stream",
     "name": "stdout",
     "text": [
      "Make \r\n",
      "make it fast.\r\n"
     ]
    }
   ],
   "metadata": {
    "dotnet_interactive": {
     "language": "csharp"
    }
   }
  },
  {
   "cell_type": "markdown",
   "source": [
    "#### Formatting\r\n",
    "\r\n",
    "Converting all characters in a string to upper case is done with `ToUpper`, converting to lower case is analog with `ToLower`."
   ],
   "metadata": {}
  },
  {
   "cell_type": "code",
   "execution_count": null,
   "source": [
    "string input = \"make me upper\";\r\n",
    "Console.WriteLine(input.ToUpper());\r\n",
    "\r\n",
    "input = \"MaKe ME LoWeR\";\r\n",
    "Console.WriteLine(input.ToLower());"
   ],
   "outputs": [
    {
     "output_type": "stream",
     "name": "stdout",
     "text": [
      "MAKE ME UPPER\r\n",
      "make me lower\r\n"
     ]
    }
   ],
   "metadata": {
    "dotnet_interactive": {
     "language": "csharp"
    }
   }
  },
  {
   "cell_type": "markdown",
   "source": [
    "#### Immutability\r\n",
    "\r\n",
    "As said before strings are immutable. That's why the next example won't give the correct output."
   ],
   "metadata": {
    "dotnet_interactive": {
     "language": "csharp"
    }
   }
  },
  {
   "cell_type": "code",
   "execution_count": null,
   "source": [
    "string input = \"         Hello World!\";\r\n",
    "input.Trim();\r\n",
    "Console.WriteLine(input); //          Hello World!"
   ],
   "outputs": [
    {
     "output_type": "stream",
     "name": "stdout",
     "text": [
      "         Hello World!\r\n"
     ]
    }
   ],
   "metadata": {
    "dotnet_interactive": {
     "language": "csharp"
    }
   }
  },
  {
   "cell_type": "markdown",
   "source": [
    "Because strings are immutable, we need to reassign the variable with the new and trimmed value."
   ],
   "metadata": {}
  },
  {
   "cell_type": "code",
   "execution_count": null,
   "source": [
    "string input = \"         Hello World!\";\r\n",
    "input = input.Trim();\r\n",
    "Console.WriteLine(input); // Hello World!"
   ],
   "outputs": [
    {
     "output_type": "stream",
     "name": "stdout",
     "text": [
      "Hello World!\r\n"
     ]
    }
   ],
   "metadata": {
    "dotnet_interactive": {
     "language": "csharp"
    }
   }
  },
  {
   "cell_type": "markdown",
   "source": [
    "#### Concatenation\r\n",
    "\r\n",
    "Combining multiple strings into one can using the `+` operator."
   ],
   "metadata": {}
  },
  {
   "cell_type": "code",
   "execution_count": null,
   "source": [
    "string name = \"Thomas\";\r\n",
    "string greet = \"Hello \" + name + \"!\";\r\n",
    "Console.WriteLine(greet);"
   ],
   "outputs": [
    {
     "output_type": "stream",
     "name": "stdout",
     "text": [
      "Hello Thomas!\r\n"
     ]
    }
   ],
   "metadata": {
    "dotnet_interactive": {
     "language": "csharp"
    }
   }
  },
  {
   "cell_type": "markdown",
   "source": [
    "But there is a more convenient way to do such concatenations: **string interpolation**. Therefor add a `$` before the string and escape every variable to embed inside brackets. There are also possibilities to format numbers, take a look at the documentation of [number format strings](https://docs.microsoft.com/en-us/dotnet/standard/base-types/standard-numeric-format-strings)."
   ],
   "metadata": {}
  },
  {
   "cell_type": "code",
   "execution_count": null,
   "source": [
    "string name = \"Steve\";\r\n",
    "decimal totalPrice = 10M;\r\n",
    "string greet = $\"Hello {name}, the total price is {totalPrice:C2}!\"; // Hello Steve, the total price is € 10,00!\r\n",
    "Console.WriteLine(greet);"
   ],
   "outputs": [
    {
     "output_type": "stream",
     "name": "stdout",
     "text": [
      "Hello Steve, the total price is € 10,00!\r\n"
     ]
    }
   ],
   "metadata": {
    "dotnet_interactive": {
     "language": "csharp"
    }
   }
  },
  {
   "cell_type": "markdown",
   "source": [
    "A less convenient but similar technique is using the `String.Format` method. The first argument of this method is called the format string and contains references to the n<sup>th</sup> variable passed after the format string (starting from 0)."
   ],
   "metadata": {}
  },
  {
   "cell_type": "code",
   "execution_count": null,
   "source": [
    "string name = \"Thomas\";\r\n",
    "string greet = String.Format(\"Hello {0}!\", name);\r\n",
    "Console.WriteLine(greet);"
   ],
   "outputs": [
    {
     "output_type": "stream",
     "name": "stdout",
     "text": [
      "Hello Thomas!\r\n"
     ]
    }
   ],
   "metadata": {
    "dotnet_interactive": {
     "language": "csharp"
    }
   }
  },
  {
   "cell_type": "markdown",
   "source": [
    "Some characters can't be used in strings unless they are escaped with a backslash (`\\`). If you type a `\\` in a string, C# will think the next character has a special meaning. These special characters are:\r\n",
    "\r\n",
    "| Character | Meaning                                                                                     |\r\n",
    "| --------- | ------------------------------------------------------------------------------------------- |\r\n",
    "| `\\'`      | Inserts a single quote into a string literal                                                |\r\n",
    "| `\\\"`      | Inserts a double quote into a string literal                                                |\r\n",
    "| `\\\\`      | Inserts a backslash into a string literal                                                   |\r\n",
    "| `\\a`      | Triggers a system alert (beep). For console programs, this can be an audio clue to the user |\r\n",
    "| `\\n`      | Inserts a new line (on Win32 platforms)                                                     |\r\n",
    "| `\\r`      | Inserts a carriage return (return to the start of the line without going to the next one)   |\r\n",
    "| `\\t`      | Inserts a horizontal tab                                                                    |\r\n",
    "\r\n",
    "If you are not willing to escape these special characters, you can put a `@` in front of the string and even combine it with the concatination symbol(`$`)."
   ],
   "metadata": {}
  },
  {
   "cell_type": "code",
   "execution_count": null,
   "source": [
    "string escapedPath = \"C:\\\\Docs\\\\Source\\\\a.txt\";\r\n",
    "string notEscapedPath = @\"C:\\Docs\\Source\\a.txt\";\r\n",
    "\r\n",
    "var fileName = \"a.txt\";\r\n",
    "string combinedEscapedPath = $@\"C:\\Docs\\Source\\{fileName}\";\r\n",
    "\r\n",
    "Console.WriteLine(escapedPath);\r\n",
    "Console.WriteLine(notEscapedPath);\r\n",
    "Console.WriteLine(combinedEscapedPath);"
   ],
   "outputs": [
    {
     "output_type": "stream",
     "name": "stdout",
     "text": [
      "C:\\Docs\\Source\\a.txt\r\n",
      "C:\\Docs\\Source\\a.txt\r\n",
      "C:\\Docs\\Source\\a.txt\r\n"
     ]
    }
   ],
   "metadata": {
    "dotnet_interactive": {
     "language": "csharp"
    }
   }
  },
  {
   "cell_type": "markdown",
   "source": [
    "#### Exercises\r\n",
    "\r\n",
    "1. Complete the following function which returns the string \"something\" joined with a space \" \" and the given argument `a`."
   ],
   "metadata": {}
  },
  {
   "cell_type": "code",
   "execution_count": null,
   "source": [
    "string GiveMeSomething(string a) {\r\n",
    "  // TODO: complete the return statement\r\n",
    "  return a;\r\n",
    "}\r\n",
    "\r\n",
    "Console.WriteLine(GiveMeSomething(\"is better than nothing\")); // \"something is better than nothing\"\r\n",
    "Console.WriteLine(GiveMeSomething(\"Bob Jane\")); // \"something Bob Jane\"\r\n",
    "Console.WriteLine(GiveMeSomething(\"something\")); // \"something something\""
   ],
   "outputs": [
    {
     "output_type": "stream",
     "name": "stdout",
     "text": [
      "is better than nothing\r\n",
      "Bob Jane\r\n",
      "something\r\n"
     ]
    }
   ],
   "metadata": {
    "dotnet_interactive": {
     "language": "csharp"
    }
   }
  },
  {
   "cell_type": "markdown",
   "source": [
    "2. Complete the following function. It should greet users. However the developer who wrote this function is in love with **Mubashir** and would like to greet him slightly different.\r\n",
    "\r\n",
    "Hint: `if` works the same as Java, even `==` works with strings!"
   ],
   "metadata": {}
  },
  {
   "cell_type": "code",
   "execution_count": null,
   "source": [
    "string Greet(string name) {\r\n",
    "  // TODO: complete the code\r\n",
    "  return name;\r\n",
    "}\r\n",
    "\r\n",
    "Console.WriteLine(Greet(\"Matt\")); // \"Hello, Matt!\"\r\n",
    "Console.WriteLine(Greet(\"Helen\")); // \"Hello, Helen!\"\r\n",
    "Console.WriteLine(Greet(\"Mubashir\")); // \"Hello, my Love!\""
   ],
   "outputs": [
    {
     "output_type": "stream",
     "name": "stdout",
     "text": [
      "Matt\r\n",
      "Helen\r\n",
      "Mubashir\r\n"
     ]
    }
   ],
   "metadata": {
    "dotnet_interactive": {
     "language": "csharp"
    }
   }
  },
  {
   "cell_type": "markdown",
   "source": [
    "3. Complete the following function which returns `true` if the given string is empty. A string containing only whitespaces does **not** count as empty."
   ],
   "metadata": {}
  },
  {
   "cell_type": "code",
   "execution_count": null,
   "source": [
    "bool IsEmpty(string str) {\r\n",
    "  // TODO: complete the return statement\r\n",
    "  return string.IsNullOrEmpty(str);\r\n",
    "}\r\n",
    "\r\n",
    "Console.WriteLine(IsEmpty(\"\")); // True\r\n",
    "Console.WriteLine(IsEmpty(\" \")); // False\r\n",
    "Console.WriteLine(IsEmpty(\"a\")); // False"
   ],
   "outputs": [
    {
     "output_type": "stream",
     "name": "stdout",
     "text": [
      "True\r\n",
      "False\r\n",
      "False\r\n"
     ]
    }
   ],
   "metadata": {
    "dotnet_interactive": {
     "language": "csharp"
    }
   }
  },
  {
   "cell_type": "markdown",
   "source": [
    "4. Complete the following function which compares two given strings by length. It should return `true` if both strings have the **same length**."
   ],
   "metadata": {}
  },
  {
   "cell_type": "markdown",
   "source": [
    "5. Complete the following function that takes two numbers and a mathematical operator and returns the result."
   ],
   "metadata": {}
  },
  {
   "cell_type": "code",
   "execution_count": null,
   "source": [
    "int? Calculate(int num1, int num2, string operation) {\r\n",
    "  // TODO: complete the code\r\n",
    "  return 0;\r\n",
    "}\r\n",
    "\r\n",
    "Console.WriteLine(Calculate(4, 9, \"+\")); // 13\r\n",
    "Console.WriteLine(Calculate(12, 5, \"-\")); // 7\r\n",
    "Console.WriteLine(Calculate(6, 3, \"*\")); // 18\r\n",
    "Console.WriteLine(Calculate(14, 3, \"%\")); // 2\r\n",
    "Console.WriteLine(Calculate(6, 3, \"/\")); // 2\r\n",
    "Console.WriteLine(\"this should show nothing -> \" + Calculate(6, 3, \"invalid\")); // null (won't show in output)"
   ],
   "outputs": [
    {
     "output_type": "stream",
     "name": "stdout",
     "text": [
      "0\r\n",
      "0\r\n",
      "0\r\n",
      "0\r\n",
      "0\r\n",
      "this should show nothing -> 0\r\n"
     ]
    }
   ],
   "metadata": {
    "dotnet_interactive": {
     "language": "csharp"
    }
   }
  },
  {
   "cell_type": "markdown",
   "source": [
    "### Nullable types\r\n",
    "\r\n",
    "Nullable types is a value type which can contain a value of the specified type or `null`. A nullable type has a property `HasValue` which tells us if the variable has a value or contains `null`. The property `Value` will provide the value is one exists. Accessing `Value` on a `null` will cause an `System.InvalidOperationException: Nullable object must have a value`."
   ],
   "metadata": {}
  },
  {
   "cell_type": "code",
   "execution_count": null,
   "source": [
    "int? x = 10; // this is a nullable type\r\n",
    "int y = 20;\r\n",
    "\r\n",
    "Console.WriteLine($\"x = {x}, y = {y}\"); // x = 10, y = 20\r\n",
    "\r\n",
    "if (x.HasValue)\r\n",
    "    y = x.Value;\r\n",
    "\r\n",
    "Console.WriteLine($\"x = {x}, y = {y}\"); //x = 10, y = 10\r\n",
    "\r\n",
    "x = null;\r\n",
    "\r\n",
    "if (x.HasValue)\r\n",
    "    y = x.Value;\r\n",
    "\r\n",
    "Console.WriteLine($\"x = {x}, y = {y}\"); //x = , y = 10"
   ],
   "outputs": [
    {
     "output_type": "stream",
     "name": "stdout",
     "text": [
      "x = 10, y = 20\r\n",
      "x = 10, y = 10\r\n",
      "x = , y = 10\r\n"
     ]
    }
   ],
   "metadata": {
    "dotnet_interactive": {
     "language": "csharp"
    }
   }
  },
  {
   "cell_type": "markdown",
   "source": [
    "### Constants\r\n",
    "\r\n",
    "Constant values should be initialized at declaration and cannot change. They are always implicit static but you can't put the keyword `static` on the declaration."
   ],
   "metadata": {}
  },
  {
   "cell_type": "code",
   "execution_count": null,
   "source": [
    "const long size = ((long)int.MaxValue + 1)/4;\r\n",
    "Console.WriteLine(size);\r\n",
    "\r\n",
    "// size = 2; // Error: The left-hand side of an assignment must be a variable, property or indexer"
   ],
   "outputs": [
    {
     "output_type": "stream",
     "name": "stdout",
     "text": [
      "536870912\r\n"
     ]
    }
   ],
   "metadata": {
    "dotnet_interactive": {
     "language": "csharp"
    }
   }
  },
  {
   "cell_type": "markdown",
   "source": [
    "### Casting\r\n",
    "\r\n",
    "Sometimes you need to change the type of a value to another type, which is called casting. There are two types of casting: implicit and explicit. \r\n",
    "\r\n",
    "**Implicit casting** is only possible when the value is not affected by the cast. For numbers this means you can implicitly cast to another number type with more bits. If you would convert to a lower bit number, you would loose information. The order of casting is: `byte`, `short`, `int`, `long`, `float`, `double`, `decimal`.\r\n",
    "\r\n",
    "**Explicit casting** may cause information loss because you're throwing away some bits. A checked cast checks if the cast is safe and if not will throw a `System.OverflowException`."
   ],
   "metadata": {}
  },
  {
   "cell_type": "code",
   "execution_count": null,
   "source": [
    "int a = 2;\r\n",
    "long b = a; // implicit\r\n",
    "\r\n",
    "Console.WriteLine($\"a = {a}, b = {b}\"); // a = 2, b = 2\r\n",
    "\r\n",
    "long c = 30000;\r\n",
    "int d = (int) c; // explicit and not checked, may cause information loss\r\n",
    "int e = checked ((int) c); // explicit and checked\r\n",
    "\r\n",
    "Console.WriteLine($\"c = {c}, d = {d}, e = {e}\"); // c = 30000, d = 30000, e = 30000\r\n",
    "\r\n",
    "c = ((long)int.MaxValue + 1);\r\n",
    "d = (int) c; // explicit and not checked, will cause information loss\r\n",
    "// e = checked ((int) c); // explicit and checked -> System.OverflowException\r\n",
    "\r\n",
    "// comment the previous line to see the result\r\n",
    "Console.WriteLine($\"c = {c}, d = {d}, e = {e}\"); // c = 2147483648, d = -2147483648, e = 30000"
   ],
   "outputs": [
    {
     "output_type": "stream",
     "name": "stdout",
     "text": [
      "a = 2, b = 2\r\n",
      "c = 30000, d = 30000, e = 30000\r\n",
      "c = 2147483648, d = -2147483648, e = 30000\r\n"
     ]
    }
   ],
   "metadata": {
    "dotnet_interactive": {
     "language": "csharp"
    }
   }
  },
  {
   "cell_type": "markdown",
   "source": [
    "Converting a number into a string and vice versa can be achieved with the `Parse`, `Convert` and `ToString` methods. The difference between `Parse` and `Convert.ToInt32` is that the latter one can handle `null` values, the first one will throw a `System.ArgumentNullException`."
   ],
   "metadata": {}
  },
  {
   "cell_type": "code",
   "execution_count": null,
   "source": [
    "string s = \"100\";\r\n",
    "int i = int.Parse(s);\r\n",
    "\r\n",
    "Console.WriteLine($\"s = {s}, i = {i}\");\r\n",
    "\r\n",
    "i = 10;\r\n",
    "s = i.ToString();\r\n",
    "\r\n",
    "Console.WriteLine($\"s = {s}, i = {i}\");\r\n",
    "\r\n",
    "s = null;\r\n",
    "i = Convert.ToInt32(s);\r\n",
    "\r\n",
    "Console.WriteLine($\"s = {s}, i = {i}\");\r\n",
    "\r\n",
    "i = int.Parse(s); // System.ArgumentNullException"
   ],
   "outputs": [
    {
     "output_type": "stream",
     "name": "stdout",
     "text": [
      "s = 100, i = 100\r\n",
      "s = 10, i = 10\r\n",
      "s = , i = 0\r\n"
     ]
    },
    {
     "output_type": "error",
     "ename": "Error",
     "evalue": "System.ArgumentNullException: Value cannot be null. (Parameter 's')\r\n   at System.Int32.Parse(String s)\r\n   at Submission#246.<<Initialize>>d__0.MoveNext()\r\n--- End of stack trace from previous location ---\r\n   at Microsoft.CodeAnalysis.Scripting.ScriptExecutionState.RunSubmissionsAsync[TResult](ImmutableArray`1 precedingExecutors, Func`2 currentExecutor, StrongBox`1 exceptionHolderOpt, Func`2 catchExceptionOpt, CancellationToken cancellationToken)",
     "traceback": [
      "System.ArgumentNullException: Value cannot be null. (Parameter 's')\r\n",
      "   at System.Int32.Parse(String s)\r\n",
      "   at Submission#246.<<Initialize>>d__0.MoveNext()\r\n",
      "--- End of stack trace from previous location ---\r\n",
      "   at Microsoft.CodeAnalysis.Scripting.ScriptExecutionState.RunSubmissionsAsync[TResult](ImmutableArray`1 precedingExecutors, Func`2 currentExecutor, StrongBox`1 exceptionHolderOpt, Func`2 catchExceptionOpt, CancellationToken cancellationToken)"
     ]
    }
   ],
   "metadata": {
    "dotnet_interactive": {
     "language": "csharp"
    }
   }
  },
  {
   "cell_type": "markdown",
   "source": [
    "#### Boxing and unboxing\r\n",
    "\r\n",
    "**Boxing** is storing a value type on the garbage collected heap, it's the procedure of allocating an object instance and copying the value into that new object. **Unboxing** is the opposite.\r\n",
    "\r\n",
    "<img src=\"./images/unboxing-conversion-operation.gif\" style=\"display:block;margin:0 auto;\" />"
   ],
   "metadata": {}
  },
  {
   "cell_type": "code",
   "execution_count": null,
   "source": [
    "int i = 123;\r\n",
    "Object o = i; // implicit boxing\r\n",
    "o = (Object) i; // explicit boxing\r\n",
    "int j = (int) o; // unboxing"
   ],
   "outputs": [],
   "metadata": {
    "dotnet_interactive": {
     "language": "csharp"
    }
   }
  },
  {
   "cell_type": "markdown",
   "source": [
    "### Date and Time\n",
    "\n",
    "`System.DateTime` and `System.TimeSpan` are both structs. A `DateTime` represents a date and a time (= an instant in time) as the name suggests, a `TimeSpan` represents the difference between two dates.\n",
    "\n",
    "A `DateTime` has some properties like `Month`, `Year`, `Day`, and so on. All properties can be found in the documentation: [https://docs.microsoft.com/en-us/dotnet/api/system.datetime?view=net-5.0#properties](https://docs.microsoft.com/en-us/dotnet/api/system.datetime?view=net-5.0#properties).\n",
    "\n",
    "A `TimeSpan` has some properties like `Hours`, `Minutes`, `Seconds`, and so on. All properties can be found in the documentation: [https://docs.microsoft.com/en-us/dotnet/api/system.timespan?view=net-5.0#properties](https://docs.microsoft.com/en-us/dotnet/api/system.timespan?view=net-5.0#properties).\n",
    "\n",
    "The default date is 01/01/0001 12:00 AM:"
   ],
   "metadata": {}
  },
  {
   "cell_type": "code",
   "execution_count": null,
   "source": [
    "DateTime dt = new DateTime();\r\n",
    "Console.WriteLine(dt); // 1/01/0001 0:00:00"
   ],
   "outputs": [
    {
     "output_type": "stream",
     "name": "stdout",
     "text": [
      "1/01/0001 0:00:00\r\n"
     ]
    }
   ],
   "metadata": {
    "dotnet_interactive": {
     "language": "csharp"
    }
   }
  },
  {
   "cell_type": "markdown",
   "source": [
    "You can pass arguments to the constructor to construct a certain date:"
   ],
   "metadata": {}
  },
  {
   "cell_type": "code",
   "execution_count": null,
   "source": [
    "DateTime dt = new DateTime(2021, 8, 23);\r\n",
    "Console.WriteLine(dt); // 23/08/2021 0:00:00"
   ],
   "outputs": [
    {
     "output_type": "stream",
     "name": "stdout",
     "text": [
      "23/08/2021 0:00:00\r\n"
     ]
    }
   ],
   "metadata": {
    "dotnet_interactive": {
     "language": "csharp"
    }
   }
  },
  {
   "cell_type": "markdown",
   "source": [
    "It's also possible to get today's date or the current date and time:"
   ],
   "metadata": {}
  },
  {
   "cell_type": "code",
   "execution_count": null,
   "source": [
    "Console.WriteLine(DateTime.Today); // 23/08/2021 0:00:00 (only the date)\r\n",
    "Console.WriteLine(DateTime.Now); // 23/08/2021 11:58:36 (includes time)"
   ],
   "outputs": [
    {
     "output_type": "stream",
     "name": "stdout",
     "text": [
      "31/08/2021 0:00:00\r\n",
      "31/08/2021 16:50:58\r\n"
     ]
    }
   ],
   "metadata": {
    "dotnet_interactive": {
     "language": "csharp"
    }
   }
  },
  {
   "cell_type": "markdown",
   "source": [
    "You can easily fetch the day of the week:"
   ],
   "metadata": {}
  },
  {
   "cell_type": "code",
   "execution_count": null,
   "source": [
    "DateTime dt = DateTime.Now;\r\n",
    "Console.WriteLine($\"The day of {dt.Date} is {dt.DayOfWeek}\");"
   ],
   "outputs": [
    {
     "output_type": "stream",
     "name": "stdout",
     "text": [
      "The day of 31/08/2021 0:00:00 is Tuesday\r\n"
     ]
    }
   ],
   "metadata": {
    "dotnet_interactive": {
     "language": "csharp"
    }
   }
  },
  {
   "cell_type": "markdown",
   "source": [
    "You can also create a `TimeSpan` with some arguments:"
   ],
   "metadata": {}
  },
  {
   "cell_type": "code",
   "execution_count": null,
   "source": [
    "TimeSpan ts = new TimeSpan(4, 30, 0); // hours, minutes, seconds\r\n",
    "Console.WriteLine(ts); // 04:30:00"
   ],
   "outputs": [
    {
     "output_type": "stream",
     "name": "stdout",
     "text": [
      "04:30:00\r\n"
     ]
    }
   ],
   "metadata": {
    "dotnet_interactive": {
     "language": "csharp"
    }
   }
  },
  {
   "cell_type": "markdown",
   "source": [
    "The `DateTime` struct implements some of the operators, like + and -, but not everything is allowed. It's e.g. not allowed to add two dates together, how would you do this anyway? But it's possible to add a `TimeSpan` to a `DateTime` or to get the difference between two `DateTime`s, which is obviously a `TimeSpan`."
   ],
   "metadata": {}
  },
  {
   "cell_type": "code",
   "execution_count": null,
   "source": [
    "DateTime dt = DateTime.Now + new TimeSpan(5, 0, 0); // Now + 5 hours\r\n",
    "Console.WriteLine(dt); // 23/08/2021 17:06:12"
   ],
   "outputs": [
    {
     "output_type": "stream",
     "name": "stdout",
     "text": [
      "31/08/2021 21:50:58\r\n"
     ]
    }
   ],
   "metadata": {
    "dotnet_interactive": {
     "language": "csharp"
    }
   }
  },
  {
   "cell_type": "markdown",
   "source": [
    "There are also some methods provided to accomplish the same goal. Be aware that a `DateTime` is never changed, these methods always return a new instance."
   ],
   "metadata": {}
  },
  {
   "cell_type": "code",
   "execution_count": null,
   "source": [
    "DateTime dt = DateTime.Now;\r\n",
    "dt = dt.AddHours(5); // Note the assignment\r\n",
    "Console.WriteLine(dt); // 23/08/2021 17:07:19"
   ],
   "outputs": [
    {
     "output_type": "stream",
     "name": "stdout",
     "text": [
      "31/08/2021 21:50:58\r\n"
     ]
    }
   ],
   "metadata": {
    "dotnet_interactive": {
     "language": "csharp"
    }
   }
  },
  {
   "cell_type": "markdown",
   "source": [
    "### Formatting a DateTime\r\n",
    "\r\n",
    "A `DateTime` also has a pretty neat `ToString` which allows the developer to easily format a date into whatever format desired. You simply pass a format string as an argument. This string contains some placeholders, which can be found in the documentation: [https://docs.microsoft.com/en-us/dotnet/standard/base-types/custom-date-and-time-format-strings](https://docs.microsoft.com/en-us/dotnet/standard/base-types/custom-date-and-time-format-strings).\r\n",
    "\r\n",
    "There are also several predefined `ToString` methods available, like `ToLongDateString` or `ToShortDateString`.\r\n",
    "\r\n",
    "Be aware that these methods' return value depends on your System's locale."
   ],
   "metadata": {}
  },
  {
   "cell_type": "code",
   "execution_count": null,
   "source": [
    "DateTime dt = new DateTime(2021, 9, 20, 8, 15, 0);\r\n",
    "\r\n",
    "// Predefined\r\n",
    "Console.WriteLine(dt.ToLongDateString()); // Monday, September 20, 2021\r\n",
    "Console.WriteLine(dt.ToShortDateString()); // 09/20/2021\r\n",
    "Console.WriteLine(dt.ToShortTimeString()); // 8:15 AM\r\n",
    "\r\n",
    "// DIY\r\n",
    "Console.WriteLine(dt.ToString(\"dd/MM/yy\")); // 20/09/21\r\n",
    "Console.WriteLine(dt.ToString(\"MM - dd - yyyy\")); // 09 - 20 - 2021\r\n",
    "Console.WriteLine(dt.ToString(\"ddd dd MMM yyyy\")); // Mon 20 Sep 2021\r\n",
    "Console.WriteLine(dt.ToString(\"dddd dd MMMM yyyy\")); // Monday 20 September 2021"
   ],
   "outputs": [
    {
     "output_type": "stream",
     "name": "stdout",
     "text": [
      "maandag 20 september 2021\r\n",
      "20/09/2021\r\n",
      "8:15\r\n",
      "20/09/21\r\n",
      "09 - 20 - 2021\r\n",
      "ma 20 sep. 2021\r\n",
      "maandag 20 september 2021\r\n"
     ]
    }
   ],
   "metadata": {
    "dotnet_interactive": {
     "language": "csharp"
    }
   }
  },
  {
   "cell_type": "markdown",
   "source": [
    "### Exercises\r\n",
    "\r\n",
    "1. Complete the following function. The function takes a `DateTime` as argument and returns the date a week after."
   ],
   "metadata": {}
  },
  {
   "cell_type": "code",
   "execution_count": null,
   "source": [
    "DateTime WeekAfter(DateTime date) {\r\n",
    "  // TODO: complete the return statement\r\n",
    "  return date;\r\n",
    "}\r\n",
    "\r\n",
    "Console.WriteLine(WeekAfter(new DateTime(2020, 3, 12))); // 19/03/2020 0:00:00\r\n",
    "\r\n",
    "Console.WriteLine(WeekAfter(new DateTime(1989, 12, 21))); // 28/12/1989 0:00:00\r\n",
    "\r\n",
    "Console.WriteLine(WeekAfter(new DateTime(2000, 1, 1))); // 08/01/2000 0:00:00"
   ],
   "outputs": [
    {
     "output_type": "stream",
     "name": "stdout",
     "text": [
      "12/03/2020 0:00:00\r\n",
      "21/12/1989 0:00:00\r\n",
      "1/01/2000 0:00:00\r\n"
     ]
    }
   ],
   "metadata": {
    "dotnet_interactive": {
     "language": "csharp"
    }
   }
  },
  {
   "cell_type": "markdown",
   "source": [
    "2. Complete the following function. The function takes a `DateTime` as argument and returns `true` if it's Christmas Eve (December 24th), otherwise `false`."
   ],
   "metadata": {}
  },
  {
   "cell_type": "code",
   "execution_count": null,
   "source": [
    "bool IsChristmasEve(DateTime date) {\r\n",
    "  // TODO: complete the return statement\r\n",
    "  return false;\r\n",
    "}\r\n",
    "\r\n",
    "Console.WriteLine(IsChristmasEve(new DateTime(2013, 12, 24))); // True\r\n",
    "Console.WriteLine(IsChristmasEve(new DateTime(2013, 2, 28))); // False\r\n",
    "Console.WriteLine(IsChristmasEve(new DateTime(3000, 12, 24))); // True"
   ],
   "outputs": [
    {
     "output_type": "stream",
     "name": "stdout",
     "text": [
      "False\r\n",
      "False\r\n",
      "False\r\n"
     ]
    }
   ],
   "metadata": {
    "dotnet_interactive": {
     "language": "csharp"
    }
   }
  },
  {
   "cell_type": "markdown",
   "source": [
    "3. Complete the following function which takes the month and years and returns the number of days in that month.\r\n",
    "\r\n",
    "Hint: There might be a helper method for this: [https://docs.microsoft.com/en-us/dotnet/api/system.datetime?view=net-5.0#methods](https://docs.microsoft.com/en-us/dotnet/api/system.datetime?view=net-5.0#methods)."
   ],
   "metadata": {}
  },
  {
   "cell_type": "code",
   "execution_count": null,
   "source": [
    "\r\n",
    "int Days(int month, int year) {\r\n",
    "  // TODO: complete the return statement\r\n",
    "  return DateTime.DaysInMonth(year, month);\r\n",
    "}\r\n",
    "\r\n",
    "Console.WriteLine(Days(2, 2018)); // 28\r\n",
    "Console.WriteLine(Days(4, 654)); // 30\r\n",
    "Console.WriteLine(Days(2, 1996)); // 29\r\n",
    "Console.WriteLine(Days(7, 2021)); // 31"
   ],
   "outputs": [
    {
     "output_type": "stream",
     "name": "stdout",
     "text": [
      "28\r\n",
      "30\r\n",
      "29\r\n",
      "31\r\n"
     ]
    }
   ],
   "metadata": {
    "dotnet_interactive": {
     "language": "csharp"
    }
   }
  },
  {
   "cell_type": "markdown",
   "source": [
    "### StringBuilder\n",
    "\n",
    "Strings cannot be changed, any operation that changes a `string` returns a new one. A `string²` is also not accessible as array, which is pretty useful. In C# there is a `StringBuilder`, which is equivalent to the Java variant. The `StringBuilder` can be accessed by index, like an array. It has much better performance when string objects change frequently. The `StringBuilder` saves the string as an array of characters, editing the string does not create a new `string` object.\n",
    "\n",
    "A `StringBuilder` has some useful properties:\n",
    "* `Capacity`: gets or sets the maximum number of characters that can be contained in the memory allocated by the current instance\n",
    "* `Chars`: get or sets the character at the specified position in this instance\n",
    "* `Length`: gets or sets the length of this instance\n",
    "\n",
    "There are lots of other methods listed in the [documentation](https://docs.microsoft.com/en-us/dotnet/api/system.text.stringbuilder?view=net-5.0#methods). Every method which changes the `StringBuilder` returns the current instance, so it's easy to chain method calls.\n",
    "\n",
    "\n",
    "But a first useful method is `AppendFormat` which appens any value in a given style to the string. The style is determined by the first parameter whichs is a `CultureInfo` which defines the locale to use."
   ],
   "metadata": {}
  },
  {
   "cell_type": "code",
   "execution_count": null,
   "source": [
    "using System.Globalization;\r\n",
    "\r\n",
    "\r\n",
    "Decimal value = 16.95m;\r\n",
    "DateTime dateToday = DateTime.Now;\r\n",
    "\r\n",
    "// We want to print in belgian formats\r\n",
    "CultureInfo nlBE = CultureInfo.CreateSpecificCulture(\"nl-BE\");\r\n",
    "\r\n",
    "// Create a new StringBuilder\r\n",
    "StringBuilder sb = new StringBuilder();\r\n",
    "\r\n",
    "// append the price\r\n",
    "sb.AppendFormat(nlBE, \"Final Price: {0:C2}\", value)\r\n",
    "// append a new line\r\n",
    "  .AppendLine()\r\n",
    "// append the date and time\r\n",
    "  .AppendFormat(nlBE, \"Date and Time: {0:d} at {0:t}\", dateToday);\r\n",
    "\r\n",
    "// ToString returns the current string in the StringBuilder\r\n",
    "Console.WriteLine(sb.ToString());"
   ],
   "outputs": [
    {
     "output_type": "stream",
     "name": "stdout",
     "text": [
      "Final Price: € 16,95\r\n",
      "Date and Time: 31/08/2021 at 16:50\r\n"
     ]
    }
   ],
   "metadata": {
    "dotnet_interactive": {
     "language": "csharp"
    }
   }
  },
  {
   "cell_type": "markdown",
   "source": [
    "Some other useful methods are `Insert` and `Remove`, which can insert a given string at a given position or remove the number of characters after a given index."
   ],
   "metadata": {}
  },
  {
   "cell_type": "code",
   "execution_count": null,
   "source": [
    "StringBuilder sb = new StringBuilder(\"1 2 3 4 6 7 9 10\");\r\n",
    "\r\n",
    "// before inserts\r\n",
    "Console.WriteLine(sb.ToString());\r\n",
    "\r\n",
    "// insert the missing numbers\r\n",
    "sb.Insert(7, \" 5\")\r\n",
    "  .Insert(13, \" 8\");\r\n",
    "\r\n",
    "// after inserts\r\n",
    "Console.WriteLine(sb.ToString());\r\n",
    "\r\n",
    "// after remove\r\n",
    "sb.Remove(4, 12);\r\n",
    "\r\n",
    "Console.WriteLine(sb.ToString());"
   ],
   "outputs": [
    {
     "output_type": "stream",
     "name": "stdout",
     "text": [
      "1 2 3 4 6 7 9 10\r\n",
      "1 2 3 4 5 6 7 8 9 10\r\n",
      "1 2 9 10\r\n"
     ]
    }
   ],
   "metadata": {
    "dotnet_interactive": {
     "language": "csharp"
    }
   }
  },
  {
   "cell_type": "markdown",
   "source": [
    "A last method is `Replace` which can replace a given string by another one, optionally between two indices."
   ],
   "metadata": {}
  },
  {
   "cell_type": "code",
   "execution_count": null,
   "source": [
    "StringBuilder sb = new StringBuilder(\"The quick br!wn d#g jumps #ver the lazy cat.\");\r\n",
    "\r\n",
    "Console.WriteLine(sb.ToString());\r\n",
    "\r\n",
    "sb.Replace(\"#\", \"o\", 15, 29);\r\n",
    "\r\n",
    "Console.WriteLine(sb.ToString());\r\n",
    "\r\n",
    "sb.Replace(\"!\", \"o\");\r\n",
    "\r\n",
    "Console.WriteLine(sb.ToString());\r\n",
    "\r\n",
    "sb.Replace(\"cat\", \"dog\")\r\n",
    "  .Replace(\"dog\", \"fox\", 15, 20);\r\n",
    "\r\n",
    "Console.WriteLine(sb.ToString());"
   ],
   "outputs": [
    {
     "output_type": "stream",
     "name": "stdout",
     "text": [
      "The quick br!wn d#g jumps #ver the lazy cat.\r\n",
      "The quick br!wn dog jumps over the lazy cat.\r\n",
      "The quick brown dog jumps over the lazy cat.\r\n",
      "The quick brown fox jumps over the lazy dog.\r\n"
     ]
    }
   ],
   "metadata": {
    "dotnet_interactive": {
     "language": "csharp"
    }
   }
  },
  {
   "cell_type": "markdown",
   "source": [
    "## Operatoren\n",
    "\n",
    "C# has lots of operators, which act the same as Java:\n",
    "* **Arithmetic operators** that perform arithmetic operations with numeric operands\n",
    "  * +, -, *, /, % (remainder), ++, --\n",
    "* **Assignment operators** that perform an assignment into an operand\n",
    "  * =, +=, -=, *=, /=, ...\n",
    "* **Comparison operators** that compare numeric operands\n",
    "  * <, >, ==, >=, <=, !=\n",
    "* **Boolean logical operators** that perform logical operations with bool operands\n",
    "  * &, |: bitwise AND, OR\n",
    "  * &&, ||: conditional AND, OR\n",
    "  * ^: XOR\n",
    "* **Bitwise and shift operators** that perform bitwise or shift operations with operands of the integral types\n",
    "  * ~: bitwise complement\n",
    "  * << and >>: left and right shift operators\n",
    "  * &, |: bitwise AND, OR\n",
    "  * ^: XOR\n",
    "* **?? operator**\n",
    "  * returns the left operand if not null, otherwise the right operand\n",
    "  * ??= assigns the right operand if the left operand is null\n",
    "* **Null conditional operator**\n",
    "  * test for null before accessing a member\n",
    "\n",
    "It's also possible to overload these operators, this will be discussed later in this course. But you can always take a look at the [documentation](https://docs.microsoft.com/en-us/dotnet/csharp/language-reference/operators/operator-overloading).\n",
    "\n",
    "\n",
    "### Examples for difficult operators"
   ],
   "metadata": {}
  },
  {
   "cell_type": "code",
   "execution_count": null,
   "source": [
    "int? x = null;\r\n",
    "\r\n",
    "// Will assign -1 to y\r\n",
    "int y = x ?? -1;\r\n",
    "\r\n",
    "Console.WriteLine($\"x = {x}, y = {y}\");\r\n",
    "\r\n",
    "int[] numbers = null;\r\n",
    "\r\n",
    "// will be null if numbers is null\r\n",
    "int? length = numbers?.Length;\r\n",
    "\r\n",
    "// null if numbers is null\r\n",
    "int? first = numbers?[0];\r\n",
    "\r\n",
    "Console.WriteLine($\"length = {length}, first = {first}\");"
   ],
   "outputs": [
    {
     "output_type": "stream",
     "name": "stdout",
     "text": [
      "x = , y = -1\r\n",
      "length = , first = \r\n"
     ]
    }
   ],
   "metadata": {
    "dotnet_interactive": {
     "language": "csharp"
    }
   }
  },
  {
   "cell_type": "markdown",
   "source": [
    "## Control statements\n",
    "\n",
    "### Selection statement\n",
    "\n",
    "Like in Java a selection statement can execute some code based on a condition, the code will only be executed if the condition is met.\n",
    "* The `if` statement selects a statement to execute based on the value of a boolean expression\n",
    "* The `switch` statement selects a statement list to execute based on a pattern match with an expression\n",
    "\n",
    "\n",
    "An `if` statement executes its body only when the condition is true:"
   ],
   "metadata": {}
  },
  {
   "cell_type": "code",
   "execution_count": null,
   "source": [
    "int x = 10;\r\n",
    "\r\n",
    "if (x > 0 && x < 11) {\r\n",
    "  Console.WriteLine(\"x is between 1 and 10\");\r\n",
    "}"
   ],
   "outputs": [
    {
     "output_type": "stream",
     "name": "stdout",
     "text": [
      "x is between 1 and 10\r\n"
     ]
    }
   ],
   "metadata": {
    "dotnet_interactive": {
     "language": "csharp"
    }
   }
  },
  {
   "cell_type": "markdown",
   "source": [
    "An `if` statement with an `else` block will execute one of the two:"
   ],
   "metadata": {}
  },
  {
   "cell_type": "code",
   "execution_count": null,
   "source": [
    "int temperature = 20;\r\n",
    "\r\n",
    "if (temperature > 30) {\r\n",
    "  Console.WriteLine(\"It's hot outside\");\r\n",
    "} else {\r\n",
    "  Console.WriteLine(\"It's freezing outside\");\r\n",
    "}"
   ],
   "outputs": [
    {
     "output_type": "stream",
     "name": "stdout",
     "text": [
      "It's freezing outside\r\n"
     ]
    }
   ],
   "metadata": {
    "dotnet_interactive": {
     "language": "csharp"
    }
   }
  },
  {
   "cell_type": "markdown",
   "source": [
    "It's also possible to nest `if` statements:"
   ],
   "metadata": {}
  },
  {
   "cell_type": "code",
   "execution_count": null,
   "source": [
    "int temperature = 20;\r\n",
    "\r\n",
    "if (temperature > 30) {\r\n",
    "  Console.WriteLine(\"It's hot outside\");\r\n",
    "} else if (temperature > 15) {\r\n",
    "  Console.WriteLine(\"It's nice outside\");\r\n",
    "} else {\r\n",
    "  Console.WriteLine(\"It's freezing outside\");\r\n",
    "}"
   ],
   "outputs": [
    {
     "output_type": "stream",
     "name": "stdout",
     "text": [
      "It's nice outside\r\n"
     ]
    }
   ],
   "metadata": {
    "dotnet_interactive": {
     "language": "csharp"
    }
   }
  },
  {
   "cell_type": "markdown",
   "source": [
    "The switch statement selects a statement list to execute based on a pattern match with a match expression:"
   ],
   "metadata": {}
  },
  {
   "cell_type": "code",
   "execution_count": null,
   "source": [
    "void DisplayMeasurement(double measurement)\r\n",
    "{\r\n",
    "  switch (measurement)\r\n",
    "  {\r\n",
    "    case < 0.0:\r\n",
    "      Console.WriteLine($\"Measured value is {measurement}; too low.\");\r\n",
    "      break;\r\n",
    "\r\n",
    "    case > 15.0:\r\n",
    "      Console.WriteLine($\"Measured value is {measurement}; too high.\");\r\n",
    "      break;\r\n",
    "\r\n",
    "    case double.NaN:\r\n",
    "      Console.WriteLine(\"Failed measurement.\");\r\n",
    "      break;\r\n",
    "\r\n",
    "    default:\r\n",
    "      Console.WriteLine($\"Measured value is {measurement}.\");\r\n",
    "      break;\r\n",
    "  }\r\n",
    "}\r\n",
    "\r\n",
    "DisplayMeasurement(-4);  // Measured value is -4; too low.\r\n",
    "DisplayMeasurement(5);  // Measured value is 5.\r\n",
    "DisplayMeasurement(30);  // Measured value is 30; too high.\r\n",
    "DisplayMeasurement(double.NaN);  // Failed measurement."
   ],
   "outputs": [
    {
     "output_type": "stream",
     "name": "stdout",
     "text": [
      "Measured value is -4; too low.\r\n",
      "Measured value is 5.\r\n",
      "Measured value is 30; too high.\r\n",
      "Failed measurement.\r\n"
     ]
    }
   ],
   "metadata": {
    "dotnet_interactive": {
     "language": "csharp"
    }
   }
  },
  {
   "cell_type": "markdown",
   "source": [
    "Notice the use of `break` in every case. If you leave out `break`, the switch statement will execute every statement from the first case-match until the first `break` or until the end of the switch. Try this yourself in the example above.\n",
    "\n",
    "Switches can also have so called case guards, this is an additional condition which must be met in orde to match the case."
   ],
   "metadata": {}
  },
  {
   "cell_type": "code",
   "execution_count": null,
   "source": [
    "void DisplayMeasurements(int a, int b)\r\n",
    "{\r\n",
    "  switch ((a, b))\r\n",
    "  {\r\n",
    "    case (> 0, > 0) when a == b:\r\n",
    "      Console.WriteLine($\"Both measurements are valid and equal to {a}.\");\r\n",
    "      break;\r\n",
    "\r\n",
    "    case (> 0, > 0):\r\n",
    "      Console.WriteLine($\"First measurement is {a}, second measurement is {b}.\");\r\n",
    "      break;\r\n",
    "\r\n",
    "    default:\r\n",
    "      Console.WriteLine(\"One or both measurements are not valid.\");\r\n",
    "      break;\r\n",
    "  }\r\n",
    "}\r\n",
    "\r\n",
    "DisplayMeasurements(3, 4); // First measurement is 3, second measurement is 4.\r\n",
    "DisplayMeasurements(5, 5); // Both measurements are valid and equal to 5."
   ],
   "outputs": [
    {
     "output_type": "stream",
     "name": "stdout",
     "text": [
      "First measurement is 3, second measurement is 4.\r\n",
      "Both measurements are valid and equal to 5.\r\n"
     ]
    }
   ],
   "metadata": {
    "dotnet_interactive": {
     "language": "csharp"
    }
   }
  },
  {
   "cell_type": "markdown",
   "source": [
    "Explore the possibilities of pattern matching in `switch` statements in the [documentation](https://docs.microsoft.com/en-us/dotnet/csharp/language-reference/statements/selection-statements#the-switch-statement)."
   ],
   "metadata": {}
  },
  {
   "cell_type": "markdown",
   "source": [
    "### Iteration statements\n",
    "\n",
    "Iteration statements can execute a block of code several times until a certain condition is met:\n",
    "* The `for` statement executes its body while a specified Boolean expression evaluates to true.\n",
    "* The `foreach` statement enumerates the elements of a collection and executes its body for each element of the collection.\n",
    "* The `do` statement conditionally executes its body one or more times.\n",
    "* The `while` statement conditionally executes its body zero or more times.\n",
    "\n",
    "#### Examples\n",
    "\n",
    "Predict what the output of the following examples will be, run the code to check your answer."
   ],
   "metadata": {}
  },
  {
   "cell_type": "code",
   "execution_count": null,
   "source": [
    "int i = 2;\r\n",
    "\r\n",
    "while (i <= 100) {\r\n",
    "  i *= 2;\r\n",
    "  Console.WriteLine(i);\r\n",
    "}"
   ],
   "outputs": [
    {
     "output_type": "stream",
     "name": "stdout",
     "text": [
      "4\r\n",
      "8\r\n",
      "16\r\n",
      "32\r\n",
      "64\r\n",
      "128\r\n"
     ]
    }
   ],
   "metadata": {
    "dotnet_interactive": {
     "language": "csharp"
    }
   }
  },
  {
   "cell_type": "code",
   "execution_count": null,
   "source": [
    "int i = 2;\r\n",
    "\r\n",
    "do {\r\n",
    "  i *= 2;\r\n",
    "  Console.WriteLine(i);\r\n",
    "} while (i <= 100); // notice the semicolon"
   ],
   "outputs": [
    {
     "output_type": "stream",
     "name": "stdout",
     "text": [
      "4\r\n",
      "8\r\n",
      "16\r\n",
      "32\r\n",
      "64\r\n",
      "128\r\n"
     ]
    }
   ],
   "metadata": {
    "dotnet_interactive": {
     "language": "csharp"
    }
   }
  },
  {
   "cell_type": "code",
   "execution_count": null,
   "source": [
    "for (int i = 0; i < 10; i++) {\n",
    "  Console.WriteLine(i);\n",
    "}"
   ],
   "outputs": [
    {
     "output_type": "stream",
     "name": "stdout",
     "text": [
      "0\r\n",
      "1\r\n",
      "2\r\n",
      "3\r\n",
      "4\r\n",
      "5\r\n",
      "6\r\n",
      "7\r\n",
      "8\r\n",
      "9\r\n"
     ]
    }
   ],
   "metadata": {
    "dotnet_interactive": {
     "language": "csharp"
    }
   }
  },
  {
   "cell_type": "code",
   "execution_count": null,
   "source": [
    "int[] fibonacci = { 0, 1, 1, 2, 3, 5, 8, 13, 21, 34 };\n",
    "\n",
    "foreach (int element in fibonacci) {\n",
    "  Console.WriteLine(element);\n",
    "}"
   ],
   "outputs": [
    {
     "output_type": "stream",
     "name": "stdout",
     "text": [
      "0\r\n",
      "1\r\n",
      "1\r\n",
      "2\r\n",
      "3\r\n",
      "5\r\n",
      "8\r\n",
      "13\r\n",
      "21\r\n",
      "34\r\n"
     ]
    }
   ],
   "metadata": {
    "dotnet_interactive": {
     "language": "csharp"
    }
   }
  },
  {
   "cell_type": "code",
   "execution_count": null,
   "source": [
    "int[] ages = { 12, 2, 58, 46, 30 };\n",
    "\n",
    "foreach (int age in ages) {\n",
    "  if (age == 46) break; // leave the iteration\n",
    "  if (age == 2) continue; // go to the next iteration\n",
    "  Console.WriteLine(age);\n",
    "}"
   ],
   "outputs": [
    {
     "output_type": "stream",
     "name": "stdout",
     "text": [
      "12\r\n",
      "58\r\n"
     ]
    }
   ],
   "metadata": {
    "dotnet_interactive": {
     "language": "csharp"
    }
   }
  },
  {
   "cell_type": "markdown",
   "source": [
    "### Exercises\n",
    "\n",
    "1. Complete the following function which returns if a number is Oddish or Evenish. A number is Oddish if the sum of all of its digits is odd, and a number is Evenish if the sum of all of its digits is even. If a number is Oddish, return \"Oddish\". Otherwise, return \"Evenish\"."
   ],
   "metadata": {}
  },
  {
   "cell_type": "code",
   "execution_count": null,
   "source": [
    "string OddishOrEvenish(int number) {\n",
    "  // TODO: complete the function\n",
    "  return null;\n",
    "}\n",
    "\n",
    "Console.WriteLine(OddishOrEvenish(43)); // \"Oddish\"\n",
    "// 4 + 3 = 7\n",
    "// 7 % 2 = 1\n",
    "\n",
    "Console.WriteLine(OddishOrEvenish(373)); // \"Oddish\"\n",
    "// 3 + 7 + 3 = 13\n",
    "// 13 % 2 = 1\n",
    "\n",
    "Console.WriteLine(OddishOrEvenish(4433)); // \"Evenish\"\n",
    "// 4 + 4 + 3 + 3 = 14\n",
    "// 14 % 2 = 0"
   ],
   "outputs": [
    {
     "output_type": "stream",
     "name": "stdout",
     "text": [
      "\r\n",
      "\r\n",
      "\r\n"
     ]
    }
   ],
   "metadata": {
    "dotnet_interactive": {
     "language": "csharp"
    }
   }
  },
  {
   "cell_type": "markdown",
   "source": [
    "2. Complete the following function which takes an integer array and returns the biggest between positive sum, negative sum, or 0s count. The major is understood as the greatest absolute.\n",
    "\n",
    "arr = {1,2,3,4,0,0,-3,-2}, the function has to return 10, because:\n",
    "\n",
    "* Positive sum = 1+2+3+4 = 10\n",
    "* Negative sum = (-3)+(-2) = -5\n",
    "* 0s count = 2 (there are two zeros in array)"
   ],
   "metadata": {}
  },
  {
   "cell_type": "code",
   "execution_count": null,
   "source": [
    "int MajorSum(int[] numbers) {\n",
    "  // TODO: complete the function\n",
    "  return 0;\n",
    "}\n",
    "\n",
    "Console.WriteLine(MajorSum(new int[] { 1, 2, 3, 4, 0, 0, -3, -2 })); // 10\n",
    "\n",
    "Console.WriteLine(MajorSum(new int[] { -4, -8, -12, -3, 4, 7, 1, 3, 0, 0, 0, 0 })); // -27\n",
    "\n",
    "Console.WriteLine(MajorSum(new int[] { 0, 0, 0, 0, 0, 1, 2, -3 })); // 5\n",
    "// Because -3 < 1+2 < 0sCount = 5"
   ],
   "outputs": [],
   "metadata": {
    "dotnet_interactive": {
     "language": "csharp"
    }
   }
  },
  {
   "cell_type": "markdown",
   "source": [
    "## Arrays\n",
    "\n",
    "Arrays can be single- or multi-dimensional. Single-dimensional arrays contain only one row of elements, multi-dimensional arrays contain multiple rows of elements.\n",
    "\n",
    "### Single-dimensional"
   ],
   "metadata": {}
  },
  {
   "cell_type": "code",
   "execution_count": null,
   "source": [
    "int[] a; // declares an array of integers\n",
    "int[] b = new int[3]; // declares and initializes a new array of 3 integers\n",
    "int[] c = new int[3] { 3, 4, 5 }; // initializes c with the integers 3, 4 and 5\n",
    "int[] d = { 3, 4, 5 }; // identical to c\n",
    "int[] e;\n",
    "e = new int[3];\n",
    "\n",
    "Console.WriteLine($\"a = {a}\");\n",
    "Console.WriteLine($\"b = {b}\");\n",
    "Console.WriteLine($\"c = {c}\");\n",
    "Console.WriteLine($\"d = {d}\");\n",
    "Console.WriteLine($\"e = {e}\");"
   ],
   "outputs": [
    {
     "output_type": "stream",
     "name": "stdout",
     "text": [
      "a = \r\n",
      "b = System.Int32[]\r\n",
      "c = System.Int32[]\r\n",
      "d = System.Int32[]\r\n",
      "e = System.Int32[]\r\n"
     ]
    }
   ],
   "metadata": {
    "dotnet_interactive": {
     "language": "csharp"
    }
   }
  },
  {
   "cell_type": "markdown",
   "source": [
    "3. Complete the following function which takes a string, checks if it has the same number of x's and o's and returns either true or false:\n",
    "\n",
    "* Return `true` if the amount of x's and o's are the same.\n",
    "* Return `false` if they aren't the same amount.\n",
    "* The string can contain any character.\n",
    "* When \"x\" and \"o\" are not in the string, return `true`."
   ],
   "metadata": {}
  },
  {
   "cell_type": "code",
   "execution_count": null,
   "source": [
    "bool XO(string str) {\n",
    "  return true;\n",
    "}\n",
    "\n",
    "Console.WriteLine(XO(\"ooxx\")); // True\n",
    "\n",
    "Console.WriteLine(XO(\"xooxx\")); // False\n",
    "\n",
    "Console.WriteLine(XO(\"ooxXm\")); // True\n",
    "// Case insensitive.\n",
    "\n",
    "Console.WriteLine(XO(\"zpzpzpp\")); // True\n",
    "// Returns true if no x and o.\n",
    "\n",
    "Console.WriteLine(XO(\"zzoo\")); // False"
   ],
   "outputs": [
    {
     "output_type": "stream",
     "name": "stdout",
     "text": [
      "True\r\n",
      "True\r\n",
      "True\r\n",
      "True\r\n",
      "True\r\n"
     ]
    }
   ],
   "metadata": {
    "dotnet_interactive": {
     "language": "csharp"
    }
   }
  },
  {
   "cell_type": "markdown",
   "source": [
    "### Multi-dimensional\n",
    "\n",
    "Multi-dimensional arrays can be\n",
    "* rectanguler: every row has the same number of columns\n",
    "* jagged: rows can have differnt numbers of columns"
   ],
   "metadata": {}
  },
  {
   "cell_type": "code",
   "execution_count": null,
   "source": [
    "// Rectangular\n",
    "int[,] a = new int[2, 3]; // two rows, three columns\n",
    "int x = a[0, 1];\n",
    "\n",
    "// Jagged\n",
    "int[][] b = new int[2][]; // two rows, unknown number of columns\n",
    "b[0] = new int[3]; // 3 columns in the first row\n",
    "b[1] = new int[5]; // 5 columns in the second row"
   ],
   "outputs": [],
   "metadata": {
    "dotnet_interactive": {
     "language": "csharp"
    }
   }
  },
  {
   "cell_type": "markdown",
   "source": [
    "Some operations on arrays:\n",
    "* `Length`: number of elements\n",
    "* `GetLength(n)`: number of elements in dimension n\n",
    "* `Array.Copy(b, a, 2)`: copies b[0..1] to a\n",
    "* `Array.Sort(b)`: sorts b in ascending order"
   ],
   "metadata": {}
  },
  {
   "cell_type": "markdown",
   "source": [
    "### Exercises\n",
    "\n",
    "1. Complete the follwing function which takes an array of positive and negative numbers. Return an array where the first element is the count of positive numbers and the second element is the sum of negative numbers."
   ],
   "metadata": {}
  },
  {
   "cell_type": "code",
   "execution_count": null,
   "source": [
    "int[] CountPosSumNeg(int[] numbers) {\n",
    "  // TODO: complete the function\n",
    "  return new int[] { 0, 0 };\n",
    "}\n",
    "\n",
    "string IntArrayToString(int[] numbers) {\n",
    "  return new StringBuilder(\"[\")\n",
    "    .Append(string.Join(\", \", numbers))\n",
    "    .Append(\"]\")\n",
    "    .ToString();\n",
    "}\n",
    "\n",
    "Console.WriteLine(IntArrayToString(CountPosSumNeg(new int[] { 1, 2, 3, 4, 5, 6, 7, 8, 9, 10, -11, -12, -13, -14, -15 }))); // [10, -65]\n",
    "// There are a total of 10 positive numbers.\n",
    "// The sum of all negative numbers equals -65.\n",
    "\n",
    "Console.WriteLine(IntArrayToString(CountPosSumNeg(new int[] { 92, 6, 73, -77, 81, -90, 99, 8, -85, 34 }))); // [7, -252]\n",
    "\n",
    "Console.WriteLine(IntArrayToString(CountPosSumNeg(new int[] { 91, -4, 80, -73, -28 }))); // [2, -105]\n",
    "\n",
    "Console.WriteLine(IntArrayToString(CountPosSumNeg(new int[] {}))); // []"
   ],
   "outputs": [
    {
     "output_type": "stream",
     "name": "stdout",
     "text": [
      "[0, 0]\r\n",
      "[0, 0]\r\n",
      "[0, 0]\r\n",
      "[0, 0]\r\n"
     ]
    }
   ],
   "metadata": {
    "dotnet_interactive": {
     "language": "csharp"
    }
   }
  },
  {
   "cell_type": "markdown",
   "source": [
    "2. Complete the following function which takes an array of integers (positive or negative or both) and returns the sum of the absolute value of each element."
   ],
   "metadata": {}
  },
  {
   "cell_type": "code",
   "execution_count": null,
   "source": [
    "int GetAbsSum(int[] numbers) {\n",
    "  // TODO: complete the function\n",
    "  return 0;\n",
    "}\n",
    "\n",
    "Console.WriteLine(GetAbsSum(new int[] { 2, -1, 4, 8, 10 })); // 25\n",
    "\n",
    "Console.WriteLine(GetAbsSum(new int[] { -3, -4, -10, -2, -3 })); // 22\n",
    "\n",
    "Console.WriteLine(GetAbsSum(new int[] { 2, 4, 6, 8, 10 })); // 30\n",
    "\n",
    "Console.WriteLine(GetAbsSum(new int[] { -1 })); // 1"
   ],
   "outputs": [
    {
     "output_type": "stream",
     "name": "stdout",
     "text": [
      "0\r\n",
      "0\r\n",
      "0\r\n",
      "0\r\n"
     ]
    }
   ],
   "metadata": {
    "dotnet_interactive": {
     "language": "csharp"
    }
   }
  },
  {
   "cell_type": "markdown",
   "source": [
    "3. Complete the following function which takes two numbers as arguments (num, length) and returns an array of multiples of num until the array length reaches length."
   ],
   "metadata": {}
  },
  {
   "cell_type": "code",
   "execution_count": null,
   "source": [
    "int[] ArrayOfMultiples(int num, int length) {\n",
    "  return new int[] { };\n",
    "}\n",
    "\n",
    "Console.WriteLine(IntArrayToString(ArrayOfMultiples(7, 5))); // [7, 14, 21, 28, 35]\n",
    "\n",
    "Console.WriteLine(IntArrayToString(ArrayOfMultiples(12, 10))); // [12, 24, 36, 48, 60, 72, 84, 96, 108, 120]\n",
    "\n",
    "Console.WriteLine(IntArrayToString(ArrayOfMultiples(17, 6))); // [17, 34, 51, 68, 85, 102]"
   ],
   "outputs": [
    {
     "output_type": "stream",
     "name": "stdout",
     "text": [
      "[]\r\n",
      "[]\r\n",
      "[]\r\n"
     ]
    }
   ],
   "metadata": {
    "dotnet_interactive": {
     "language": "csharp"
    }
   }
  },
  {
   "cell_type": "markdown",
   "source": [
    "4. Given a number, complete the following function which returns a new number based on the following rules:\n",
    "\n",
    "* For each digit, replace it by the number of times it appears in the number.\n",
    "* The final instance of the number will be an integer, not a string.\n",
    "\n",
    "Hint: use an array which counts the appearances of each digit from 0 to 9."
   ],
   "metadata": {}
  },
  {
   "cell_type": "code",
   "execution_count": null,
   "source": [
    "int DigitCount(int number) {\n",
    "  // TODO: complete the function\n",
    "  return 0;\n",
    "}\n",
    "\n",
    "Console.WriteLine(DigitCount(136116)); // 312332\n",
    "// The number 1 appears thrice, so replace all 1s with 3s.\n",
    "// The number 3 appears only once, so replace all 3s with 1s.\n",
    "// The number 6 appears twice, so replace all 6s with 2s.\n",
    "\n",
    "Console.WriteLine(DigitCount(221333)); // 221333\n",
    "\n",
    "Console.WriteLine(DigitCount(136116)); // 312332\n",
    "\n",
    "Console.WriteLine(DigitCount(2)); // 1"
   ],
   "outputs": [
    {
     "output_type": "stream",
     "name": "stdout",
     "text": [
      "0\r\n",
      "0\r\n",
      "0\r\n",
      "0\r\n"
     ]
    }
   ],
   "metadata": {
    "dotnet_interactive": {
     "language": "csharp"
    }
   }
  },
  {
   "cell_type": "markdown",
   "source": [
    "5. Complete the following function which takes the width, height and character and returns a picture frame as an array of strings (string[]). Some rules:\n",
    "\n",
    "* Remember the gap.\n",
    "* Return `[\"invalid\"]` if width or height is less than 3 (can't put anything inside)."
   ],
   "metadata": {}
  },
  {
   "cell_type": "code",
   "execution_count": null,
   "source": [
    "string[] GetFrame(int width, int height, char kar) {\n",
    "  // TODO: complete the function\n",
    "  return new string[] { };\n",
    "}\n",
    "\n",
    "Console.WriteLine(string.Join(\"\\n\", GetFrame(4, 5, '#')));\n",
    "// ####\n",
    "// #  #\n",
    "// #  #\n",
    "// #  #\n",
    "// ####\n",
    "\n",
    "Console.WriteLine(string.Join(\"\\n\", GetFrame(10, 3, '*')));\n",
    "// **********\n",
    "// *        *\n",
    "// **********\n",
    "\n",
    "\n",
    "Console.WriteLine(string.Join(\"\\n\", GetFrame(2, 5, '0'))); // invalid"
   ],
   "outputs": [
    {
     "output_type": "stream",
     "name": "stdout",
     "text": [
      "\r\n",
      "\r\n",
      "\r\n"
     ]
    }
   ],
   "metadata": {
    "dotnet_interactive": {
     "language": "csharp"
    }
   }
  },
  {
   "cell_type": "markdown",
   "source": [
    "## Exceptions\n",
    "\n",
    "An exception indicates an unexpected problem at runtime. The program will stop without proper handling of the error. By defining exception classes, one can handle the errors in a structured way. Errors are objects which can be thrown and caught, and contain information about the error that occured (message, stack trace, preceding errors...). De `Exception` class and its subclasses have a hierachical structure, you can extend this class (and its subclasses) to write own exception classes.\n",
    "\n",
    "It's **your job** to catch and handle errors. An uncaught exception should send the user to an error page displaying somewhat useful information. You should always log your errors, these logs are a treasure when debugging.\n",
    "\n",
    "The `System.Exception` class contains the following properties:\n",
    "* `Message`: specific message giving more information\n",
    "  * Default message is associated with the exception type\n",
    "  * Customized message should be passed to the constructor\n",
    "* `Source`: name of the application or object which caused the exception\n",
    "* `TargetSite`: name of the method which caused the exception\n",
    "* `StackTrace`: a sequential list of methods which did not return at the moment the exception was thrown\n",
    "* `InnerException`: previous exception (that caused this one)\n",
    "* `HelpLink`: link to the Help file associated with the error\n",
    "* `ToString`: returns a string with the exception's name , the message, the inner exception's name and the strack trace\n",
    "\n",
    "Throwing an exception can be explicit or implicit:\n",
    "* implicit: caused by invalid operations:\n",
    "  * dividing by zero\n",
    "  * array access with invalid index\n",
    "  * member access on a null reference\n",
    "  * ...\n",
    "* expliciet: thrown by the developer\n",
    "\n",
    "When should you throw errors? Two possible scenarios:\n",
    "* only in exceptional cases, maybe use default values instead\n",
    "* whenever the desired behavior can't be executed:\n",
    "  * wrong input values (throw an `ArgumentException`)\n",
    "  * something doesn't work and you can't fix it (e.g. database connection failed)\n",
    "\n",
    "Throwing exceptions is easy:"
   ],
   "metadata": {}
  },
  {
   "cell_type": "code",
   "execution_count": null,
   "source": [
    "int CalculateAverage(int total, int count) {\n",
    "  if (count <= 0)\n",
    "    throw new ArgumentException(\"Count must be greater than zero\");\n",
    "\n",
    "  return total / count;\n",
    "}\n",
    "\n",
    "Console.WriteLine(CalculateAverage(100, 5));\n",
    "Console.WriteLine(CalculateAverage(35, 0));"
   ],
   "outputs": [
    {
     "output_type": "stream",
     "name": "stdout",
     "text": [
      "20\r\n"
     ]
    },
    {
     "output_type": "error",
     "ename": "Error",
     "evalue": "System.ArgumentException: Count must be greater than zero\r\n   at Submission#281.CalculateAverage(Int32 total, Int32 count)\r\n   at Submission#281.<<Initialize>>d__0.MoveNext()\r\n--- End of stack trace from previous location ---\r\n   at Microsoft.CodeAnalysis.Scripting.ScriptExecutionState.RunSubmissionsAsync[TResult](ImmutableArray`1 precedingExecutors, Func`2 currentExecutor, StrongBox`1 exceptionHolderOpt, Func`2 catchExceptionOpt, CancellationToken cancellationToken)",
     "traceback": [
      "System.ArgumentException: Count must be greater than zero\r\n",
      "   at Submission#281.CalculateAverage(Int32 total, Int32 count)\r\n",
      "   at Submission#281.<<Initialize>>d__0.MoveNext()\r\n",
      "--- End of stack trace from previous location ---\r\n",
      "   at Microsoft.CodeAnalysis.Scripting.ScriptExecutionState.RunSubmissionsAsync[TResult](ImmutableArray`1 precedingExecutors, Func`2 currentExecutor, StrongBox`1 exceptionHolderOpt, Func`2 catchExceptionOpt, CancellationToken cancellationToken)"
     ]
    }
   ],
   "metadata": {
    "dotnet_interactive": {
     "language": "csharp"
    }
   }
  },
  {
   "cell_type": "markdown",
   "source": [
    "Catching exceptions is done with `try`/`catch` blocks. Catching exceptions is crucial, but only if you can handle the error. .NET contains a bunch of predefined exception classes, inheriting from `System.Exception`. When handling exceptions, you can catch different exceptions in seperate `catch` blocks. The order of `catch` blocks is important: the first matching `catch` block is executed. Matching is done by the 'is a'-rule of inheritance.\n",
    "\n",
    "When you nest `try`/`catch` blocks, the error will bubble up until one `catch` block handles the error or it reaches the top level of the program. In the later case, the runtime will handle the exception and the programm will crash.\n",
    "\n",
    "A `try`/`catch` block is used as follows:"
   ],
   "metadata": {}
  },
  {
   "cell_type": "code",
   "execution_count": null,
   "source": [
    "try {\n",
    "  Console.WriteLine(CalculateAverage(35, 0));\n",
    "} catch (ArgumentException ex) {\n",
    "  Console.WriteLine($\"An error occured: {ex.Message}\");\n",
    "}"
   ],
   "outputs": [
    {
     "output_type": "stream",
     "name": "stdout",
     "text": [
      "An error occured: Count must be greater than zero\r\n"
     ]
    }
   ],
   "metadata": {
    "dotnet_interactive": {
     "language": "csharp"
    }
   }
  },
  {
   "cell_type": "markdown",
   "source": [
    "You can optionally add a finally block after the catch. This block contains code that must always be executed, no matter if an exception occured or not. It can be used to close database connections, file handles..."
   ],
   "metadata": {}
  },
  {
   "cell_type": "code",
   "execution_count": null,
   "source": [
    "try {\n",
    "  Console.WriteLine(CalculateAverage(35, 0));\n",
    "} catch (ArgumentException ex) {\n",
    "  Console.WriteLine($\"An error occured: {ex.Message}\");\n",
    "} finally {\n",
    "  Console.WriteLine(\"I'm always executed\");\n",
    "}\n",
    "\n",
    "try {\n",
    "  Console.WriteLine(CalculateAverage(100, 5));\n",
    "} catch (ArgumentException ex) {\n",
    "  Console.WriteLine($\"An error occured: {ex.Message}\");\n",
    "} finally {\n",
    "  Console.WriteLine(\"I'm always executed, also if no exception occured\");\n",
    "}"
   ],
   "outputs": [
    {
     "output_type": "stream",
     "name": "stdout",
     "text": [
      "An error occured: Count must be greater than zero\r\n",
      "I'm always executed\r\n",
      "20\r\n",
      "I'm always executed, also if no exception occured\r\n"
     ]
    }
   ],
   "metadata": {
    "dotnet_interactive": {
     "language": "csharp"
    }
   }
  },
  {
   "cell_type": "markdown",
   "source": [
    "Some tips for exception handling:\n",
    "* design code with exception handling\n",
    "* when catching exceptions: always catch the most specific error, not simply `Exception`\n",
    "  * this rule also applies for throwing errors\n",
    "* never create an empty `catch` block\n",
    "* pass useful error messages to the user, so he knows what to do\n",
    "* use .NET exception as much as possible, if you throw custom exceptions, pass an `InnerException` (which is a .NET exception)\n",
    "* don't forget the `finally` block if needed, clean up your shit (`using` can be a good alternative)\n",
    "  * DIY: [`using` documentation](https://docs.microsoft.com/en-us/dotnet/csharp/language-reference/keywords/using-statement)\n",
    "\n",
    "Some developers think they should catch all exceptions, not true! Two golden rules:\n",
    "* handle exceptions if you really can handle it\n",
    "* most exceptions can't be handled and should be returned to the end user\n",
    "\n",
    "How custom exceptions are created will be covered in the next chapter.\n",
    "\n",
    "It's also possible to add filters to `catch` blocks:\n",
    "\n",
    "```cs\n",
    "try {\n",
    "  DoSomethingThatMightFail(null);\n",
    "} catch (MyException ex) when (ex.Code == 42) {\n",
    "  Console.WriteLine(\"Error 42 occured);\n",
    "}\n",
    "```"
   ],
   "metadata": {}
  }
 ],
 "metadata": {
  "kernelspec": {
   "display_name": ".NET (C#)",
   "language": "C#",
   "name": ".net-csharp"
  },
  "language_info": {
   "file_extension": ".cs",
   "mimetype": "text/x-csharp",
   "name": "C#",
   "pygments_lexer": "csharp",
   "version": "9.0"
  },
  "orig_nbformat": 2
 },
 "nbformat": 4,
 "nbformat_minor": 2
}