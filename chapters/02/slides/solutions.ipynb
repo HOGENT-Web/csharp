{
 "cells": [
  {
   "cell_type": "markdown",
   "source": [
    "> Enterprise Web C#\n",
    "\n",
    "# Chapter 2 - See sharp with C#\n",
    "\n",
    "## Exercises\n",
    "\n",
    "### Strings\n",
    "\n",
    "1. Complete the following function which returns the string \"something\" joined with a space \" \" and the given argument `a`."
   ],
   "metadata": {}
  },
  {
   "cell_type": "code",
   "execution_count": null,
   "source": [
    "string GiveMeSomething(string a) {\n",
    "  // return \"something \" + a;\n",
    "  return $\"something {a}\";\n",
    "}\n",
    "\n",
    "Console.WriteLine(GiveMeSomething(\"is better than nothing\")); // Output: something is better than nothing\n",
    "Console.WriteLine(GiveMeSomething(\"Bob Jane\")); // Output: something Bob Jane\n",
    "Console.WriteLine(GiveMeSomething(\"something\")); // Output: something something"
   ],
   "outputs": [
    {
     "output_type": "stream",
     "name": "stdout",
     "text": [
      "something is better than nothing\r\n",
      "something Bob Jane\r\n",
      "something something\r\n"
     ]
    }
   ],
   "metadata": {
    "dotnet_interactive": {
     "language": "csharp"
    }
   }
  },
  {
   "cell_type": "markdown",
   "source": [
    "2. Complete the following function. It should greet users. However the developer who wrote this function is in love with **Mubashir** and would like to greet him slightly different.\r\n",
    "\r\n",
    "Hint: `if` works the same as Java, even `==` works with strings!"
   ],
   "metadata": {}
  },
  {
   "cell_type": "code",
   "execution_count": null,
   "source": [
    "string Greet(string name) {\n",
    "  if (name == \"Mubashir\") return \"Hello, my Love!\";\n",
    "  return $\"Hello, {name}!\";\n",
    "}\n",
    "\n",
    "Console.WriteLine(Greet(\"Matt\")); // Output: Hello, Matt!\n",
    "Console.WriteLine(Greet(\"Helen\")); // Output: Hello, Helen!\n",
    "Console.WriteLine(Greet(\"Mubashir\")); // Output: Hello, my Love!"
   ],
   "outputs": [
    {
     "output_type": "stream",
     "name": "stdout",
     "text": [
      "Hello, Matt!\r\n",
      "Hello, Helen!\r\n",
      "Hello, my Love!\r\n"
     ]
    }
   ],
   "metadata": {
    "dotnet_interactive": {
     "language": "csharp"
    }
   }
  },
  {
   "cell_type": "markdown",
   "source": [
    "3. Complete the following function which returns `true` if the given string is empty. A string containing only whitespaces does **not** count as empty."
   ],
   "metadata": {}
  },
  {
   "cell_type": "code",
   "execution_count": null,
   "source": [
    "bool IsEmpty(string str) {\n",
    "  return string.IsNullOrEmpty(str);\n",
    "}\n",
    "\n",
    "Console.WriteLine(IsEmpty(\"\")); // Output: True\n",
    "Console.WriteLine(IsEmpty(\" \")); // Output: False\n",
    "Console.WriteLine(IsEmpty(\"a\")); // Output: False"
   ],
   "outputs": [
    {
     "output_type": "stream",
     "name": "stdout",
     "text": [
      "True\r\n",
      "False\r\n",
      "False\r\n"
     ]
    }
   ],
   "metadata": {
    "dotnet_interactive": {
     "language": "csharp"
    }
   }
  },
  {
   "cell_type": "markdown",
   "source": [
    "4. Complete the following function which compares two given strings by length. It should return `true` if both strings have the **same length**."
   ],
   "metadata": {}
  },
  {
   "cell_type": "markdown",
   "source": [
    "5. Complete the following function that takes two numbers and a mathematical operator and returns the result."
   ],
   "metadata": {}
  },
  {
   "cell_type": "code",
   "execution_count": null,
   "source": [
    "int? Calculate(int num1, int num2, string operation) {\n",
    "  if (operation == \"+\") return num1 + num2;\n",
    "  if (operation == \"-\") return num1 - num2;\n",
    "  if (operation == \"*\") return num1 * num2;\n",
    "  if (operation == \"%\") return num1 % num2;\n",
    "  if (operation == \"/\") return num1 / num2;\n",
    "  return null;\n",
    "}\n",
    "\n",
    "Console.WriteLine(Calculate(4, 9, \"+\")); // Output: 13\n",
    "Console.WriteLine(Calculate(12, 5, \"-\")); // Output: 7\n",
    "Console.WriteLine(Calculate(6, 3, \"*\")); // Output: 18\n",
    "Console.WriteLine(Calculate(14, 3, \"%\")); // Output: 2\n",
    "Console.WriteLine(Calculate(6, 3, \"/\")); // Output: 2\n",
    "Console.WriteLine(\"this should show nothing -> \" + Calculate(6, 3, \"invalid\")); // Output: null (won't show in output)"
   ],
   "outputs": [
    {
     "output_type": "stream",
     "name": "stdout",
     "text": [
      "13\r\n",
      "7\r\n",
      "18\r\n",
      "2\r\n",
      "2\r\n",
      "this should show nothing -> \r\n"
     ]
    }
   ],
   "metadata": {
    "dotnet_interactive": {
     "language": "csharp"
    }
   }
  },
  {
   "cell_type": "markdown",
   "source": [
    "<br />"
   ],
   "metadata": {}
  },
  {
   "cell_type": "markdown",
   "source": [
    "### Date and Time\n",
    "\n",
    "1. Complete the following function. The function takes a `DateTime` as argument and returns the date a week after."
   ],
   "metadata": {}
  },
  {
   "cell_type": "code",
   "execution_count": null,
   "source": [
    "DateTime WeekAfter(DateTime date) {\n",
    "  return date + new TimeSpan(7, 0, 0, 0); // 7 days, 0 hours, 0 minutes, 0 seconds\n",
    "}\n",
    "\n",
    "Console.WriteLine(WeekAfter(new DateTime(2020, 3, 12))); // Output: 19/03/2020 0:00:00\n",
    "\n",
    "Console.WriteLine(WeekAfter(new DateTime(1989, 12, 21))); // Output: 28/12/1989 0:00:00\n",
    "\n",
    "Console.WriteLine(WeekAfter(new DateTime(2000, 1, 1))); // Output: 08/01/2000 0:00:00"
   ],
   "outputs": [
    {
     "output_type": "stream",
     "name": "stdout",
     "text": [
      "19/03/2020 0:00:00\r\n",
      "28/12/1989 0:00:00\r\n",
      "8/01/2000 0:00:00\r\n"
     ]
    }
   ],
   "metadata": {
    "dotnet_interactive": {
     "language": "csharp"
    }
   }
  },
  {
   "cell_type": "markdown",
   "source": [
    "2. Complete the following function. The function takes a `DateTime` as argument and returns `true` if it's Christmas Eve (December 24th), otherwise `false`."
   ],
   "metadata": {}
  },
  {
   "cell_type": "code",
   "execution_count": null,
   "source": [
    "bool IsChristmasEve(DateTime date) {\n",
    "  return date.Day == 24 && date.Month == 12;\n",
    "}\n",
    "\n",
    "Console.WriteLine(IsChristmasEve(new DateTime(2013, 12, 24))); // Output: True\n",
    "Console.WriteLine(IsChristmasEve(new DateTime(2013, 2, 28))); // Output: False\n",
    "Console.WriteLine(IsChristmasEve(new DateTime(3000, 12, 24))); // Output: True"
   ],
   "outputs": [
    {
     "output_type": "stream",
     "name": "stdout",
     "text": [
      "True\r\n",
      "False\r\n",
      "True\r\n"
     ]
    }
   ],
   "metadata": {
    "dotnet_interactive": {
     "language": "csharp"
    }
   }
  },
  {
   "cell_type": "markdown",
   "source": [
    "3. Complete the following function which takes the month and years and returns the number of days in that month.\n",
    "\n",
    "Hint: There might be a helper method for this in the [documentation](https://docs.microsoft.com/en-us/dotnet/api/system.datetime?view=net-5.0#methods)."
   ],
   "metadata": {}
  },
  {
   "cell_type": "code",
   "execution_count": null,
   "source": [
    "\n",
    "int Days(int month, int year) {\n",
    "  return DateTime.DaysInMonth(year, month);\n",
    "}\n",
    "\n",
    "Console.WriteLine(Days(2, 2018)); // Output: 28\n",
    "Console.WriteLine(Days(4, 654)); // Output: 30\n",
    "Console.WriteLine(Days(2, 1996)); // Output: 29\n",
    "Console.WriteLine(Days(7, 2021)); // Output: 31"
   ],
   "outputs": [
    {
     "output_type": "stream",
     "name": "stdout",
     "text": [
      "28\r\n",
      "30\r\n",
      "29\r\n",
      "31\r\n"
     ]
    }
   ],
   "metadata": {
    "dotnet_interactive": {
     "language": "csharp"
    }
   }
  },
  {
   "cell_type": "markdown",
   "source": [
    "<br />"
   ],
   "metadata": {}
  },
  {
   "cell_type": "markdown",
   "source": [
    "### Control statements\n",
    "\n",
    "1. Complete the following function which returns if a number is Oddish or Evenish. A number is Oddish if the sum of all of its digits is odd, and a number is Evenish if the sum of all of its digits is even. If a number is Oddish, return \"Oddish\". Otherwise, return \"Evenish\"."
   ],
   "metadata": {}
  },
  {
   "cell_type": "code",
   "execution_count": null,
   "source": [
    "string OddishOrEvenish(int number) {\n",
    "  int sum = 0;\n",
    "  while (number > 0) {\n",
    "    sum += number % 10;\n",
    "    number /= 10;\n",
    "  }\n",
    "  return sum % 2 == 0 ? \"Evenish\" : \"Oddish\";\n",
    "}\n",
    "\n",
    "Console.WriteLine(OddishOrEvenish(43)); // Output: Oddish\n",
    "// 4 + 3 = 7\n",
    "// 7 % 2 = 1\n",
    "\n",
    "Console.WriteLine(OddishOrEvenish(373)); // Output: Oddish\n",
    "// 3 + 7 + 3 = 13\n",
    "// 13 % 2 = 1\n",
    "\n",
    "Console.WriteLine(OddishOrEvenish(4433)); // Output: Evenish\n",
    "// 4 + 4 + 3 + 3 = 14\n",
    "// 14 % 2 = 0"
   ],
   "outputs": [
    {
     "output_type": "stream",
     "name": "stdout",
     "text": [
      "Oddish\r\n",
      "Oddish\r\n",
      "Evenish\r\n"
     ]
    }
   ],
   "metadata": {
    "dotnet_interactive": {
     "language": "csharp"
    }
   }
  },
  {
   "cell_type": "markdown",
   "source": [
    "2. Complete the following function which takes an integer array and returns the biggest between positive sum, negative sum, or 0s count. The major is understood as the greatest absolute.\n",
    "\n",
    "arr = {1,2,3,4,0,0,-3,-2}, the function has to return 10, because:\n",
    "\n",
    "* Positive sum = 1+2+3+4 = 10\n",
    "* Negative sum = (-3)+(-2) = -5\n",
    "* 0s count = 2 (there are two zeros in array)"
   ],
   "metadata": {}
  },
  {
   "cell_type": "code",
   "execution_count": null,
   "source": [
    "int MajorSum(int[] numbers) {\n",
    "  int posSum = 0, negSum = 0, zeroCount = 0;\n",
    "\n",
    "  foreach (int number in numbers) {\n",
    "    if (number > 0) posSum += number;\n",
    "    if (number < 0) negSum += number;\n",
    "    if (number == 0) zeroCount += 1;\n",
    "  }\n",
    "\n",
    "  if (posSum > (-1) * negSum && posSum > zeroCount) return posSum;\n",
    "  if ((-1) * negSum > zeroCount) return negSum;\n",
    "  return zeroCount;\n",
    "}\n",
    "\n",
    "Console.WriteLine(MajorSum(new int[] { 1, 2, 3, 4, 0, 0, -3, -2 })); // Output: 10\n",
    "\n",
    "Console.WriteLine(MajorSum(new int[] { -4, -8, -12, -3, 4, 7, 1, 3, 0, 0, 0, 0 })); // Output: -27\n",
    "\n",
    "Console.WriteLine(MajorSum(new int[] { 0, 0, 0, 0, 0, 1, 2, -3 })); // Output: 5\n",
    "// Because -3 < 1+2 < 0sCount = 5"
   ],
   "outputs": [
    {
     "output_type": "stream",
     "name": "stdout",
     "text": [
      "10\r\n",
      "-27\r\n",
      "5\r\n"
     ]
    }
   ],
   "metadata": {
    "dotnet_interactive": {
     "language": "csharp"
    }
   }
  },
  {
   "cell_type": "markdown",
   "source": [
    "<br />"
   ],
   "metadata": {}
  },
  {
   "cell_type": "markdown",
   "source": [
    "### Arrays\n",
    "\n",
    "1. Complete the follwing function which takes an array of positive and negative numbers. Return an array where the first element is the count of positive numbers and the second element is the sum of negative numbers."
   ],
   "metadata": {}
  },
  {
   "cell_type": "code",
   "execution_count": null,
   "source": [
    "int[] CountPosSumNeg(int[] numbers) {\n",
    "  int posCount = 0, negSum = 0;\n",
    "  \n",
    "  foreach (int number in numbers) {\n",
    "    if (number > 0) posCount += 1;\n",
    "    if (number < 0) negSum += number;\n",
    "  }\n",
    "\n",
    "  return new int[] { posCount, negSum };\n",
    "}\n",
    "\n",
    "string IntArrayToString(int[] numbers) {\n",
    "  return new StringBuilder(\"[\")\n",
    "    .Append(string.Join(\", \", numbers))\n",
    "    .Append(\"]\")\n",
    "    .ToString();\n",
    "}\n",
    "\n",
    "Console.WriteLine(IntArrayToString(CountPosSumNeg(new int[] { 1, 2, 3, 4, 5, 6, 7, 8, 9, 10, -11, -12, -13, -14, -15 })));\n",
    "// Output: [10, -65]\n",
    "// There are a total of 10 positive numbers.\n",
    "// The sum of all negative numbers equals -65.\n",
    "\n",
    "Console.WriteLine(IntArrayToString(CountPosSumNeg(new int[] { 92, 6, 73, -77, 81, -90, 99, 8, -85, 34 })));\n",
    "// Output: [7, -252]\n",
    "\n",
    "Console.WriteLine(IntArrayToString(CountPosSumNeg(new int[] { 91, -4, 80, -73, -28 })));\n",
    "// Output: [2, -105]\n",
    "\n",
    "Console.WriteLine(IntArrayToString(CountPosSumNeg(new int[] {})));\n",
    "// Output: []"
   ],
   "outputs": [
    {
     "output_type": "stream",
     "name": "stdout",
     "text": [
      "[10, -65]\r\n",
      "[7, -252]\r\n",
      "[2, -105]\r\n",
      "[0, 0]\r\n"
     ]
    }
   ],
   "metadata": {
    "dotnet_interactive": {
     "language": "csharp"
    }
   }
  },
  {
   "cell_type": "markdown",
   "source": [
    "2. Complete the following function which takes an array of integers (positive or negative or both) and returns the sum of the absolute value of each element."
   ],
   "metadata": {}
  },
  {
   "cell_type": "code",
   "execution_count": null,
   "source": [
    "int GetAbsSum(int[] numbers) {\n",
    "  int sum = 0;\n",
    "\n",
    "  foreach (int number in numbers) {\n",
    "    sum += Math.Abs(number);\n",
    "  }\n",
    "\n",
    "  return sum;\n",
    "}\n",
    "\n",
    "Console.WriteLine(GetAbsSum(new int[] { 2, -1, 4, 8, 10 })); // Output: 25\n",
    "\n",
    "Console.WriteLine(GetAbsSum(new int[] { -3, -4, -10, -2, -3 })); // Output: 22\n",
    "\n",
    "Console.WriteLine(GetAbsSum(new int[] { 2, 4, 6, 8, 10 })); // Output: 30\n",
    "\n",
    "Console.WriteLine(GetAbsSum(new int[] { -1 })); // Output: 1"
   ],
   "outputs": [
    {
     "output_type": "stream",
     "name": "stdout",
     "text": [
      "25\r\n",
      "22\r\n",
      "30\r\n",
      "1\r\n"
     ]
    }
   ],
   "metadata": {
    "dotnet_interactive": {
     "language": "csharp"
    }
   }
  },
  {
   "cell_type": "markdown",
   "source": [
    "3. Complete the following function which takes two numbers as arguments (num, length) and returns an array of multiples of num until the array length reaches length."
   ],
   "metadata": {}
  },
  {
   "cell_type": "code",
   "execution_count": null,
   "source": [
    "int[] ArrayOfMultiples(int num, int length) {\n",
    "  int[] multiples = new int[length];\n",
    "\n",
    "  for (int i = 0 ; i < length; i++)\n",
    "    multiples[i] = (i + 1) * num;\n",
    "\n",
    "  return multiples;\n",
    "}\n",
    "\n",
    "Console.WriteLine(IntArrayToString(ArrayOfMultiples(7, 5)));\n",
    "// Output: [7, 14, 21, 28, 35]\n",
    "\n",
    "Console.WriteLine(IntArrayToString(ArrayOfMultiples(12, 10)));\n",
    " // Output: [12, 24, 36, 48, 60, 72, 84, 96, 108, 120]\n",
    "\n",
    "Console.WriteLine(IntArrayToString(ArrayOfMultiples(17, 6)));\n",
    "// Output: [17, 34, 51, 68, 85, 102]"
   ],
   "outputs": [
    {
     "output_type": "stream",
     "name": "stdout",
     "text": [
      "[7, 14, 21, 28, 35]\r\n",
      "[12, 24, 36, 48, 60, 72, 84, 96, 108, 120]\r\n",
      "[17, 34, 51, 68, 85, 102]\r\n"
     ]
    }
   ],
   "metadata": {
    "dotnet_interactive": {
     "language": "csharp"
    }
   }
  },
  {
   "cell_type": "markdown",
   "source": [
    "4. Given a number, complete the following function which returns a new number based on the following rules:\n",
    "\n",
    "* For each digit, replace it by the number of times it appears in the number.\n",
    "* The final instance of the number will be an integer, not a string.\n",
    "\n",
    "Hint: use an array which counts the appearances of each digit from 0 to 9."
   ],
   "metadata": {}
  },
  {
   "cell_type": "code",
   "execution_count": null,
   "source": [
    "int DigitCount(int number) {\n",
    "  int copyNumber = number;\n",
    "  int[] freq = new int[10];\n",
    "\n",
    "  while (copyNumber > 0) {\n",
    "    freq[copyNumber % 10] += 1;\n",
    "    copyNumber /= 10;\n",
    "  }\n",
    "\n",
    "  int result = 0;\n",
    "  int factor = 1;\n",
    "\n",
    "  while (number > 0) {\n",
    "    result += freq[number % 10] * factor;\n",
    "    factor *= 10;\n",
    "    number /= 10;\n",
    "  }\n",
    "\n",
    "  return result;\n",
    "}\n",
    "\n",
    "Console.WriteLine(DigitCount(136116)); // Output: 312332\n",
    "// The number 1 appears thrice, so replace all 1s with 3s.\n",
    "// The number 3 appears only once, so replace all 3s with 1s.\n",
    "// The number 6 appears twice, so replace all 6s with 2s.\n",
    "\n",
    "Console.WriteLine(DigitCount(221333)); // Output: 221333\n",
    "\n",
    "Console.WriteLine(DigitCount(136116)); // Output: 312332\n",
    "\n",
    "Console.WriteLine(DigitCount(2)); // Output: 1"
   ],
   "outputs": [
    {
     "output_type": "stream",
     "name": "stdout",
     "text": [
      "312332\r\n",
      "221333\r\n",
      "312332\r\n",
      "1\r\n"
     ]
    }
   ],
   "metadata": {
    "dotnet_interactive": {
     "language": "csharp"
    }
   }
  },
  {
   "cell_type": "markdown",
   "source": [
    "5. Complete the following function which takes the width, height and character and returns a picture frame as an array of strings (string[]). Some rules:\n",
    "\n",
    "* Remember the gap.\n",
    "* Return `[\"invalid\"]` if width or height is less than 3 (can't put anything inside)."
   ],
   "metadata": {}
  },
  {
   "cell_type": "code",
   "execution_count": null,
   "source": [
    "string[] GetFrame(int width, int height, char kar) {\n",
    "  if (width < 3 || height < 3) return new string[] { \"invalid\" };\n",
    "\n",
    "  string[] result = new string[height];\n",
    "\n",
    "  for (int i = 0; i < height; i++) {\n",
    "    for (int j = 0; j < width; j++) {\n",
    "      if (i != 0 && i != height - 1 && j != 0 && j != width - 1)\n",
    "        result[i] += ' ';\n",
    "      else\n",
    "        result[i] += kar;\n",
    "    }\n",
    "  }\n",
    "\n",
    "  return result;\n",
    "}\n",
    "\n",
    "Console.WriteLine(string.Join(\"\\n\", GetFrame(4, 5, '#')));\n",
    "// Output:\n",
    "// ####\n",
    "// #  #\n",
    "// #  #\n",
    "// #  #\n",
    "// ####\n",
    "\n",
    "Console.WriteLine(string.Join(\"\\n\", GetFrame(10, 3, '*')));\n",
    "// Output:\n",
    "// **********\n",
    "// *        *\n",
    "// **********\n",
    "\n",
    "\n",
    "Console.WriteLine(string.Join(\"\\n\", GetFrame(2, 5, '0')));\n",
    "// Output:\n",
    "// invalid"
   ],
   "outputs": [
    {
     "output_type": "stream",
     "name": "stdout",
     "text": [
      "####\n",
      "#  #\n",
      "#  #\n",
      "#  #\n",
      "####\r\n",
      "**********\n",
      "*        *\n",
      "**********\r\n",
      "00\n",
      "00\n",
      "00\n",
      "00\n",
      "00\r\n"
     ]
    }
   ],
   "metadata": {
    "dotnet_interactive": {
     "language": "csharp"
    }
   }
  }
 ],
 "metadata": {
  "orig_nbformat": 4,
  "language_info": {
   "file_extension": ".cs",
   "mimetype": "text/x-csharp",
   "name": "C#",
   "pygments_lexer": "csharp",
   "version": "9.0"
  },
  "kernelspec": {
   "display_name": ".NET (C#)",
   "language": "C#",
   "name": ".net-csharp"
  }
 },
 "nbformat": 4,
 "nbformat_minor": 2
}