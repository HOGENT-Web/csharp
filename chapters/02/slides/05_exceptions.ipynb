{
 "cells": [
  {
   "cell_type": "markdown",
   "source": [
    "## Exceptions\n",
    "\n",
    "An exception indicates an unexpected problem at runtime. The program will stop without proper handling of the error. By defining exception classes, one can handle the errors in a structured way. Errors are objects which can be thrown and caught, and contain information about the error that occured (message, stack trace, preceding errors...). De `Exception` class and its subclasses have a hierachical structure, you can extend this class (and its subclasses) to write own exception classes.\n",
    "\n",
    "It's **your job** to catch and handle errors. An uncaught exception should send the user to an error page displaying somewhat useful information. You should always log your errors, these logs are a treasure when debugging.\n",
    "\n",
    "The `System.Exception` class contains the following properties:\n",
    "* `Message`: specific message giving more information\n",
    "  * Default message is associated with the exception type\n",
    "  * Customized message should be passed to the constructor\n",
    "* `Source`: name of the application or object which caused the exception\n",
    "* `TargetSite`: name of the method which caused the exception\n",
    "* `StackTrace`: a sequential list of methods which did not return at the moment the exception was thrown\n",
    "* `InnerException`: previous exception (that caused this one)\n",
    "* `HelpLink`: link to the Help file associated with the error\n",
    "* `ToString`: returns a string with the exception's name , the message, the inner exception's name and the strack trace\n",
    "\n",
    "Throwing an exception can be explicit or implicit:\n",
    "* implicit: caused by invalid operations:\n",
    "  * dividing by zero\n",
    "  * array access with invalid index\n",
    "  * member access on a null reference\n",
    "  * ...\n",
    "* expliciet: thrown by the developer\n",
    "\n",
    "When should you throw errors? Two possible scenarios:\n",
    "* only in exceptional cases, maybe use default values instead\n",
    "* whenever the desired behavior can't be executed:\n",
    "  * wrong input values (throw an `ArgumentException`)\n",
    "  * something doesn't work and you can't fix it (e.g. database connection failed)\n",
    "\n",
    "Throwing exceptions is easy:"
   ],
   "metadata": {}
  },
  {
   "cell_type": "code",
   "execution_count": null,
   "source": [
    "int CalculateAverage(int total, int count) {\n",
    "  if (count <= 0)\n",
    "    throw new ArgumentException(\"Count must be greater than zero\");\n",
    "\n",
    "  return total / count;\n",
    "}\n",
    "\n",
    "Console.WriteLine(CalculateAverage(100, 5));\n",
    "Console.WriteLine(CalculateAverage(35, 0));"
   ],
   "outputs": [
    {
     "output_type": "stream",
     "name": "stdout",
     "text": [
      "20\r\n"
     ]
    },
    {
     "output_type": "error",
     "ename": "Error",
     "evalue": "System.ArgumentException: Count must be greater than zero\r\n   at Submission#46.CalculateAverage(Int32 total, Int32 count)\r\n   at Submission#46.<<Initialize>>d__0.MoveNext()\r\n--- End of stack trace from previous location ---\r\n   at Microsoft.CodeAnalysis.Scripting.ScriptExecutionState.RunSubmissionsAsync[TResult](ImmutableArray`1 precedingExecutors, Func`2 currentExecutor, StrongBox`1 exceptionHolderOpt, Func`2 catchExceptionOpt, CancellationToken cancellationToken)",
     "traceback": [
      "System.ArgumentException: Count must be greater than zero\r\n",
      "   at Submission#46.CalculateAverage(Int32 total, Int32 count)\r\n",
      "   at Submission#46.<<Initialize>>d__0.MoveNext()\r\n",
      "--- End of stack trace from previous location ---\r\n",
      "   at Microsoft.CodeAnalysis.Scripting.ScriptExecutionState.RunSubmissionsAsync[TResult](ImmutableArray`1 precedingExecutors, Func`2 currentExecutor, StrongBox`1 exceptionHolderOpt, Func`2 catchExceptionOpt, CancellationToken cancellationToken)"
     ]
    }
   ],
   "metadata": {
    "dotnet_interactive": {
     "language": "csharp"
    }
   }
  },
  {
   "cell_type": "markdown",
   "source": [
    "Catching exceptions is done with `try`/`catch` blocks. Catching exceptions is crucial, but only if you can handle the error. .NET contains a bunch of predefined exception classes, inheriting from `System.Exception`. When handling exceptions, you can catch different exceptions in seperate `catch` blocks. The order of `catch` blocks is important: the first matching `catch` block is executed. Matching is done by the 'is a'-rule of inheritance.\n",
    "\n",
    "When you nest `try`/`catch` blocks, the error will bubble up until one `catch` block handles the error or it reaches the top level of the program. In the later case, the runtime will handle the exception and the programm will crash.\n",
    "\n",
    "A `try`/`catch` block is used as follows:"
   ],
   "metadata": {}
  },
  {
   "cell_type": "code",
   "execution_count": null,
   "source": [
    "try {\n",
    "  Console.WriteLine(CalculateAverage(35, 0));\n",
    "} catch (ArgumentException ex) {\n",
    "  Console.WriteLine($\"An error occured: {ex.Message}\");\n",
    "}"
   ],
   "outputs": [
    {
     "output_type": "stream",
     "name": "stdout",
     "text": [
      "An error occured: Count must be greater than zero\r\n"
     ]
    }
   ],
   "metadata": {
    "dotnet_interactive": {
     "language": "csharp"
    }
   }
  },
  {
   "cell_type": "markdown",
   "source": [
    "You can optionally add a finally block after the catch. This block contains code that must always be executed, no matter if an exception occured or not. It can be used to close database connections, file handles..."
   ],
   "metadata": {}
  },
  {
   "cell_type": "code",
   "execution_count": null,
   "source": [
    "try {\n",
    "  Console.WriteLine(CalculateAverage(35, 0));\n",
    "} catch (ArgumentException ex) {\n",
    "  Console.WriteLine($\"An error occured: {ex.Message}\");\n",
    "} finally {\n",
    "  Console.WriteLine(\"I'm always executed\");\n",
    "}\n",
    "\n",
    "try {\n",
    "  Console.WriteLine(CalculateAverage(100, 5));\n",
    "} catch (ArgumentException ex) {\n",
    "  Console.WriteLine($\"An error occured: {ex.Message}\");\n",
    "} finally {\n",
    "  Console.WriteLine(\"I'm always executed, also if no exception occured\");\n",
    "}"
   ],
   "outputs": [
    {
     "output_type": "stream",
     "name": "stdout",
     "text": [
      "An error occured: Count must be greater than zero\r\n",
      "I'm always executed\r\n",
      "20\r\n",
      "I'm always executed, also if no exception occured\r\n"
     ]
    }
   ],
   "metadata": {
    "dotnet_interactive": {
     "language": "csharp"
    }
   }
  },
  {
   "cell_type": "markdown",
   "source": [
    "Some tips for exception handling:\n",
    "* design code with exception handling\n",
    "* when catching exceptions: always catch the most specific error, not simply `Exception`\n",
    "  * this rule also applies for throwing errors\n",
    "* never create an empty `catch` block\n",
    "* pass useful error messages to the user, so he knows what to do\n",
    "* use .NET exception as much as possible, if you throw custom exceptions, pass an `InnerException` (which is a .NET exception)\n",
    "* don't forget the `finally` block if needed, clean up your shit (`using` can be a good alternative)\n",
    "  * DIY: [`using` documentation](https://docs.microsoft.com/en-us/dotnet/csharp/language-reference/keywords/using-statement)\n",
    "\n",
    "Some developers think they should catch all exceptions, not true! Two golden rules:\n",
    "* handle exceptions if you really can handle it\n",
    "* most exceptions can't be handled and should be returned to the end user\n",
    "\n",
    "How custom exceptions are created will be covered in the next chapter.\n",
    "\n",
    "It's also possible to add filters to `catch` blocks:\n",
    "\n",
    "```cs\n",
    "try {\n",
    "  DoSomethingThatMightFail(null);\n",
    "} catch (MyException ex) when (ex.Code == 42) {\n",
    "  Console.WriteLine(\"Error 42 occured);\n",
    "}\n",
    "```"
   ],
   "metadata": {}
  }
 ],
 "metadata": {
  "kernelspec": {
   "display_name": ".NET (C#)",
   "language": "C#",
   "name": ".net-csharp"
  },
  "language_info": {
   "file_extension": ".cs",
   "mimetype": "text/x-csharp",
   "name": "C#",
   "pygments_lexer": "csharp",
   "version": "9.0"
  },
  "orig_nbformat": 2
 },
 "nbformat": 4,
 "nbformat_minor": 2
}