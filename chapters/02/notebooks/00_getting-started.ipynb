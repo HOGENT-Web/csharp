{
 "metadata": {
  "kernelspec": {
   "display_name": ".NET (C#)",
   "language": "C#",
   "name": ".net-csharp"
  },
  "language_info": {
   "name": "C#"
  }
 },
 "cells": [
  {
   "cell_type": "markdown",
   "source": [
    "> Enterprise Web C#\n",
    "\n",
    "# Chapter 2 - See sharp with C#"
   ],
   "metadata": {}
  },
  {
   "cell_type": "markdown",
   "source": [
    "## Getting started\n",
    "\n",
    "This file is a **.NET Interactive Notebook** which allows us to show short examples without the well-known, boilerplate `class` and `main` method. It can be opened using Visual Studio Code but you won't see anything useful unless you have the [.NET Interactive Notebooks plugin](https://marketplace.visualstudio.com/items?itemName=ms-dotnettools.dotnet-interactive-vscode) installed. \n",
    "\n",
    "Once you have the plugin (and restarted Visual Studio Code), it will automatically recognize this file type. You'll see some Markdown content but also some code like in the example below. Click the play icon on the left of the code block to run it. You'll see any output below. If all goes well you should see `Hello world!` being printed below the code block."
   ],
   "metadata": {}
  },
  {
   "cell_type": "code",
   "execution_count": null,
   "source": [
    "Console.WriteLine(\"Hello world!\"); // Output: Hello world!"
   ],
   "outputs": [],
   "metadata": {
    "dotnet_interactive": {
     "language": "csharp"
    }
   }
  },
  {
   "cell_type": "markdown",
   "source": [
    "## Introduction\n",
    "\n",
    "> Why did the C# programmer fell asleep? - Because he didn't like Java\n",
    "\n",
    "<img src=\"images/csharp-logo.png\" width=\"150\" style=\"display:block;margin:0 auto;\" />\n",
    "\n",
    "C# is being developed by Microsoft as part of the .NET initiative. It is an object oriented language but has also possibilities for scripting and other styles of programming. C# looks a lot like Java but has more neat features which include operator overloading, multiple inheritance, delegates and so on. Programmers who are familiar with C++ will recognize some of its features in C#.\n",
    "\n",
    "The latest version of C# is 9, which was released in 2020 and will be used throughout the entire course.\n",
    "\n",
    "C# consists of names, keywords, numbers, characters, strings, operators, comments, ... It has a lot of keywords like: `abstract`, `const`, `static`, `var`, `void`, ... All keywords can be found on [here](https://docs.microsoft.com/en-us/dotnet/csharp/language-reference/keywords).\n",
    "\n",
    "Variables can contain anything you want as long as you follow these rules:\n",
    "* it can only contain letters, numbers and underscores (_)\n",
    "* it can only start with a letter or an underscore, no numbers\n",
    "* C# is case-sensitive"
   ],
   "metadata": {}
  },
  {
   "cell_type": "code",
   "execution_count": null,
   "source": [
    "// This is a single line comment\n",
    "// And this is another one"
   ],
   "outputs": [],
   "metadata": {
    "dotnet_interactive": {
     "language": "csharp"
    }
   }
  },
  {
   "cell_type": "markdown",
   "source": [
    "**Multi line comments** can consist of multiple lines. You just add the prefix `/*` where the comment starts and the suffix `*/` where the comment ends."
   ],
   "metadata": {}
  },
  {
   "cell_type": "code",
   "execution_count": null,
   "source": [
    "/*\n",
    "This is a comment which\n",
    "can\n",
    "go\n",
    "over\n",
    "multiple\n",
    "lines\n",
    "!!!!!\n",
    "*/"
   ],
   "outputs": [],
   "metadata": {
    "dotnet_interactive": {
     "language": "csharp"
    }
   }
  }
 ],
 "nbformat": 4,
 "nbformat_minor": 2
}