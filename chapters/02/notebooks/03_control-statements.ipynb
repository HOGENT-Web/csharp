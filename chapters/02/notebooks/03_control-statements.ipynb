{
 "cells": [
  {
   "cell_type": "markdown",
   "source": [
    "> Enterprise Web C#\n",
    "\n",
    "# Chapter 2 - See sharp with C#"
   ],
   "metadata": {}
  },
  {
   "cell_type": "markdown",
   "source": [
    "## Control statements\n",
    "\n",
    "### Selection statement\n",
    "\n",
    "Like in Java a selection statement can execute some code based on a condition, the code will only be executed if the condition is met.\n",
    "* The `if` statement selects a statement to execute based on the value of a boolean expression\n",
    "* The `switch` statement selects a statement list to execute based on a pattern match with an expression\n",
    "\n",
    "\n",
    "An `if` statement executes its body only when the condition is true:"
   ],
   "metadata": {}
  },
  {
   "cell_type": "code",
   "execution_count": null,
   "source": [
    "int x = 10;\n",
    "\n",
    "if (x > 0 && x < 11) {\n",
    "  Console.WriteLine(\"x is between 1 and 10\");\n",
    "}"
   ],
   "outputs": [],
   "metadata": {
    "dotnet_interactive": {
     "language": "csharp"
    }
   }
  },
  {
   "cell_type": "markdown",
   "source": [
    "An `if` statement with an `else` block will execute one of the two:"
   ],
   "metadata": {}
  },
  {
   "cell_type": "code",
   "execution_count": null,
   "source": [
    "int temperature = 20;\n",
    "\n",
    "if (temperature > 30) {\n",
    "  Console.WriteLine(\"It's hot outside\");\n",
    "} else {\n",
    "  Console.WriteLine(\"It's freezing outside\");\n",
    "}"
   ],
   "outputs": [],
   "metadata": {
    "dotnet_interactive": {
     "language": "csharp"
    }
   }
  },
  {
   "cell_type": "markdown",
   "source": [
    "It's also possible to nest `if` statements:"
   ],
   "metadata": {}
  },
  {
   "cell_type": "code",
   "execution_count": null,
   "source": [
    "int temperature = 20;\n",
    "\n",
    "if (temperature > 30) {\n",
    "  Console.WriteLine(\"It's hot outside\");\n",
    "} else if (temperature > 15) {\n",
    "  Console.WriteLine(\"It's nice outside\");\n",
    "} else {\n",
    "  Console.WriteLine(\"It's freezing outside\");\n",
    "}"
   ],
   "outputs": [],
   "metadata": {
    "dotnet_interactive": {
     "language": "csharp"
    }
   }
  },
  {
   "cell_type": "markdown",
   "source": [
    "An `if` statement can also be written in a short form, the same way it can in Java."
   ],
   "metadata": {}
  },
  {
   "cell_type": "code",
   "execution_count": null,
   "source": [
    "// Long form\n",
    "int temperature = 20;\n",
    "\n",
    "if (temperature > 30) {\n",
    "  Console.WriteLine(\"It's hot outside\");\n",
    "} else {\n",
    "  Console.WriteLine(\"It's freezing outside\");\n",
    "}\n",
    "\n",
    "// Short form\n",
    "Console.WriteLine(temperature > 30 ? \"It's hot outside\" : \"It's freezing outside\");"
   ],
   "outputs": [],
   "metadata": {
    "dotnet_interactive": {
     "language": "csharp"
    }
   }
  },
  {
   "cell_type": "markdown",
   "source": [
    "The switch statement selects a statement list to execute based on a pattern match with a match expression:"
   ],
   "metadata": {}
  },
  {
   "cell_type": "code",
   "execution_count": null,
   "source": [
    "void DisplayMeasurement(double measurement)\n",
    "{\n",
    "  switch (measurement)\n",
    "  {\n",
    "    case < 0.0:\n",
    "      Console.WriteLine($\"Measured value is {measurement}; too low.\");\n",
    "      break;\n",
    "\n",
    "    case > 15.0:\n",
    "      Console.WriteLine($\"Measured value is {measurement}; too high.\");\n",
    "      break;\n",
    "\n",
    "    case double.NaN:\n",
    "      Console.WriteLine(\"Failed measurement.\");\n",
    "      break;\n",
    "\n",
    "    default:\n",
    "      Console.WriteLine($\"Measured value is {measurement}.\");\n",
    "      break;\n",
    "  }\n",
    "}\n",
    "\n",
    "DisplayMeasurement(-4);  // Measured value is -4; too low.\n",
    "DisplayMeasurement(5);  // Measured value is 5.\n",
    "DisplayMeasurement(30);  // Measured value is 30; too high.\n",
    "DisplayMeasurement(double.NaN);  // Failed measurement."
   ],
   "outputs": [],
   "metadata": {
    "dotnet_interactive": {
     "language": "csharp"
    }
   }
  },
  {
   "cell_type": "markdown",
   "source": [
    "Notice the use of `break` in every case. If you leave out `break`, the switch statement will execute every statement from the first case-match until the first `break` or until the end of the switch. Try this yourself in the example above.\n",
    "\n",
    "Switches can also have so called case guards, this is an additional condition which must be met in orde to match the case."
   ],
   "metadata": {}
  },
  {
   "cell_type": "code",
   "execution_count": null,
   "source": [
    "void DisplayMeasurements(int a, int b)\n",
    "{\n",
    "  switch ((a, b))\n",
    "  {\n",
    "    case (> 0, > 0) when a == b:\n",
    "      Console.WriteLine($\"Both measurements are valid and equal to {a}.\");\n",
    "      break;\n",
    "\n",
    "    case (> 0, > 0):\n",
    "      Console.WriteLine($\"First measurement is {a}, second measurement is {b}.\");\n",
    "      break;\n",
    "\n",
    "    default:\n",
    "      Console.WriteLine(\"One or both measurements are not valid.\");\n",
    "      break;\n",
    "  }\n",
    "}\n",
    "\n",
    "DisplayMeasurements(3, 4); // First measurement is 3, second measurement is 4.\n",
    "DisplayMeasurements(5, 5); // Both measurements are valid and equal to 5."
   ],
   "outputs": [],
   "metadata": {
    "dotnet_interactive": {
     "language": "csharp"
    }
   }
  },
  {
   "cell_type": "markdown",
   "source": [
    "Explore the possibilities of pattern matching in `switch` statements in the [documentation](https://docs.microsoft.com/en-us/dotnet/csharp/language-reference/statements/selection-statements#the-switch-statement)."
   ],
   "metadata": {}
  },
  {
   "cell_type": "markdown",
   "source": [
    "### Iteration statements\n",
    "\n",
    "Iteration statements can execute a block of code several times until a certain condition is met:\n",
    "* The `for` statement executes its body while a specified Boolean expression evaluates to true.\n",
    "* The `foreach` statement enumerates the elements of a collection and executes its body for each element of the collection.\n",
    "* The `do` statement conditionally executes its body one or more times.\n",
    "* The `while` statement conditionally executes its body zero or more times.\n",
    "\n",
    "Predict what the output of the following examples will be, run the code to check your answer."
   ],
   "metadata": {}
  },
  {
   "cell_type": "code",
   "execution_count": null,
   "source": [
    "int i = 2;\n",
    "\n",
    "while (i <= 100) {\n",
    "  i *= 2;\n",
    "  Console.WriteLine(i);\n",
    "}"
   ],
   "outputs": [],
   "metadata": {
    "dotnet_interactive": {
     "language": "csharp"
    }
   }
  },
  {
   "cell_type": "code",
   "execution_count": null,
   "source": [
    "int i = 2;\n",
    "\n",
    "do {\n",
    "  i *= 2;\n",
    "  Console.WriteLine(i);\n",
    "} while (i <= 100); // notice the semicolon"
   ],
   "outputs": [],
   "metadata": {
    "dotnet_interactive": {
     "language": "csharp"
    }
   }
  },
  {
   "cell_type": "code",
   "execution_count": null,
   "source": [
    "for (int i = 0; i < 10; i++) {\n",
    "  Console.WriteLine(i);\n",
    "}"
   ],
   "outputs": [],
   "metadata": {
    "dotnet_interactive": {
     "language": "csharp"
    }
   }
  },
  {
   "cell_type": "code",
   "execution_count": null,
   "source": [
    "int[] fibonacci = { 0, 1, 1, 2, 3, 5, 8, 13, 21, 34 };\n",
    "\n",
    "foreach (int element in fibonacci) {\n",
    "  Console.WriteLine(element);\n",
    "}"
   ],
   "outputs": [],
   "metadata": {
    "dotnet_interactive": {
     "language": "csharp"
    }
   }
  },
  {
   "cell_type": "code",
   "execution_count": null,
   "source": [
    "int[] ages = { 12, 2, 58, 46, 30 };\n",
    "\n",
    "foreach (int age in ages) {\n",
    "  if (age == 46) break; // leave the iteration\n",
    "  if (age == 2) continue; // go to the next iteration\n",
    "  Console.WriteLine(age);\n",
    "}"
   ],
   "outputs": [],
   "metadata": {
    "dotnet_interactive": {
     "language": "csharp"
    }
   }
  }
 ],
 "metadata": {
  "orig_nbformat": 4,
  "language_info": {
   "file_extension": ".cs",
   "mimetype": "text/x-csharp",
   "name": "C#",
   "pygments_lexer": "csharp",
   "version": "9.0"
  },
  "kernelspec": {
   "display_name": ".NET (C#)",
   "language": "C#",
   "name": ".net-csharp"
  }
 },
 "nbformat": 4,
 "nbformat_minor": 2
}