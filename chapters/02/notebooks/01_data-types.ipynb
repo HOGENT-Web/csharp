{
 "metadata": {
  "kernelspec": {
   "display_name": ".NET (C#)",
   "language": "C#",
   "name": ".net-csharp"
  },
  "language_info": {
   "name": "C#"
  }
 },
 "cells": [
  {
   "cell_type": "markdown",
   "source": [
    "> Enterprise Web C#\n",
    "\n",
    "# Chapter 2 - See sharp with C#"
   ],
   "metadata": {}
  },
  {
   "cell_type": "markdown",
   "source": [
    "## Data types\n",
    "\n",
    "C# is strongly typed which means that each variable or object should have a clear type at declaration. You can omit the type if it's obvious for the compiler which type a variable is. This will become clear later on.\n",
    "\n",
    "A data type could be one of:\n",
    "* builtin data types such as `int` or `char`\n",
    "* user-defined data type such as a `class`, `interface` or `delegate`\n",
    "\n",
    "Data types can either be a **value type** of a **reference type**.\n",
    "\n",
    "### Common Type System (CTS)\n",
    "\n",
    "The Common Type System is a standard in the .NET framework which specifies how type definitions and specific values of types are represented in computer memory. It contains the built-in data types with according methods which can be used in all .NET programming languages. All but the primitive types can be defined by developers. \n",
    "\n",
    "<img src=\"./images/cts.svg\" style=\"display:block;margin:0 auto;\" />\n",
    "\n",
    "The most important built-in data types are\n",
    "\n",
    "| Category       | System Type | Description                                                                        | C# data type (shorthand notation) |\n",
    "| -------------- | ----------- | ---------------------------------------------------------------------------------- | --------------------------------- |\n",
    "| Integer        | Byte        | An 8-bit unsigned integer                                                          | `byte`                              |\n",
    "|                | Int16       | A 16-bit signed integer                                                            | `short`                             |\n",
    "|                | Int32       | A 32-bit signed integer                                                            | `int`                               |\n",
    "|                | Int64       | A 64-bit signed integer                                                            | `long`                              |\n",
    "| Floating point | Single      | A single-precision: 32-bit floating point number (7 digits)                        | `float`                             |\n",
    "|                | Double      | A double-precision: 64-bit floating point number (15 digits)                       | `double`                            |\n",
    "| Logical        | Boolean     | A boolean value (`true` or `false`)                                                | `bool`                              |\n",
    "| Other          | Char        | A unicode (16-bit) character                                                       | `char`                              |\n",
    "|                | Decimal     | A decimal value: 128-bit signed number (29 digits)                                 | `decimal`                           |\n",
    "| Class objects  | Object      | The root of the object hierarchy                                                   | `object`                            |\n",
    "|                | String      | An immutable, fixed-length string of unicode characters. Limited by system memory. | `string`                            |\n",
    "\n",
    "\n",
    "More information can be found in the [documentation](https://docs.microsoft.com/en-us/dotnet/csharp/language-reference/builtin-types/built-in-types)."
   ],
   "metadata": {}
  },
  {
   "cell_type": "markdown",
   "source": [
    "<br />"
   ],
   "metadata": {}
  },
  {
   "cell_type": "markdown",
   "source": [
    "## Value types\n",
    "\n",
    "Value types contain the actual data. Assigning to a value type will copy the value. All value types inherit from `System.ValueType` which in turn inherits from `Object`. Any type that derives from `System.ValueType` is a structure or enum, not a class.\n",
    "\n",
    "Variables of this type can't contain `null` unless you make the type *nullable* by adding a `?` after the type.\n",
    "\n",
    "It's also worth noting that value types are **immutable**, their value can't be changed without creating a new value.\n",
    "\n",
    "Declaring a variable with a value type: `datatype name = initial value;`. You can leave out the initial value but every variable must be initialised before it can be useds."
   ],
   "metadata": {}
  },
  {
   "cell_type": "code",
   "execution_count": null,
   "source": [
    "int d;\n",
    "int k = 3;\n",
    "d = 0;\n",
    "d += i + k; // will generate compilation error: \"use of unassigned local variable i\""
   ],
   "outputs": [],
   "metadata": {
    "dotnet_interactive": {
     "language": "csharp"
    }
   }
  },
  {
   "cell_type": "markdown",
   "source": [
    "If no value is assigned, some types will get assigned a default value:\n",
    "\n",
    "* `bool`: `false`\n",
    "* `char`: `\\0` (an empty character, the NULL character)\n",
    "* `int`: `0`\n",
    "* `decimal`: `0.0M`\n",
    "* `double`: `0.0` or `0.0D`\n",
    "* `float`: `0.0F`\n",
    "* `long`: `0L`\n",
    "* `DateTime`: `01/01/0001 12:00:00 AM`\n",
    "\n",
    "> Note: the suffix of floating point numbers defines the type used. If no suffix is given, double is assumed."
   ],
   "metadata": {}
  },
  {
   "cell_type": "code",
   "execution_count": null,
   "source": [
    "bool myBool;\n",
    "char myChar;\n",
    "int myInt;\n",
    "decimal myDecimal;\n",
    "double myDouble;\n",
    "float myFloat;\n",
    "long myLong;\n",
    "DateTime myDateTime;\n",
    "\n",
    "Console.WriteLine($\"bool: {myBool}\");\n",
    "Console.WriteLine($\"char: {myChar} (you won't see anything)\");\n",
    "Console.WriteLine($\"int: {myInt}\");\n",
    "Console.WriteLine($\"decimal: {myDecimal}\");\n",
    "Console.WriteLine($\"double: {myDouble}\");\n",
    "Console.WriteLine($\"float: {myFloat}\");\n",
    "Console.WriteLine($\"long: {myLong}\");\n",
    "Console.WriteLine($\"DateTime: {myDateTime}\");"
   ],
   "outputs": [],
   "metadata": {
    "dotnet_interactive": {
     "language": "csharp"
    }
   }
  },
  {
   "cell_type": "markdown",
   "source": [
    "<br />"
   ],
   "metadata": {}
  },
  {
   "cell_type": "markdown",
   "source": [
    "<a id=\"structs\"></a>\n",
    "\n",
    "## Structs\n",
    "\n",
    "Structs can be used to create a value type consisting of one value. You can compare it to a class but it is a value type and no reference type. A struct can contain fields, methods and constructors but is managed by the stack and thus passed by value. Within .NET structs are used all over the place, e.g. `int`, `float` and `long`. These are just shortcuts for their respective structs: `System.Int32`, `System.Single` and `System.Int64`. These structs have constructors `int i = new int();` and methods like `ToString()`.\n",
    "\n",
    "Structs are commonly used for entities where the value is very important, like for example a number or a date. We won't define structs but we'll definitely use them a lot.\n",
    "\n",
    "> Note: structs are value types which means they will be copied **every time** you pass them as an argument"
   ],
   "metadata": {}
  },
  {
   "cell_type": "code",
   "execution_count": null,
   "source": [
    "// Define a struct\n",
    "public struct Coords\n",
    "{\n",
    "    public Coords(double x, double y)\n",
    "    {\n",
    "        X = x;\n",
    "        Y = y;\n",
    "    }\n",
    "\n",
    "    public double X { get; }\n",
    "    public double Y { get; }\n",
    "\n",
    "    public override string ToString() => $\"({X}, {Y})\";\n",
    "}"
   ],
   "outputs": [],
   "metadata": {
    "dotnet_interactive": {
     "language": "csharp"
    }
   }
  },
  {
   "cell_type": "code",
   "execution_count": null,
   "source": [
    "// Use the enum\n",
    "Coords p = new Coords(1, 2);\n",
    "Console.WriteLine(p);\n",
    "Console.WriteLine($\"X = {p.X}, Y = {p.Y}\");"
   ],
   "outputs": [],
   "metadata": {
    "dotnet_interactive": {
     "language": "csharp"
    }
   }
  },
  {
   "cell_type": "markdown",
   "source": [
    "> Why did the C# programmer use `class Footnote`, not `struct Footnote`?\n",
    ">\n",
    "> Because everyone knows that footnotes are a reference type!"
   ],
   "metadata": {}
  },
  {
   "cell_type": "markdown",
   "source": [
    "<br />"
   ],
   "metadata": {}
  },
  {
   "cell_type": "markdown",
   "source": [
    "## Enums\n",
    "\n",
    "An enum type is another value type. It can be seen as a list of constant names with the integer representation (`System.Int32` by default). Numerical values will be put on the stack.\n",
    "\n",
    "The `Enum` class contains some useful methods for enums, have a look at it: [https://docs.microsoft.com/en-us/dotnet/api/system.enum?view=net-5.0](https://docs.microsoft.com/en-us/dotnet/api/system.enum?view=net-5.0)."
   ],
   "metadata": {}
  },
  {
   "cell_type": "code",
   "execution_count": null,
   "source": [
    "// Define an enum\n",
    "enum ColorType {\n",
    "  Red = 0,\n",
    "  Blue = 16,\n",
    "  Green = 256\n",
    "}"
   ],
   "outputs": [],
   "metadata": {
    "dotnet_interactive": {
     "language": "csharp"
    }
   }
  },
  {
   "cell_type": "code",
   "execution_count": null,
   "source": [
    "// Use the enum\n",
    "ColorType c = ColorType.Blue;\n",
    "Console.WriteLine(c); // prints the name\n",
    "Console.WriteLine((int)c); // print the integer value\n",
    "\n",
    "// Iterate through all enum values\n",
    "foreach (string s in Enum.GetNames(typeof(ColorType)))\n",
    "    Console.WriteLine(s);\n",
    "\n",
    "// Parse a string into an enum value\n",
    "c = (ColorType) Enum.Parse(typeof(ColorType), \"Green\");\n",
    "\n",
    "Console.WriteLine(c); // Output: Green"
   ],
   "outputs": [],
   "metadata": {
    "dotnet_interactive": {
     "language": "csharp"
    }
   }
  },
  {
   "cell_type": "markdown",
   "source": [
    "If we define the same enum but leave out the integers, the compiler will assign each constant an integer. It starts counting from 0 and goes up to n - 1 where n is the number of enum constants."
   ],
   "metadata": {}
  },
  {
   "cell_type": "code",
   "execution_count": null,
   "source": [
    "enum ColorType {\n",
    "  Red,\n",
    "  Blue,\n",
    "  Green\n",
    "}\n",
    "\n",
    "Console.WriteLine((int) ColorType.Red);\n",
    "Console.WriteLine((int) ColorType.Blue);\n",
    "Console.WriteLine((int) ColorType.Green);"
   ],
   "outputs": [],
   "metadata": {
    "dotnet_interactive": {
     "language": "csharp"
    }
   }
  },
  {
   "cell_type": "markdown",
   "source": [
    "It's also possible to define the value type that is assigned to each constant, `short` in the next example."
   ],
   "metadata": {}
  },
  {
   "cell_type": "code",
   "execution_count": null,
   "source": [
    "enum ColorType : short {\n",
    "  Red,\n",
    "  Blue,\n",
    "  Green\n",
    "}\n",
    "\n",
    "Console.WriteLine((short) ColorType.Red);"
   ],
   "outputs": [],
   "metadata": {
    "dotnet_interactive": {
     "language": "csharp"
    }
   }
  },
  {
   "cell_type": "markdown",
   "source": [
    "### Flagged enums\n",
    "\n",
    "Enums can also be so called flagged enums. In a normal enum every constant gets its own integer representation, either given by the developer or generated by the compiler. A flagged enum can be used to combine multiple enum constants in one integer.\n",
    "\n",
    "Look at the following example and try to understand how flagged enums work."
   ],
   "metadata": {}
  },
  {
   "cell_type": "code",
   "execution_count": null,
   "source": [
    "enum SingleHue : short {\n",
    "   None = 0,\n",
    "   Black = 1,\n",
    "   Red = 2,\n",
    "   Green = 4,\n",
    "   Blue = 8\n",
    "}\n",
    "\n",
    "// Define an Enum with FlagsAttribute.\n",
    "[Flags]\n",
    "enum MultiHue : short {\n",
    "   None = 0,\n",
    "   Black = 1,\n",
    "   Red = 2,\n",
    "   Green = 4,\n",
    "   Blue = 8\n",
    "}"
   ],
   "outputs": [],
   "metadata": {
    "dotnet_interactive": {
     "language": "csharp"
    }
   }
  },
  {
   "cell_type": "code",
   "execution_count": null,
   "source": [
    "// With the numbers 0, 1, 2, 4 and 8 we can can create all numbers between 0 and 16\n",
    "Console.WriteLine(\"All possible combinations of values without FlagsAttribute:\");\n",
    "\n",
    "for(int val = 0; val <= 16; val++ )\n",
    "   Console.WriteLine( \"{0,3} - {1:G}\", val, (SingleHue)val);"
   ],
   "outputs": [],
   "metadata": {
    "dotnet_interactive": {
     "language": "csharp"
    }
   }
  },
  {
   "cell_type": "code",
   "execution_count": null,
   "source": [
    "// Display all combinations of values, and invalid values.\n",
    "Console.WriteLine(\"\\nAll possible combinations of values with FlagsAttribute:\");\n",
    "\n",
    "for( int val = 0; val <= 16; val++ )\n",
    "   Console.WriteLine( \"{0,3} - {1:G}\", val, (MultiHue)val);"
   ],
   "outputs": [],
   "metadata": {
    "dotnet_interactive": {
     "language": "csharp"
    }
   }
  },
  {
   "cell_type": "markdown",
   "source": [
    "As you can see a normal enum only \"knows\" the exact values assigned to the constants. A flagged enum \"knows\" combinations of constants. You can think of a flagged enum as a bit string, in the `MultiHue` example a bitstring of length 4. Each constant is assigned to one bit in this string: the least significant bit is `None`, the most significant bit is `Blue`. You can choose the bit by assigning an integer to each constant.\n",
    "\n",
    "With 4 bits, we can make all integers up to 16 (2^4). Then it's simply converting each integer between 0 and 16 to its bit representation and checking which bits are set (= 1). It this bit matches with a constant in the enum, this enum constant is considered part of the value.\n",
    "\n",
    "#### Example\n",
    "\n",
    "This enum's bit string can be interpreted as follows:\n",
    "\n",
    "| 4th bit | 3rd bit | 2nd bit | 1st bit |\n",
    "| ------- | ------- | ------- | ------- |\n",
    "| Blue    | Green   | Red     | Black   |\n",
    "\n",
    "If no bits are set, then the value is `None`.\n",
    "\n",
    "If we convert 9 to a bit string we get: `1001` (8 + 1), and so the 4th and 1st bit are set. So if we convert 9 to a `MultiHue`, we get the constants `Blue` and `Black`.\n",
    "\n",
    "If we take a look at 15, each bit is set (`1111`) and therefor we get all values: `Blue`, `Green`, `Red` and `Black`.\n",
    "\n",
    "Now it should be easy to guess why 16 has no values: it has to many bits (`10000`)."
   ],
   "metadata": {}
  },
  {
   "cell_type": "markdown",
   "source": [
    "<br />"
   ],
   "metadata": {}
  },
  {
   "cell_type": "markdown",
   "source": [
    "## Reference types\n",
    "\n",
    "Variables of a reference type contain a reference (pointer) to the actual data. The built-in reference types are `Object` and `String`. You can define your own reference types using a `class`, `interface` or `delegate`.\n",
    "\n",
    "Every value or reference type is a `System.Object` and thus you can use all of its methods: [https://docs.microsoft.com/en-us/dotnet/api/system.object?redirectedfrom=MSDN&view=net-5.0](https://docs.microsoft.com/en-us/dotnet/api/system.object?redirectedfrom=MSDN&view=net-5.0#methods)."
   ],
   "metadata": {}
  },
  {
   "cell_type": "markdown",
   "source": [
    "<br />"
   ],
   "metadata": {}
  },
  {
   "cell_type": "markdown",
   "source": [
    "## Strings\n",
    "\n",
    "Strings are in fact an array of characters but can't completely be used as an array. It is an immutable type which means you can only assign a value once and can't change it. In C# strings can be compared using the `==` operator, it will compare the contents of the string.\n",
    "\n",
    "> **Caution:** This operator cannot be used for objects, it will compare the reference! As an alternative one can also use the `Equals` method, which is the goto for any object comparison."
   ],
   "metadata": {}
  },
  {
   "cell_type": "code",
   "execution_count": null,
   "source": [
    "string s1 = \"abc\";\n",
    "string s2 = \"abc\";\n",
    "Console.WriteLine($\"With ==: {s1 == s2}\");\n",
    "Console.WriteLine($\"With Equals(): {s1.Equals(s2)}\");"
   ],
   "outputs": [],
   "metadata": {
    "dotnet_interactive": {
     "language": "csharp"
    }
   }
  },
  {
   "cell_type": "markdown",
   "source": [
    "The `Equals` method can take an extra argument to indicate the type of comparison performed. This argument's type is `StringComparison`. Check the [documentation](https://docs.microsoft.com/en-us/dotnet/api/system.stringcomparison?view=net-5.0#fields) for all possible comparison methods.\n",
    "\n",
    "By default an ordinal comparison is performed, this means that both strings need to be completely identical. If you want to compare ignore case, use the following comparison method:"
   ],
   "metadata": {}
  },
  {
   "cell_type": "code",
   "execution_count": null,
   "source": [
    "string s1 = \"aBcDeF\";\n",
    "string s2 = \"AbCdEf\";\n",
    "Console.WriteLine($\"With ==: {s1 == s2}\");\n",
    "Console.WriteLine($\"With Equals() and ignore case: {s1.Equals(s2, StringComparison.OrdinalIgnoreCase)}\");"
   ],
   "outputs": [],
   "metadata": {
    "dotnet_interactive": {
     "language": "csharp"
    }
   }
  },
  {
   "cell_type": "markdown",
   "source": [
    "In the next sections some useful `String` methods will be discussed and shown. All other methods can be found in the [documentation](https://docs.microsoft.com/en-us/dotnet/api/system.string?view=net-5.0#methods)."
   ],
   "metadata": {}
  },
  {
   "cell_type": "markdown",
   "source": [
    "### Trimming\n",
    "\n",
    "The `Trim` method will remove any whitespace at the front and back of a given string. `TrimStart` and `TrimEnd` will do this at the front and back respectively."
   ],
   "metadata": {}
  },
  {
   "cell_type": "code",
   "execution_count": null,
   "source": [
    "string input = \"    Thomas   \\n   \"; // There are some spaces and enters around the string \"Thomas\"\n",
    "string cleanFront = input.TrimStart(); // Will only remove whitespace at the front\n",
    "string cleanBack = input.TrimEnd(); // Same for the back\n",
    "string allClean = input.Trim(); // All whitespaces removed\n",
    "\n",
    "Console.WriteLine($\"cleanFront: {cleanFront}\");\n",
    "   \n",
    "Console.WriteLine($\"cleanBack: {cleanBack}\");\n",
    "Console.WriteLine($\"allClean: {allClean}\");"
   ],
   "outputs": [],
   "metadata": {
    "dotnet_interactive": {
     "language": "csharp"
    }
   }
  },
  {
   "cell_type": "markdown",
   "source": [
    "### Substring\n",
    "\n",
    "You can take parts out of a string using the method `Substring`. The two parameters give the indices of the part to take (second index exclusive). Leaving out the second parameter will take all characters starting from the index given by the first parameter."
   ],
   "metadata": {}
  },
  {
   "cell_type": "code",
   "execution_count": null,
   "source": [
    "string input = \"Make it work, make it right, make it fast.\";\n",
    "\n",
    "Console.WriteLine(input.Substring(0, 5));\n",
    "Console.WriteLine(input.Substring(29));"
   ],
   "outputs": [],
   "metadata": {
    "dotnet_interactive": {
     "language": "csharp"
    }
   }
  },
  {
   "cell_type": "markdown",
   "source": [
    "### Formatting\n",
    "\n",
    "Converting all characters in a string to upper case is done with `ToUpper`, converting to lower case is analog with `ToLower`."
   ],
   "metadata": {}
  },
  {
   "cell_type": "code",
   "execution_count": null,
   "source": [
    "string input = \"make me upper\";\n",
    "Console.WriteLine(input.ToUpper());\n",
    "\n",
    "input = \"MaKe ME LoWeR\";\n",
    "Console.WriteLine(input.ToLower());"
   ],
   "outputs": [],
   "metadata": {
    "dotnet_interactive": {
     "language": "csharp"
    }
   }
  },
  {
   "cell_type": "markdown",
   "source": [
    "### Immutability\n",
    "\n",
    "As said before strings are immutable. That's why the next example won't give the correct output."
   ],
   "metadata": {
    "dotnet_interactive": {
     "language": "csharp"
    }
   }
  },
  {
   "cell_type": "code",
   "execution_count": null,
   "source": [
    "string input = \"         Hello World!\";\n",
    "input.Trim();\n",
    "Console.WriteLine(input);"
   ],
   "outputs": [],
   "metadata": {
    "dotnet_interactive": {
     "language": "csharp"
    }
   }
  },
  {
   "cell_type": "markdown",
   "source": [
    "Because strings are immutable, we need to reassign the variable with the new and trimmed value."
   ],
   "metadata": {}
  },
  {
   "cell_type": "code",
   "execution_count": null,
   "source": [
    "string input = \"         Hello World!\";\n",
    "input = input.Trim();\n",
    "Console.WriteLine(input);"
   ],
   "outputs": [],
   "metadata": {
    "dotnet_interactive": {
     "language": "csharp"
    }
   }
  },
  {
   "cell_type": "markdown",
   "source": [
    "### Concatenation\n",
    "\n",
    "Combining multiple strings into one can using the `+` operator."
   ],
   "metadata": {}
  },
  {
   "cell_type": "code",
   "execution_count": null,
   "source": [
    "string name = \"Thomas\";\n",
    "string greet = \"Hello \" + name + \"!\";\n",
    "Console.WriteLine(greet);"
   ],
   "outputs": [],
   "metadata": {
    "dotnet_interactive": {
     "language": "csharp"
    }
   }
  },
  {
   "cell_type": "markdown",
   "source": [
    "But there is a more convenient way to do such concatenations: **string interpolation**. Therefor add a `$` before the string and escape every variable to embed inside brackets. There are also possibilities to format numbers, take a look at the documentation of [number format strings](https://docs.microsoft.com/en-us/dotnet/standard/base-types/standard-numeric-format-strings)."
   ],
   "metadata": {}
  },
  {
   "cell_type": "code",
   "execution_count": null,
   "source": [
    "string name = \"Steve\";\n",
    "decimal totalPrice = 10M;\n",
    "string greet = $\"Hello {name}, the total price is {totalPrice:C2}!\"; // Output: Hello Steve, the total price is € 10,00!\n",
    "Console.WriteLine(greet);"
   ],
   "outputs": [],
   "metadata": {
    "dotnet_interactive": {
     "language": "csharp"
    }
   }
  },
  {
   "cell_type": "markdown",
   "source": [
    "A less convenient but similar technique is using the `String.Format` method. The first argument of this method is called the format string and contains references to the n<sup>th</sup> variable passed after the format string (starting from 0)."
   ],
   "metadata": {}
  },
  {
   "cell_type": "code",
   "execution_count": null,
   "source": [
    "string name = \"Thomas\";\n",
    "string greet = String.Format(\"Hello {0}!\", name);\n",
    "Console.WriteLine(greet);"
   ],
   "outputs": [],
   "metadata": {
    "dotnet_interactive": {
     "language": "csharp"
    }
   }
  },
  {
   "cell_type": "markdown",
   "source": [
    "Some characters can't be used in strings unless they are escaped with a backslash (`\\`). If you type a `\\` in a string, C# will think the next character has a special meaning. These special characters are:\r\n",
    "\r\n",
    "| Character | Meaning                                                                                     |\r\n",
    "| --------- | ------------------------------------------------------------------------------------------- |\r\n",
    "| `\\'`      | Inserts a single quote into a string literal                                                |\r\n",
    "| `\\\"`      | Inserts a double quote into a string literal                                                |\r\n",
    "| `\\\\`      | Inserts a backslash into a string literal                                                   |\r\n",
    "| `\\a`      | Triggers a system alert (beep). For console programs, this can be an audio clue to the user |\r\n",
    "| `\\n`      | Inserts a new line (on Win32 platforms)                                                     |\r\n",
    "| `\\r`      | Inserts a carriage return (return to the start of the line without going to the next one)   |\r\n",
    "| `\\t`      | Inserts a horizontal tab                                                                    |\r\n",
    "\r\n",
    "If you are not willing to escape these special characters, you can put a `@` in front of the string and even combine it with the concatination symbol(`$`)."
   ],
   "metadata": {}
  },
  {
   "cell_type": "code",
   "execution_count": null,
   "source": [
    "string escapedPath = \"C:\\\\Docs\\\\Source\\\\a.txt\";\n",
    "string notEscapedPath = @\"C:\\Docs\\Source\\a.txt\";\n",
    "\n",
    "var fileName = \"a.txt\";\n",
    "string combinedEscapedPath = $@\"C:\\Docs\\Source\\{fileName}\";\n",
    "\n",
    "Console.WriteLine(escapedPath);\n",
    "Console.WriteLine(notEscapedPath);\n",
    "Console.WriteLine(combinedEscapedPath);"
   ],
   "outputs": [],
   "metadata": {
    "dotnet_interactive": {
     "language": "csharp"
    }
   }
  },
  {
   "cell_type": "markdown",
   "source": [
    "<br />"
   ],
   "metadata": {}
  },
  {
   "cell_type": "markdown",
   "source": [
    "## Nullable types\n",
    "\n",
    "Nullable types is a value type which can contain a value of the specified type or `null`. A nullable type has a property `HasValue` which tells us if the variable has a value or contains `null`. The property `Value` will provide the value is one exists. Accessing `Value` on a `null` will cause an `System.InvalidOperationException: Nullable object must have a value`."
   ],
   "metadata": {}
  },
  {
   "cell_type": "code",
   "execution_count": null,
   "source": [
    "int? x = 10; // this is a nullable type\n",
    "int y = 20;\n",
    "\n",
    "Console.WriteLine($\"x = {x}, y = {y}\");\n",
    "\n",
    "if (x.HasValue)\n",
    "    y = x.Value;\n",
    "\n",
    "Console.WriteLine($\"x = {x}, y = {y}\");\n",
    "\n",
    "x = null;\n",
    "\n",
    "if (x.HasValue)\n",
    "    y = x.Value;\n",
    "\n",
    "Console.WriteLine($\"x = {x}, y = {y}\");"
   ],
   "outputs": [],
   "metadata": {
    "dotnet_interactive": {
     "language": "csharp"
    }
   }
  },
  {
   "cell_type": "markdown",
   "source": [
    "<br />"
   ],
   "metadata": {}
  },
  {
   "cell_type": "markdown",
   "source": [
    "## Constants\n",
    "\n",
    "Constant values should be initialized at declaration and cannot change. They are always implicit static but you can't put the keyword `static` on the declaration."
   ],
   "metadata": {}
  },
  {
   "cell_type": "code",
   "execution_count": null,
   "source": [
    "const long size = ((long)int.MaxValue + 1)/4;\n",
    "Console.WriteLine(size);\n",
    "\n",
    "// TODO: Uncomment the last line and see the error yourself.\n",
    "// size = 2; // Error: The left-hand side of an assignment must be a variable, property or indexer"
   ],
   "outputs": [],
   "metadata": {
    "dotnet_interactive": {
     "language": "csharp"
    }
   }
  },
  {
   "cell_type": "markdown",
   "source": [
    "<br />"
   ],
   "metadata": {}
  },
  {
   "cell_type": "markdown",
   "source": [
    "## Casting\n",
    "\n",
    "Sometimes you need to change the type of a value to another type, which is called casting. There are two types of casting: implicit and explicit. \n",
    "\n",
    "**Implicit casting** is only possible when the value is not affected by the cast. For numbers this means you can implicitly cast to another number type with more bits. If you would convert to a lower bit number, you would loose information. The order of casting is: `byte`, `short`, `int`, `long`, `float`, `double`, `decimal`.\n",
    "\n",
    "**Explicit casting** may cause information loss because you're throwing away some bits. A checked cast checks if the cast is safe and if not will throw a `System.OverflowException`."
   ],
   "metadata": {}
  },
  {
   "cell_type": "code",
   "execution_count": null,
   "source": [
    "int a = 2;\n",
    "long b = a; // implicit\n",
    "\n",
    "Console.WriteLine($\"a = {a}, b = {b}\"); // a = 2, b = 2\n",
    "\n",
    "long c = 30000;\n",
    "int d = (int) c; // explicit and not checked, may cause information loss\n",
    "int e = checked ((int) c); // explicit and checked\n",
    "\n",
    "Console.WriteLine($\"c = {c}, d = {d}, e = {e}\"); // c = 30000, d = 30000, e = 30000\n",
    "\n",
    "c = ((long)int.MaxValue + 1);\n",
    "d = (int) c; // explicit and not checked, will cause information loss\n",
    "// e = checked ((int) c); // explicit and checked -> System.OverflowException\n",
    "\n",
    "// comment the previous line to see the result\n",
    "Console.WriteLine($\"c = {c}, d = {d}, e = {e}\"); // c = 2147483648, d = -2147483648, e = 30000"
   ],
   "outputs": [],
   "metadata": {
    "dotnet_interactive": {
     "language": "csharp"
    }
   }
  },
  {
   "cell_type": "markdown",
   "source": [
    "Converting a number into a string and vice versa can be achieved with the `Parse`, `Convert` and `ToString` methods. The difference between `Parse` and `Convert.ToInt32` is that the latter one can handle `null` values, the first one will throw a `System.ArgumentNullException`."
   ],
   "metadata": {}
  },
  {
   "cell_type": "code",
   "execution_count": null,
   "source": [
    "string s = \"100\";\n",
    "int i = int.Parse(s);\n",
    "\n",
    "Console.WriteLine($\"s = {s}, i = {i}\");\n",
    "\n",
    "i = 10;\n",
    "s = i.ToString();\n",
    "\n",
    "Console.WriteLine($\"s = {s}, i = {i}\");\n",
    "\n",
    "s = null;\n",
    "i = Convert.ToInt32(s);\n",
    "\n",
    "Console.WriteLine($\"s = {s}, i = {i}\");\n",
    "\n",
    "i = int.Parse(s); // System.ArgumentNullException"
   ],
   "outputs": [],
   "metadata": {
    "dotnet_interactive": {
     "language": "csharp"
    }
   }
  },
  {
   "cell_type": "markdown",
   "source": [
    "### Boxing and unboxing\n",
    "\n",
    "**Boxing** is storing a value type on the garbage collected heap, it's the procedure of allocating an object instance and copying the value into that new object. **Unboxing** is the opposite.\n",
    "\n",
    "<img src=\"./images/unboxing-conversion-operation.gif\" style=\"display:block;margin:0 auto;\" />"
   ],
   "metadata": {}
  },
  {
   "cell_type": "code",
   "execution_count": null,
   "source": [
    "int i = 123;\n",
    "Object o = i; // implicit boxing\n",
    "o = (Object) i; // explicit boxing\n",
    "int j = (int) o; // unboxing"
   ],
   "outputs": [],
   "metadata": {
    "dotnet_interactive": {
     "language": "csharp"
    }
   }
  },
  {
   "cell_type": "markdown",
   "source": [
    "<br />"
   ],
   "metadata": {}
  },
  {
   "cell_type": "markdown",
   "source": [
    "## Date and Time\n",
    "\n",
    "`System.DateTime` and `System.TimeSpan` are both structs. A `DateTime` represents a date and a time (= an instant in time) as the name suggests, a `TimeSpan` represents the difference between two dates.\n",
    "\n",
    "A `DateTime` has some properties like `Month`, `Year`, `Day`, and so on. All properties can be found in the [documentation](https://docs.microsoft.com/en-us/dotnet/api/system.datetime?view=net-5.0#properties).\n",
    "\n",
    "A `TimeSpan` has some properties like `Hours`, `Minutes`, `Seconds`, and so on. All properties can be found in the : [documentation](https://docs.microsoft.com/en-us/dotnet/api/system.timespan?view=net-5.0#properties).\n",
    "\n",
    "The default date is 01/01/0001 12:00 AM:"
   ],
   "metadata": {}
  },
  {
   "cell_type": "code",
   "execution_count": null,
   "source": [
    "DateTime dt = new DateTime();\n",
    "Console.WriteLine(dt); // 1/01/0001 0:00:00"
   ],
   "outputs": [],
   "metadata": {
    "dotnet_interactive": {
     "language": "csharp"
    }
   }
  },
  {
   "cell_type": "markdown",
   "source": [
    "You can pass arguments to the constructor to construct a certain date:"
   ],
   "metadata": {}
  },
  {
   "cell_type": "code",
   "execution_count": null,
   "source": [
    "DateTime dt = new DateTime(2021, 8, 23);\n",
    "Console.WriteLine(dt); // 23/08/2021 0:00:00"
   ],
   "outputs": [],
   "metadata": {
    "dotnet_interactive": {
     "language": "csharp"
    }
   }
  },
  {
   "cell_type": "markdown",
   "source": [
    "It's also possible to get today's date or the current date and time:"
   ],
   "metadata": {}
  },
  {
   "cell_type": "code",
   "execution_count": null,
   "source": [
    "Console.WriteLine(DateTime.Today); // 23/08/2021 0:00:00 (only the date)\n",
    "Console.WriteLine(DateTime.Now); // 23/08/2021 11:58:36 (includes time)"
   ],
   "outputs": [],
   "metadata": {
    "dotnet_interactive": {
     "language": "csharp"
    }
   }
  },
  {
   "cell_type": "markdown",
   "source": [
    "You can easily fetch the day of the week:"
   ],
   "metadata": {}
  },
  {
   "cell_type": "code",
   "execution_count": null,
   "source": [
    "DateTime dt = DateTime.Now;\n",
    "Console.WriteLine($\"The day of {dt.Date} is {dt.DayOfWeek}\");"
   ],
   "outputs": [],
   "metadata": {
    "dotnet_interactive": {
     "language": "csharp"
    }
   }
  },
  {
   "cell_type": "markdown",
   "source": [
    "You can also create a `TimeSpan` with some arguments:"
   ],
   "metadata": {}
  },
  {
   "cell_type": "code",
   "execution_count": null,
   "source": [
    "TimeSpan ts = new TimeSpan(4, 30, 0); // hours, minutes, seconds\n",
    "Console.WriteLine(ts); // 04:30:00"
   ],
   "outputs": [],
   "metadata": {
    "dotnet_interactive": {
     "language": "csharp"
    }
   }
  },
  {
   "cell_type": "markdown",
   "source": [
    "The `DateTime` struct implements some of the operators, like + and -, but not everything is allowed. It's e.g. not allowed to add two dates together, how would you do this anyway? But it's possible to add a `TimeSpan` to a `DateTime` or to get the difference between two `DateTime`s, which is obviously a `TimeSpan`."
   ],
   "metadata": {}
  },
  {
   "cell_type": "code",
   "execution_count": null,
   "source": [
    "DateTime dt = DateTime.Now + new TimeSpan(5, 0, 0); // Now + 5 hours\n",
    "Console.WriteLine(dt); // 23/08/2021 17:06:12"
   ],
   "outputs": [],
   "metadata": {
    "dotnet_interactive": {
     "language": "csharp"
    }
   }
  },
  {
   "cell_type": "markdown",
   "source": [
    "There are also some methods provided to accomplish the same goal. Be aware that a `DateTime` is never changed, these methods always return a new instance."
   ],
   "metadata": {}
  },
  {
   "cell_type": "code",
   "execution_count": null,
   "source": [
    "DateTime dt = DateTime.Now;\n",
    "dt = dt.AddHours(5); // Note the assignment\n",
    "Console.WriteLine(dt); // 23/08/2021 17:07:19"
   ],
   "outputs": [],
   "metadata": {
    "dotnet_interactive": {
     "language": "csharp"
    }
   }
  },
  {
   "cell_type": "markdown",
   "source": [
    "### Formatting a DateTime\n",
    "\n",
    "A `DateTime` also has a pretty neat `ToString` which allows the developer to easily format a date into whatever format desired. You simply pass a format string as an argument. This string contains some placeholders, which can be found in the documentation: [https://docs.microsoft.com/en-us/dotnet/standard/base-types/custom-date-and-time-format-strings](https://docs.microsoft.com/en-us/dotnet/standard/base-types/custom-date-and-time-format-strings).\n",
    "\n",
    "There are also several predefined `ToString` methods available, like `ToLongDateString` or `ToShortDateString`.\n",
    "\n",
    "Be aware that these methods' return value depends on your System's locale."
   ],
   "metadata": {}
  },
  {
   "cell_type": "code",
   "execution_count": null,
   "source": [
    "DateTime dt = new DateTime(2021, 9, 20, 8, 15, 0);\n",
    "\n",
    "// Predefined\n",
    "Console.WriteLine(dt.ToLongDateString()); // Monday, September 20, 2021\n",
    "Console.WriteLine(dt.ToShortDateString()); // 09/20/2021\n",
    "Console.WriteLine(dt.ToShortTimeString()); // 8:15 AM\n",
    "\n",
    "// DIY\n",
    "Console.WriteLine(dt.ToString(\"dd/MM/yy\")); // 20/09/21\n",
    "Console.WriteLine(dt.ToString(\"MM - dd - yyyy\")); // 09 - 20 - 2021\n",
    "Console.WriteLine(dt.ToString(\"ddd dd MMM yyyy\")); // Mon 20 Sep 2021\n",
    "Console.WriteLine(dt.ToString(\"dddd dd MMMM yyyy\")); // Monday 20 September 2021"
   ],
   "outputs": [],
   "metadata": {
    "dotnet_interactive": {
     "language": "csharp"
    }
   }
  },
  {
   "cell_type": "markdown",
   "source": [
    "<br />"
   ],
   "metadata": {}
  },
  {
   "cell_type": "markdown",
   "source": [
    "## StringBuilder\n",
    "\n",
    "Strings cannot be changed, any operation that changes a `string` returns a new one. A `string²` is also not accessible as array, which is pretty useful. In C# there is a `StringBuilder`, which is equivalent to the Java variant. The `StringBuilder` can be accessed by index, like an array. It has much better performance when string objects change frequently. The `StringBuilder` saves the string as an array of characters, editing the string does not create a new `string` object.\n",
    "\n",
    "A `StringBuilder` has some useful properties:\n",
    "* `Capacity`: gets or sets the maximum number of characters that can be contained in the memory allocated by the current instance\n",
    "* `Chars`: get or sets the character at the specified position in this instance\n",
    "* `Length`: gets or sets the length of this instance\n",
    "\n",
    "There are lots of other methods listed in the [documentation](https://docs.microsoft.com/en-us/dotnet/api/system.text.stringbuilder?view=net-5.0#methods). Every method which changes the `StringBuilder` returns the current instance, so it's easy to chain method calls.\n",
    "\n",
    "\n",
    "But a first useful method is `AppendFormat` which appens any value in a given style to the string. The style is determined by the first parameter whichs is a `CultureInfo` which defines the locale to use."
   ],
   "metadata": {}
  },
  {
   "cell_type": "code",
   "execution_count": null,
   "source": [
    "using System.Globalization;\n",
    "\n",
    "\n",
    "Decimal value = 16.95m;\n",
    "DateTime dateToday = DateTime.Now;\n",
    "\n",
    "// We want to print in belgian formats\n",
    "CultureInfo nlBE = CultureInfo.CreateSpecificCulture(\"nl-BE\");\n",
    "\n",
    "// Create a new StringBuilder\n",
    "StringBuilder sb = new StringBuilder();\n",
    "\n",
    "// append the price\n",
    "sb.AppendFormat(nlBE, \"Final Price: {0:C2}\", value)\n",
    "// append a new line\n",
    "  .AppendLine()\n",
    "// append the date and time\n",
    "  .AppendFormat(nlBE, \"Date and Time: {0:d} at {0:t}\", dateToday);\n",
    "\n",
    "// ToString returns the current string in the StringBuilder\n",
    "Console.WriteLine(sb.ToString());"
   ],
   "outputs": [],
   "metadata": {
    "dotnet_interactive": {
     "language": "csharp"
    }
   }
  },
  {
   "cell_type": "markdown",
   "source": [
    "Some other useful methods are `Insert` and `Remove`, which can insert a given string at a given position or remove the number of characters after a given index."
   ],
   "metadata": {}
  },
  {
   "cell_type": "code",
   "execution_count": null,
   "source": [
    "StringBuilder sb = new StringBuilder(\"1 2 3 4 6 7 9 10\");\n",
    "\n",
    "// before inserts\n",
    "Console.WriteLine(sb.ToString());\n",
    "\n",
    "// insert the missing numbers\n",
    "sb.Insert(7, \" 5\")\n",
    "  .Insert(13, \" 8\");\n",
    "\n",
    "// after inserts\n",
    "Console.WriteLine(sb.ToString());\n",
    "\n",
    "// after remove\n",
    "sb.Remove(4, 12);\n",
    "\n",
    "Console.WriteLine(sb.ToString());"
   ],
   "outputs": [],
   "metadata": {
    "dotnet_interactive": {
     "language": "csharp"
    }
   }
  },
  {
   "cell_type": "markdown",
   "source": [
    "A last method is `Replace` which can replace a given string by another one, optionally between two indices."
   ],
   "metadata": {}
  },
  {
   "cell_type": "code",
   "execution_count": null,
   "source": [
    "StringBuilder sb = new StringBuilder(\"The quick br!wn d#g jumps #ver the lazy cat.\");\n",
    "\n",
    "Console.WriteLine(sb.ToString());\n",
    "\n",
    "sb.Replace(\"#\", \"o\", 15, 29);\n",
    "\n",
    "Console.WriteLine(sb.ToString());\n",
    "\n",
    "sb.Replace(\"!\", \"o\");\n",
    "\n",
    "Console.WriteLine(sb.ToString());\n",
    "\n",
    "sb.Replace(\"cat\", \"dog\")\n",
    "  .Replace(\"dog\", \"fox\", 15, 20);\n",
    "\n",
    "Console.WriteLine(sb.ToString());"
   ],
   "outputs": [],
   "metadata": {
    "dotnet_interactive": {
     "language": "csharp"
    }
   }
  }
 ],
 "nbformat": 4,
 "nbformat_minor": 2
}