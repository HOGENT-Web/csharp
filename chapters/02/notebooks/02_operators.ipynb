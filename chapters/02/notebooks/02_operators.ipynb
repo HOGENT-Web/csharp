{
 "cells": [
  {
   "cell_type": "markdown",
   "source": [
    "> Enterprise Web C#\n",
    "\n",
    "# Chapter 2 - See sharp with C#\n",
    "\n",
    "## Operators\n",
    "\n",
    "C# has lots of operators, which act the same as Java:\n",
    "* **Arithmetic operators** that perform arithmetic operations with numeric operands\n",
    "  * +, -, *, /, % (remainder), ++, --\n",
    "* **Assignment operators** that perform an assignment into an operand\n",
    "  * =, +=, -=, *=, /=, ...\n",
    "* **Comparison operators** that compare numeric operands\n",
    "  * <, >, ==, >=, <=, !=\n",
    "* **Boolean logical operators** that perform logical operations with bool operands\n",
    "  * &, |: bitwise AND, OR\n",
    "  * &&, ||: conditional AND, OR\n",
    "  * ^: XOR\n",
    "* **Bitwise and shift operators** that perform bitwise or shift operations with operands of the integral types\n",
    "  * ~: bitwise complement\n",
    "  * << and >>: left and right shift operators\n",
    "  * &, |: bitwise AND, OR\n",
    "  * ^: XOR\n",
    "* **?? operator**\n",
    "  * returns the left operand if not null, otherwise the right operand\n",
    "  * ??= assigns the right operand if the left operand is null\n",
    "* **Null conditional operator**\n",
    "  * test for null before accessing a member\n",
    "\n",
    "It's also possible to overload these operators, this will be discussed later in this course. But you can always take a look at the [documentation](https://docs.microsoft.com/en-us/dotnet/csharp/language-reference/operators/operator-overloading).\n",
    "\n",
    "\n",
    "### Examples for difficult operators"
   ],
   "metadata": {}
  },
  {
   "cell_type": "code",
   "execution_count": null,
   "source": [
    "int? x = null;\n",
    "\n",
    "// Will assign -1 to y\n",
    "int y = x ?? -1;\n",
    "\n",
    "Console.WriteLine($\"x = {x}, y = {y}\");\n",
    "\n",
    "int[] numbers = null;\n",
    "\n",
    "// will be null if numbers is null\n",
    "int? length = numbers?.Length;\n",
    "\n",
    "// null if numbers is null\n",
    "int? first = numbers?[0];\n",
    "\n",
    "Console.WriteLine($\"length = {length}, first = {first}\");"
   ],
   "outputs": [],
   "metadata": {
    "dotnet_interactive": {
     "language": "csharp"
    }
   }
  }
 ],
 "metadata": {
  "orig_nbformat": 4,
  "language_info": {
   "file_extension": ".cs",
   "mimetype": "text/x-csharp",
   "name": "C#",
   "pygments_lexer": "csharp",
   "version": "9.0"
  },
  "kernelspec": {
   "display_name": ".NET (C#)",
   "language": "C#",
   "name": ".net-csharp"
  }
 },
 "nbformat": 4,
 "nbformat_minor": 2
}