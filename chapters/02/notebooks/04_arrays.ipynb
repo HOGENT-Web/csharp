{
 "cells": [
  {
   "cell_type": "markdown",
   "source": [
    "> Enterprise Web C#\n",
    "\n",
    "# Chapter 2 - See sharp with C#"
   ],
   "metadata": {}
  },
  {
   "cell_type": "markdown",
   "source": [
    "## Arrays\n",
    "\n",
    "Arrays can be single- or multi-dimensional. Single-dimensional arrays contain only one row of elements, multi-dimensional arrays contain multiple rows of elements.\n",
    "\n",
    "### Single-dimensional"
   ],
   "metadata": {}
  },
  {
   "cell_type": "code",
   "execution_count": null,
   "source": [
    "int[] a; // declares an array of integers\n",
    "int[] b = new int[3]; // declares and initializes a new array of 3 integers\n",
    "int[] c = new int[3] { 3, 4, 5 }; // initializes c with the integers 3, 4 and 5\n",
    "int[] d = { 3, 4, 5 }; // identical to c\n",
    "int[] e;\n",
    "e = new int[3];\n",
    "\n",
    "Console.WriteLine($\"a = {a}\");\n",
    "Console.WriteLine($\"b = {b}\");\n",
    "Console.WriteLine($\"c = {c}\");\n",
    "Console.WriteLine($\"d = {d}\");\n",
    "Console.WriteLine($\"e = {e}\");"
   ],
   "outputs": [],
   "metadata": {
    "dotnet_interactive": {
     "language": "csharp"
    }
   }
  },
  {
   "cell_type": "markdown",
   "source": [
    "### Multi-dimensional\n",
    "\n",
    "Multi-dimensional arrays can be\n",
    "* rectanguler: every row has the same number of columns\n",
    "* jagged: rows can have differnt numbers of columns"
   ],
   "metadata": {}
  },
  {
   "cell_type": "code",
   "execution_count": null,
   "source": [
    "// Rectangular\n",
    "int[,] a = new int[2, 3]; // two rows, three columns\n",
    "int x = a[0, 1];\n",
    "\n",
    "// Jagged\n",
    "int[][] b = new int[2][]; // two rows, unknown number of columns\n",
    "b[0] = new int[3]; // 3 columns in the first row\n",
    "b[1] = new int[5]; // 5 columns in the second row"
   ],
   "outputs": [],
   "metadata": {
    "dotnet_interactive": {
     "language": "csharp"
    }
   }
  },
  {
   "cell_type": "markdown",
   "source": [
    "Some operations on arrays:\n",
    "* `Length`: number of elements\n",
    "* `GetLength(n)`: number of elements in dimension n\n",
    "* `Array.Copy(b, a, 2)`: copies b[0..1] to a\n",
    "* `Array.Sort(b)`: sorts b in ascending order"
   ],
   "metadata": {}
  }
 ],
 "metadata": {
  "kernelspec": {
   "display_name": ".NET (C#)",
   "language": "C#",
   "name": ".net-csharp"
  },
  "language_info": {
   "file_extension": ".cs",
   "mimetype": "text/x-csharp",
   "name": "C#",
   "pygments_lexer": "csharp",
   "version": "9.0"
  },
  "orig_nbformat": 2
 },
 "nbformat": 4,
 "nbformat_minor": 2
}