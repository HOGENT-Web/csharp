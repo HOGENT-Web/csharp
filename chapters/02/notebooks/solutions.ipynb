{
 "cells": [
  {
   "cell_type": "markdown",
   "source": [
    "> Enterprise Web C#\n",
    "\n",
    "# Chapter 2 - See sharp with C#\n",
    "\n",
    "## Exercises\n",
    "\n",
    "### Strings\n",
    "\n",
    "1. Complete the following function which returns the string \"something\" joined with a space \" \" and the given argument `a`."
   ],
   "metadata": {}
  },
  {
   "cell_type": "code",
   "execution_count": null,
   "source": [
    "string GiveMeSomething(string a) {\n",
    "  // return \"something \" + a;\n",
    "  return $\"something {a}\";\n",
    "}\n",
    "\n",
    "Console.WriteLine(GiveMeSomething(\"is better than nothing\")); // Output: something is better than nothing\n",
    "Console.WriteLine(GiveMeSomething(\"Bob Jane\")); // Output: something Bob Jane\n",
    "Console.WriteLine(GiveMeSomething(\"something\")); // Output: something something"
   ],
   "outputs": [],
   "metadata": {
    "dotnet_interactive": {
     "language": "csharp"
    }
   }
  },
  {
   "cell_type": "markdown",
   "source": [
    "2. Complete the following function. It should greet users. However the developer who wrote this function is in love with **Mubashir** and would like to greet him slightly different.\r\n",
    "\r\n",
    "Hint: `if` works the same as Java, even `==` works with strings!"
   ],
   "metadata": {}
  },
  {
   "cell_type": "code",
   "execution_count": null,
   "source": [
    "string Greet(string name) {\n",
    "  if (name == \"Mubashir\") return \"Hello, my Love!\";\n",
    "  return $\"Hello, {name}!\";\n",
    "}\n",
    "\n",
    "Console.WriteLine(Greet(\"Matt\")); // Output: Hello, Matt!\n",
    "Console.WriteLine(Greet(\"Helen\")); // Output: Hello, Helen!\n",
    "Console.WriteLine(Greet(\"Mubashir\")); // Output: Hello, my Love!"
   ],
   "outputs": [],
   "metadata": {
    "dotnet_interactive": {
     "language": "csharp"
    }
   }
  },
  {
   "cell_type": "markdown",
   "source": [
    "3. Complete the following function which returns `true` if the given string is empty. A string containing only whitespaces does **not** count as empty."
   ],
   "metadata": {}
  },
  {
   "cell_type": "code",
   "execution_count": null,
   "source": [
    "bool IsEmpty(string str) {\n",
    "  return string.IsNullOrEmpty(str);\n",
    "}\n",
    "\n",
    "Console.WriteLine(IsEmpty(\"\")); // Output: True\n",
    "Console.WriteLine(IsEmpty(\" \")); // Output: False\n",
    "Console.WriteLine(IsEmpty(\"a\")); // Output: False"
   ],
   "outputs": [],
   "metadata": {
    "dotnet_interactive": {
     "language": "csharp"
    }
   }
  },
  {
   "cell_type": "markdown",
   "source": [
    "4. Complete the following function which compares two given strings by length. It should return `true` if both strings have the **same length**."
   ],
   "metadata": {}
  },
  {
   "cell_type": "markdown",
   "source": [
    "5. Complete the following function that takes two numbers and a mathematical operator and returns the result."
   ],
   "metadata": {}
  },
  {
   "cell_type": "code",
   "execution_count": null,
   "source": [
    "int? Calculate(int num1, int num2, string operation) {\n",
    "  if (operation == \"+\") return num1 + num2;\n",
    "  if (operation == \"-\") return num1 - num2;\n",
    "  if (operation == \"*\") return num1 * num2;\n",
    "  if (operation == \"%\") return num1 % num2;\n",
    "  if (operation == \"/\") return num1 / num2;\n",
    "  return null;\n",
    "}\n",
    "\n",
    "Console.WriteLine(Calculate(4, 9, \"+\")); // Output: 13\n",
    "Console.WriteLine(Calculate(12, 5, \"-\")); // Output: 7\n",
    "Console.WriteLine(Calculate(6, 3, \"*\")); // Output: 18\n",
    "Console.WriteLine(Calculate(14, 3, \"%\")); // Output: 2\n",
    "Console.WriteLine(Calculate(6, 3, \"/\")); // Output: 2\n",
    "Console.WriteLine(\"this should show nothing -> \" + Calculate(6, 3, \"invalid\")); // Output: null (won't show in output)"
   ],
   "outputs": [],
   "metadata": {
    "dotnet_interactive": {
     "language": "csharp"
    }
   }
  },
  {
   "cell_type": "markdown",
   "source": [
    "6. Complete the following function which reverses the case of a given string. All lower-cased letters should be upper-cased, and vice versa."
   ],
   "metadata": {}
  },
  {
   "cell_type": "code",
   "execution_count": null,
   "source": [
    "string ReverseCase(string str) {\n",
    "  string result = \"\";\n",
    "  foreach (char kar in str) {\n",
    "    if (kar >= 'a' && kar <= 'z') {\n",
    "      result += (char) (kar + 'A' - 'a');\n",
    "    } else if (kar >= 'A' && kar <= 'Z') {\n",
    "      result += (char) (kar + 'a' - 'A');\n",
    "    } else {\n",
    "      result += kar;\n",
    "    }\n",
    "  }\n",
    "  return result;\n",
    "}\n",
    "\n",
    "Console.WriteLine(ReverseCase(\"Happy Birthday\")); // Output: hAPPY bIRTHDAY\n",
    "\n",
    "Console.WriteLine(ReverseCase(\"MANY THANKS\")); // Output: many thanks\n",
    "\n",
    "Console.WriteLine(ReverseCase(\"sPoNtAnEoUs\")); // Output: SpOnTaNeOuS\n",
    "\n",
    "Console.WriteLine(ReverseCase(\"h€11O W0rLd\")); // Output: H€11o w0RlD"
   ],
   "outputs": [],
   "metadata": {
    "dotnet_interactive": {
     "language": "csharp"
    }
   }
  },
  {
   "cell_type": "markdown",
   "source": [
    "7. Complete the following function that finds the word `\"bomb\"` in the given string (not case sensitive). If found, return `\"Duck!!!\"`, otherwise, return `\"There is no bomb, relax.\"`."
   ],
   "metadata": {}
  },
  {
   "cell_type": "code",
   "execution_count": null,
   "source": [
    "string Bomb(string input) {\n",
    "  if (input.Contains(\"bomb\", StringComparison.OrdinalIgnoreCase)) {\n",
    "    return \"Duck!!!\";\n",
    "  }\n",
    "  return \"There is no bomb, relax.\";\n",
    "}\n",
    "\n",
    "Console.WriteLine(Bomb(\"There is a bomb.\")); // Output: Duck!!!\n",
    "\n",
    "Console.WriteLine(Bomb(\"Hey, did you think there is a bomb?\")); // Output: \"Duck!!!\"\n",
    "\n",
    "Console.WriteLine(Bomb(\"This goes boom!!!\")); // Output: \"There is no bomb, relax.\""
   ],
   "outputs": [],
   "metadata": {
    "dotnet_interactive": {
     "language": "csharp"
    }
   }
  },
  {
   "cell_type": "markdown",
   "source": [
    "8. Complete the following function which checks if the given word is an isogram. An isogram is a word that has no duplicate letters. You can assume only letters are passed, no special characters or numbers. This function is case insensitive."
   ],
   "metadata": {}
  },
  {
   "cell_type": "code",
   "execution_count": null,
   "source": [
    "bool IsIsogram(string input) {\n",
    "  bool[] seen = new bool[26];\n",
    "\n",
    "  for (int i = 0; i < input.Length; i++) {\n",
    "    char kar = input[i];\n",
    "    // always convert the character to one case (uppper case in this example)\n",
    "    if (kar >= 'a') {\n",
    "      kar = (char) (kar + 'A' - 'a');\n",
    "    }\n",
    "    \n",
    "    // If we've seen the character, immediately return false\n",
    "    if (seen[kar - 'A']) return false;\n",
    "    seen[kar - 'A'] = true;\n",
    "  }\n",
    "\n",
    "  // we're certain it's an isogram\n",
    "  return true;\n",
    "}\n",
    "\n",
    "Console.WriteLine(IsIsogram(\"Algorism\")); // Output: True\n",
    "\n",
    "Console.WriteLine(IsIsogram(\"PasSword\")); // Output: False\n",
    "// Not case sensitive.\n",
    "\n",
    "Console.WriteLine(IsIsogram(\"Consecutive\")); // Output: False"
   ],
   "outputs": [],
   "metadata": {
    "dotnet_interactive": {
     "language": "csharp"
    }
   }
  },
  {
   "cell_type": "markdown",
   "source": [
    "9. Usually when you sign up for an account to buy something, your credit card number, phone number or answer to a secret question is partially obscured in some way. Since someone could look over your shoulder, you don't want that shown on your screen. Hence, the website masks these strings. Complete the following function which masks a given string. It transforms all but the last four characters into \"#\" and returns the new masked string.\n",
    "\n",
    "Hint: check all different [constructors of a string](https://docs.microsoft.com/en-us/dotnet/api/system.string?view=net-5.0#constructors)"
   ],
   "metadata": {}
  },
  {
   "cell_type": "code",
   "execution_count": null,
   "source": [
    "string Maskify(string str) {\n",
    "  if (str.Length <= 4) return str;\n",
    "  return new string('#', str.Length - 4) + str.Substring(str.Length - 4);\n",
    "}\n",
    "\n",
    "Console.WriteLine(Maskify(\"4556364607935616\")); // Output: ############5616\n",
    "\n",
    "Console.WriteLine(Maskify(\"64607935616\")); // Output: #######5616\n",
    "\n",
    "Console.WriteLine(Maskify(\"1\")); // Output: 1\n",
    "\n",
    "Console.WriteLine(Maskify(\"\")); // Output: (nothing)"
   ],
   "outputs": [],
   "metadata": {
    "dotnet_interactive": {
     "language": "csharp"
    }
   }
  },
  {
   "cell_type": "markdown",
   "source": [
    "10. Someone has attempted to censor our strings by replacing every vowel with a \\*, l\\*k\\* th\\*s. Luckily, we've been able to find the vowels that were removed. Given a censored string and a string of the censored vowels, return the original uncensored string. You can assume no null values will be passed and you have enough vowels."
   ],
   "metadata": {}
  },
  {
   "cell_type": "code",
   "execution_count": null,
   "source": [
    "string Uncensor(string input, string vowels) {\n",
    "  if (String.IsNullOrEmpty(vowels)) return input;\n",
    "\n",
    "  int vowelCount = 0;\n",
    "  string result = \"\";\n",
    "\n",
    "  foreach (char kar in input) {\n",
    "    if (kar == '*') {\n",
    "      result += vowels[vowelCount];\n",
    "      vowelCount += 1;\n",
    "    } else {\n",
    "      result += kar;\n",
    "    }\n",
    "  }\n",
    "\n",
    "  return result;\n",
    "}\n",
    "\n",
    "Console.WriteLine(Uncensor(\"Wh*r* d*d my v*w*ls g*?\", \"eeioeo\")); // Output: Where did my vowels go?\n",
    "\n",
    "Console.WriteLine(Uncensor(\"abcd\", \"\")); // Output: abcd\n",
    "\n",
    "Console.WriteLine(Uncensor(\"*PP*RC*S*\", \"UEAE\")); // Output: UPPERCASE"
   ],
   "outputs": [],
   "metadata": {
    "dotnet_interactive": {
     "language": "csharp"
    }
   }
  },
  {
   "cell_type": "markdown",
   "source": [
    "<br />"
   ],
   "metadata": {}
  },
  {
   "cell_type": "markdown",
   "source": [
    "### Date and Time\n",
    "\n",
    "1. Complete the following function. The function takes a `DateTime` as argument and returns the date a week after."
   ],
   "metadata": {}
  },
  {
   "cell_type": "code",
   "execution_count": null,
   "source": [
    "DateTime WeekAfter(DateTime date) {\n",
    "  return date + new TimeSpan(7, 0, 0, 0); // 7 days, 0 hours, 0 minutes, 0 seconds\n",
    "}\n",
    "\n",
    "Console.WriteLine(WeekAfter(new DateTime(2020, 3, 12))); // Output: 19/03/2020 0:00:00\n",
    "\n",
    "Console.WriteLine(WeekAfter(new DateTime(1989, 12, 21))); // Output: 28/12/1989 0:00:00\n",
    "\n",
    "Console.WriteLine(WeekAfter(new DateTime(2000, 1, 1))); // Output: 08/01/2000 0:00:00"
   ],
   "outputs": [],
   "metadata": {
    "dotnet_interactive": {
     "language": "csharp"
    }
   }
  },
  {
   "cell_type": "markdown",
   "source": [
    "2. Complete the following function. The function takes a `DateTime` as argument and returns `true` if it's Christmas Eve (December 24th), otherwise `false`."
   ],
   "metadata": {}
  },
  {
   "cell_type": "code",
   "execution_count": null,
   "source": [
    "bool IsChristmasEve(DateTime date) {\n",
    "  return date.Day == 24 && date.Month == 12;\n",
    "}\n",
    "\n",
    "Console.WriteLine(IsChristmasEve(new DateTime(2013, 12, 24))); // Output: True\n",
    "Console.WriteLine(IsChristmasEve(new DateTime(2013, 2, 28))); // Output: False\n",
    "Console.WriteLine(IsChristmasEve(new DateTime(3000, 12, 24))); // Output: True"
   ],
   "outputs": [],
   "metadata": {
    "dotnet_interactive": {
     "language": "csharp"
    }
   }
  },
  {
   "cell_type": "markdown",
   "source": [
    "3. Complete the following function which takes the month and years and returns the number of days in that month.\n",
    "\n",
    "Hint: There might be a helper method for this in the [documentation](https://docs.microsoft.com/en-us/dotnet/api/system.datetime?view=net-5.0#methods)."
   ],
   "metadata": {}
  },
  {
   "cell_type": "code",
   "execution_count": null,
   "source": [
    "\n",
    "int Days(int month, int year) {\n",
    "  return DateTime.DaysInMonth(year, month);\n",
    "}\n",
    "\n",
    "Console.WriteLine(Days(2, 2018)); // Output: 28\n",
    "Console.WriteLine(Days(4, 654)); // Output: 30\n",
    "Console.WriteLine(Days(2, 1996)); // Output: 29\n",
    "Console.WriteLine(Days(7, 2021)); // Output: 31"
   ],
   "outputs": [],
   "metadata": {
    "dotnet_interactive": {
     "language": "csharp"
    }
   }
  },
  {
   "cell_type": "markdown",
   "source": [
    "<br />"
   ],
   "metadata": {}
  },
  {
   "cell_type": "markdown",
   "source": [
    "### StringBuilder\n",
    "\n",
    "1. Complete the following function which reverses the case of a given string. All lower-cased letters should be upper-cased, and vice versa. Use a `StringBuilder` this time."
   ],
   "metadata": {}
  },
  {
   "cell_type": "code",
   "execution_count": null,
   "source": [
    "string ReverseCase(string str) {\n",
    "  StringBuilder result = new StringBuilder(\"\");\n",
    "  foreach (char kar in str) {\n",
    "    if (kar >= 'a' && kar <= 'z') {\n",
    "      result.Append((char) (kar + 'A' - 'a'));\n",
    "    } else if (kar >= 'A' && kar <= 'Z') {\n",
    "      result.Append((char) (kar + 'a' - 'A'));\n",
    "    } else {\n",
    "      result.Append(kar);\n",
    "    }\n",
    "  }\n",
    "  return result.ToString();\n",
    "}\n",
    "\n",
    "Console.WriteLine(ReverseCase(\"Happy Birthday\")); // Output: hAPPY bIRTHDAY\n",
    "\n",
    "Console.WriteLine(ReverseCase(\"MANY THANKS\")); // Output: many thanks\n",
    "\n",
    "Console.WriteLine(ReverseCase(\"sPoNtAnEoUs\")); // Output: SpOnTaNeOuS\n",
    "\n",
    "Console.WriteLine(ReverseCase(\"h€11O W0rLd\")); // Output: H€11o w0RlD"
   ],
   "outputs": [],
   "metadata": {
    "dotnet_interactive": {
     "language": "csharp"
    }
   }
  },
  {
   "cell_type": "markdown",
   "source": [
    "2. Complete the following function which takes a strings characters as ASCII and returns each characters hexadecimal value as a string."
   ],
   "metadata": {}
  },
  {
   "cell_type": "code",
   "execution_count": null,
   "source": [
    "string ConvertToHex(string input) {\n",
    "  StringBuilder result = new StringBuilder();\n",
    "\n",
    "  foreach (char kar in input) {\n",
    "    result.AppendFormat(\"{0:X} \", (int) kar);\n",
    "  }\n",
    "\n",
    "  return result.ToString().TrimEnd();\n",
    "}\n",
    "\n",
    "Console.WriteLine(ConvertToHex(\"hello world\")); // Output: 68 65 6C 6C 6f 20 77 6f 72 6C 64\n",
    "\n",
    "Console.WriteLine(ConvertToHex(\"Big Boi\")); // Output: 42 69 67 20 42 6F 69\n",
    "\n",
    "Console.WriteLine(ConvertToHex(\"Marty Poppinson\")); // Output: 4D 61 72 74 79 20 50 6F 70 70 69 6e 73 6F 6E"
   ],
   "outputs": [],
   "metadata": {
    "dotnet_interactive": {
     "language": "csharp"
    }
   }
  },
  {
   "cell_type": "markdown",
   "source": [
    "3. Let's flip things around. Complete the following function to produce the given output. Don't hard code anything!"
   ],
   "metadata": {}
  },
  {
   "cell_type": "code",
   "execution_count": null,
   "source": [
    "string Mystery(string input) {\n",
    "  StringBuilder result = new StringBuilder();\n",
    "  \n",
    "  for (int i = 0; i < input.Length; i += 2) {\n",
    "    int count = input[i + 1] - '0';\n",
    "    result.Append(new string(input[i], count));\n",
    "  }\n",
    "\n",
    "  return result.ToString();\n",
    "}\n",
    "\n",
    "Console.WriteLine(Mystery(\"A4B5C2\")); // Output: AAAABBBBBCC\n",
    "\n",
    "Console.WriteLine(Mystery(\"C2F1E5\")); // Output: CCFEEEEE\n",
    "\n",
    "Console.WriteLine(Mystery(\"T4S2V2\")); // Output: TTTTSSVV\n",
    "\n",
    "Console.WriteLine(Mystery(\"A1B2C3D4\")); // Output: ABBCCCDDDD"
   ],
   "outputs": [],
   "metadata": {
    "dotnet_interactive": {
     "language": "csharp"
    }
   }
  },
  {
   "cell_type": "markdown",
   "source": [
    "4. Complete the following function which encrypts a given string. Read all about [Caeser Cipher](https://en.wikipedia.org/wiki/Caesar_cipher) and then complete the function. You can assume all characters will be in uppercase."
   ],
   "metadata": {}
  },
  {
   "cell_type": "code",
   "execution_count": null,
   "source": [
    "string CaeserCipher(string input, int key) {\n",
    "  StringBuilder result = new StringBuilder();\n",
    "\n",
    "  foreach (char kar in input) {\n",
    "    if (kar >= 'A' && kar <= 'Z') {\n",
    "      int diff = kar - 'A' - key;\n",
    "      // We can't do modulo as it won't change negative numbers\n",
    "      if (diff < 0) diff += 26;\n",
    "      int shifted = diff + 'A';\n",
    "      result.Append((char) shifted);\n",
    "    } else {\n",
    "      result.Append(kar);\n",
    "    }\n",
    "  }\n",
    "\n",
    "  return result.ToString();\n",
    "}\n",
    "\n",
    "Console.WriteLine(CaeserCipher(\"THE QUICK BROWN FOX JUMPS OVER THE LAZY DOG\", 3));\n",
    "// Output: QEB NRFZH YOLTK CLU GRJMP LSBO QEB IXWV ALD\n",
    "\n",
    "Console.WriteLine(CaeserCipher(\"WILL YOU ENCRYPT THIS FOR ME\", 15));\n",
    "// Output: HTWW JZF PYNCJAE ESTD QZC XP\n",
    "\n",
    "Console.WriteLine(CaeserCipher(\"I LOVE CSHARP\", 6));\n",
    "// Output: C FIPY WMBULJ"
   ],
   "outputs": [],
   "metadata": {
    "dotnet_interactive": {
     "language": "csharp"
    }
   }
  },
  {
   "cell_type": "markdown",
   "source": [
    "<br />"
   ],
   "metadata": {}
  },
  {
   "cell_type": "markdown",
   "source": [
    "5. Complete the following functions which each take a single string and convert it into either camelCase or snake_case. If you're not sure what these terms mean, google it."
   ],
   "metadata": {}
  },
  {
   "cell_type": "code",
   "execution_count": null,
   "source": [
    "string ToCamelCase(string input) {\n",
    "  StringBuilder result = new StringBuilder(input);\n",
    "\n",
    "  for (int i = 0; i < result.Length; i++) {\n",
    "    if (result[i] == '_') {\n",
    "      result.Remove(i, 1);\n",
    "      result[i] = char.ToUpper(result[i]);\n",
    "    }\n",
    "  }\n",
    "\n",
    "  return result.ToString();\n",
    "}\n",
    "\n",
    "string ToSnakeCase(string input) {\n",
    "  StringBuilder result = new StringBuilder(input);\n",
    "\n",
    "  for (int i = 0; i < result.Length; i++) {\n",
    "    if (result[i] >= 'A' && result[i] <= 'Z') {\n",
    "      result.Insert(i + 1, $\"_{char.ToLower(result[i])}\");\n",
    "      result.Remove(i, 1);\n",
    "      i++;\n",
    "    }\n",
    "  }\n",
    "\n",
    "  return result.ToString();\n",
    "}\n",
    "\n",
    "Console.WriteLine(ToCamelCase(\"hello_edabit\")); // Output: helloEdabit\n",
    "\n",
    "Console.WriteLine(ToSnakeCase(\"helloEdabit\")); // Output: hello_edabit\n",
    "\n",
    "Console.WriteLine(ToCamelCase(\"is_modal_open\")); // Output: isModalOpen\n",
    "\n",
    "Console.WriteLine(ToSnakeCase(\"getColor\")); // Output: get_color"
   ],
   "outputs": [],
   "metadata": {
    "dotnet_interactive": {
     "language": "csharp"
    }
   }
  },
  {
   "cell_type": "markdown",
   "source": [
    "### Control statements\n",
    "\n",
    "1. Complete the following function which returns if a number is Oddish or Evenish. A number is Oddish if the sum of all of its digits is odd, and a number is Evenish if the sum of all of its digits is even. If a number is Oddish, return \"Oddish\". Otherwise, return \"Evenish\"."
   ],
   "metadata": {}
  },
  {
   "cell_type": "code",
   "execution_count": null,
   "source": [
    "string OddishOrEvenish(int number) {\n",
    "  int sum = 0;\n",
    "  while (number > 0) {\n",
    "    sum += number % 10;\n",
    "    number /= 10;\n",
    "  }\n",
    "  return sum % 2 == 0 ? \"Evenish\" : \"Oddish\";\n",
    "}\n",
    "\n",
    "Console.WriteLine(OddishOrEvenish(43)); // Output: Oddish\n",
    "// 4 + 3 = 7\n",
    "// 7 % 2 = 1\n",
    "\n",
    "Console.WriteLine(OddishOrEvenish(373)); // Output: Oddish\n",
    "// 3 + 7 + 3 = 13\n",
    "// 13 % 2 = 1\n",
    "\n",
    "Console.WriteLine(OddishOrEvenish(4433)); // Output: Evenish\n",
    "// 4 + 4 + 3 + 3 = 14\n",
    "// 14 % 2 = 0"
   ],
   "outputs": [],
   "metadata": {
    "dotnet_interactive": {
     "language": "csharp"
    }
   }
  },
  {
   "cell_type": "markdown",
   "source": [
    "2. Complete the following function which takes an integer array and returns the biggest between positive sum, negative sum, or 0s count. The major is understood as the greatest absolute.\n",
    "\n",
    "arr = {1,2,3,4,0,0,-3,-2}, the function has to return 10, because:\n",
    "\n",
    "* Positive sum = 1+2+3+4 = 10\n",
    "* Negative sum = (-3)+(-2) = -5\n",
    "* 0s count = 2 (there are two zeros in array)"
   ],
   "metadata": {}
  },
  {
   "cell_type": "code",
   "execution_count": null,
   "source": [
    "int MajorSum(int[] numbers) {\n",
    "  int posSum = 0, negSum = 0, zeroCount = 0;\n",
    "\n",
    "  foreach (int number in numbers) {\n",
    "    if (number > 0) posSum += number;\n",
    "    if (number < 0) negSum += number;\n",
    "    if (number == 0) zeroCount += 1;\n",
    "  }\n",
    "\n",
    "  if (posSum > (-1) * negSum && posSum > zeroCount) return posSum;\n",
    "  if ((-1) * negSum > zeroCount) return negSum;\n",
    "  return zeroCount;\n",
    "}\n",
    "\n",
    "Console.WriteLine(MajorSum(new int[] { 1, 2, 3, 4, 0, 0, -3, -2 })); // Output: 10\n",
    "\n",
    "Console.WriteLine(MajorSum(new int[] { -4, -8, -12, -3, 4, 7, 1, 3, 0, 0, 0, 0 })); // Output: -27\n",
    "\n",
    "Console.WriteLine(MajorSum(new int[] { 0, 0, 0, 0, 0, 1, 2, -3 })); // Output: 5\n",
    "// Because -3 < 1+2 < 0sCount = 5"
   ],
   "outputs": [],
   "metadata": {
    "dotnet_interactive": {
     "language": "csharp"
    }
   }
  },
  {
   "cell_type": "markdown",
   "source": [
    "3. Complete the following function which takes a string as an argument and returns a coded (h4ck3r 5p34k) version of the string. In order to work properly, the function should replace all `a`s with 4, `e`s with 3, `i`s with 1, `o`s with 0, and `s`s with 5. You can assume the input is in lowercase. Do not use `String.Replace`."
   ],
   "metadata": {}
  },
  {
   "cell_type": "code",
   "execution_count": null,
   "source": [
    "string HackerSpeak(string input) {\n",
    "  StringBuilder result = new StringBuilder();\n",
    "\n",
    "  foreach (char kar in input) {\n",
    "    // switch is also possible but so much code...\n",
    "    if (kar == 'a') result.Append('4');\n",
    "    else if (kar == 'e') result.Append('3');\n",
    "    else if (kar == 'i') result.Append('1');\n",
    "    else if (kar == 'o') result.Append('0');\n",
    "    else if (kar == 's') result.Append('5');\n",
    "    else result.Append(kar);\n",
    "  }\n",
    "\n",
    "  return result.ToString();\n",
    "}\n",
    "\n",
    "Console.WriteLine(HackerSpeak(\"javascript is cool\")); // Output: j4v45cr1pt 15 c00l\n",
    "\n",
    "Console.WriteLine(HackerSpeak(\"programming is fun\")); // Output: pr0gr4mm1ng 15 fun\n",
    "\n",
    "Console.WriteLine(HackerSpeak(\"become a coder\")); // Output: b3c0m3 4 c0d3r"
   ],
   "outputs": [],
   "metadata": {
    "dotnet_interactive": {
     "language": "csharp"
    }
   }
  },
  {
   "cell_type": "markdown",
   "source": [
    "4. Complete the following function which takes a string and returns a new string with each new character accumulating by +1. Separate each set with a dash."
   ],
   "metadata": {}
  },
  {
   "cell_type": "code",
   "execution_count": null,
   "source": [
    "string Accum(string input) {\n",
    "  StringBuilder result = new StringBuilder();\n",
    "  int repeat = 0;\n",
    "\n",
    "  foreach (char kar in input) {\n",
    "    result\n",
    "      .Append(char.ToUpper(kar))\n",
    "      .Append(new string(kar, repeat))\n",
    "      .Append('-');\n",
    "    repeat++;\n",
    "  }\n",
    "\n",
    "  return result.ToString();\n",
    "}\n",
    "\n",
    "Console.WriteLine(Accum(\"abcd\")); // Output: A-Bb-Ccc-Dddd\n",
    "\n",
    "Console.WriteLine(Accum(\"RqaEzty\")); // Output: R-Qq-Aaa-Eeee-Zzzzz-Tttttt-Yyyyyyy\n",
    "\n",
    "Console.WriteLine(Accum(\"cwAt\")); // Output: C-Ww-Aaa-Tttt"
   ],
   "outputs": [],
   "metadata": {
    "dotnet_interactive": {
     "language": "csharp"
    }
   }
  },
  {
   "cell_type": "markdown",
   "source": [
    "5. Given two words, the letter distance is calculated by taking the absolute value of the difference in character codes and summing up the difference. If one word is longer than another, add the difference in lengths towards the score.\n",
    "\n",
    "To illustrate:\n",
    "\n",
    "```\n",
    "letterDistance(\"house\", \"fly\") = dist(\"h\", \"f\") + dist(\"o\", \"l\") + dist(\"u\", \"y\") + dist(\"house\".Length, \"fly\".Length)\n",
    "\n",
    "= |104 - 102| + |111 - 108| + |117 - 121| + |5 - 3|\n",
    "= 2 + 3 + 4 + 2\n",
    "= 11\n",
    "```"
   ],
   "metadata": {}
  },
  {
   "cell_type": "code",
   "execution_count": null,
   "source": [
    "int LetterDistance(string str1, string str2) {\n",
    "  int score = 0;\n",
    "  int minLength = Math.Min(str1.Length, str2.Length);\n",
    "\n",
    "  for (int i = 0; i < minLength; i++) {\n",
    "    score += Math.Abs(str1[i] - str2[i]);\n",
    "  }\n",
    "\n",
    "  score += Math.Abs(str1.Length - str2.Length);\n",
    "\n",
    "  return score;\n",
    "}\n",
    "\n",
    "Console.WriteLine(LetterDistance(\"sharp\", \"sharq\")); // Output: 1\n",
    "\n",
    "Console.WriteLine(LetterDistance(\"abcde\", \"Abcde\")); // Output: 32\n",
    "\n",
    "Console.WriteLine(LetterDistance(\"abcde\", \"bcdef\")); // Output: 5"
   ],
   "outputs": [],
   "metadata": {
    "dotnet_interactive": {
     "language": "csharp"
    }
   }
  },
  {
   "cell_type": "markdown",
   "source": [
    "6. Consider the following operation on an arbitrary positive integer:\n",
    "\n",
    "If `n` is even -> `n / 2`\n",
    "If `n` is odd -> `n * 3 + 1`\n",
    "\n",
    "Complete the following function to repeatedly evaluate these operations, until reaching 1. Return the number of steps it took.\n",
    "\n",
    "See the following example, using `10` as the input, with 6 steps:\n",
    "\n",
    "10 is even - 10 / 2 = 5\n",
    "5 is odd - 5 * 3 + 1 = 16\n",
    "16 is even - 16 / 2 = 8\n",
    "8 is even - 8 / 2 = 4\n",
    "4 is even - 4 / 2 = 2\n",
    "2 is even - 2 / 2 = 1 -> Reached 1, so return `6`"
   ],
   "metadata": {}
  },
  {
   "cell_type": "code",
   "execution_count": null,
   "source": [
    "int Collatz(int n) {\n",
    "  int steps = 0;\n",
    "\n",
    "  while (n > 1) {\n",
    "    if (n % 2 == 0) n /= 2;\n",
    "    else n = (3 * n) + 1;\n",
    "    steps++;\n",
    "  }\n",
    "\n",
    "  return steps;\n",
    "}\n",
    "\n",
    "Console.WriteLine(Collatz(2)); // Output: 1\n",
    "\n",
    "Console.WriteLine(Collatz(3)); // Output: 7\n",
    "\n",
    "Console.WriteLine(Collatz(10)); // Output: 6"
   ],
   "outputs": [],
   "metadata": {
    "dotnet_interactive": {
     "language": "csharp"
    }
   }
  },
  {
   "cell_type": "markdown",
   "source": [
    "<br />"
   ],
   "metadata": {}
  },
  {
   "cell_type": "markdown",
   "source": [
    "### Bit operations\n",
    "\n",
    "1. Complete the following function which returns `true` is bit `i` is `1` in `n`, otherwise `false`. The least significant bit is bit 0, the most significant bit is n - 1 (n is the total number of bits)."
   ],
   "metadata": {}
  },
  {
   "cell_type": "code",
   "execution_count": null,
   "source": [
    "bool IsSet(int number, int i) {\n",
    "  int bit = (number >> i) & 1;\n",
    "  return bit == 1;\n",
    "}\n",
    "\n",
    "Console.WriteLine(IsSet(27, 1)); // Output: True\n",
    "Console.WriteLine(IsSet(27, 2)); // Output: False\n",
    "Console.WriteLine(IsSet(1024, 10)); // Output: True\n",
    "Console.WriteLine(IsSet(1234, 3)); // Output: False\n",
    "Console.WriteLine(IsSet(32, 7)); // Output: False\n",
    "Console.WriteLine(IsSet(54897, 9)); // Output: True"
   ],
   "outputs": [],
   "metadata": {
    "dotnet_interactive": {
     "language": "csharp"
    }
   }
  },
  {
   "cell_type": "markdown",
   "source": [
    "2. Complete the following function which returns an integer with only bit `i` set (= `1`). The least significant bit is bit 0."
   ],
   "metadata": {}
  },
  {
   "cell_type": "code",
   "execution_count": null,
   "source": [
    "int OneBit(int i) {\n",
    "  return 1 << i;\n",
    "}\n",
    "\n",
    "Console.WriteLine(OneBit(0)); // Output: 1\n",
    "Console.WriteLine(OneBit(1)); // Output: 2\n",
    "Console.WriteLine(OneBit(2)); // Output: 4\n",
    "Console.WriteLine(OneBit(3)); // Output: 8\n",
    "Console.WriteLine(OneBit(4)); // Output: 16\n",
    "Console.WriteLine(OneBit(5)); // Output: 32\n",
    "Console.WriteLine(OneBit(6)); // Output: 64"
   ],
   "outputs": [],
   "metadata": {
    "dotnet_interactive": {
     "language": "csharp"
    }
   }
  },
  {
   "cell_type": "markdown",
   "source": [
    "3. Complete the following function which returns the number of set bits (= `1`) in `n`."
   ],
   "metadata": {}
  },
  {
   "cell_type": "code",
   "execution_count": null,
   "source": [
    "int NrOfSetBits(int n) {\n",
    "  int count = 0;\n",
    "\n",
    "  while (n > 0) {\n",
    "    count += n & 1;\n",
    "    n >>= 1;\n",
    "  }\n",
    "\n",
    "  return count;\n",
    "}\n",
    "\n",
    "Console.WriteLine(NrOfSetBits(27)); // Output: 4\n",
    "Console.WriteLine(NrOfSetBits(1024)); // Output: 1\n",
    "Console.WriteLine(NrOfSetBits(1234)); // Output: 5\n",
    "Console.WriteLine(NrOfSetBits(32)); // Output: 1\n",
    "Console.WriteLine(NrOfSetBits(54897)); // Output: 9"
   ],
   "outputs": [],
   "metadata": {
    "dotnet_interactive": {
     "language": "csharp"
    }
   }
  },
  {
   "cell_type": "markdown",
   "source": [
    "4. Complete the following function which flips bit `i` (`0` becomes `1` and vice versa) in `n`."
   ],
   "metadata": {}
  },
  {
   "cell_type": "code",
   "execution_count": null,
   "source": [
    "int FlipBit(int n, int i) {\n",
    "  return n ^ OneBit(i);\n",
    "}\n",
    "\n",
    "Console.WriteLine(FlipBit(27, 2)); // Output: 31\n",
    "Console.WriteLine(FlipBit(1024, 6)); // Output: 1088\n",
    "Console.WriteLine(FlipBit(1234, 10)); // Output: 210\n",
    "Console.WriteLine(FlipBit(32, 5)); // Output: 0\n",
    "Console.WriteLine(FlipBit(54897, 9)); // Output: 54385"
   ],
   "outputs": [],
   "metadata": {
    "dotnet_interactive": {
     "language": "csharp"
    }
   }
  },
  {
   "cell_type": "markdown",
   "source": [
    "5. Complete the following function which returns `true` if `x` and `y` are equal, otherwise `false`. You can't use the `==` operator."
   ],
   "metadata": {}
  },
  {
   "cell_type": "code",
   "execution_count": null,
   "source": [
    "bool AreEqual(int x, int y) {\n",
    "  return (x ^ y) == 0;\n",
    "}\n",
    "\n",
    "Console.WriteLine(AreEqual(12, 12)); // Output: True\n",
    "Console.WriteLine(AreEqual(123, 321)); // Output: False\n",
    "Console.WriteLine(AreEqual(2048, 2048)); // Output: True\n",
    "Console.WriteLine(AreEqual(7, 8)); // Output: False"
   ],
   "outputs": [],
   "metadata": {
    "dotnet_interactive": {
     "language": "csharp"
    }
   }
  },
  {
   "cell_type": "markdown",
   "source": [
    "6. Complete the following function which returns `true` if `n` is even, otherwise `false`. You can't use the `%` operator.\n",
    "\n",
    "Hint: write a even and odd number in bits and spot the difference."
   ],
   "metadata": {}
  },
  {
   "cell_type": "code",
   "execution_count": null,
   "source": [
    "bool IsEven(int n) {\n",
    "  return (n & 1) == 0;\n",
    "}\n",
    "\n",
    "Console.WriteLine(IsEven(12)); // Output: True\n",
    "Console.WriteLine(IsEven(123)); // Output: False\n",
    "Console.WriteLine(IsEven(2048)); // Output: True\n",
    "Console.WriteLine(IsEven(7)); // Output: False"
   ],
   "outputs": [],
   "metadata": {
    "dotnet_interactive": {
     "language": "csharp"
    }
   }
  },
  {
   "cell_type": "markdown",
   "source": [
    "7. Complete the following function which returns the bit representation of the given number. Make groups of 4 bits and the first bit printed is the most significant one (i.e. we print the bits in [big endian](https://nl.wikipedia.org/wiki/Endianness)). Fill any remaining space of a group of 4 with zeroes.\n",
    "\n",
    "Hint: write the bits first in [little endian](https://nl.wikipedia.org/wiki/Endianness) and then reverse the string."
   ],
   "metadata": {}
  },
  {
   "cell_type": "code",
   "execution_count": null,
   "source": [
    "string ToBitString(int number) {\n",
    "  StringBuilder bits = new StringBuilder();\n",
    "  int count = 0;\n",
    "\n",
    "  while (number > 0) {\n",
    "    count++;\n",
    "\n",
    "    int bit = number & 1;\n",
    "    bits.Append(bit);\n",
    "\n",
    "    if (count == 4) {\n",
    "      bits.Append(' ');\n",
    "      count = 0;\n",
    "    }\n",
    "\n",
    "    number >>= 1;\n",
    "  }\n",
    "\n",
    "  bits.Append(new string('0', 4 - count));\n",
    "\n",
    "  char[] chars = bits.ToString().ToCharArray();\n",
    "  Array.Reverse(chars);\n",
    "  return new string(chars);\n",
    "}\n",
    "\n",
    "Console.WriteLine(ToBitString(27)); // Output: 0001 1011\n",
    "Console.WriteLine(ToBitString(1024)); // Output: 0100 0000 0000\n",
    "Console.WriteLine(ToBitString(1234)); // Output: 0100 1101 0010\n",
    "Console.WriteLine(ToBitString(32)); // Output: 0010 0000\n",
    "Console.WriteLine(ToBitString(54897)); // Output: 0000 1101 0110 0111 0001"
   ],
   "outputs": [],
   "metadata": {
    "dotnet_interactive": {
     "language": "csharp"
    }
   }
  },
  {
   "cell_type": "markdown",
   "source": [
    "<br />"
   ],
   "metadata": {}
  },
  {
   "cell_type": "markdown",
   "source": [
    "### Arrays\n",
    "\n",
    "1. Complete the follwing function which takes an array of positive and negative numbers. Return an array where the first element is the count of positive numbers and the second element is the sum of negative numbers."
   ],
   "metadata": {}
  },
  {
   "cell_type": "code",
   "execution_count": null,
   "source": [
    "int[] CountPosSumNeg(int[] numbers) {\n",
    "  int posCount = 0, negSum = 0;\n",
    "  \n",
    "  foreach (int number in numbers) {\n",
    "    if (number > 0) posCount += 1;\n",
    "    if (number < 0) negSum += number;\n",
    "  }\n",
    "\n",
    "  return new int[] { posCount, negSum };\n",
    "}\n",
    "\n",
    "string IntArrayToString(int[] numbers) {\n",
    "  return new StringBuilder(\"[\")\n",
    "    .Append(string.Join(\", \", numbers))\n",
    "    .Append(\"]\")\n",
    "    .ToString();\n",
    "}\n",
    "\n",
    "Console.WriteLine(IntArrayToString(CountPosSumNeg(new int[] { 1, 2, 3, 4, 5, 6, 7, 8, 9, 10, -11, -12, -13, -14, -15 })));\n",
    "// Output: [10, -65]\n",
    "// There are a total of 10 positive numbers.\n",
    "// The sum of all negative numbers equals -65.\n",
    "\n",
    "Console.WriteLine(IntArrayToString(CountPosSumNeg(new int[] { 92, 6, 73, -77, 81, -90, 99, 8, -85, 34 })));\n",
    "// Output: [7, -252]\n",
    "\n",
    "Console.WriteLine(IntArrayToString(CountPosSumNeg(new int[] { 91, -4, 80, -73, -28 })));\n",
    "// Output: [2, -105]\n",
    "\n",
    "Console.WriteLine(IntArrayToString(CountPosSumNeg(new int[] {})));\n",
    "// Output: []"
   ],
   "outputs": [],
   "metadata": {
    "dotnet_interactive": {
     "language": "csharp"
    }
   }
  },
  {
   "cell_type": "markdown",
   "source": [
    "2. Complete the following function which takes an array of integers (positive or negative or both) and returns the sum of the absolute value of each element."
   ],
   "metadata": {}
  },
  {
   "cell_type": "code",
   "execution_count": null,
   "source": [
    "int GetAbsSum(int[] numbers) {\n",
    "  int sum = 0;\n",
    "\n",
    "  foreach (int number in numbers) {\n",
    "    sum += Math.Abs(number);\n",
    "  }\n",
    "\n",
    "  return sum;\n",
    "}\n",
    "\n",
    "Console.WriteLine(GetAbsSum(new int[] { 2, -1, 4, 8, 10 })); // Output: 25\n",
    "\n",
    "Console.WriteLine(GetAbsSum(new int[] { -3, -4, -10, -2, -3 })); // Output: 22\n",
    "\n",
    "Console.WriteLine(GetAbsSum(new int[] { 2, 4, 6, 8, 10 })); // Output: 30\n",
    "\n",
    "Console.WriteLine(GetAbsSum(new int[] { -1 })); // Output: 1"
   ],
   "outputs": [],
   "metadata": {
    "dotnet_interactive": {
     "language": "csharp"
    }
   }
  },
  {
   "cell_type": "markdown",
   "source": [
    "3. Complete the following function which takes two numbers as arguments (num, length) and returns an array of multiples of num until the array length reaches length."
   ],
   "metadata": {}
  },
  {
   "cell_type": "code",
   "execution_count": null,
   "source": [
    "int[] ArrayOfMultiples(int num, int length) {\n",
    "  int[] multiples = new int[length];\n",
    "\n",
    "  for (int i = 0 ; i < length; i++)\n",
    "    multiples[i] = (i + 1) * num;\n",
    "\n",
    "  return multiples;\n",
    "}\n",
    "\n",
    "Console.WriteLine(IntArrayToString(ArrayOfMultiples(7, 5)));\n",
    "// Output: [7, 14, 21, 28, 35]\n",
    "\n",
    "Console.WriteLine(IntArrayToString(ArrayOfMultiples(12, 10)));\n",
    " // Output: [12, 24, 36, 48, 60, 72, 84, 96, 108, 120]\n",
    "\n",
    "Console.WriteLine(IntArrayToString(ArrayOfMultiples(17, 6)));\n",
    "// Output: [17, 34, 51, 68, 85, 102]"
   ],
   "outputs": [],
   "metadata": {
    "dotnet_interactive": {
     "language": "csharp"
    }
   }
  },
  {
   "cell_type": "markdown",
   "source": [
    "4. Given a number, complete the following function which returns a new number based on the following rules:\n",
    "\n",
    "* For each digit, replace it by the number of times it appears in the number.\n",
    "* The final instance of the number will be an integer, not a string.\n",
    "\n",
    "Hint: use an array which counts the appearances of each digit from 0 to 9."
   ],
   "metadata": {}
  },
  {
   "cell_type": "code",
   "execution_count": null,
   "source": [
    "int DigitCount(int number) {\n",
    "  int copyNumber = number;\n",
    "  int[] freq = new int[10];\n",
    "\n",
    "  while (copyNumber > 0) {\n",
    "    freq[copyNumber % 10] += 1;\n",
    "    copyNumber /= 10;\n",
    "  }\n",
    "\n",
    "  int result = 0;\n",
    "  int factor = 1;\n",
    "\n",
    "  while (number > 0) {\n",
    "    result += freq[number % 10] * factor;\n",
    "    factor *= 10;\n",
    "    number /= 10;\n",
    "  }\n",
    "\n",
    "  return result;\n",
    "}\n",
    "\n",
    "Console.WriteLine(DigitCount(136116)); // Output: 312332\n",
    "// The number 1 appears thrice, so replace all 1s with 3s.\n",
    "// The number 3 appears only once, so replace all 3s with 1s.\n",
    "// The number 6 appears twice, so replace all 6s with 2s.\n",
    "\n",
    "Console.WriteLine(DigitCount(221333)); // Output: 221333\n",
    "\n",
    "Console.WriteLine(DigitCount(136116)); // Output: 312332\n",
    "\n",
    "Console.WriteLine(DigitCount(2)); // Output: 1"
   ],
   "outputs": [],
   "metadata": {
    "dotnet_interactive": {
     "language": "csharp"
    }
   }
  },
  {
   "cell_type": "markdown",
   "source": [
    "5. Complete the following function which takes the width, height and character and returns a picture frame as an array of strings (string[]). Some rules:\n",
    "\n",
    "* Remember the gap.\n",
    "* Return `[\"invalid\"]` if width or height is less than 3 (can't put anything inside)."
   ],
   "metadata": {}
  },
  {
   "cell_type": "code",
   "execution_count": null,
   "source": [
    "string[] GetFrame(int width, int height, char kar) {\n",
    "  if (width < 3 || height < 3) return new string[] { \"invalid\" };\n",
    "\n",
    "  string[] result = new string[height];\n",
    "\n",
    "  for (int i = 0; i < height; i++) {\n",
    "    for (int j = 0; j < width; j++) {\n",
    "      if (i != 0 && i != height - 1 && j != 0 && j != width - 1)\n",
    "        result[i] += ' ';\n",
    "      else\n",
    "        result[i] += kar;\n",
    "    }\n",
    "  }\n",
    "\n",
    "  return result;\n",
    "}\n",
    "\n",
    "Console.WriteLine(string.Join(\"\\n\", GetFrame(4, 5, '#')));\n",
    "// Output:\n",
    "// ####\n",
    "// #  #\n",
    "// #  #\n",
    "// #  #\n",
    "// ####\n",
    "\n",
    "Console.WriteLine(string.Join(\"\\n\", GetFrame(10, 3, '*')));\n",
    "// Output:\n",
    "// **********\n",
    "// *        *\n",
    "// **********\n",
    "\n",
    "\n",
    "Console.WriteLine(string.Join(\"\\n\", GetFrame(2, 5, '0')));\n",
    "// Output:\n",
    "// invalid"
   ],
   "outputs": [],
   "metadata": {
    "dotnet_interactive": {
     "language": "csharp"
    }
   }
  },
  {
   "cell_type": "markdown",
   "source": [
    "6. Given an array of integers, return the largest gap between elements of the sorted version of that array. You can assume all numbers are positive.\n",
    "\n",
    "Here's an illustrative example. Consider the array:\n",
    "\n",
    "```\n",
    "[9, 4, 26, 26, 0, 0, 5, 20, 6, 25, 5]\n",
    "```\n",
    "... which, after sorting, becomes the array:\n",
    "\n",
    "```\n",
    "[0, 0, 4, 5, 5, 6, 9, 20, 25, 26, 26]\n",
    "```\n",
    "... so that we now see that the largest gap in the array is the gap of `11` between 9 and 20."
   ],
   "metadata": {}
  },
  {
   "cell_type": "code",
   "execution_count": null,
   "source": [
    "int LargestGap(int[] numbers) {\n",
    "  int largestGap = 0;\n",
    "  Array.Sort(numbers);\n",
    "\n",
    "  for (int i = 0; i < numbers.Length - 1; i++) {\n",
    "    largestGap = Math.Max(numbers[i + 1] - numbers[i], largestGap);\n",
    "  }\n",
    "\n",
    "  return largestGap;\n",
    "}\n",
    "\n",
    "Console.WriteLine(LargestGap(new int[] { 9, 4, 26, 26, 0, 0, 5, 20, 6, 25, 5 })); // Output: 11\n",
    "// After sorting get { 0, 0, 4, 5, 5, 6, 9, 20, 25, 26, 26 }\n",
    "// Largest gap of 11 between 9 and 20\n",
    "\n",
    "Console.WriteLine(LargestGap(new int[] { 14, 13, 7, 1, 4, 12, 3, 7, 7, 12, 11, 5, 7 })); // Output: 4\n",
    "// After sorting get { 1, 3, 4, 5, 7, 7, 7, 7, 11, 12, 12, 13, 14 }\n",
    "// Largest gap of 4 between 7 and 11\n",
    "\n",
    "Console.WriteLine(LargestGap(new int[] { 13, 3, 8, 5, 5, 2, 13, 6, 14, 2, 11, 4, 10, 8, 1, 9 })); // Output: 2\n",
    "// After sorting get { 1, 2, 2, 3, 4, 5, 5, 6, 8, 8, 9, 10, 11, 13, 13, 14 }\n",
    "// Largest gap of 2 between 6 and 8"
   ],
   "outputs": [],
   "metadata": {
    "dotnet_interactive": {
     "language": "csharp"
    }
   }
  },
  {
   "cell_type": "markdown",
   "source": [
    "<br />"
   ],
   "metadata": {}
  },
  {
   "cell_type": "markdown",
   "source": [
    "## GuardClauses\n",
    "\n",
    "1. Write a function which calculates the area of a triangle. This function takes the `base` and `height` as arguments, both `int`.\n",
    "\n",
    "Some rules apply:\n",
    "- `base` and `height` cannot be null\n",
    "- `base` and `height` must be strictly positive\n",
    "- `base` and `height` must be less than or equal to 5000\n",
    "\n",
    "The area is calculated as follows: `(base * height) / 2`.\n",
    "\n",
    "> Use `b` and `h` as argument names because `base` is a reserved keyword in C#."
   ],
   "metadata": {}
  },
  {
   "cell_type": "code",
   "execution_count": null,
   "source": [
    "#r \"nuget: Ardalis.GuardClauses\""
   ],
   "outputs": [],
   "metadata": {
    "dotnet_interactive": {
     "language": "csharp"
    }
   }
  },
  {
   "cell_type": "code",
   "execution_count": null,
   "source": [
    "using Ardalis.GuardClauses;\n",
    "\n",
    "int TriangleArea(int b, int h)\n",
    "{\n",
    "  Guard.Against.OutOfRange(b, nameof(b), 1, 5000);\n",
    "  Guard.Against.OutOfRange(h, nameof(h), 1, 5000);\n",
    "  return (b * h) / 2;\n",
    "}\n",
    "\n",
    "Console.WriteLine(TriangleArea(3, 2)); // 3\n",
    "\n",
    "Console.WriteLine(TriangleArea(7, 4)); // 14\n",
    "\n",
    "Console.WriteLine(TriangleArea(10, 10)); // 50\n",
    "\n",
    "// Uncomment one of these method calls at a time to see the guards in action\n",
    "// TriangleArea(-3, 2); // Error: System.ArgumentOutOfRangeException: Input b was out of range (Parameter 'b')\n",
    "// TriangleArea(3, -2); // Error: System.ArgumentOutOfRangeException: Input h was out of range (Parameter 'h')\n",
    "\n",
    "// TriangleArea(5001, 2); // Error: System.ArgumentOutOfRangeException: Input b was out of range (Parameter 'b')\n",
    "// TriangleArea(3, 5001); // Error: System.ArgumentOutOfRangeException: Input h was out of range (Parameter 'h')"
   ],
   "outputs": [],
   "metadata": {
    "dotnet_interactive": {
     "language": "csharp"
    }
   }
  },
  {
   "cell_type": "markdown",
   "source": [
    "2. Write a function named `FullName` which takes a first and last name as argument and returns the full name.\n",
    "\n",
    "Some rules apply:\n",
    "- `firstName` and `lastName` cannot be `null`\n",
    "- `firstName` and `lastName` cannot be empty or only whitespace"
   ],
   "metadata": {}
  },
  {
   "cell_type": "code",
   "execution_count": null,
   "source": [
    "using Ardalis.GuardClauses;\n",
    "\n",
    "string FullName(string firstName, string lastName)\n",
    "{\n",
    "  Guard.Against.NullOrWhiteSpace(firstName, nameof(firstName));\n",
    "  Guard.Against.NullOrWhiteSpace(lastName, nameof(lastName));\n",
    "  return $\"{firstName} {lastName}\";\n",
    "}\n",
    "\n",
    "Console.WriteLine(FullName(\"Thomas\", \"Aelbrecht\")); // Thomas Aelbrecht\n",
    "\n",
    "Console.WriteLine(FullName(\"Benjamin\", \"Vertonghen\")); // Benjamin Vertonghen\n",
    "\n",
    "// Uncomment one of these method calls at a time to see the guards in action\n",
    "// FullName(null, \"Aelbrecht\"); // Error: System.ArgumentNullException: Value cannot be null. (Parameter 'firstName')\n",
    "// FullName(\"Thomas\", null); // Error: System.ArgumentNullException: Value cannot be null. (Parameter 'lastName')\n",
    "\n",
    "// FullName(\"\", \"Aelbrecht\"); // Error: System.ArgumentException: Required input firstName was empty. (Parameter 'firstName')\n",
    "// FullName(\"Thomas\", \"\"); // Error: System.ArgumentException: Required input lastName was empty. (Parameter 'lastName')\n",
    "\n",
    "// FullName(\"    \", \"Aelbrecht\"); // Error: System.ArgumentException: Required input firstName was empty. (Parameter 'firstName')\n",
    "// FullName(\"Thomas\", \"    \"); // Error: System.ArgumentException: Required input lastName was empty. (Parameter 'lastName')"
   ],
   "outputs": [],
   "metadata": {
    "dotnet_interactive": {
     "language": "csharp"
    }
   }
  },
  {
   "cell_type": "markdown",
   "source": [
    "3. Write a function called `Age` which takes a `birthDate` of type `DateTime` as argument and returns the age of such a person.\n",
    "\n",
    "Some rules apply:\n",
    "- `birthDate` cannot be `null`\n",
    "- `birthDate` cannot be in the future\n",
    "- `birthDate` must be after 01/01/1900"
   ],
   "metadata": {}
  },
  {
   "cell_type": "code",
   "execution_count": null,
   "source": [
    "using Ardalis.GuardClauses;\n",
    "\n",
    "int Age(DateTime birthDate)\n",
    "{\n",
    "  Guard.Against.OutOfRange(birthDate, nameof(birthDate), new DateTime(1900, 1, 1), DateTime.Today);\n",
    "  TimeSpan diff = DateTime.Today.Subtract(birthDate);\n",
    "  return diff.Days / 365;\n",
    "}\n",
    "\n",
    "Console.WriteLine(Age(new DateTime(1997, 11, 14))); // 23\n",
    "Console.WriteLine(Age(new DateTime(2004, 5, 7))); // 17\n",
    "Console.WriteLine(Age(new DateTime(1972, 3, 29))); // 49\n",
    "\n",
    "// Uncomment one of these method calls at a time to see the guards in action\n",
    "// Error: System.ArgumentOutOfRangeException: Input birthDate was out of range (Parameter 'birthDate')\n",
    "// Console.WriteLine(Age(DateTime.Today.AddDays(1)));\n",
    "// Error: System.ArgumentOutOfRangeException: Input birthDate was out of range (Parameter 'birthDate')\n",
    "// Console.WriteLine(Age(new DateTime(1899, 12, 31)));\n"
   ],
   "outputs": [],
   "metadata": {
    "dotnet_interactive": {
     "language": "csharp"
    }
   }
  }
 ],
 "metadata": {
  "orig_nbformat": 4,
  "language_info": {
   "file_extension": ".cs",
   "mimetype": "text/x-csharp",
   "name": "C#",
   "pygments_lexer": "csharp",
   "version": "9.0"
  },
  "kernelspec": {
   "display_name": ".NET (C#)",
   "language": "C#",
   "name": ".net-csharp"
  }
 },
 "nbformat": 4,
 "nbformat_minor": 2
}