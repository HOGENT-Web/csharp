{
 "cells": [
  {
   "cell_type": "markdown",
   "metadata": {},
   "source": [
    "> Enterprise Web C#\n",
    "\n",
    "# Chapter 4 - Big O(h) Oh collections"
   ]
  },
  {
   "cell_type": "markdown",
   "metadata": {},
   "source": [
    "## Introduction\n",
    "\n",
    "LINQ stands for **L**anguage **IN**tegrated **Q**uery. It's a query language integrated in C# providing an SQL-like interface for a variety of **data sources**. Because it's completely integrated, it features IntelliSense and compile time checking amongst other features provided by the compiler.\n",
    "\n",
    "### Data source\n",
    "\n",
    "LINQ is defined for a number of data sources, but what is a data source? A data source is the data that is being queried and which has a LINQ provider. There are a number of LINQ providers:\n",
    "\n",
    "- LINQ to Objects\n",
    "  - querying in-memory data sources like strings, arrays, collections...\n",
    "  - mainly the focus in this chapter\n",
    "- LINQ to SQL\n",
    "  - querying data in a relational database from C#\n",
    "- LINQ to Entities\n",
    "  - similar to LINQ to SQL but using [Entity Framework](https://docs.microsoft.com/en-us/ef/)\n",
    "  - will be covered in a later chapter\n",
    "\n",
    "Once you master the LINQ syntax, you can query any data source which provides a LINQ interface:\n",
    "- LINQ to\n",
    "  - Google, Twitter, eBay, Amazon, Flickr...\n",
    "  - XML, JSON...\n",
    "  - MySQL, Oracle...\n",
    "  - Excel, Word...\n",
    "  - JavaScript...\n",
    "  - ..."
   ]
  },
  {
   "cell_type": "markdown",
   "metadata": {},
   "source": [
    "<br />"
   ]
  },
  {
   "cell_type": "markdown",
   "metadata": {},
   "source": [
    "## LINQ syntax\n",
    "\n",
    "There are two types of LINQ syntax: **query syntax** or **method syntax**.\n",
    "\n",
    "### Query syntax\n",
    "\n",
    "```cs\n",
    "var query = from c in customerList\n",
    "            where c.CustomerId == customerId\n",
    "            select c;\n",
    "```\n",
    "\n",
    "The query syntax is a declarative and builtin syntax. The compiler will translate the query syntax to method syntax at compile time. Fewer LINQ operators are available when using this syntax.\n",
    "\n",
    "### Method syntax\n",
    "\n",
    "```cs\n",
    "var query = customerList.Where(c => c.CustomerId == customerId);\n",
    "```\n",
    "\n",
    "The method syntax uses methods to query a data source. It's a part of the .NET framework: the `System.Linq` namespace in the `System.Core` assembly."
   ]
  },
  {
   "cell_type": "markdown",
   "metadata": {},
   "source": [
    "<br />"
   ]
  },
  {
   "cell_type": "markdown",
   "metadata": {},
   "source": [
    "## LINQ to Objects\n",
    "\n",
    "### Extension methods\n",
    "\n",
    "Extension methods are methods added to an existing class to extend this class' functionality. This functionality can be added without creating a subclass, modifying the original class or even recompiling the original class. They don't differ from instance methods (methods declared in the class itself).\n",
    "\n",
    "An extension method is declared static within a non generic static class. The first parameter must be preceded by the keyword `this`. The type of this first parameter is the type that is being extended. All parameters other parameters must be given when using the method.\n",
    "\n",
    "```cs\n",
    "public static class IntExtension\n",
    "{\n",
    "  public static bool IsEven(this int i)\n",
    "  {\n",
    "    return i % 2 == 0;\n",
    "  }\n",
    "}\n",
    "```\n",
    "\n",
    "This extension method has no parameters and can be called on any int: `10.IsEven()`.\n",
    "\n",
    "```cs\n",
    "public static class IntExtension\n",
    "{\n",
    "  public static int Add(this int i, int number)\n",
    "  {\n",
    "    return i + number;\n",
    "  }\n",
    "}\n",
    "```\n",
    "\n",
    "This extension method has one parameter and can be called on any int: `10.Add(2)`.\n",
    "\n",
    "An extension method has no access to private member of the class for which it's declared. The extension method cannot override an instance method (same name and arguments), the compiler will always choose the instance method.\n",
    "\n",
    "Extension methods are best declared in another namespace named `Extensions`. This way you must explicitly write `using Extensions;` in order to use the extensions.\n",
    "\n",
    "This feature cannot be tested in .NET Interactive.... For demos and exercises, please use Visual Studio. An example can be found [here](https://github.com/HOGENT-Web/csharp-ch-4-example-1).\n",
    "        \n",
    "\n"
   ]
  },
  {
   "cell_type": "markdown",
   "metadata": {},
   "source": [
    "<br />"
   ]
  },
  {
   "cell_type": "markdown",
   "metadata": {},
   "source": [
    "### Querying in-memory data sources\n",
    "\n",
    "LINQ methods are extensions methods defined on `IEnumerable<T>`. These methods can be used on any type that implements `IEnumerable<T>`, e.g. arrays or generic collections (`List<T>`, `Queue<T>`, `Stack<T>`...). The LINQ extensions belong to the `System.Linq` namespace, which should be imported when using LINQ: `using System.Linq;`.\n",
    "\n",
    "`Enumerable` is a static class which contains all LINQ extension methods (`this` is of type `IEnumerable<T>`). In the next sections, the most important methods will be discussed, other methods can be found in the [documentation](https://docs.microsoft.com/en-us/dotnet/api/system.linq.enumerable?view=net-5.0#methods).\n",
    "\n",
    "#### Sum\n",
    "\n",
    "Returns the sum of a given collection of numbers."
   ]
  },
  {
   "cell_type": "code",
   "execution_count": null,
   "metadata": {
    "dotnet_interactive": {
     "language": "csharp"
    },
    "vscode": {
     "languageId": "csharp"
    }
   },
   "outputs": [],
   "source": [
    "using System.Linq;\n",
    "\n",
    "int[] numbers = new int[] { 2, 8, 10 };\n",
    "Console.WriteLine($\"The sum of the aray is {numbers.Sum()}\");\n",
    "\n",
    "List<int> numbersList = new List<int> { 2, 8, 10 };\n",
    "Console.WriteLine($\"The sum of the list is {numbersList.Sum()}\");\n",
    "\n",
    "HashSet<double> numbersSet = new HashSet<double> { 2.5, 8.4, 10.6 };\n",
    "Console.WriteLine($\"The sum of the set is {numbersSet.Sum()}\");\n",
    "\n",
    "Stack<float> numbersStack = new Stack<float>();\n",
    "numbersStack.Push(1.5F);\n",
    "numbersStack.Push(2.6F);\n",
    "Console.WriteLine($\"The sum of the stack is {numbersStack.Sum()}\");"
   ]
  },
  {
   "cell_type": "markdown",
   "metadata": {},
   "source": [
    "#### Average\n",
    "\n",
    "Returns the average of a given collection of numbers."
   ]
  },
  {
   "cell_type": "code",
   "execution_count": null,
   "metadata": {
    "dotnet_interactive": {
     "language": "csharp"
    },
    "vscode": {
     "languageId": "csharp"
    }
   },
   "outputs": [],
   "source": [
    "List<int> numbersList = new List<int> { 2, 8, 10 };\n",
    "Console.WriteLine($\"The average of the list is {numbersList.Average():0.00}\");"
   ]
  },
  {
   "cell_type": "markdown",
   "metadata": {},
   "source": [
    "#### Count\n",
    "\n",
    "Returns the number of items in a collection."
   ]
  },
  {
   "cell_type": "code",
   "execution_count": null,
   "metadata": {
    "dotnet_interactive": {
     "language": "csharp"
    },
    "vscode": {
     "languageId": "csharp"
    }
   },
   "outputs": [],
   "source": [
    "List<int> numbersList = new List<int> { 2, 8, 10 };\n",
    "Console.WriteLine($\"The number of items in the list is {numbersList.Count()}\");"
   ]
  },
  {
   "cell_type": "markdown",
   "metadata": {},
   "source": [
    "#### Min/Max\n",
    "\n",
    "Returns the minimum/maximum of a given list."
   ]
  },
  {
   "cell_type": "code",
   "execution_count": null,
   "metadata": {
    "dotnet_interactive": {
     "language": "csharp"
    },
    "vscode": {
     "languageId": "csharp"
    }
   },
   "outputs": [],
   "source": [
    "List<int> numbersList = new List<int> { 2, 8, 10 };\n",
    "Console.WriteLine($\"The minimum of the list is {numbersList.Min()}\");\n",
    "Console.WriteLine($\"The maximum of the list is {numbersList.Max()}\");"
   ]
  },
  {
   "cell_type": "markdown",
   "metadata": {},
   "source": [
    "<br />"
   ]
  },
  {
   "cell_type": "markdown",
   "metadata": {},
   "source": [
    "## Lambda expressions\n",
    "\n",
    "Lambda expressions are **anonymous**, **inline** functions. It's a short form for writing a function. Lambda expressions use the lambda operator: `=>`. Lambda's must always return a value, so the return type cannot be `void`. Lambda's are used frequently when using LINQ.\n",
    "\n",
    "You can store a lambda within a variable with type `Func<Param, ReturnType>` where `Param` is the type of the parameter and `ReturnType` is the return type. You can add from zero up to 16 parameters as seen in the [documentation](https://docs.microsoft.com/en-us/dotnet/api/system.func-17?view=net-5.0). The `Func` type can also be used to store normal functions in a variable.\n",
    "\n",
    "Converting a function to a lambda is pretty easy:"
   ]
  },
  {
   "cell_type": "code",
   "execution_count": null,
   "metadata": {
    "dotnet_interactive": {
     "language": "csharp"
    },
    "vscode": {
     "languageId": "csharp"
    }
   },
   "outputs": [],
   "source": [
    "int NrOfChars(string s)\n",
    "{\n",
    "  return s.Length;\n",
    "}\n",
    "\n",
    "string hello = \"Hello world!\";\n",
    "Console.WriteLine($\"{hello} has {NrOfChars(hello)} characters\");\n",
    "\n",
    "// Simply store the function\n",
    "Func<string, int> myFunction = NrOfChars;\n",
    "\n",
    "Console.WriteLine($\"{hello} has {myFunction(hello)} characters\");\n",
    "\n",
    "// Or as a lambda\n",
    "Func<string, int> myLambda = (s) => s.Length;\n",
    "\n",
    "Console.WriteLine($\"{hello} has {myLambda(hello)} characters\");"
   ]
  },
  {
   "cell_type": "markdown",
   "metadata": {},
   "source": [
    "As you can see the lambda is defined on-the-fly and has no name, it's an anonymous function. This lambda is equivalent to the original function `NrOfChars`.\n",
    "\n",
    "An example of a lambda with more than one parameter:"
   ]
  },
  {
   "cell_type": "code",
   "execution_count": null,
   "metadata": {
    "dotnet_interactive": {
     "language": "csharp"
    },
    "vscode": {
     "languageId": "csharp"
    }
   },
   "outputs": [],
   "source": [
    "Func<int, int, int, int> Sum = (x, y, z) => x + y + z;\n",
    "\n",
    "int x = 1, y = 2, z = 3;\n",
    "Console.WriteLine($\"{x} + {y} + {z} = {Sum(x, y, z)}\");"
   ]
  },
  {
   "cell_type": "markdown",
   "metadata": {},
   "source": [
    "Or with no parameters:"
   ]
  },
  {
   "cell_type": "code",
   "execution_count": null,
   "metadata": {
    "dotnet_interactive": {
     "language": "csharp"
    },
    "vscode": {
     "languageId": "csharp"
    }
   },
   "outputs": [],
   "source": [
    "Func<string> HelloWorld = () => \"Hello world!\";\n",
    "\n",
    "Console.WriteLine(HelloWorld());"
   ]
  },
  {
   "cell_type": "markdown",
   "metadata": {},
   "source": [
    "Lambda's are frequently used as a parameter of LINQ methods. They usually provide the information to work with.\n",
    "\n",
    "For example, let's calculate the sum of the distances to some locations. We tell the `Sum` function which attribute to use when summing a list of objects, as object cannot be added (without operator overloading).\n",
    "\n",
    "Behind the scenes the LINQ method will use a `foreach` to loop over all locations. For each location it'll call the given lambda and add the resulting number to the sum. In the end the total will be returned."
   ]
  },
  {
   "cell_type": "code",
   "execution_count": null,
   "metadata": {
    "dotnet_interactive": {
     "language": "csharp"
    },
    "vscode": {
     "languageId": "csharp"
    }
   },
   "outputs": [],
   "source": [
    "class Location\n",
    "{\n",
    "  public string Country { get; set; }\n",
    "  public string City { get; set; }\n",
    "  public int Distance { get; set; }\n",
    "\n",
    "  // Lambda's in classes ^^\n",
    "  public override string ToString()\n",
    "  {\n",
    "    return $\"{City} in {Country} at {Distance} miles distance\";\n",
    "  }\n",
    "}\n",
    "\n",
    "List<Location> locations = new List<Location> {\n",
    "  new Location { City = \"London\", Distance = 4789, Country= \"UK\" },\n",
    "  new Location { City = \"Amsterdam\", Distance = 4869, Country= \"NL\" },\n",
    "  new Location { City = \"San Francisco\", Distance = 684, Country= \"USA\" },\n",
    "  new Location { City = \"Las Vegas\", Distance = 872, Country= \"USA\" },\n",
    "  new Location { City = \"Boston\", Distance = 2488, Country= \"USA\" },\n",
    "  new Location { City = \"Raleigh\", Distance = 2363, Country= \"USA\" },\n",
    "  new Location { City = \"Chicago\", Distance = 1733, Country= \"USA\" },\n",
    "  new Location { City = \"Charleston\", Distance = 2421, Country= \"USA\" },\n",
    "  new Location { City = \"Helsinki\", Distance = 4771, Country= \"Finland\" },\n",
    "  new Location { City = \"Nice\", Distance = 5428, Country= \"France\" },\n",
    "  new Location { City = \"Dublin\", Distance = 4527, Country= \"Ireland\" }\n",
    "};\n",
    "\n",
    "Console.WriteLine($\"The sum of all distances is {locations.Sum(loc => loc.Distance)}\");"
   ]
  },
  {
   "cell_type": "markdown",
   "metadata": {},
   "source": [
    "With lambda's you can really do complex things, like counting the number of items that satisfy a given condition."
   ]
  },
  {
   "cell_type": "code",
   "execution_count": null,
   "metadata": {
    "dotnet_interactive": {
     "language": "csharp"
    },
    "vscode": {
     "languageId": "csharp"
    }
   },
   "outputs": [],
   "source": [
    "int[] numbers = new int[] { 5, 1, 18, 11, 3, 6, 19, 17, 4, 10 };\n",
    "\n",
    "Console.WriteLine($\"There are {numbers.Count(n => n > 8)} numbers bigger than 8\");"
   ]
  },
  {
   "cell_type": "markdown",
   "metadata": {},
   "source": [
    "<br />"
   ]
  },
  {
   "cell_type": "markdown",
   "metadata": {},
   "source": [
    "## Deferred execution\n",
    "\n",
    "Not all LINQ methods are executed immediately, some executions are delayed until it can no longer be delayed. Methods which use **deferred execution** will only execute the LINQ methods when the resulting collection is iterated through. All methods which return an `IEnumerable<T>` (or an `IOrderedEnumerable<T>`) use deferred execution, methods which don't return these types use **immediate execution**.\n",
    "\n",
    "Examples of methods which use immediate execution are `Sum`, `Count`, `Average`, `ToList` and `ToArray`. Examples of methods which use deferred execution are `Where`, `Select` and `OrderBy`. These are simply some examples, many more exist."
   ]
  },
  {
   "cell_type": "markdown",
   "metadata": {},
   "source": [
    "## Filtering\n",
    "\n",
    "`Where` can be used to filter a collection based on a **predicate** (= condition). The predicate is given by the lambda parameter, the result is an `IEnumerable` containing all elements satisfying the given predicate.\n",
    "\n",
    "The predicate can be any boolean expression, just write a lambda which returns a boolean and `Where` is happy.\n",
    "\n",
    "How does `Where` work? When looping over the resulting `IEnumerable` the original will be looped over. Per element the given lambda is executed and if the result is `true`, the item is returned. The resulting `IEnumerable` will thus contain all matching elements.\n",
    "\n",
    "The next example will filter out all cities whose names contain more than 5 characters. Try to guess the output when the collection is changed before looping over."
   ]
  },
  {
   "cell_type": "code",
   "execution_count": null,
   "metadata": {
    "dotnet_interactive": {
     "language": "csharp"
    },
    "vscode": {
     "languageId": "csharp"
    }
   },
   "outputs": [],
   "source": [
    "string[] cities = {\n",
    "  \"London\", \"Amsterdam\", \"San Francisco\", \"Las Vegas\", \"Boston\", \"Raleigh\", \"Chicago\",\n",
    "  \"Charlestown\", \"Helsinki\", \"Nice\", \"Dublin\"\n",
    "};\n",
    "\n",
    "IEnumerable<string> citiesWithlongNames = cities.Where(c => c.Length > 5);\n",
    "\n",
    "Console.WriteLine(\"Cities with more than 5 characters:\");\n",
    "foreach (var city in citiesWithlongNames)\n",
    "  Console.WriteLine(city);\n"
   ]
  },
  {
   "cell_type": "code",
   "execution_count": null,
   "metadata": {
    "dotnet_interactive": {
     "language": "csharp"
    },
    "vscode": {
     "languageId": "csharp"
    }
   },
   "outputs": [],
   "source": [
    "// Let's do this again\n",
    "citiesWithlongNames = cities.Where(c => c.Length > 5);\n",
    "\n",
    "// But change the first city before looping over the IEnumerable\n",
    "// Guess the output\n",
    "cities[0] = \"Oostende\";\n",
    "\n",
    "Console.WriteLine(\"Cities with more than 5 characters:\");\n",
    "foreach (var city in citiesWithlongNames)\n",
    "  Console.WriteLine(city);\n",
    "\n",
    "// Did the output match you expectations?"
   ]
  },
  {
   "cell_type": "code",
   "execution_count": null,
   "metadata": {
    "dotnet_interactive": {
     "language": "csharp"
    },
    "vscode": {
     "languageId": "csharp"
    }
   },
   "outputs": [],
   "source": [
    "// Let's change the first one another time\n",
    "cities[0] = \"Brussel\";\n",
    "\n",
    "Console.WriteLine(\"Cities with more than 5 characters:\");\n",
    "foreach (var city in citiesWithlongNames)\n",
    "  Console.WriteLine(city);\n",
    "\n",
    "// Did the output match you expectations?"
   ]
  },
  {
   "cell_type": "code",
   "execution_count": null,
   "metadata": {
    "dotnet_interactive": {
     "language": "csharp"
    },
    "vscode": {
     "languageId": "csharp"
    }
   },
   "outputs": [],
   "source": [
    "// Let's add another condition\n",
    "IEnumerable<string> citiesFiltered = cities.Where(c => c.Length > 5 && c.Contains(\"a\"));\n",
    "\n",
    "foreach (var city in citiesFiltered)\n",
    "  Console.WriteLine(city);"
   ]
  },
  {
   "cell_type": "markdown",
   "metadata": {},
   "source": [
    "As you can see, the query is executed again every time the collection is looped over. That's deferred execution.\n",
    "\n",
    "**Caution!** When the source collection is `null`, an `ArgumentNullException` will be thrown."
   ]
  },
  {
   "cell_type": "code",
   "execution_count": null,
   "metadata": {
    "dotnet_interactive": {
     "language": "csharp"
    },
    "vscode": {
     "languageId": "csharp"
    }
   },
   "outputs": [],
   "source": [
    "string[] cities = null;\n",
    "\n",
    "IEnumerable<string> citiesWithlongNames = cities.Where(c => c.Length > 5);\n",
    "\n",
    "foreach (string city in citiesWithlongNames)\n",
    "  Console.WriteLine(city);"
   ]
  },
  {
   "cell_type": "markdown",
   "metadata": {},
   "source": [
    "## Ordering\n",
    "\n",
    "`OrderBy` and `OrderByDescending` can be used to sort a collection ascending/descending. If one wants to sort by multiple things, you must chain the `ThenBy` and `ThenByDescending` methods. To reverse the result, the method `Reverse` can be used."
   ]
  },
  {
   "cell_type": "code",
   "execution_count": null,
   "metadata": {
    "dotnet_interactive": {
     "language": "csharp"
    },
    "vscode": {
     "languageId": "csharp"
    }
   },
   "outputs": [],
   "source": [
    "string[] cities = {\n",
    "  \"London\", \"Amsterdam\", \"San Francisco\", \"Las Vegas\", \"Boston\", \"Raleigh\", \"Chicago\",\n",
    "  \"Charlestown\", \"Helsinki\", \"Nice\", \"Dublin\"\n",
    "};\n",
    "\n",
    "// c => c means to sort by the string itself\n",
    "IEnumerable<string> orderedPlaces = cities.OrderBy(c => c);\n",
    "\n",
    "Console.WriteLine(\"Sorted city names:\");\n",
    "foreach (var city in orderedPlaces)\n",
    "  Console.WriteLine(city);"
   ]
  },
  {
   "cell_type": "code",
   "execution_count": null,
   "metadata": {
    "dotnet_interactive": {
     "language": "csharp"
    },
    "vscode": {
     "languageId": "csharp"
    }
   },
   "outputs": [],
   "source": [
    "orderedPlaces = cities.OrderByDescending(c => c.Length).ThenBy(c => c);\n",
    "\n",
    "Console.WriteLine(\"Sorted city names (by length and name):\");\n",
    "foreach (var city in orderedPlaces)\n",
    "  Console.WriteLine(city);"
   ]
  },
  {
   "cell_type": "markdown",
   "metadata": {},
   "source": [
    "## Chaining extension methods\n",
    "\n",
    "As you see in the example above, LINQ methods can be chained one after the other."
   ]
  },
  {
   "cell_type": "code",
   "execution_count": null,
   "metadata": {
    "dotnet_interactive": {
     "language": "csharp"
    },
    "vscode": {
     "languageId": "csharp"
    }
   },
   "outputs": [],
   "source": [
    "string[] cities = {\n",
    "  \"London\", \"Amsterdam\", \"San Francisco\", \"Las Vegas\", \"Boston\", \"Raleigh\", \"Chicago\",\n",
    "  \"Charlestown\", \"Helsinki\", \"Nice\", \"Dublin\"\n",
    "};\n",
    "\n",
    "IEnumerable<string> orderedPlaces = cities.Where(c => c.Length > 5).OrderBy(c => c);\n",
    "\n",
    "Console.WriteLine(\"Sorted list of city names longer than 5 characters\");\n",
    "foreach (var city in orderedPlaces)\n",
    "  Console.WriteLine(city);\n"
   ]
  },
  {
   "cell_type": "code",
   "execution_count": null,
   "metadata": {
    "dotnet_interactive": {
     "language": "csharp"
    },
    "vscode": {
     "languageId": "csharp"
    }
   },
   "outputs": [],
   "source": [
    "string[] cities = {\n",
    "  \"London\", \"Amsterdam\", \"San Francisco\", \"Las Vegas\", \"Boston\", \"Raleigh\", \"Chicago\",\n",
    "  \"Charlestown\", \"Helsinki\", \"Nice\", \"Dublin\", \"San Anselmo\", \"San Diego\", \"San Mateo\"\n",
    "};\n",
    "\n",
    "IEnumerable<string> selectedCities = cities\n",
    "  .Where(c => c.StartsWith(\"S\") && c.Length > 5)\n",
    "  .OrderByDescending(c => c.Length)\n",
    "  .ThenBy(c => c);\n",
    "\n",
    "Console.WriteLine(\"Cities starting with an S, longer than 5 characters and sorted by length and name\");\n",
    "foreach (var city in selectedCities)\n",
    "  Console.WriteLine(city);"
   ]
  },
  {
   "cell_type": "markdown",
   "metadata": {},
   "source": [
    "## Map collections into other collections\n",
    "\n",
    "The `Select` method allows to transform each element of a collection into another type. This type can be equal to the original one, can be an existing type or even an anonymous type (no type defined).\n",
    "\n",
    "How does `Select` work? It loops through the collection using a `foreach`. For every element, the lambda is called and the result is added to a new collection. The latter collection is the return value.\n",
    "\n",
    "Some examples:"
   ]
  },
  {
   "cell_type": "code",
   "execution_count": null,
   "metadata": {
    "dotnet_interactive": {
     "language": "csharp"
    },
    "vscode": {
     "languageId": "csharp"
    }
   },
   "outputs": [],
   "source": [
    "int[] numbers = new int[] { 5, 1, 18, 11, 3, 6, 19, 17, 4, 10 };\n",
    "\n",
    "// Increment all numbers by one\n",
    "IEnumerable<int> newNumbers = numbers.Select(n => n + 1);\n",
    "\n",
    "Console.WriteLine(\"List of numbers mapped:\");\n",
    "foreach (int i in newNumbers)\n",
    "  Console.WriteLine(i);\n"
   ]
  },
  {
   "cell_type": "code",
   "execution_count": null,
   "metadata": {
    "dotnet_interactive": {
     "language": "csharp"
    },
    "vscode": {
     "languageId": "csharp"
    }
   },
   "outputs": [],
   "source": [
    "string[] cities = {\n",
    "  \"London\", \"Amsterdam\", \"San Francisco\", \"Las Vegas\", \"Boston\", \"Raleigh\", \"Chicago\",\n",
    "  \"Charlestown\", \"Helsinki\", \"Nice\", \"Dublin\"\n",
    "};\n",
    "\n",
    "// Converting each city to its length\n",
    "IEnumerable<int> lengths = cities.Select(c => c.Length);\n",
    "\n",
    "Console.WriteLine(\"Lengths of cities:\");\n",
    "foreach (int i in lengths)\n",
    "  Console.WriteLine(i);"
   ]
  },
  {
   "cell_type": "code",
   "execution_count": null,
   "metadata": {
    "dotnet_interactive": {
     "language": "csharp"
    },
    "vscode": {
     "languageId": "csharp"
    }
   },
   "outputs": [],
   "source": [
    "// Convert the previously defined list of locations to strings\n",
    "IEnumerable<string> places = locations.Select(l => l.City);\n",
    "\n",
    "Console.WriteLine(\"Cities of locations:\");\n",
    "foreach (string i in places)\n",
    "  Console.WriteLine(i);"
   ]
  },
  {
   "cell_type": "markdown",
   "metadata": {},
   "source": [
    "Let's now convert our `Location` objects to a new type called `CityDistance`."
   ]
  },
  {
   "cell_type": "code",
   "execution_count": null,
   "metadata": {
    "dotnet_interactive": {
     "language": "csharp"
    },
    "vscode": {
     "languageId": "csharp"
    }
   },
   "outputs": [],
   "source": [
    "class CityDistance\n",
    "{\n",
    "  public string Country { get; set; }\n",
    "  public string Name { get; set; }\n",
    "  public int DistanceInKm { get; set; }\n",
    "\n",
    "  public override string ToString()\n",
    "  {\n",
    "    return $\"{Name} in {Country} at {DistanceInKm} km distance\";\n",
    "  }\n",
    "}\n",
    "\n",
    "IEnumerable<CityDistance> cityDistances = locations.Select(\n",
    "  l => new CityDistance\n",
    "  {\n",
    "    Name = l.City,\n",
    "    Country = l.Country,\n",
    "    DistanceInKm = (int)(l.Distance * 1.61)\n",
    "  }\n",
    ");\n",
    "\n",
    "foreach (var cd in cityDistances)\n",
    "  Console.WriteLine(cd);"
   ]
  },
  {
   "cell_type": "markdown",
   "metadata": {},
   "source": [
    "Sometimes it's easier to let the compiler determine the type of LINQ queries, so you should try and use `var` as the \"variable type\" instead of the explicit type. When using `var`, the compiler will determine the type of the variable and IntelliSense will work as expected."
   ]
  },
  {
   "cell_type": "code",
   "execution_count": null,
   "metadata": {
    "dotnet_interactive": {
     "language": "csharp"
    },
    "vscode": {
     "languageId": "csharp"
    }
   },
   "outputs": [],
   "source": [
    "var cities = cityDistances.Select(c => c.Name); // IEnumerable<string>\n",
    "\n",
    "foreach (var c in cities)\n",
    "  Console.WriteLine(c);"
   ]
  },
  {
   "cell_type": "markdown",
   "metadata": {},
   "source": [
    "### Anonymous types\n",
    "\n",
    "An anonymous type is a type without a class definition, you create this on-the-fly (like a lambda). In order to define an anonymous type, you should use `var` as the variable type. The type is determined by the properties listed, these properties are **read-only**.\n",
    "\n",
    "These type are commonly used when transforming collections to objects which contain a subset of the properties of the original elements. So there is no need to define a class for each of these subtypes because you only need them once."
   ]
  },
  {
   "cell_type": "code",
   "execution_count": null,
   "metadata": {
    "dotnet_interactive": {
     "language": "csharp"
    },
    "vscode": {
     "languageId": "csharp"
    }
   },
   "outputs": [],
   "source": [
    "// No class definition, just the properties\n",
    "var homeTown = new\n",
    "{\n",
    "  Name = \"Oostende\",\n",
    "  NrOfInhabitans = 60000\n",
    "};\n",
    "\n",
    "Console.WriteLine(homeTown);"
   ]
  },
  {
   "cell_type": "code",
   "execution_count": null,
   "metadata": {
    "dotnet_interactive": {
     "language": "csharp"
    },
    "vscode": {
     "languageId": "csharp"
    }
   },
   "outputs": [],
   "source": [
    "// You could also create a type like this, without a class CityDistance\n",
    "var cityDistances = locations.Select(\n",
    "  l => new\n",
    "  {\n",
    "    Name = l.City,\n",
    "    Country = l.Country,\n",
    "    DistanceInKm = (int)(l.Distance * 1.61)\n",
    "  }\n",
    ");\n",
    "\n",
    "foreach (var cd in cityDistances)\n",
    "  Console.WriteLine(cd);"
   ]
  },
  {
   "cell_type": "markdown",
   "metadata": {},
   "source": [
    "## Some more handy LINQ methods\n",
    "\n",
    "In the [documentation](https://docs.microsoft.com/en-us/dotnet/api/system.linq.enumerable?view=net-5.0) plenty more LINQ methods can be found, but some of the most used will be discussed in the next sections.\n",
    "\n",
    "### First/FirstOrDefault\n",
    "\n",
    "[First](https://docs.microsoft.com/en-us/dotnet/api/system.linq.enumerable.first?view=net-5.0#System_Linq_Enumerable_First__1_System_Collections_Generic_IEnumerable___0__) returns the first element from a collection. If the collection is empty, an `InvalidOperationException` is thrown. If the collection is `null` an `ArgumentNullException` is thrown.\n",
    "\n",
    "[FirstOrDefault](https://docs.microsoft.com/en-us/dotnet/api/system.linq.enumerable.firstordefault?view=net-5.0#System_Linq_Enumerable_FirstOrDefault__1_System_Collections_Generic_IEnumerable___0__) has the same behavior as `First` but instead of throwing an exception when the collection is empty, it returns a default value. This default value is `null` for nullables and reference types.\n",
    "\n",
    "Both of these methods can also take a predicate as argument and return the first element that satisfies the predicate. `First` will again throw an exception is no element is found.\n",
    "\n",
    "### Last/LastOrDefault\n",
    "\n",
    "[Last](https://docs.microsoft.com/en-us/dotnet/api/system.linq.enumerable.last?view=net-5.0#System_Linq_Enumerable_Last__1_System_Collections_Generic_IEnumerable___0__) and [LastOrDefault](https://docs.microsoft.com/en-us/dotnet/api/system.linq.enumerable.lastordefault?view=net-5.0#System_Linq_Enumerable_LastOrDefault__1_System_Collections_Generic_IEnumerable___0__) have the same behavior as `First` and `FirstOrDefault` but then with the last element of the collection."
   ]
  },
  {
   "cell_type": "code",
   "execution_count": null,
   "metadata": {
    "dotnet_interactive": {
     "language": "csharp"
    },
    "vscode": {
     "languageId": "csharp"
    }
   },
   "outputs": [],
   "source": [
    "int[] numbers = new int[] { 2, 8, 10 };\n",
    "\n",
    "Console.WriteLine(numbers.FirstOrDefault()); // 2\n",
    "Console.WriteLine(numbers.FirstOrDefault(n => n > 2)); // 8\n",
    "Console.WriteLine(numbers.FirstOrDefault(n => n < 2)); // 0 (default value for an int)\n",
    "\n",
    "Console.WriteLine(numbers.First()); // 2\n",
    "Console.WriteLine(numbers.First(n => n > 2)); // 8\n",
    "Console.WriteLine(numbers.First(n => n < 2)); // InvalidOperationException"
   ]
  },
  {
   "cell_type": "markdown",
   "metadata": {},
   "source": [
    "### Skip\n",
    "\n",
    "[Skip](https://docs.microsoft.com/en-us/dotnet/api/system.linq.enumerable.skip?view=net-5.0#System_Linq_Enumerable_Skip__1_System_Collections_Generic_IEnumerable___0__System_Int32_) allows to skip a given number of elements in the collection, starting to count from index 0.\n",
    "\n",
    "### Take\n",
    "\n",
    "[Take](https://docs.microsoft.com/en-us/dotnet/api/system.linq.enumerable.take?view=net-5.0#System_Linq_Enumerable_Take__1_System_Collections_Generic_IEnumerable___0__System_Int32_) returns a given number of elements in the collection starting from index 0.\n",
    "\n",
    "### SkipWhile/TakeWhile\n",
    "\n",
    "[SkipWhile](https://docs.microsoft.com/en-us/dotnet/api/system.linq.enumerable.skipwhile?view=net-5.0#System_Linq_Enumerable_SkipWhile__1_System_Collections_Generic_IEnumerable___0__System_Func___0_System_Boolean__) and [TakeWhile](https://docs.microsoft.com/en-us/dotnet/api/system.linq.enumerable.takewhile?view=net-5.0#System_Linq_Enumerable_TakeWhile__1_System_Collections_Generic_IEnumerable___0__System_Func___0_System_Boolean__) have the same behavior as Skip/Take but only while a certain predicate returns `true`.\n",
    "\n",
    "> `Skip`, `Take`, `SkipWhile` and `TakeWhile` all return `IEnumerable`s, so they use deferred exection."
   ]
  },
  {
   "cell_type": "code",
   "execution_count": null,
   "metadata": {
    "dotnet_interactive": {
     "language": "csharp"
    },
    "vscode": {
     "languageId": "csharp"
    }
   },
   "outputs": [],
   "source": [
    "void Print(string prefix, IEnumerable<int> array)\n",
    "{\n",
    "  Console.WriteLine(\"{0}: [ {1} ]\", prefix, string.Join(\", \", array));\n",
    "}\n",
    "\n",
    "int[] numbers = new int[] { 5, 1, 18, 11, 3, 6, 19, 17, 4, 10 };\n",
    "\n",
    "Print(\"Numbers starting from index 4\", numbers.Skip(4)); // [ 3, 6, 19, 17, 4, 10 ]\n",
    "Print(\"The first 5 numbers\", numbers.Take(5)); // [ 5, 1, 18, 11, 3 ]\n",
    "Print(\"Skip until a number is > 10\", numbers.SkipWhile(n => n <= 10)); // [ 18, 11, 3, 6, 19, 17, 4, 10 ]\n",
    "Print(\"Take all numbers until > 18\", numbers.TakeWhile(n => n <= 18)); // [ 5, 1, 18, 11, 3, 6 ]"
   ]
  },
  {
   "cell_type": "markdown",
   "metadata": {},
   "source": [
    "### SelectMany\n",
    "\n",
    "[SelectMany](https://docs.microsoft.com/en-us/dotnet/api/system.linq.enumerable.selectmany?view=net-5.0#System_Linq_Enumerable_SelectMany__2_System_Collections_Generic_IEnumerable___0__System_Func___0_System_Int32_System_Collections_Generic_IEnumerable___1___) transforms each element of a collection to an `IEnumerable` and flattens the result. Without the flattening, one would end up with a two-dimensional `IEnumerable`."
   ]
  },
  {
   "cell_type": "code",
   "execution_count": null,
   "metadata": {
    "dotnet_interactive": {
     "language": "csharp"
    },
    "vscode": {
     "languageId": "csharp"
    }
   },
   "outputs": [],
   "source": [
    "var everything = locations.SelectMany(l => new List<string> { l.City, l.Country });\n",
    "\n",
    "foreach (var s in everything)\n",
    "  Console.WriteLine(s);"
   ]
  },
  {
   "cell_type": "markdown",
   "metadata": {},
   "source": [
    "### GroupBy\n",
    "\n",
    "[GroupBy](https://docs.microsoft.com/en-us/dotnet/api/system.linq.enumerable.groupby?view=net-5.0#System_Linq_Enumerable_GroupBy__2_System_Collections_Generic_IEnumerable___0__System_Func___0___1__) allows to group elements of a collection. The result is an `IEnumerable` of `IGrouping`, every `IGrouping` contains a `Key` and a collection with the corresponding elements."
   ]
  },
  {
   "cell_type": "code",
   "execution_count": null,
   "metadata": {
    "dotnet_interactive": {
     "language": "csharp"
    },
    "vscode": {
     "languageId": "csharp"
    }
   },
   "outputs": [],
   "source": [
    "var grouped = locations.GroupBy(l => l.Country);\n",
    "\n",
    "foreach (var country in grouped)\n",
    "{\n",
    "  Console.WriteLine($\"{country.Key}:\");\n",
    "\n",
    "  foreach (var location in country)\n",
    "    Console.WriteLine($\"   - {location.City}\");\n",
    "}"
   ]
  },
  {
   "cell_type": "markdown",
   "metadata": {},
   "source": [
    "### ToList/ToArray/ToDictionary/...\n",
    "\n",
    "[ToList](https://docs.microsoft.com/en-us/dotnet/api/system.linq.enumerable.tolist?view=net-5.0#System_Linq_Enumerable_ToList__1_System_Collections_Generic_IEnumerable___0__), [ToArray](https://docs.microsoft.com/en-us/dotnet/api/system.linq.enumerable.toarray?view=net-5.0#System_Linq_Enumerable_ToArray__1_System_Collections_Generic_IEnumerable___0__) and [ToDictionary](https://docs.microsoft.com/en-us/dotnet/api/system.linq.enumerable.todictionary?view=net-5.0#System_Linq_Enumerable_ToDictionary__2_System_Collections_Generic_IEnumerable___0__System_Func___0___1__) are one of the many methods which convert the result of a LINQ query into the desired collection type. These methods all use immediate execution, so be careful and only use if necessary."
   ]
  },
  {
   "cell_type": "code",
   "execution_count": null,
   "metadata": {
    "dotnet_interactive": {
     "language": "csharp"
    },
    "vscode": {
     "languageId": "csharp"
    }
   },
   "outputs": [],
   "source": [
    "IList<Location> locations = new List<Location> {\n",
    "  new Location { City = \"Oostende\", Country = \"Belgium\"},\n",
    "  new Location { City = \"Amsterdam\", Country = \"Netherlands\"},\n",
    "  new Location { City = \"Gent\", Country = \"Belgium\"},\n",
    "  new Location { City = \"Amersfoort\", Country = \"Netherlands\"}\n",
    "};\n",
    "\n",
    "var locationsInBelgium = locations.Where(l => l.Country == \"Belgium\").ToList();\n",
    "\n",
    "// You won't see this city in the result because ToList is immediate\n",
    "locations.Add(new Location { City = \"Brugge\", Country = \"Belgium\" });\n",
    "\n",
    "Console.WriteLine(\"Cities in Belgium:\");\n",
    "foreach (var location in locationsInBelgium)\n",
    "  Console.WriteLine($\" - {location.City}\");"
   ]
  },
  {
   "cell_type": "markdown",
   "metadata": {},
   "source": [
    "### All\n",
    "\n",
    "Determines whether all elements of a collection satisfy the given predicate.\n",
    "\n",
    "### Any\n",
    "\n",
    "If no predicate is given, determines whether the collection contains any elements. If a predicate is given, determines whether at least one element satifies the given predicate.\n",
    "\n",
    "### Distinct\n",
    "\n",
    "Returns all unique elements in a given collection, will use the `==` operator or a given lambda to determine if two elements are equal.\n",
    "\n",
    "### ForEach\n",
    "\n",
    "> **Caution!** Defined in `List<T>` and not in `IEnumerable<T>`\n",
    "\n",
    "Iterates over all elements in a collection and calls the given lambda with each element. This lambda is of type `Action<T>` and has `void` as return type.\n",
    "\n",
    "But as said before, many more exist in the [documentation](https://docs.microsoft.com/en-us/dotnet/api/system.linq.enumerable?view=net-5.0)."
   ]
  },
  {
   "cell_type": "code",
   "execution_count": null,
   "metadata": {
    "dotnet_interactive": {
     "language": "csharp"
    },
    "vscode": {
     "languageId": "csharp"
    }
   },
   "outputs": [],
   "source": [
    "List<Location> locations = new List<Location> {\n",
    "  new Location { City = \"Oostende\", Country = \"Belgium\"},\n",
    "  new Location { City = \"Amsterdam\", Country = \"Netherlands\"},\n",
    "  new Location { City = \"Gent\", Country = \"Belgium\"},\n",
    "  new Location { City = \"Amersfoort\", Country = \"Netherlands\"}\n",
    "};\n",
    "\n",
    "locations.ForEach(loc => Console.WriteLine(loc));"
   ]
  },
  {
   "cell_type": "markdown",
   "metadata": {},
   "source": [
    "## Expression-Bodied Function Members\n",
    "\n",
    "It's also possible to use the lambda operator (`=>`) with properties and methods. This is extremely handy when the body of a property getter/setter or method is only one line. It makes the code much more compact.\n",
    "\n",
    "Take a look at the following example."
   ]
  },
  {
   "cell_type": "code",
   "execution_count": null,
   "metadata": {
    "dotnet_interactive": {
     "language": "csharp"
    },
    "vscode": {
     "languageId": "csharp"
    }
   },
   "outputs": [],
   "source": [
    "class Person\n",
    "{\n",
    "  private string _lastName;\n",
    "\n",
    "  public string FirstName { get; set; }\n",
    "\n",
    "  public string LastName\n",
    "  {\n",
    "    get { return _lastName; }\n",
    "    set { _lastName = value; }\n",
    "  }\n",
    "\n",
    "  public Person(string firstName, string lastName)\n",
    "  {\n",
    "    FirstName = firstName;\n",
    "    LastName = lastName;\n",
    "  }\n",
    "\n",
    "  public string FullName\n",
    "  {\n",
    "    get { return $\"{FirstName} {LastName}\".Trim(); }\n",
    "  }\n",
    "\n",
    "  public override string ToString()\n",
    "  {\n",
    "    return FullName;\n",
    "  }\n",
    "}"
   ]
  },
  {
   "cell_type": "markdown",
   "metadata": {},
   "source": [
    "And now using expression-bodied members."
   ]
  },
  {
   "cell_type": "code",
   "execution_count": null,
   "metadata": {
    "dotnet_interactive": {
     "language": "csharp"
    },
    "vscode": {
     "languageId": "csharp"
    }
   },
   "outputs": [],
   "source": [
    "class Person\n",
    "{\n",
    "  private string _lastName;\n",
    "\n",
    "  public string FirstName { get; set; }\n",
    "\n",
    "  public string LastName\n",
    "  {\n",
    "    get => _lastName;\n",
    "    set => _lastName = value;\n",
    "  }\n",
    "\n",
    "  public Person(string firstName, string lastName)\n",
    "  {\n",
    "    FirstName = firstName;\n",
    "    LastName = lastName;\n",
    "  }\n",
    "\n",
    "  public string FullName => $\"{FirstName} {LastName}\".Trim();\n",
    "\n",
    "  public override string ToString() => FullName;\n",
    "}"
   ]
  }
 ],
 "metadata": {
  "kernelspec": {
   "display_name": ".NET (C#)",
   "language": "C#",
   "name": ".net-csharp"
  },
  "language_info": {
   "file_extension": ".cs",
   "mimetype": "text/x-csharp",
   "name": "C#",
   "pygments_lexer": "csharp",
   "version": "9.0"
  },
  "orig_nbformat": 4
 },
 "nbformat": 4,
 "nbformat_minor": 2
}
