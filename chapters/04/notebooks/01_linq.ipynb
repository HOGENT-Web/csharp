{
 "cells": [
  {
   "cell_type": "markdown",
   "source": [
    "> Enterprise Web C#\n",
    "\n",
    "# Chapter 3 - Big O(h) Oh collections"
   ],
   "metadata": {}
  },
  {
   "cell_type": "markdown",
   "source": [
    "## Introduction\n",
    "\n",
    "LINQ stands for **L**anguage **IN**tegrated **Q**uery. It's a query language integrated in C# providing an SQL-like interface for a variety of **data sources**. Because it's completely integrated, it features IntelliSense and compile time checking amongst other features provided by the compiler.\n",
    "\n",
    "### Data source\n",
    "\n",
    "LINQ is defined for a number of data sources, but what is a data source? A data source is the data that is being queried and which has a LINQ provider. There are a number of LINQ providers:\n",
    "\n",
    "- LINQ to Objects\n",
    "  - querying in-memory data sources like strings, arrays, collections...\n",
    "  - mainly the focus in this chapter\n",
    "- LINQ to SQL\n",
    "  - querying data in a relational database from C#\n",
    "- LINQ to Entities\n",
    "  - similar to LINQ to SQL but using [Entity Framework](https://docs.microsoft.com/en-us/ef/)\n",
    "  - will be covered in a later chapter\n",
    "\n",
    "Once you master the LINQ syntax, you can query any data source which provides a LINQ interface:\n",
    "- LINQ to\n",
    "  - Google, Twitter, eBay, Amazon, Fliqr...\n",
    "  - XML, JSON...\n",
    "  - MySQL, Oracle...\n",
    "  - Excel, Word...\n",
    "  - JavaScript...\n",
    "  - ..."
   ],
   "metadata": {}
  },
  {
   "cell_type": "markdown",
   "source": [
    "<br />"
   ],
   "metadata": {}
  },
  {
   "cell_type": "markdown",
   "source": [
    "## LINQ syntax\n",
    "\n",
    "There are two types of LINQ syntax: **query syntax** or **method syntax**.\n",
    "\n",
    "### Query syntax\n",
    "\n",
    "```cs\n",
    "var query = from c in customerList\n",
    "            where c.CustomerId == customerId\n",
    "            select c;\n",
    "```\n",
    "\n",
    "The query syntax is a declarative and builtin syntax. The compiler will translate the query syntax to method syntax at compile time. Fewer LINQ operators are available when using this syntax.\n",
    "\n",
    "### Method syntax\n",
    "\n",
    "```cs\n",
    "var query = customerList.Where(c => c.CustomerId == customerId);\n",
    "```\n",
    "\n",
    "The method syntax uses methods to query a data source. It's a part of the .NET framework: the `System.Linq` namespace in the `System.Core` assembly."
   ],
   "metadata": {}
  },
  {
   "cell_type": "markdown",
   "source": [
    "<br />"
   ],
   "metadata": {}
  },
  {
   "cell_type": "markdown",
   "source": [
    "## LINQ to Objects\n",
    "\n",
    "### Extension methods\n",
    "\n",
    "Extension methods are methods added to an existing class to extend this class' functionality. This functionality can be added without creating a subclass, modifying the original class or even recompiling the original class. They don't differ from instance methods (methods declared in the class itself).\n",
    "\n",
    "An extension method is declared static within a non generic static class. The first parameter must be preceded by the keyword `this`. The type of this first parameter is the type that is being extended. All parameters other parameters must be given when using the method.\n",
    "\n",
    "```cs\n",
    "public static class IntExtension\n",
    "{\n",
    "  public static bool IsEven(this int i)\n",
    "  {\n",
    "    return i % 2 == 0;\n",
    "  }\n",
    "}\n",
    "```\n",
    "\n",
    "This extension method has no parameters and can be called on any int: `10.IsEven()`.\n",
    "\n",
    "```cs\n",
    "public static class IntExtension\n",
    "{\n",
    "  public static bool Add(this int i, int number)\n",
    "  {\n",
    "    return i + number;\n",
    "  }\n",
    "}\n",
    "```\n",
    "\n",
    "This extension method has one parameters and can be called on any int: `10.Add(2)`.\n",
    "\n",
    "An extension method has no access to private member of the class for which it's declared. The extension method cannot override an instance method (same name and arguments), the compiler will always choose the instance method.\n",
    "\n",
    "Extension methods are best declared in another namespace named `Extensions`. This way you must explicitly write `using Extensions;` in order to use the extensions.\n",
    "\n",
    "This feature cannot be tested in .NET Interactive.... For demos and exercises, please use Visual Studio. An example can be found [here](https://github.com/HOGENT-Web/csharp-ch-4-example-1).\n",
    "        \n",
    "\n"
   ],
   "metadata": {}
  },
  {
   "cell_type": "markdown",
   "source": [
    "<br />"
   ],
   "metadata": {}
  },
  {
   "cell_type": "markdown",
   "source": [
    "### Querying in-memory data sources\n",
    "\n",
    "LINQ methods are extensions methods defined on `IEnumerable<T>`. These methods can be used on any type that implements `IEnumerable<T>`, e.g. arrays or generic collections (`List<T>`, `Queue<T>`, `Stack<T>`...). The LINQ extensions belong to the `System.Linq` namespace, which should be imported when using LINQ: `using System.Linq;`.\n",
    "\n",
    "`Enumerable` is a static class which contains all LINQ extension methods (`this` is of type `IEnumerable<T>`). In the next sections, the most important methods will be discussed, other methods can be found in the [documentation](https://docs.microsoft.com/en-us/dotnet/api/system.linq.enumerable?view=net-5.0#methods).\n",
    "\n",
    "#### Sum\n",
    "\n",
    "Returns the sum of a given collection of numbers."
   ],
   "metadata": {}
  },
  {
   "cell_type": "code",
   "execution_count": null,
   "source": [
    "using System.Linq;\n",
    "\n",
    "int[] numbers = new int[] { 2, 8, 10 };\n",
    "Console.WriteLine($\"The sum of the aray is {numbers.Sum()}\");\n",
    "\n",
    "List<int> numbersList = new List<int> { 2, 8, 10 };\n",
    "Console.WriteLine($\"The sum of the list is {numbersList.Sum()}\");\n",
    "\n",
    "HashSet<double> numbersSet = new HashSet<double> { 2.5, 8.4, 10.6 };\n",
    "Console.WriteLine($\"The sum of the set is {numbersSet.Sum()}\");\n",
    "\n",
    "Stack<float> numbersStack = new Stack<float>();\n",
    "numbersStack.Push(1.5F);\n",
    "numbersStack.Push(2.6F);\n",
    "Console.WriteLine($\"The sum of the stack is {numbersStack.Sum()}\");"
   ],
   "outputs": [],
   "metadata": {
    "dotnet_interactive": {
     "language": "csharp"
    }
   }
  },
  {
   "cell_type": "markdown",
   "source": [
    "#### Average\n",
    "\n",
    "Returns the average of a given collection of numbers."
   ],
   "metadata": {}
  },
  {
   "cell_type": "code",
   "execution_count": null,
   "source": [
    "List<int> numbersList = new List<int> { 2, 8, 10 };\n",
    "Console.WriteLine($\"The average of the list is {numbersList.Average():0.00}\");"
   ],
   "outputs": [],
   "metadata": {
    "dotnet_interactive": {
     "language": "csharp"
    }
   }
  },
  {
   "cell_type": "markdown",
   "source": [
    "#### Count\n",
    "\n",
    "Returns the number of items in a collection."
   ],
   "metadata": {}
  },
  {
   "cell_type": "code",
   "execution_count": null,
   "source": [
    "List<int> numbersList = new List<int> { 2, 8, 10 };\n",
    "Console.WriteLine($\"The number of items in the list is {numbersList.Count()}\");"
   ],
   "outputs": [],
   "metadata": {
    "dotnet_interactive": {
     "language": "csharp"
    }
   }
  },
  {
   "cell_type": "markdown",
   "source": [
    "#### Min/Max\n",
    "\n",
    "Returns the minimum/maximum of a given list."
   ],
   "metadata": {}
  },
  {
   "cell_type": "code",
   "execution_count": null,
   "source": [
    "List<int> numbersList = new List<int> { 2, 8, 10 };\n",
    "Console.WriteLine($\"The minimum of the list is {numbersList.Min()}\");\n",
    "Console.WriteLine($\"The maximum of the list is {numbersList.Max()}\");"
   ],
   "outputs": [],
   "metadata": {
    "dotnet_interactive": {
     "language": "csharp"
    }
   }
  },
  {
   "cell_type": "markdown",
   "source": [
    "<br />"
   ],
   "metadata": {}
  },
  {
   "cell_type": "markdown",
   "source": [
    "## Lambda expressions\n",
    "\n",
    "Lambda expressions are **anonymous**, **inline** functions. It's a short form for writing a function. Lambda expressions use the lambda operator: `=>`. Lambda's must always return a value, so the return type cannot be `void`. Lambda's are used frequently when using LINQ.\n",
    "\n",
    "You can store a lambda within a variable with type `Func<Param, ReturnType>` where `Param` is the type of the parameter and `ReturnType` is the return type. You can add from zero up to 16 parameters as seen in the [documentation](https://docs.microsoft.com/en-us/dotnet/api/system.func-17?view=net-5.0). The `Func` type can also be used to store normal functions in a variable.\n",
    "\n",
    "Converting a function to a lambda is pretty easy:"
   ],
   "metadata": {}
  },
  {
   "cell_type": "code",
   "execution_count": null,
   "source": [
    "int NrOfChars(string s)\n",
    "{\n",
    "  return s.Length;\n",
    "}\n",
    "\n",
    "string hello = \"Hello world!\";\n",
    "Console.WriteLine($\"{hello} has {NrOfChars(hello)} characters\");\n",
    "\n",
    "// Simply store the function\n",
    "Func<string, int> myFunction = NrOfChars;\n",
    "\n",
    "Console.WriteLine($\"{hello} has {myFunction(hello)} characters\");\n",
    "\n",
    "// Or as a lambda\n",
    "Func<string, int> myLambda = (s) => s.Length;\n",
    "\n",
    "Console.WriteLine($\"{hello} has {myLambda(hello)} characters\");"
   ],
   "outputs": [],
   "metadata": {
    "dotnet_interactive": {
     "language": "csharp"
    }
   }
  },
  {
   "cell_type": "markdown",
   "source": [
    "As you can see the lambda is defined on-the-fly and has no name, it's an anonymous function. This lambda is equivalent to the original function `NrOfChars`.\n",
    "\n",
    "An example of a lambda with more than one parameter:"
   ],
   "metadata": {}
  },
  {
   "cell_type": "code",
   "execution_count": null,
   "source": [
    "Func<int, int, int, int> Sum = (x, y, z) => x + y + z;\n",
    "\n",
    "int x = 1, y = 2, z = 3;\n",
    "Console.WriteLine($\"{x} + {y} + {z} = {Sum(x, y, z)}\");"
   ],
   "outputs": [],
   "metadata": {
    "dotnet_interactive": {
     "language": "csharp"
    }
   }
  },
  {
   "cell_type": "markdown",
   "source": [
    "Or with no parameters:"
   ],
   "metadata": {}
  },
  {
   "cell_type": "code",
   "execution_count": null,
   "source": [
    "Func<string> HelloWorld = () => \"Hello world!\";\n",
    "\n",
    "Console.WriteLine(HelloWorld());"
   ],
   "outputs": [],
   "metadata": {
    "dotnet_interactive": {
     "language": "csharp"
    }
   }
  },
  {
   "cell_type": "markdown",
   "source": [
    "Lambda's are frequently used as a parameter of LINQ methods. They usually provide the information to work with.\n",
    "\n",
    "For example, let's calculate the sum of the distances to some locations. We tell the `Sum` function which attribute to use when summing a list of objects, as object cannot be added (without operator overloading).\n",
    "\n",
    "Behind the scenes the LINQ method will use a `foreach` to loop over all locations. For each location it'll call the given lambda and add the resulting number to the sum. In the end the total will be returned."
   ],
   "metadata": {}
  },
  {
   "cell_type": "code",
   "execution_count": null,
   "source": [
    "class Location\n",
    "{\n",
    "  public string Country { get; set; }\n",
    "  public string City { get; set; }\n",
    "  public int Distance { get; set; }\n",
    "\n",
    "  // Lambda's in classes ^^\n",
    "  public override string ToString()\n",
    "  {\n",
    "    return $\"{City} in {Country} at {Distance} miles distance\";\n",
    "  }\n",
    "}\n",
    "\n",
    "List<Location> locations = new List<Location> {\n",
    "  new Location { City = \"London\", Distance = 4789, Country= \"UK\" },\n",
    "  new Location { City = \"Amsterdam\", Distance = 4869, Country= \"NL\" },\n",
    "  new Location { City = \"San Francisco\", Distance = 684, Country= \"USA\" },\n",
    "  new Location { City = \"Las Vegas\", Distance = 872, Country= \"USA\" },\n",
    "  new Location { City = \"Boston\", Distance = 2488, Country= \"USA\" },\n",
    "  new Location { City = \"Raleigh\", Distance = 2363, Country= \"USA\" },\n",
    "  new Location { City = \"Chicago\", Distance = 1733, Country= \"USA\" },\n",
    "  new Location { City = \"Charleston\", Distance = 2421, Country= \"USA\" },\n",
    "  new Location { City = \"Helsinki\", Distance = 4771, Country= \"Finland\" },\n",
    "  new Location { City = \"Nice\", Distance = 5428, Country= \"France\" },\n",
    "  new Location { City = \"Dublin\", Distance = 4527, Country= \"Ireland\" }\n",
    "};\n",
    "\n",
    "Console.WriteLine($\"The sum of all distances is {locations.Sum(loc => loc.Distance)}\");"
   ],
   "outputs": [],
   "metadata": {
    "dotnet_interactive": {
     "language": "csharp"
    }
   }
  },
  {
   "cell_type": "markdown",
   "source": [
    "With lambda's you can really do complex things, like counting the number of items that satisfy a given condition."
   ],
   "metadata": {}
  },
  {
   "cell_type": "code",
   "execution_count": null,
   "source": [
    "int[] numbers = new int[] { 5, 1, 18, 11, 3, 6, 19, 17, 4, 10 };\n",
    "\n",
    "Console.WriteLine($\"There are {numbers.Count(n => n > 8)} numbers bigger than 8\");"
   ],
   "outputs": [],
   "metadata": {
    "dotnet_interactive": {
     "language": "csharp"
    }
   }
  },
  {
   "cell_type": "markdown",
   "source": [
    "<br />"
   ],
   "metadata": {}
  },
  {
   "cell_type": "markdown",
   "source": [
    "## Deferred execution\n",
    "\n",
    "Not all LINQ methods are executed immediately, some executions are delayed until it can no longer be delayed. Methods which use **deferred execution** will only execute the LINQ methods when the resulting collection is iterated through. All methods which return an `IEnumerable<T>` (or an `IOrderedEnumerable<T>`) use deferred execution, methods which don't return these types use **immediate execution**.\n",
    "\n",
    "Examples of methods which use immediate execution are `Sum`, `Count`, `Average`, `ToList` and `ToArray`. Examples of methods which use deferred execution are `Where`, `Select` and `OrderBy`. These are simply some examples, many more exist."
   ],
   "metadata": {}
  },
  {
   "cell_type": "markdown",
   "source": [
    "## Filtering\n",
    "\n",
    "`Where` can be used to filter a collection based on a **predicate** (= condition). The predicate is given by the lambda parameter, the result is an `IEnumerable` containing all elements satisfying the given predicate.\n",
    "\n",
    "The predicate can be any boolean expression, just write a lambda which returns a boolean and `Where` is happy.\n",
    "\n",
    "How does `Where` work? When looping over the resulting `IEnumerable` the original will be looped over. Per element the given lambda is executed and if the result is `true`, the item is returned. The resulting `IEnumerable` will thus contain all matching elements.\n",
    "\n",
    "The next example will filter out all cities whose names contain more than 5 characters. Try to guess the output when the collection is changed before looping over."
   ],
   "metadata": {}
  },
  {
   "cell_type": "code",
   "execution_count": null,
   "source": [
    "string[] cities = {\n",
    "  \"London\", \"Amsterdam\", \"San Francisco\", \"Las Vegas\", \"Boston\", \"Raleigh\", \"Chicago\",\n",
    "  \"Charlestown\", \"Helsinki\", \"Nice\", \"Dublin\"\n",
    "};\n",
    "\n",
    "IEnumerable<string> citiesWithlongNames = cities.Where(c => c.Length > 5);\n",
    "\n",
    "Console.WriteLine(\"Cities with more than 5 characters:\");\n",
    "foreach (var city in citiesWithlongNames)\n",
    "  Console.WriteLine(city);\n"
   ],
   "outputs": [],
   "metadata": {
    "dotnet_interactive": {
     "language": "csharp"
    }
   }
  },
  {
   "cell_type": "code",
   "execution_count": null,
   "source": [
    "// Let's do this again\n",
    "citiesWithlongNames = cities.Where(c => c.Length > 5);\n",
    "\n",
    "// But change the first city before looping over the IEnumerable\n",
    "// Guess the output\n",
    "cities[0] = \"Oostende\";\n",
    "\n",
    "Console.WriteLine(\"Cities with more than 5 characters:\");\n",
    "foreach (var city in citiesWithlongNames)\n",
    "  Console.WriteLine(city);\n",
    "\n",
    "// Did the output match you expectations?"
   ],
   "outputs": [],
   "metadata": {
    "dotnet_interactive": {
     "language": "csharp"
    }
   }
  },
  {
   "cell_type": "code",
   "execution_count": null,
   "source": [
    "// Let's change the first one another time\n",
    "cities[0] = \"Brussel\";\n",
    "\n",
    "Console.WriteLine(\"Cities with more than 5 characters:\");\n",
    "foreach (var city in citiesWithlongNames)\n",
    "  Console.WriteLine(city);\n",
    "\n",
    "// Did the output match you expectations?"
   ],
   "outputs": [],
   "metadata": {
    "dotnet_interactive": {
     "language": "csharp"
    }
   }
  },
  {
   "cell_type": "code",
   "execution_count": null,
   "source": [
    "// Let's add another condition\n",
    "IEnumerable<string> citiesFiltered = cities.Where(c => c.Length > 5 && c.Contains(\"a\"));\n",
    "\n",
    "foreach (var city in citiesFiltered)\n",
    "  Console.WriteLine(city);"
   ],
   "outputs": [],
   "metadata": {
    "dotnet_interactive": {
     "language": "csharp"
    }
   }
  },
  {
   "cell_type": "markdown",
   "source": [
    "As you can see, the query is executed again every time the collection is looped over. That's deferred execution.\n",
    "\n",
    "**Caution!** When the source collection is `null`, an `ArgumentNullException` will be thrown."
   ],
   "metadata": {}
  },
  {
   "cell_type": "code",
   "execution_count": null,
   "source": [
    "string[] cities = null;\n",
    "\n",
    "IEnumerable<string> citiesWithlongNames = cities.Where(c => c.Length > 5);\n",
    "\n",
    "foreach (string city in citiesWithlongNames)\n",
    "  Console.WriteLine(city);"
   ],
   "outputs": [],
   "metadata": {
    "dotnet_interactive": {
     "language": "csharp"
    }
   }
  },
  {
   "cell_type": "markdown",
   "source": [
    "## Ordering\n",
    "\n",
    "`OrderBy` and `OrderByDescending` can be used to sort a collection ascending/descending. If one wants to sort by multiple things, you must chain the `ThenBy` and `ThenByDescending` methods. To reverse the result, the method `Reverse` can be used."
   ],
   "metadata": {}
  },
  {
   "cell_type": "code",
   "execution_count": null,
   "source": [
    "string[] cities = {\n",
    "  \"London\", \"Amsterdam\", \"San Francisco\", \"Las Vegas\", \"Boston\", \"Raleigh\", \"Chicago\",\n",
    "  \"Charlestown\", \"Helsinki\", \"Nice\", \"Dublin\"\n",
    "};\n",
    "\n",
    "// c => c means to sort by the string itself\n",
    "IEnumerable<string> orderedPlaces = cities.OrderBy(c => c);\n",
    "\n",
    "Console.WriteLine(\"Sorted city names:\");\n",
    "foreach (var city in orderedPlaces)\n",
    "  Console.WriteLine(city);"
   ],
   "outputs": [],
   "metadata": {
    "dotnet_interactive": {
     "language": "csharp"
    }
   }
  },
  {
   "cell_type": "code",
   "execution_count": null,
   "source": [
    "orderedPlaces = cities.OrderByDescending(c => c.Length).ThenBy(c => c);\n",
    "\n",
    "Console.WriteLine(\"Sorted city names (by length and name):\");\n",
    "foreach (var city in orderedPlaces)\n",
    "  Console.WriteLine(city);"
   ],
   "outputs": [],
   "metadata": {
    "dotnet_interactive": {
     "language": "csharp"
    }
   }
  },
  {
   "cell_type": "markdown",
   "source": [
    "## Chaining extension methods\n",
    "\n",
    "As you see in the example above, LINQ methods can be chained one after the other."
   ],
   "metadata": {}
  },
  {
   "cell_type": "code",
   "execution_count": null,
   "source": [
    "string[] cities = {\n",
    "  \"London\", \"Amsterdam\", \"San Francisco\", \"Las Vegas\", \"Boston\", \"Raleigh\", \"Chicago\",\n",
    "  \"Charlestown\", \"Helsinki\", \"Nice\", \"Dublin\"\n",
    "};\n",
    "\n",
    "IEnumerable<string> orderedPlaces = cities.Where(c => c.Length > 5).OrderBy(c => c);\n",
    "\n",
    "Console.WriteLine(\"Sorted list of city names longer than 5 characters\");\n",
    "foreach (var city in orderedPlaces)\n",
    "  Console.WriteLine(city);\n"
   ],
   "outputs": [],
   "metadata": {
    "dotnet_interactive": {
     "language": "csharp"
    }
   }
  },
  {
   "cell_type": "code",
   "execution_count": null,
   "source": [
    "string[] cities = {\n",
    "  \"London\", \"Amsterdam\", \"San Francisco\", \"Las Vegas\", \"Boston\", \"Raleigh\", \"Chicago\",\n",
    "  \"Charlestown\", \"Helsinki\", \"Nice\", \"Dublin\", \"San Anselmo\", \"San Diego\", \"San Mateo\"\n",
    "};\n",
    "\n",
    "IEnumerable<string> selectedCities = cities\n",
    "  .Where(c => c.StartsWith(\"S\") && c.Length > 5)\n",
    "  .OrderByDescending(c => c.Length)\n",
    "  .ThenBy(c => c);\n",
    "\n",
    "Console.WriteLine(\"Cities starting with an S, longer than 5 characters and sorted by length and name\");\n",
    "foreach (var city in selectedCities)\n",
    "  Console.WriteLine(city);"
   ],
   "outputs": [],
   "metadata": {
    "dotnet_interactive": {
     "language": "csharp"
    }
   }
  },
  {
   "cell_type": "markdown",
   "source": [
    "## Map collections into other collections\n",
    "\n",
    "The `Select` method allows to transform each element of a collection into another type. This type can be equal to the original one, can be an existing type or even an anonymous type (no type defined).\n",
    "\n",
    "How does `Select` work? It loops through the collection using a `foreach`. For every element, the lambda is called and the result is added to a new collection. The latter collection is the return value.\n",
    "\n",
    "Some examples:"
   ],
   "metadata": {}
  },
  {
   "cell_type": "code",
   "execution_count": null,
   "source": [
    "int[] numbers = new int[] { 5, 1, 18, 11, 3, 6, 19, 17, 4, 10 };\n",
    "\n",
    "// Increment all numbers by one\n",
    "IEnumerable<int> newNumbers = numbers.Select(n => n + 1);\n",
    "\n",
    "Console.WriteLine(\"List of numbers mappped:\");\n",
    "foreach (int i in newNumbers)\n",
    "  Console.WriteLine(i);\n"
   ],
   "outputs": [],
   "metadata": {
    "dotnet_interactive": {
     "language": "csharp"
    }
   }
  },
  {
   "cell_type": "code",
   "execution_count": null,
   "source": [
    "string[] cities = {\n",
    "  \"London\", \"Amsterdam\", \"San Francisco\", \"Las Vegas\", \"Boston\", \"Raleigh\", \"Chicago\",\n",
    "  \"Charlestown\", \"Helsinki\", \"Nice\", \"Dublin\"\n",
    "};\n",
    "\n",
    "// Converting each city to its length\n",
    "IEnumerable<int> lengths = cities.Select(c => c.Length);\n",
    "\n",
    "Console.WriteLine(\"Lengths of cities:\");\n",
    "foreach (int i in lengths)\n",
    "  Console.WriteLine(i);"
   ],
   "outputs": [],
   "metadata": {
    "dotnet_interactive": {
     "language": "csharp"
    }
   }
  },
  {
   "cell_type": "code",
   "execution_count": null,
   "source": [
    "// Convert the previously defined list of locations to strings\n",
    "IEnumerable<string> places = locations.Select(l => l.City);\n",
    "\n",
    "Console.WriteLine(\"Cities of locations:\");\n",
    "foreach (string i in places)\n",
    "  Console.WriteLine(i);"
   ],
   "outputs": [],
   "metadata": {
    "dotnet_interactive": {
     "language": "csharp"
    }
   }
  },
  {
   "cell_type": "markdown",
   "source": [
    "Let's now convert our `Location` objects to a new type called `CityDistance`."
   ],
   "metadata": {}
  },
  {
   "cell_type": "code",
   "execution_count": null,
   "source": [
    "class CityDistance\n",
    "{\n",
    "  public string Country { get; set; }\n",
    "  public string Name { get; set; }\n",
    "  public int DistanceInKm { get; set; }\n",
    "\n",
    "  public override string ToString()\n",
    "  {\n",
    "    return $\"{Name} in {Country} at {DistanceInKm} km distance\";\n",
    "  }\n",
    "}\n",
    "\n",
    "IEnumerable<CityDistance> cityDistances = locations.Select(\n",
    "  l => new CityDistance\n",
    "  {\n",
    "    Name = l.City,\n",
    "    Country = l.Country,\n",
    "    DistanceInKm = (int)(l.Distance * 1.61)\n",
    "  }\n",
    ");\n",
    "\n",
    "foreach (var cd in cityDistances)\n",
    "  Console.WriteLine(cd);"
   ],
   "outputs": [],
   "metadata": {
    "dotnet_interactive": {
     "language": "csharp"
    }
   }
  },
  {
   "cell_type": "markdown",
   "source": [
    "Sometimes it's easier to let the compiler determine the type of LINQ queries, so you should try and use `var` as the \"variable type\" instead of the explicit type. When using `var`, the compiler will determine the type of the variable and IntelliSense will work as expected."
   ],
   "metadata": {}
  },
  {
   "cell_type": "code",
   "execution_count": null,
   "source": [
    "var cities = cityDistances.Select(c => c.Name); // IEnumerable<string>\n",
    "\n",
    "foreach (var c in cities)\n",
    "  Console.WriteLine(c);"
   ],
   "outputs": [],
   "metadata": {
    "dotnet_interactive": {
     "language": "csharp"
    }
   }
  },
  {
   "cell_type": "markdown",
   "source": [
    "### Anonymous types\n",
    "\n",
    "An anonymous type is a type without a class definition, you create this on-the-fly (like a lambda). In order to define an anonymous type, you should use `var` as the variable type. The type is determined by the properties listed, these properties are **read-only**.\n",
    "\n",
    "These type are commonly used when transforming collections to objects which contain a subset of the properties of the original elements. So there is no need to define a class for each of these subtypes because you only need them once."
   ],
   "metadata": {}
  },
  {
   "cell_type": "code",
   "execution_count": null,
   "source": [
    "// No class definition, just the properties\n",
    "var homeTown = new\n",
    "{\n",
    "  Name = \"Oostende\",\n",
    "  NrOfInhabitans = 60000\n",
    "};\n",
    "\n",
    "Console.WriteLine(homeTown);"
   ],
   "outputs": [],
   "metadata": {
    "dotnet_interactive": {
     "language": "csharp"
    }
   }
  },
  {
   "cell_type": "code",
   "execution_count": null,
   "source": [
    "// You could also create a type like this, without a class CityDistance\n",
    "var cityDistances = locations.Select(\n",
    "  l => new\n",
    "  {\n",
    "    Name = l.City,\n",
    "    Country = l.Country,\n",
    "    DistanceInKm = (int)(l.Distance * 1.61)\n",
    "  }\n",
    ");\n",
    "\n",
    "foreach (var cd in cityDistances)\n",
    "  Console.WriteLine(cd);"
   ],
   "outputs": [],
   "metadata": {
    "dotnet_interactive": {
     "language": "csharp"
    }
   }
  }
 ],
 "metadata": {
  "orig_nbformat": 4,
  "language_info": {
   "file_extension": ".cs",
   "mimetype": "text/x-csharp",
   "name": "C#",
   "pygments_lexer": "csharp",
   "version": "9.0"
  },
  "kernelspec": {
   "display_name": ".NET (C#)",
   "language": "C#",
   "name": ".net-csharp"
  }
 },
 "nbformat": 4,
 "nbformat_minor": 2
}