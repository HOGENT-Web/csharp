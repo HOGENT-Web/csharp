{
 "cells": [
  {
   "cell_type": "markdown",
   "source": [
    "> Enterprise Web C#\n",
    "\n",
    "# Chapter 3 - Big O(h) Oh collections"
   ],
   "metadata": {}
  },
  {
   "cell_type": "markdown",
   "source": [
    "## Introduction\n",
    "\n",
    "LINQ stands for **L**anguage **IN**tegrated **Q**uery. It's a query language integrated in C# providing an SQL-like interface for a variety of **data sources**. Because it's completely integrated, it features IntelliSense and compile time checking amongst other features provided by the compiler.\n",
    "\n",
    "### Data source\n",
    "\n",
    "LINQ is defined for a number of data sources, but what is a data source? A data source is the data that is being queried and which has a LINQ provider. There are a number of LINQ providers:\n",
    "\n",
    "- LINQ to Objects\n",
    "  - querying in-memory data sources like strings, arrays, collections...\n",
    "  - mainly the focus in this chapter\n",
    "- LINQ to SQL\n",
    "  - querying data in a relational database from C#\n",
    "- LINQ to Entities\n",
    "  - similar to LINQ to SQL but using [Entity Framework](https://docs.microsoft.com/en-us/ef/)\n",
    "  - will be covered in a later chapter\n",
    "\n",
    "Once you master the LINQ syntax, you can query any data source which provides a LINQ interface:\n",
    "- LINQ to\n",
    "  - Google, Twitter, eBay, Amazon, Fliqr...\n",
    "  - XML, JSON...\n",
    "  - MySQL, Oracle...\n",
    "  - Excel, Word...\n",
    "  - JavaScript...\n",
    "  - ...\n",
    "\n",
    "### LINQ syntax\n",
    "\n",
    "There are two types of LINQ syntax: **query syntax** or **method syntax**.\n",
    "\n",
    "### Query syntax\n",
    "\n",
    "```cs\n",
    "var query = from c in customerList\n",
    "            where c.CustomerId == customerId\n",
    "            select c;\n",
    "```\n",
    "\n",
    "The query syntax is a declarative and builtin syntax. The compiler will translate the query syntax to method syntax at compile time. Fewer LINQ operators are available when using this syntax.\n",
    "\n",
    "### Method syntax\n",
    "\n",
    "```cs\n",
    "var query = customerList.Where(c => c.CustomerId == customerId);\n",
    "```\n",
    "\n",
    "The method syntax uses methods to query a data source. It's a part of the .NET framework: the `System.Linq` namespace in the `System.Core` assembly."
   ],
   "metadata": {}
  }
 ],
 "metadata": {
  "orig_nbformat": 4,
  "language_info": {
   "name": "plaintext"
  }
 },
 "nbformat": 4,
 "nbformat_minor": 2
}