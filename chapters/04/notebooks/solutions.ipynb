{
 "cells": [
  {
   "cell_type": "markdown",
   "source": [
    "> Enterprise Web C#\n",
    "\n",
    "# Chapter 4 - Big O(h) Oh Collections - Solutions"
   ],
   "metadata": {}
  },
  {
   "cell_type": "markdown",
   "source": [
    "All exercises should be written in LINQ, only a `foreach` can be used to iterate over the resulting `IEnumerable`."
   ],
   "metadata": {}
  },
  {
   "cell_type": "code",
   "execution_count": null,
   "source": [
    "// Helper function\n",
    "void Print<T>(string prefix, IEnumerable<T> list)\n",
    "{\n",
    "  Console.WriteLine($\"{prefix}:\");\n",
    "  foreach (var item in list)\n",
    "    Console.WriteLine($\" - {item}\");\n",
    "}"
   ],
   "outputs": [],
   "metadata": {
    "dotnet_interactive": {
     "language": "csharp"
    }
   }
  },
  {
   "cell_type": "markdown",
   "source": [
    "1. Print all numbers in the range [1; 11]."
   ],
   "metadata": {}
  },
  {
   "cell_type": "code",
   "execution_count": null,
   "source": [
    "int[] numbers = {  \n",
    "  1, 3, -2, -4, -7, -3, -8, 12, 19, 6, 9, 10, 14  \n",
    "};\n",
    "\n",
    "var result = numbers.Where(n => n >= 1 && n <= 11);\n",
    "\n",
    "Print(\"All number within range [1; 11]\", result);\n",
    "\n",
    "// Output:\n",
    "// All number within range [1; 11]:\n",
    "// [ 1, 3, 6, 9, 10 ]"
   ],
   "outputs": [],
   "metadata": {
    "dotnet_interactive": {
     "language": "csharp"
    }
   }
  },
  {
   "cell_type": "markdown",
   "source": [
    "2. Print the square of each number in an array."
   ],
   "metadata": {}
  },
  {
   "cell_type": "code",
   "execution_count": null,
   "source": [
    "int[] numbers = {\n",
    "  9, 8, 6, -4, 5, -3, 1, -2\n",
    "};\n",
    "\n",
    "var result = numbers.Select(n => new { Number = n, Square = n * n });\n",
    "Print(\"The squares\", result);\n",
    "\n",
    "// Output:\n",
    "//  The squares:\n",
    "// { Number = 9, Squary = 81 }\n",
    "// { Number = 8, Squary = 64 }\n",
    "// { Number = 6, Squary = 36 }\n",
    "// { Number = -4, Squary = 16 }\n",
    "// { Number = 5, Squary = 25 }\n",
    "// { Number = 3, Squary = 9 }\n",
    "// { Number = 1, Squary = 1 }\n",
    "// { Number = -2, Squary = 4 }"
   ],
   "outputs": [],
   "metadata": {
    "dotnet_interactive": {
     "language": "csharp"
    }
   }
  },
  {
   "cell_type": "markdown",
   "source": [
    "3. Count the frequency of a number in an array."
   ],
   "metadata": {}
  },
  {
   "cell_type": "code",
   "execution_count": null,
   "source": [
    "int[] numbers = new int[] { 5, 9, 1, 2, 3, 7, 5, 6, 7, 3, 7, 6, 8, 5, 4, 9, 6, 2 };\n",
    "\n",
    "var grouped = numbers.GroupBy(n => n);\n",
    "\n",
    "foreach (var group in grouped)\n",
    "  Console.WriteLine($\"Number {group.Key} appears {group.Count()} times\");\n",
    "\n",
    "// Output:\n",
    "// Number 5 appears 3 times\n",
    "// Number 9 appears 2 times\n",
    "// Number 1 appears 1 times\n",
    "// Number 2 appears 2 times\n",
    "// Number 3 appears 2 times\n",
    "// Number 7 appears 3 times\n",
    "// Number 6 appears 3 times\n",
    "// Number 8 appears 1 times\n",
    "// Number 4 appears 1 times"
   ],
   "outputs": [],
   "metadata": {
    "dotnet_interactive": {
     "language": "csharp"
    }
   }
  },
  {
   "cell_type": "markdown",
   "source": [
    "4. Count the frequency of the characters in a given string, lower and upper case are equal."
   ],
   "metadata": {}
  },
  {
   "cell_type": "code",
   "execution_count": null,
   "source": [
    "string str = \"Why do Java programmers wear glasses? Because they don't C#...\";\n",
    "\n",
    "var grouped = str.Select(c => char.ToLower(c)).GroupBy(c => c);\n",
    "\n",
    "foreach (var group in grouped)\n",
    "  Console.WriteLine($\"Character {group.Key} appears {group.Count()} times\");\n",
    "\n",
    "// Output:\n",
    "// Character w appears 2 times\n",
    "// Character h appears 2 times\n",
    "// Character y appears 2 times\n",
    "// Character   appears 9 times\n",
    "// ..."
   ],
   "outputs": [],
   "metadata": {
    "dotnet_interactive": {
     "language": "csharp"
    }
   }
  },
  {
   "cell_type": "markdown",
   "source": [
    "5. Write a function to return the top-n numbers (in descending order) of a given list."
   ],
   "metadata": {}
  },
  {
   "cell_type": "code",
   "execution_count": null,
   "source": [
    "IEnumerable<int> TopN(IEnumerable<int> list, int n)\n",
    "{\n",
    "  return list.OrderByDescending(n => n)\n",
    "    .Take(n);\n",
    "}\n",
    "\n",
    "int[] numbers = { 5, 7, 13, 24, 6, 9, 8, 7 };\n",
    "Print(\"Top 3\", TopN(numbers, 3));\n",
    "\n",
    "// Output:\n",
    "// Top 3:\n",
    "//  - 24\n",
    "//  - 13\n",
    "//  - 9"
   ],
   "outputs": [],
   "metadata": {
    "dotnet_interactive": {
     "language": "csharp"
    }
   }
  },
  {
   "cell_type": "markdown",
   "source": [
    "6. Write code to print a table containing the number, its frequency and the number * frequency. Order by the frequency."
   ],
   "metadata": {}
  },
  {
   "cell_type": "code",
   "execution_count": null,
   "source": [
    "int[] numbers = { 5, 1, 9, 2, 3, 7, 4, 5, 6, 8, 7, 6, 3, 4, 5, 2 };\n",
    "\n",
    "var result = numbers.GroupBy(n => n)\n",
    "  .Select(group => new {\n",
    "    Number = group.Key,\n",
    "    Frequency = group.Count(),\n",
    "    Result = group.Key * group.Count()\n",
    "  })\n",
    "  .OrderBy(r => r.Frequency);\n",
    "\n",
    "Console.WriteLine(\"{0,14}{1,14}{2,14}\", \"Number\", \"Frequency\", \"Result\");\n",
    "Console.WriteLine(\"{0}{1}{2}\", \"--------------\", \"--------------\", \"--------------\");\n",
    "foreach (var obj in result)\n",
    "  Console.WriteLine(\"{0,14}{1,14}{2,14}\", obj.Number, obj.Frequency, obj.Result);\n",
    "\n",
    "// Output:\n",
    "//         Number     Frequency        Result\n",
    "// ------------------------------------------\n",
    "//              1             1             1\n",
    "//              9             1             9\n",
    "//              8             1             8\n",
    "//              2             2             4\n",
    "//              3             2             6\n",
    "//              7             2            14\n",
    "//              4             2             8\n",
    "//              6             2             12\n",
    "//              5             3             15"
   ],
   "outputs": [],
   "metadata": {
    "dotnet_interactive": {
     "language": "csharp"
    }
   }
  },
  {
   "cell_type": "markdown",
   "source": [
    "7. Show all people whose name starts with the letter D"
   ],
   "metadata": {}
  },
  {
   "cell_type": "code",
   "execution_count": null,
   "source": [
    "class Person\n",
    "{\n",
    "  public Person(string firstName, string lastName, int age)\n",
    "  {\n",
    "    FirstName = firstName;\n",
    "    LastName = lastName;\n",
    "    Age = age;\n",
    "  }\n",
    "  \n",
    "  public string FirstName { get; set; }\n",
    "  public string LastName { get; set; }\n",
    "  public int Age { get; set; }\n",
    "\n",
    "  public override string ToString() => $\"{FirstName} {LastName} ({Age})\";\n",
    "}\n",
    "\n",
    "var people = new List<Person>()\n",
    "{\n",
    "\tnew Person(\"Bill\", \"Smith\", 41),\n",
    "\tnew Person(\"Sarah\", \"Jones\", 22),\n",
    "\tnew Person(\"Stacy\",\"Baker\", 21),\n",
    "\tnew Person(\"Vivianne\",\"Dexter\", 19 ),\n",
    "\tnew Person(\"Bob\",\"Smith\", 49 ),\n",
    "\tnew Person(\"Brett\",\"Baker\", 51 ),\n",
    "\tnew Person(\"Mark\",\"Parker\", 19),\n",
    "\tnew Person(\"Alice\",\"Thompson\", 18),\n",
    "  new Person(\"Evelyn\",\"Thompson\", 58 ),\n",
    "\tnew Person(\"Mort\",\"Martin\", 58),\n",
    "\tnew Person(\"Eugene\",\"deLauter\", 84 ),\n",
    "\tnew Person(\"Gail\",\"Dawson\", 19 ),\n",
    "};\n",
    "\n",
    "var result = people.Where(p => p.LastName.StartsWith(\"D\"));\n",
    "Print(\"All people whose last name starts with a D\", result);\n",
    "\n",
    "// Output:\n",
    "// All people whose last name starts with a D:\n",
    "//  - Vivianne Dexter (19)\n",
    "//  - Gail Dawson (19)"
   ],
   "outputs": [],
   "metadata": {
    "dotnet_interactive": {
     "language": "csharp"
    }
   }
  },
  {
   "cell_type": "markdown",
   "source": [
    "8. Show the first person older than 40 in descending alphabetical order by first name, then by last name."
   ],
   "metadata": {}
  },
  {
   "cell_type": "code",
   "execution_count": null,
   "source": [
    "var person = people.Where(p => p.Age > 40)\n",
    "  .OrderByDescending(p => p.FirstName)\n",
    "  .ThenBy(p => p.LastName)\n",
    "  .First();\n",
    "\n",
    "Console.WriteLine(person);\n",
    "\n",
    "// Output:\n",
    "// Mort Martin (58)"
   ],
   "outputs": [],
   "metadata": {
    "dotnet_interactive": {
     "language": "csharp"
    }
   }
  },
  {
   "cell_type": "markdown",
   "source": [
    "9. Given a non-empty string consisting only of special chars (!, @, # etc.), return a number (as a string) where each digit corresponds to given special char on the keyboard. Use the given array for mapping, the index corresponds to the number."
   ],
   "metadata": {}
  },
  {
   "cell_type": "code",
   "execution_count": null,
   "source": [
    "var chars = new char[] { ')', '!', '@', '#', '$', '%', '^', '&', '*', '(' };\n",
    "\n",
    "string Decrypt(string cipher)\n",
    "{\n",
    "  return string.Join(\"\", cipher.Select(c => Array.IndexOf(chars, c)));\n",
    "}\n",
    "\n",
    "Console.WriteLine(Decrypt(\"#(@*%)$(&$*#&\"));\n",
    "Console.WriteLine(Decrypt(\"())(\"));\n",
    "Console.WriteLine(Decrypt(\"*$(#&\"));\n",
    "Console.WriteLine(Decrypt(\"!!!!!!!!!!\"));\n",
    "\n",
    "// Output:\n",
    "// 3928504974837\n",
    "// 9009\n",
    "// 84937\n",
    "// 1111111111"
   ],
   "outputs": [],
   "metadata": {
    "dotnet_interactive": {
     "language": "csharp"
    }
   }
  },
  {
   "cell_type": "markdown",
   "source": [
    "10.  Find all unique characters (only letters) in a given string, order ascending."
   ],
   "metadata": {}
  },
  {
   "cell_type": "code",
   "execution_count": null,
   "source": [
    "string str = \"Your inspiring quotes inspired me to unfollow you\";\n",
    "\n",
    "var uniqueChars = str\n",
    "  .Where(c => char.IsLetter(c))\n",
    "  .Select(c => char.ToLower(c))\n",
    "  .Distinct()\n",
    "  .OrderBy(c => c);\n",
    "Print(\"Unique characters\", uniqueChars);\n",
    "\n",
    "// Output:\n",
    "// Unique characters:\n",
    "//  - d\n",
    "//  - e\n",
    "//  - f\n",
    "//  - g\n",
    "//  - \n",
    "// ..."
   ],
   "outputs": [],
   "metadata": {
    "dotnet_interactive": {
     "language": "csharp"
    }
   }
  },
  {
   "cell_type": "markdown",
   "source": [
    "11. Write a query that returns the dot product of two arrays.\n",
    "\n",
    "> Hint: the dot procuct of two arrays is defined as follows: <br/>\n",
    "> [a, b, ...] . [c, d, ...] = a * b + c * d + ...\n",
    "> <br />\n",
    "> <br />\n",
    "> Hint: you need a function that wasn't covered in the theory"
   ],
   "metadata": {}
  },
  {
   "cell_type": "code",
   "execution_count": null,
   "source": [
    "int DotProduct(int[] array1, int[] array2)\n",
    "{\n",
    "  return array1.Zip(array2, (a, b) => a * b).Sum();\n",
    "}\n",
    "\n",
    "Console.WriteLine(DotProduct(new int[] { 1, 2, 3 }, new int [] { 4, 5, 6 }));\n",
    "Console.WriteLine(DotProduct(new int[] { 7, -9, 3, -5 }, new int [] { 9, 1, 0, -4 }));\n",
    "Console.WriteLine(DotProduct(new int[] { 5, 8, 2, 9 }, new int [] { 1, 7, 2, 4 }));\n",
    "\n",
    "// Output:\n",
    "// 32\n",
    "// 74\n",
    "// 101"
   ],
   "outputs": [],
   "metadata": {
    "dotnet_interactive": {
     "language": "csharp"
    }
   }
  },
  {
   "cell_type": "markdown",
   "source": [
    "12. Write a query that transposes an array.\n",
    "\n",
    "> Hint: create a range [0; array.Length]"
   ],
   "metadata": {}
  },
  {
   "cell_type": "code",
   "execution_count": null,
   "source": [
    "var array = new int[][] {\n",
    "  new int[]{ 1, 2, 3, 4, 5 },\n",
    "  new int[]{ 6, 7, 8, 9, 10 },\n",
    "  new int[]{ 11, 12, 13, 14, 15 },\n",
    "  new int[]{ 16, 17, 18, 19, 20 },\n",
    "  new int[]{ 21, 22, 23, 24, 25 }\n",
    "};\n",
    "\n",
    "var transposed = Enumerable.Range(0, array.Length).Select(x => array.Select(y => y[x]));\n",
    "\n",
    "foreach (var row in transposed)\n",
    "{\n",
    "  foreach (var column in row)\n",
    "    Console.Write($\"{column} \");\n",
    "  Console.WriteLine();\n",
    "}\n",
    "\n",
    "// Output:\n",
    "// 1 6 11 16 21\n",
    "// 3 7 12 17 22\n",
    "// 3 8 13 18 23\n",
    "// 4 9 14 19 24\n",
    "// 5 10 15 20 25"
   ],
   "outputs": [],
   "metadata": {
    "dotnet_interactive": {
     "language": "csharp"
    }
   }
  }
 ],
 "metadata": {
  "orig_nbformat": 4,
  "language_info": {
   "file_extension": ".cs",
   "mimetype": "text/x-csharp",
   "name": "C#",
   "pygments_lexer": "csharp",
   "version": "9.0"
  },
  "kernelspec": {
   "display_name": ".NET (C#)",
   "language": "C#",
   "name": ".net-csharp"
  }
 },
 "nbformat": 4,
 "nbformat_minor": 2
}
