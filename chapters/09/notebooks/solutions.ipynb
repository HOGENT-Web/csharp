{
 "cells": [
  {
   "cell_type": "markdown",
   "metadata": {},
   "source": [
    "> Enterprise Web C#\n",
    "\n",
    "# Chapter 9 - Data, the new raw material - Solutions"
   ]
  },
  {
   "cell_type": "markdown",
   "metadata": {},
   "source": [
    "Before you start, uncomment the correct connection string below.\n",
    "\n",
    "**For lists: always convert the returned `IEnumerable` to a `List` and use `myList.ForEach(Console.WriteLine)` to print the query result.**\n",
    "\n",
    "For macOS/Linux: we assume you picked the same password as in our tutorial."
   ]
  },
  {
   "cell_type": "code",
   "execution_count": null,
   "metadata": {
    "dotnet_interactive": {
     "language": "csharp"
    }
   },
   "outputs": [],
   "source": [
    "#r \"nuget:Dapper\"\n",
    "#r \"nuget:Dapper.Contrib\"\n",
    "#r \"nuget:System.Data.SqlClient\"\n",
    "\n",
    "using Dapper;\n",
    "using System;\n",
    "using System.Collections.Generic;\n",
    "using System.Data;\n",
    "using System.Data.SqlClient;\n",
    "using System.Linq;\n",
    "\n",
    "// Windows:\n",
    "var connectionString = \"Server=localhost;Database=Northwind;Trusted_Connection = True;\";\n",
    "\n",
    "// macOS/Linux:\n",
    "// var connectionString = \"Data Source=127.0.0.1,1433;Initial Catalog=Northwind;User ID=sa;Password=Password123!\";"
   ]
  },
  {
   "cell_type": "markdown",
   "metadata": {},
   "source": [
    "1. Fetch all employees\n",
    "    - Order by first and last name\n",
    "    - Only return these fields:\n",
    "        - EmployeeID\n",
    "        - FirstName\n",
    "        - LastName\n",
    "        - Title\n",
    "        - Country\n",
    "    - Implement a `ToString` which concatenates the first and last name of an employee.\n",
    "\n",
    "You should get 9 rows. Expected output:\n",
    "```\n",
    "Andrew Fuller\n",
    "Anne Dodsworth\n",
    "Janet Leverling\n",
    "Laura Callahan\n",
    "Margaret Peacock\n",
    "Michael Suyama\n",
    "Nancy Davolio\n",
    "Robert King\n",
    "Steven Buchanan\n",
    "```"
   ]
  },
  {
   "cell_type": "code",
   "execution_count": null,
   "metadata": {
    "dotnet_interactive": {
     "language": "csharp"
    }
   },
   "outputs": [],
   "source": [
    "class Employee\n",
    "{\n",
    "  public int EmployeeID { get; set; }\n",
    "  public string FirstName { get; set; }\n",
    "  public string LastName { get; set; }\n",
    "  public string Title { get; set; }\n",
    "  public string Country { get; set; }\n",
    "\n",
    "  public override string ToString() => $\"{FirstName} {LastName}\";\n",
    "}"
   ]
  },
  {
   "cell_type": "code",
   "execution_count": null,
   "metadata": {
    "dotnet_interactive": {
     "language": "csharp"
    }
   },
   "outputs": [],
   "source": [
    "using (IDbConnection db = new SqlConnection(connectionString)) {\n",
    "  var sql = @\"\n",
    "    SELECT EmployeeID, FirstName, LastName, Title, Country\n",
    "    FROM Employees\n",
    "    ORDER BY FirstName, LastName;\n",
    "  \";\n",
    "  var employees = (await db.QueryAsync<Employee>(sql)).ToList();\n",
    "  employees.ForEach(Console.WriteLine);\n",
    "}"
   ]
  },
  {
   "cell_type": "markdown",
   "metadata": {},
   "source": [
    "2. Fetch the first 10 orders\n",
    "    - Order by the order date\n",
    "    - Only return these fields:\n",
    "        - OrderID\n",
    "        - OrderDate\n",
    "        - EmployeeID of both Employees and Orders\n",
    "        - FirstName\n",
    "        - LastName\n",
    "        - Title\n",
    "        - Country\n",
    "    - Implement a `ToString` which tells the order id, date and who handled the order.\n",
    "\n",
    "You should get 10 rows. Expected output:\n",
    "```\n",
    "10248 (4/07/1996) handled by Steven Buchanan\n",
    "10249 (5/07/1996) handled by Michael Suyama\n",
    "10250 (8/07/1996) handled by Margaret Peacock\n",
    "10251 (8/07/1996) handled by Janet Leverling\n",
    "10252 (9/07/1996) handled by Margaret Peacock\n",
    "10253 (10/07/1996) handled by Janet Leverling\n",
    "10254 (11/07/1996) handled by Steven Buchanan\n",
    "10255 (12/07/1996) handled by Anne Dodsworth\n",
    "10256 (15/07/1996) handled by Janet Leverling\n",
    "10257 (16/07/1996) handled by Margaret Peacock\n",
    "```"
   ]
  },
  {
   "cell_type": "code",
   "execution_count": null,
   "metadata": {
    "dotnet_interactive": {
     "language": "csharp"
    }
   },
   "outputs": [],
   "source": [
    "class Order\n",
    "{\n",
    "  public int OrderID { get; set; }\n",
    "  public int EmployeeID { get; set; }\n",
    "  public DateTime OrderDate { get; set; }\n",
    "  public Employee HandledBy { get; set; }\n",
    "\n",
    "  public override string ToString() => $\"{OrderID} ({OrderDate:d}) handled by {HandledBy}\";\n",
    "}"
   ]
  },
  {
   "cell_type": "code",
   "execution_count": null,
   "metadata": {
    "dotnet_interactive": {
     "language": "csharp"
    }
   },
   "outputs": [],
   "source": [
    "using (IDbConnection db = new SqlConnection(connectionString)) {\n",
    "  var sql = @\"\n",
    "    SELECT TOP(10) *\n",
    "    FROM [dbo].[Orders] o\n",
    "      JOIN [dbo].[Employees] e ON e.EmployeeID = o.EmployeeID\n",
    "    ORDER BY OrderDate;\n",
    "  \";\n",
    "  var orders = (await db.QueryAsync<Order, Employee, Order>(\n",
    "    sql,\n",
    "    (order, employee) => {\n",
    "      order.HandledBy = employee;\n",
    "      return order;\n",
    "    },\n",
    "    splitOn: \"EmployeeID\"\n",
    "  )).ToList();\n",
    "  orders.ForEach(Console.WriteLine);\n",
    "}"
   ]
  },
  {
   "cell_type": "markdown",
   "metadata": {},
   "source": [
    "3. Fetch all territories with their respective region\n",
    "    - Fetch every field of both entities\n",
    "    - Order by region description\n",
    "    - Implement a `ToString` for a region which returns the description (trimmed at the end).\n",
    "    - Implement a `ToString` for a territory which returns the region description and territory description (trimmed at the end).\n",
    "\n",
    "Expected output:\n",
    "```\n",
    "Eastern Westboro\n",
    "Eastern Bedford\n",
    "Eastern Georgetow\n",
    "Eastern Boston\n",
    "Eastern Cambridge\n",
    "Eastern Braintree\n",
    "Eastern Providence\n",
    "Eastern Wilton\n",
    "Eastern Morristown\n",
    "Eastern Edison\n",
    "Eastern New York\n",
    "Eastern New York\n",
    "Eastern Mellvile\n",
    "// and many more...\n",
    "```"
   ]
  },
  {
   "cell_type": "code",
   "execution_count": null,
   "metadata": {
    "dotnet_interactive": {
     "language": "csharp"
    }
   },
   "outputs": [],
   "source": [
    "class Region\n",
    "{\n",
    "  public int RegionID { get; set; }\n",
    "  public string RegionDescription { get; set; }\n",
    "  public override string ToString() => RegionDescription.TrimEnd();\n",
    "}\n",
    "\n",
    "class Territory\n",
    "{\n",
    "  public int TerritoryID { get; set; }\n",
    "  public string TerritoryDescription { get; set; }\n",
    "  public int RegionID { get; set; }\n",
    "  public Region Region { get; set; }\n",
    "\n",
    "  public override string ToString() => $\"{Region} {TerritoryDescription.TrimEnd()}\";\n",
    "}"
   ]
  },
  {
   "cell_type": "code",
   "execution_count": null,
   "metadata": {
    "dotnet_interactive": {
     "language": "csharp"
    }
   },
   "outputs": [],
   "source": [
    "using (IDbConnection db = new SqlConnection(connectionString))\n",
    "{\n",
    "  var sql = @\"\n",
    "      SELECT *\n",
    "      FROM [dbo].[Territories] AS t\n",
    "        JOIN [dbo].[Region] AS r ON [t].[RegionID] = [r].[RegionID]\n",
    "      ORDER BY RegionDescription;\n",
    "    \";\n",
    "  var orders = (await db.QueryAsync<Territory, Region, Territory>(\n",
    "    sql,\n",
    "    (territory, region) => {\n",
    "        territory.Region = region;\n",
    "        return territory;\n",
    "    },\n",
    "    splitOn: \"RegionID\"\n",
    "  )).ToList();\n",
    "  orders.ForEach(Console.WriteLine);\n",
    "}"
   ]
  },
  {
   "cell_type": "markdown",
   "metadata": {},
   "source": [
    "4. Count the number of orders in the database.\n",
    "\n",
    "Expected output:\n",
    "```\n",
    "There are 830 orders\n",
    "```"
   ]
  },
  {
   "cell_type": "code",
   "execution_count": null,
   "metadata": {
    "dotnet_interactive": {
     "language": "csharp"
    }
   },
   "outputs": [],
   "source": [
    "using (IDbConnection db = new SqlConnection(connectionString))\n",
    "{\n",
    "  var sql = @\"\n",
    "      SELECT COUNT(*)\n",
    "      FROM [dbo].[Orders];\n",
    "    \";\n",
    "  var nrOfOrders = await db.QueryFirstAsync<int>(sql);\n",
    "  Console.WriteLine($\"There are {nrOfOrders} orders\");\n",
    "}"
   ]
  }
 ],
 "metadata": {
  "kernelspec": {
   "display_name": ".NET (C#)",
   "language": "C#",
   "name": ".net-csharp"
  },
  "language_info": {
   "file_extension": ".cs",
   "mimetype": "text/x-csharp",
   "name": "C#",
   "pygments_lexer": "csharp",
   "version": "9.0"
  },
  "orig_nbformat": 4
 },
 "nbformat": 4,
 "nbformat_minor": 2
}
