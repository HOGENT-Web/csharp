{
 "cells": [
  {
   "cell_type": "markdown",
   "metadata": {},
   "source": [
    "> Enterprise Web C#\n",
    "\n",
    "# Chapter 9 - Data, the new raw material - Dapper"
   ]
  },
  {
   "cell_type": "markdown",
   "metadata": {},
   "source": [
    "## Introduction\n",
    "\n",
    "Dapper is an object-relational mapper (ORM) for the .NET ecosystem. It provides a framework for mapping an object-oriented domain model to a traditional relational database.\n",
    "\n",
    "* It provides a mapping between databases and .NET objects\n",
    "* It owns the title of King of Micro ORM in terms of speed and is as fast as using a raw ADO.NET data reader\n",
    "* It extends the `IDbConnection` by providing useful extension methods to query your database.\n",
    "\n",
    "Dapper is really powerful, but still requires knowledge of SQL in order to be able to execute queries. In a few moments, you'll discover Entity Framework (EF) which removes the need to write any SQL queries at all."
   ]
  },
  {
   "cell_type": "markdown",
   "metadata": {},
   "source": [
    "## Installation\n",
    "\n",
    "Issue the following commands inside a project to install Dapper:\n",
    "\n",
    "```\n",
    "dotnet add package Dapper\n",
    "dotnet add package System.Data.SqlClient\n",
    "```\n",
    "\n",
    "Or use these commands inside a .NET Interactive Notebook:"
   ]
  },
  {
   "cell_type": "code",
   "execution_count": null,
   "metadata": {
    "dotnet_interactive": {
     "language": "csharp"
    }
   },
   "outputs": [],
   "source": [
    "#r \"nuget:Dapper\"\n",
    "#r \"nuget:System.Data.SqlClient\""
   ]
  },
  {
   "cell_type": "markdown",
   "metadata": {},
   "source": [
    "## The database\n",
    "\n",
    "We are using the [northwind-pubs dataset](https://github.com/microsoft/sql-server-samples/tree/master/samples/databases/northwind-pubs). Follow the step below to import this dataset.\n",
    "\n",
    "### Windows\n",
    "\n",
    "1. Download `instnwnd.sql` from the [northwind-pubs dataset](https://github.com/microsoft/sql-server-samples/tree/master/samples/databases/northwind-pubs)\n",
    "2. Open SQL Server Management Studio and connect to your local instance and right click on `Databases`\n",
    "3. Open and run the `instnwnd.sql` script\n",
    "4. Wait patiently for the database to be restored\n",
    "\n",
    "### macOS/Linux\n",
    "\n",
    "> This tutorial assumes you have [Docker](https://www.docker.com/get-started) installed.\n",
    "\n",
    "1. Boot docker and start the SQL Server\n",
    "\n",
    "```{bash}\n",
    "docker run -e \"ACCEPT_EULA=Y\" -e \"SA_PASSWORD=Password123\\!\" -p 1433:1433 -d mcr.microsoft.com/mssql/server:2019-latest\n",
    "```\n",
    "\n",
    "2. Download `instnwnd.sql` from the [northwind-pubs dataset](https://github.com/microsoft/sql-server-samples/tree/master/samples/databases/northwind-pubs)\n",
    "3. Open Azure Data Studio (enable Preview features if he asks for it)\n",
    "4. Create a new connection to the database:\n",
    "    - Server: `localhost`\n",
    "    - Authentication type: `SQL Login`\n",
    "    - Username: `sa`\n",
    "    - Password: `Password123!` (ask to remember)\n",
    "    - Leave the rest on the default\n",
    "3. Open and run the `instnwnd.sql` script\n",
    "4. Wait patiently for the database to be restored\n"
   ]
  },
  {
   "cell_type": "markdown",
   "metadata": {},
   "source": [
    "## Our first query\n",
    "\n",
    "In this database a `Categories` table exists. In order to be able to query the table, we need to create a class representing one entity in this table. Dapper will automatically convert the returned data into instances of that class. The `ToString` is only present for pretty output later on. Run the following blocks and look at the magic yourself. **Uncommment the right `connectionString` for your operation system.**"
   ]
  },
  {
   "cell_type": "code",
   "execution_count": null,
   "metadata": {
    "dotnet_interactive": {
     "language": "csharp"
    }
   },
   "outputs": [],
   "source": [
    "class Category\n",
    "{\n",
    "    public int CategoryID { get; set; }\n",
    "    public string CategoryName { get; set; }\n",
    "    public string Description { get; set; }\n",
    "    public byte[] Picture { get; set; }\n",
    "\n",
    "    public override string ToString() => $\"{CategoryID} - {CategoryName}\";\n",
    "}"
   ]
  },
  {
   "cell_type": "code",
   "execution_count": null,
   "metadata": {
    "dotnet_interactive": {
     "language": "csharp"
    }
   },
   "outputs": [],
   "source": [
    "// Windows:\n",
    "var connectionString = \"Server=localhost;Database=Northwind;Trusted_Connection = True;\";\n",
    "\n",
    "// macOS/Linux:\n",
    "// var connectionString = \"Data Source=127.0.0.1,1433;Initial Catalog=Northwind;User ID=sa;Password=Password123!\";"
   ]
  },
  {
   "cell_type": "code",
   "execution_count": null,
   "metadata": {
    "dotnet_interactive": {
     "language": "csharp"
    }
   },
   "outputs": [],
   "source": [
    "using Dapper;\n",
    "using System;\n",
    "using System.Collections.Generic;\n",
    "using System.Data;\n",
    "using System.Data.SqlClient;\n",
    "using System.Linq;\n",
    "\n",
    "using (IDbConnection db = new SqlConnection(connectionString))\n",
    "{\n",
    "    var sql = \"SELECT * FROM [dbo].[Categories]\";\n",
    "    List<Category> categories = db.Query<Category>(sql).ToList();\n",
    "    categories.ForEach(Console.WriteLine);\n",
    "    // You should see 8 categories in the output\n",
    "}"
   ]
  },
  {
   "cell_type": "markdown",
   "metadata": {},
   "source": [
    "This query fetched all 8 categories and automagically mapped the query results to our new `Category` class. Isn't that neat?\n",
    "\n",
    "This was a synchronous call to the database because we did not use `await`. But there is a `QueryAsync` method just for that, let's try this one out."
   ]
  },
  {
   "cell_type": "code",
   "execution_count": null,
   "metadata": {
    "dotnet_interactive": {
     "language": "csharp"
    }
   },
   "outputs": [],
   "source": [
    "using (IDbConnection db = new SqlConnection(connectionString))\n",
    "{\n",
    "    var sql = \"SELECT * FROM [dbo].[Categories]\";\n",
    "    List<Category> categories = (await db.QueryAsync<Category>(sql)).ToList();\n",
    "    categories.ForEach(Console.WriteLine);\n",
    "    // You should again see 8 categories in the output\n",
    "}"
   ]
  },
  {
   "cell_type": "markdown",
   "metadata": {},
   "source": [
    "This accomplishes the same result, what would you expect...\n",
    "\n",
    "For the purpose of these demos the synchronous version is good enough, but we'll use the asynchronous one to get used to async programming."
   ]
  },
  {
   "cell_type": "markdown",
   "metadata": {},
   "source": [
    "## Add query parameters\n",
    "\n",
    "Let's create a query to fetch one category in particular, you need query parameters for this. Query parameters are indicated with an `@`, in this example `@CategoryID` needs to be passed to the query. Therefor we add an anonymous object containing this query parameter as second parameter to the function.\n",
    "\n",
    "There is also a `QueryFirstOrDefaultAsync` which returns the default value for the given type if nothing matched the query.\n",
    "\n",
    "The `QueryFirstAsync` won't throw an error if not exactly one result matched. It simply returns the first result if there is any, it throws if there are no results."
   ]
  },
  {
   "cell_type": "code",
   "execution_count": null,
   "metadata": {
    "dotnet_interactive": {
     "language": "csharp"
    }
   },
   "outputs": [],
   "source": [
    "using (IDbConnection db = new SqlConnection(connectionString))\n",
    "{\n",
    "  var sql = \"SELECT * FROM [dbo].[Categories] WHERE CategoryID = @CategoryID\";\n",
    "  var category = await db.QueryFirstAsync<Category>(sql, new { CategoryID = 5 });\n",
    "  Console.WriteLine(category);\n",
    "}\n"
   ]
  },
  {
   "cell_type": "markdown",
   "metadata": {},
   "source": [
    "The next example tries to fetch an unexisting category with `QuerySingleAsync` which will throw an error as this method expects exactly one result. You'll get an error if there is no query result or more than one query result."
   ]
  },
  {
   "cell_type": "code",
   "execution_count": null,
   "metadata": {
    "dotnet_interactive": {
     "language": "csharp"
    }
   },
   "outputs": [],
   "source": [
    "using (IDbConnection db = new SqlConnection(connectionString))\n",
    "{\n",
    "  var sql = \"SELECT * FROM [dbo].[Categories] WHERE CategoryID = @CategoryID\";\n",
    "  var category = await db.QuerySingleAsync<Category>(sql, new { CategoryID = 1000 });\n",
    "  Console.WriteLine(category);\n",
    "}"
   ]
  },
  {
   "cell_type": "markdown",
   "metadata": {},
   "source": [
    "## Insert data\n",
    "\n",
    "Inserting data would require us to write an `INSERT` query with a query parameter for each field in the table. It would look something like this:"
   ]
  },
  {
   "cell_type": "code",
   "execution_count": null,
   "metadata": {
    "dotnet_interactive": {
     "language": "csharp"
    }
   },
   "outputs": [],
   "source": [
    "using (IDbConnection db = new SqlConnection(connectionString))\n",
    "{\n",
    "  var sql = \"INSERT INTO [dbo].[Categories](CategoryName, Description) VALUES (@CategoryName1, @Description1), (@CategoryName2, @Description2)\";\n",
    "  await db.QueryAsync<Category>(sql, new\n",
    "  {\n",
    "    CategoryName1 = \"Test 1\",\n",
    "    Description1 = \"Description 1\",\n",
    "    CategoryName2 = \"Test 2\",\n",
    "    Description2 = \"Description 2\"\n",
    "  });\n",
    "}"
   ]
  },
  {
   "cell_type": "markdown",
   "metadata": {},
   "source": [
    "There is a much simpler solution for this using the `Dapper.Contrib` extension, let's install it."
   ]
  },
  {
   "cell_type": "code",
   "execution_count": null,
   "metadata": {
    "dotnet_interactive": {
     "language": "csharp"
    }
   },
   "outputs": [],
   "source": [
    "#r \"nuget:Dapper.Contrib\""
   ]
  },
  {
   "cell_type": "markdown",
   "metadata": {},
   "source": [
    "With `Dapper.Contrib` we can create a class of a certain table and tell Dapper how this class is mapped to the database. Take a look at this example. This defines a new class for the `Categories` table and tells Dapper the table name and primary key with some annotations."
   ]
  },
  {
   "cell_type": "code",
   "execution_count": null,
   "metadata": {
    "dotnet_interactive": {
     "language": "csharp"
    }
   },
   "outputs": [],
   "source": [
    "using Dapper.Contrib.Extensions;\n",
    "\n",
    "[Table(\"[dbo].[Categories]\")]\n",
    "class Category\n",
    "{\n",
    "  [Key]\n",
    "  public int CategoryID { get; set; }\n",
    "  public string CategoryName { get; set; }\n",
    "  public string Description { get; set; }\n",
    "  public byte[] Picture { get; set; }\n",
    "\n",
    "  public override string ToString() => $\"{CategoryID} - {CategoryName}\";\n",
    "}"
   ]
  },
  {
   "cell_type": "markdown",
   "metadata": {},
   "source": [
    "Then we can easily add two new categories."
   ]
  },
  {
   "cell_type": "code",
   "execution_count": null,
   "metadata": {
    "dotnet_interactive": {
     "language": "csharp"
    }
   },
   "outputs": [],
   "source": [
    "using (IDbConnection db = new SqlConnection(connectionString))\n",
    "{\n",
    "  \n",
    "  await db.InsertAsync(new List<Category>\n",
    "  {\n",
    "    new Category\n",
    "    {\n",
    "      CategoryName = \"Fancy category\"\n",
    "    },\n",
    "    new Category\n",
    "    {\n",
    "      CategoryName = \"Another one\"\n",
    "    }\n",
    "  });\n",
    "}"
   ]
  },
  {
   "cell_type": "markdown",
   "metadata": {},
   "source": [
    "Check in SQL Server Management Studio or Azure Data Studio that the two new categories were inserted."
   ]
  },
  {
   "cell_type": "markdown",
   "metadata": {},
   "source": [
    "## Relations\n",
    "\n",
    "Dapper has also some basic support for relations. Let's look at this `Product` class. It has a one-to-one relation with `Category`: one product has only one category."
   ]
  },
  {
   "cell_type": "code",
   "execution_count": null,
   "metadata": {
    "dotnet_interactive": {
     "language": "csharp"
    }
   },
   "outputs": [],
   "source": [
    "class Product\n",
    "{\n",
    "  public int ProductID { get; set; }\n",
    "  public string ProductName { get; set; }\n",
    "  public int SupplierID { get; set; }\n",
    "  public int CategoryID { get; set; }\n",
    "  public string QuantityPerUnit { get; set; }\n",
    "  public decimal UnitPrice { get; set; }\n",
    "  public int UnitsInStock { get; set; }\n",
    "  public int UnitsOnOrder { get; set; }\n",
    "  public int ReorderLevel { get; set; }\n",
    "  public bool Discontinued { get; set; }\n",
    "  public Category Category { get; set; }\n",
    "  public override string ToString() => $\"{ProductID} - {ProductName} - {Category.CategoryName}\";\n",
    "}"
   ]
  },
  {
   "cell_type": "markdown",
   "metadata": {},
   "source": [
    "Let's now fetch each product with its category, ordered by the product name. Therefor we need to pass a mapper function to the `QueryAsync` function which groups by the `CategoryID` and gives us a product and a category as an argument. Also notice that the types for `QueryAsync` have been extended to three types instead of one."
   ]
  },
  {
   "cell_type": "code",
   "execution_count": null,
   "metadata": {
    "dotnet_interactive": {
     "language": "csharp"
    }
   },
   "outputs": [],
   "source": [
    "using (IDbConnection db = new SqlConnection(connectionString))\n",
    "{\n",
    "  var sql = \"SELECT * FROM [dbo].[Products] p JOIN [dbo].[Categories] c ON c.CategoryID = p.CategoryID ORDER BY ProductName\";\n",
    "  var products = await db.QueryAsync<Product, Category, Product>(\n",
    "    sql,\n",
    "    (product, category) =>\n",
    "    {\n",
    "        product.Category = category;\n",
    "        return product;\n",
    "    },\n",
    "    splitOn: \"CategoryID\"\n",
    "  );\n",
    "  Console.WriteLine(\"\\nProducts & categories\");\n",
    "  Console.WriteLine(\"---------------------\");\n",
    "  foreach (var p in products)\n",
    "  {\n",
    "      Console.WriteLine(p);\n",
    "  }\n",
    "}"
   ]
  },
  {
   "cell_type": "markdown",
   "metadata": {},
   "source": [
    "You see... The fun disappears the longer you use Dapper. So be sure it's the right choice for your project. Big and complex project don't benefit from using Dapper, use Entity Framework instead. Maybe with the Dapper extension for Entity Framework."
   ]
  }
 ],
 "metadata": {
  "kernelspec": {
   "display_name": ".NET (C#)",
   "language": "C#",
   "name": ".net-csharp"
  },
  "language_info": {
   "file_extension": ".cs",
   "mimetype": "text/x-csharp",
   "name": "C#",
   "pygments_lexer": "csharp",
   "version": "9.0"
  },
  "orig_nbformat": 4
 },
 "nbformat": 4,
 "nbformat_minor": 2
}
