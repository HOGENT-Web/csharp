{
 "cells": [
  {
   "cell_type": "markdown",
   "metadata": {},
   "source": [
    "> Enterprise Web C#\n",
    "\n",
    "# Chapter 9 - Data, the new raw material - Dapper"
   ]
  },
  {
   "cell_type": "markdown",
   "metadata": {},
   "source": [
    "## Introduction\n",
    "\n",
    "Dapper is an object-relational mapper (ORM) for the .NET ecosystem. It provides a framework for mapping an object-oriented domain model to a traditional relational database.\n",
    "\n",
    "* It provides a mapping between databases and .NET objects\n",
    "* It owns the title of King of Micro ORM in terms of speed and is as fast as using a raw ADO.NET data reader\n",
    "* It extends the `IDbConnection` by providing useful extension methods to query your database.\n",
    "\n",
    "Dapper is really powerful, but still requires knowledge of SQL in order to be able to execute queries. In a few moments, you'll discover Entity Framework (EF) which removes the need to write any SQL queries at all."
   ]
  },
  {
   "cell_type": "markdown",
   "metadata": {},
   "source": [
    "## Installation\n",
    "\n",
    "Issue the following commands inside a project to install Dapper:\n",
    "\n",
    "```\n",
    "dotnet add package Dapper\n",
    "dotnet add package System.Data.SqlClient\n",
    "```\n",
    "\n",
    "Or use these commands inside a .NET Interactive Notebook:"
   ]
  },
  {
   "cell_type": "code",
   "execution_count": null,
   "metadata": {
    "dotnet_interactive": {
     "language": "csharp"
    }
   },
   "outputs": [
    {
     "data": {
      "text/html": [
       "<div><div></div><div></div><div><strong>Installed Packages</strong><ul><li><span>Dapper, 2.0.90</span></li><li><span>System.Data.SqlClient, 4.8.3</span></li></ul></div></div>"
      ]
     },
     "metadata": {},
     "output_type": "display_data"
    }
   ],
   "source": [
    "#r \"nuget:Dapper\"\n",
    "#r \"nuget:System.Data.SqlClient\""
   ]
  },
  {
   "cell_type": "markdown",
   "metadata": {},
   "source": [
    "## The database\n",
    "\n",
    "We are using the [Wide World Importers dataset](https://github.com/microsoft/sql-server-samples/tree/master/samples/databases/wide-world-importers). Follow the step below to import this dataset.\n",
    "\n",
    "### Windows\n",
    "\n",
    "1. Download the [WideWorldImports-Full.bak](https://github.com/Microsoft/sql-server-samples/releases/tag/wide-world-importers-v1.0) file from the [release page](https://github.com/Microsoft/sql-server-samples/releases/tag/wide-world-importers-v1.0)\n",
    "2. Open SQL Server Management Studio\n",
    "3. Open your local instance and right click on `Databases`\n",
    "4. Choose `Restore database`\n",
    "5. Choose `Device` and select the path to the `.bak` file (it's easier if the file is in the root of your C-drive)\n",
    "6. Click `OK` twice and the database should be imported.\n",
    "7. Wait patiently for the database to be restored\n",
    "\n",
    "### macOS/Linux\n",
    "\n",
    "> This tutorial assumes you have [Docker](https://www.docker.com/get-started) installed.\n",
    "\n",
    "1. Boot docker and start the SQL Server\n",
    "\n",
    "```{bash}\n",
    "docker run -e \"ACCEPT_EULA=Y\" -e \"SA_PASSWORD=Password123\\!\" -p 1433:1433 -d mcr.microsoft.com/mssql/server:2019-latest\n",
    "```\n",
    "\n",
    "2. Download the [WideWorldImports-Full.bak](https://github.com/Microsoft/sql-server-samples/releases/tag/wide-world-importers-v1.0) file from the [release page](https://github.com/Microsoft/sql-server-samples/releases/tag/wide-world-importers-v1.0)\n",
    "3. Open Azure Data Studio (enable Preview features if he asks for it)\n",
    "4. Create a new connection to the database:\n",
    "    - Server: `localhost`\n",
    "    - Authentication type: `SQL Login`\n",
    "    - Username: `sa`\n",
    "    - Password: `Password123!` (ask to remember)\n",
    "    - Leave the rest on the default\n",
    "4. On the server `Home` - click the `Restore` button\n",
    "5. Choose `Backup file` in the `Restore from` field and choose the right file\n",
    "6. Click the `Restore` button at the bottom\n",
    "7. Wait patiently for the database to be restored\n"
   ]
  },
  {
   "cell_type": "markdown",
   "metadata": {},
   "source": [
    "## Our first query\n",
    "\n",
    "In this database a `People` table exists. In order to be able to query the table, we need to create a class representing one entity in this table. Dapper will automatically convert the returned data into instances of that class. The `ToString` is only present for pretty output later on. Run the following blocks and look at the magic yourself. **Uncommment the right `connectionString` for your operation system.**"
   ]
  },
  {
   "cell_type": "code",
   "execution_count": null,
   "metadata": {
    "dotnet_interactive": {
     "language": "csharp"
    }
   },
   "outputs": [],
   "source": [
    "class Person\n",
    "{\n",
    "    public int PersonID { get; set; }\n",
    "    public string FullName { get; set; }\n",
    "    public bool IsSystemUser { get; set; }\n",
    "    public bool IsEmployee { get; set; }\n",
    "    public bool IsSalesPerson { get; set; }\n",
    "    public string PhoneNumber { get; set; }\n",
    "    public string EmailAddress { get; set; }\n",
    "\n",
    "    public override string ToString() => $\"{PersonID} - {FullName}\";\n",
    "}"
   ]
  },
  {
   "cell_type": "code",
   "execution_count": null,
   "metadata": {
    "dotnet_interactive": {
     "language": "csharp"
    }
   },
   "outputs": [],
   "source": [
    "// Windows:\n",
    "var connectionString = \"Server=localhost;Database=WideWorldImporters;Trusted_Connection = True;\";\n",
    "\n",
    "// macOS/Linux:\n",
    "// var connectionString = \"Data Source=127.0.0.1,1433;Initial Catalog=WideWorldImporters;User ID=sa;Password=Password123!\";"
   ]
  },
  {
   "cell_type": "code",
   "execution_count": null,
   "metadata": {
    "dotnet_interactive": {
     "language": "csharp"
    }
   },
   "outputs": [
    {
     "name": "stdout",
     "output_type": "stream",
     "text": [
      "1 - Data Conversion Only\r\n",
      "2 - Kayla Woodcock\r\n",
      "3 - Hudson Onslow\r\n",
      "4 - Isabella Rupp\r\n",
      "5 - Eva Muirden\r\n",
      "6 - Sophia Hinton\r\n",
      "7 - Amy Trefl\r\n",
      "8 - Anthony Grosse\r\n",
      "9 - Alica Fatnowna\r\n",
      "10 - Stella Rosenhain\r\n"
     ]
    }
   ],
   "source": [
    "using Dapper;\n",
    "using System;\n",
    "using System.Collections.Generic;\n",
    "using System.Data;\n",
    "using System.Data.SqlClient;\n",
    "using System.Linq;\n",
    "\n",
    "List<Person> people = new();\n",
    "using (IDbConnection db = new SqlConnection(connectionString))\n",
    "{\n",
    "\n",
    "    people = db.Query<Person>(\"SELECT TOP(10) * FROM [Application].[People]\").ToList();\n",
    "}\n",
    "\n",
    "foreach (var p in people)\n",
    "{\n",
    "    Console.WriteLine(p);\n",
    "}"
   ]
  },
  {
   "cell_type": "markdown",
   "metadata": {},
   "source": [
    "This query fetched the first 10 people and automagically mapped the query results to our new Person class. Isn't that neat?\n",
    "\n",
    "This was a synchronous call to the database because we did not use `await`. But there is a `QueryAsync` method just for that, let's try this one out."
   ]
  },
  {
   "cell_type": "code",
   "execution_count": null,
   "metadata": {
    "dotnet_interactive": {
     "language": "csharp"
    }
   },
   "outputs": [
    {
     "name": "stdout",
     "output_type": "stream",
     "text": [
      "1 - Data Conversion Only\r\n",
      "2 - Kayla Woodcock\r\n",
      "3 - Hudson Onslow\r\n",
      "4 - Isabella Rupp\r\n",
      "5 - Eva Muirden\r\n",
      "6 - Sophia Hinton\r\n",
      "7 - Amy Trefl\r\n",
      "8 - Anthony Grosse\r\n",
      "9 - Alica Fatnowna\r\n",
      "10 - Stella Rosenhain\r\n"
     ]
    }
   ],
   "source": [
    "List<Person> people = new();\n",
    "using (IDbConnection db = new SqlConnection(connectionString))\n",
    "{\n",
    "  people = (await db.QueryAsync<Person>(\"SELECT TOP(10) * FROM [Application].[People]\")).ToList();\n",
    "}\n",
    "\n",
    "foreach (var p in people)\n",
    "{\n",
    "    Console.WriteLine(p);\n",
    "}"
   ]
  },
  {
   "cell_type": "markdown",
   "metadata": {},
   "source": [
    "This accomplishes the same result, what would you expect...\n",
    "\n",
    "For the purpose of these demos the synchronous version is good enough, but we'll use the asynchronous one to get used to async programming."
   ]
  },
  {
   "cell_type": "markdown",
   "metadata": {},
   "source": [
    "## Add query parameters\n",
    "\n",
    "Let's create a query to fetch one person in particular, you need query parameters for this. Query parameters are indicated with an `@`, in this example `@PersonID` needs to be passed to the querye. Therefor we add an anonymous object containing this query parameter as second parameter to the function.\n",
    "\n",
    "There is also a `QueryFirstOrDefaultAsync` which returns the default value for the given type if nothing matched the query.\n",
    "\n",
    "The `QueryFirstAsync` won't throw an error if more than one result matched, the `QuerySingleAsync` will do."
   ]
  },
  {
   "cell_type": "code",
   "execution_count": null,
   "metadata": {
    "dotnet_interactive": {
     "language": "csharp"
    }
   },
   "outputs": [
    {
     "name": "stdout",
     "output_type": "stream",
     "text": [
      "1043 - Cristina Longo\r\n"
     ]
    }
   ],
   "source": [
    "var sql = \"SELECT * FROM [Application].[People] WHERE PersonID = @PersonID\";\n",
    "\n",
    "Person person;\n",
    "\n",
    "using (IDbConnection db = new SqlConnection(connectionString))\n",
    "{\n",
    "  \n",
    "  person = await db.QueryFirstAsync<Person>(sql, new { PersonID = 1043 });\n",
    "}\n",
    "\n",
    "Console.WriteLine(person);"
   ]
  },
  {
   "cell_type": "markdown",
   "metadata": {},
   "source": [
    "## Insert data\n",
    "\n",
    "Inserting data would require us to write an `INSERT` query with a query parameter for each field in the table. Have a quick look at the People table in SQL Server Management Studio or Azure Data Studio, it has LOTS of columns. No one wants to do this.\n",
    "\n",
    "Therefor, we're installing `Dapper.Contrib` in order to make our life a bit easier."
   ]
  },
  {
   "cell_type": "code",
   "execution_count": null,
   "metadata": {
    "dotnet_interactive": {
     "language": "csharp"
    }
   },
   "outputs": [
    {
     "data": {
      "text/html": [
       "<div><div></div><div></div><div><strong>Installed Packages</strong><ul><li><span>Dapper.Contrib, 2.0.78</span></li></ul></div></div>"
      ]
     },
     "metadata": {},
     "output_type": "display_data"
    }
   ],
   "source": [
    "#r \"nuget:Dapper.Contrib\""
   ]
  },
  {
   "cell_type": "markdown",
   "metadata": {},
   "source": [
    "With `Dapper.Contrib` we can create a class of a certain table and tell `Dapper` how this class is mapped to the database. Take a look at this example. This defines a new class for the `PaymentMethods` table and tells `Dapper` the table name and key with some annotations."
   ]
  },
  {
   "cell_type": "code",
   "execution_count": null,
   "metadata": {
    "dotnet_interactive": {
     "language": "csharp"
    }
   },
   "outputs": [],
   "source": [
    "using Dapper.Contrib.Extensions;\n",
    "\n",
    "[Table(\"[Application].[PaymentMethods]\")]\n",
    "class PaymentMethod\n",
    "{\n",
    "  [Key]\n",
    "  public int PaymentMethodID { get; set; }\n",
    "  public string PaymentMethodName { get; set; }\n",
    "  public int LastEditedBy { get; set; }\n",
    "  public DateTime ValidFrom { get; set; }\n",
    "  public DateTime ValidTo { get; set; }\n",
    "}"
   ]
  },
  {
   "cell_type": "markdown",
   "metadata": {},
   "source": [
    "Then we can easily add two new payment methods:"
   ]
  },
  {
   "cell_type": "code",
   "execution_count": null,
   "metadata": {
    "dotnet_interactive": {
     "language": "csharp"
    }
   },
   "outputs": [
    {
     "ename": "Error",
     "evalue": "System.Data.SqlClient.SqlException (0x80131904): Cannot insert an explicit value into a GENERATED ALWAYS column in table 'WideWorldImporters.Application.PaymentMethods'. Use INSERT with a column list to exclude the GENERATED ALWAYS column, or insert a DEFAULT into GENERATED ALWAYS column.\r\n   at System.Data.SqlClient.SqlConnection.OnError(SqlException exception, Boolean breakConnection, Action`1 wrapCloseInAction)\r\n   at System.Data.SqlClient.SqlInternalConnection.OnError(SqlException exception, Boolean breakConnection, Action`1 wrapCloseInAction)\r\n   at System.Data.SqlClient.TdsParser.ThrowExceptionAndWarning(TdsParserStateObject stateObj, Boolean callerHasConnectionLock, Boolean asyncClose)\r\n   at System.Data.SqlClient.TdsParser.TryRun(RunBehavior runBehavior, SqlCommand cmdHandler, SqlDataReader dataStream, BulkCopySimpleResultSet bulkCopyHandler, TdsParserStateObject stateObj, Boolean& dataReady)\r\n   at System.Data.SqlClient.SqlCommand.FinishExecuteReader(SqlDataReader ds, RunBehavior runBehavior, String resetOptionsString)\r\n   at System.Data.SqlClient.SqlCommand.CompleteAsyncExecuteReader()\r\n   at System.Data.SqlClient.SqlCommand.EndExecuteNonQueryInternal(IAsyncResult asyncResult)\r\n   at System.Data.SqlClient.SqlCommand.EndExecuteNonQuery(IAsyncResult asyncResult)\r\n   at System.Threading.Tasks.TaskFactory`1.FromAsyncCoreLogic(IAsyncResult iar, Func`2 endFunction, Action`1 endAction, Task`1 promise, Boolean requiresSynchronization)\r\n--- End of stack trace from previous location ---\r\n   at Dapper.SqlMapper.ExecuteMultiImplAsync(IDbConnection cnn, CommandDefinition command, IEnumerable multiExec) in /_/Dapper/SqlMapper.Async.cs:line 624\r\n   at Submission#35.<<Initialize>>d__0.MoveNext()\r\n--- End of stack trace from previous location ---\r\n   at Microsoft.CodeAnalysis.Scripting.ScriptExecutionState.RunSubmissionsAsync[TResult](ImmutableArray`1 precedingExecutors, Func`2 currentExecutor, StrongBox`1 exceptionHolderOpt, Func`2 catchExceptionOpt, CancellationToken cancellationToken)\r\nClientConnectionId:6aab72ff-2fe3-4778-95bd-1c791a611226\r\nError Number:13536,State:1,Class:16",
     "output_type": "error",
     "traceback": [
      "System.Data.SqlClient.SqlException (0x80131904): Cannot insert an explicit value into a GENERATED ALWAYS column in table 'WideWorldImporters.Application.PaymentMethods'. Use INSERT with a column list to exclude the GENERATED ALWAYS column, or insert a DEFAULT into GENERATED ALWAYS column.\r\n",
      "   at System.Data.SqlClient.SqlConnection.OnError(SqlException exception, Boolean breakConnection, Action`1 wrapCloseInAction)\r\n",
      "   at System.Data.SqlClient.SqlInternalConnection.OnError(SqlException exception, Boolean breakConnection, Action`1 wrapCloseInAction)\r\n",
      "   at System.Data.SqlClient.TdsParser.ThrowExceptionAndWarning(TdsParserStateObject stateObj, Boolean callerHasConnectionLock, Boolean asyncClose)\r\n",
      "   at System.Data.SqlClient.TdsParser.TryRun(RunBehavior runBehavior, SqlCommand cmdHandler, SqlDataReader dataStream, BulkCopySimpleResultSet bulkCopyHandler, TdsParserStateObject stateObj, Boolean& dataReady)\r\n",
      "   at System.Data.SqlClient.SqlCommand.FinishExecuteReader(SqlDataReader ds, RunBehavior runBehavior, String resetOptionsString)\r\n",
      "   at System.Data.SqlClient.SqlCommand.CompleteAsyncExecuteReader()\r\n",
      "   at System.Data.SqlClient.SqlCommand.EndExecuteNonQueryInternal(IAsyncResult asyncResult)\r\n",
      "   at System.Data.SqlClient.SqlCommand.EndExecuteNonQuery(IAsyncResult asyncResult)\r\n",
      "   at System.Threading.Tasks.TaskFactory`1.FromAsyncCoreLogic(IAsyncResult iar, Func`2 endFunction, Action`1 endAction, Task`1 promise, Boolean requiresSynchronization)\r\n",
      "--- End of stack trace from previous location ---\r\n",
      "   at Dapper.SqlMapper.ExecuteMultiImplAsync(IDbConnection cnn, CommandDefinition command, IEnumerable multiExec) in /_/Dapper/SqlMapper.Async.cs:line 624\r\n",
      "   at Submission#35.<<Initialize>>d__0.MoveNext()\r\n",
      "--- End of stack trace from previous location ---\r\n",
      "   at Microsoft.CodeAnalysis.Scripting.ScriptExecutionState.RunSubmissionsAsync[TResult](ImmutableArray`1 precedingExecutors, Func`2 currentExecutor, StrongBox`1 exceptionHolderOpt, Func`2 catchExceptionOpt, CancellationToken cancellationToken)\r\n",
      "ClientConnectionId:6aab72ff-2fe3-4778-95bd-1c791a611226\r\n",
      "Error Number:13536,State:1,Class:16"
     ]
    }
   ],
   "source": [
    "using (IDbConnection db = new SqlConnection(connectionString))\n",
    "{\n",
    "  \n",
    "  await db.InsertAsync(new List<PaymentMethod>\n",
    "  {\n",
    "    new PaymentMethod\n",
    "    {\n",
    "      PaymentMethodName = \"Bitcoin\",\n",
    "      LastEditedBy = 1,\n",
    "      ValidFrom = DateTime.Today,\n",
    "      ValidTo = DateTime.Today.AddYears(1000)\n",
    "    },\n",
    "    new PaymentMethod\n",
    "    {\n",
    "      PaymentMethodName = \"Litecoin\",\n",
    "      LastEditedBy = 1,\n",
    "      ValidFrom = DateTime.Today,\n",
    "      ValidTo = DateTime.Today.AddYears(1000)\n",
    "    }\n",
    "  });\n",
    "}"
   ]
  }
 ],
 "metadata": {
  "kernelspec": {
   "display_name": ".NET (C#)",
   "language": "C#",
   "name": ".net-csharp"
  },
  "language_info": {
   "file_extension": ".cs",
   "mimetype": "text/x-csharp",
   "name": "C#",
   "pygments_lexer": "csharp",
   "version": "9.0"
  },
  "orig_nbformat": 4
 },
 "nbformat": 4,
 "nbformat_minor": 2
}
